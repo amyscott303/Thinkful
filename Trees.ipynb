{
 "cells": [
  {
   "cell_type": "code",
   "execution_count": 5,
   "metadata": {},
   "outputs": [
    {
     "name": "stdout",
     "output_type": "stream",
     "text": [
      "1\n",
      "2\n",
      "3\n",
      "4\n",
      "5\n",
      "6\n",
      "8\n",
      "9\n",
      "11\n",
      "12\n",
      "13\n",
      "14\n",
      "15\n",
      "16\n",
      "19\n"
     ]
    }
   ],
   "source": [
    "class Node:\n",
    "\n",
    "    def __init__(self, data):\n",
    "\n",
    "        self.left = None\n",
    "        self.right = None\n",
    "        self.data = data\n",
    "\n",
    "    def insert(self, data):\n",
    "\n",
    "        if self.data:\n",
    "            if data < self.data:\n",
    "                if self.left is None:\n",
    "                    self.left = Node(data)\n",
    "                else:\n",
    "                    self.left.insert(data)\n",
    "            elif data > self.data:\n",
    "                if self.right is None:\n",
    "                    self.right = Node(data)\n",
    "                else:\n",
    "                    self.right.insert(data)\n",
    "        else:\n",
    "            self.data = data\n",
    "\n",
    "\n",
    "    def PrintTree(self):\n",
    "        if self.left:\n",
    "            self.left.PrintTree()\n",
    "        print( self.data),\n",
    "        if self.right:\n",
    "            self.right.PrintTree()\n",
    "\n",
    "root = Node(12)\n",
    "root.insert(6)\n",
    "root.insert(14)\n",
    "root.insert(3)\n",
    "root.insert(1)\n",
    "root.insert(5)\n",
    "root.insert(16)\n",
    "root.insert(13)\n",
    "root.insert(11)\n",
    "root.insert(8)\n",
    "root.insert(4)\n",
    "root.insert(2)\n",
    "root.insert(9)\n",
    "root.insert(15)\n",
    "root.insert(19)\n",
    "\n",
    "root.PrintTree()"
   ]
  },
  {
   "cell_type": "code",
   "execution_count": null,
   "metadata": {},
   "outputs": [],
   "source": []
  }
 ],
 "metadata": {
  "kernelspec": {
   "display_name": "Python 3",
   "language": "python",
   "name": "python3"
  },
  "language_info": {
   "codemirror_mode": {
    "name": "ipython",
    "version": 3
   },
   "file_extension": ".py",
   "mimetype": "text/x-python",
   "name": "python",
   "nbconvert_exporter": "python",
   "pygments_lexer": "ipython3",
   "version": "3.7.3"
  }
 },
 "nbformat": 4,
 "nbformat_minor": 2
}
