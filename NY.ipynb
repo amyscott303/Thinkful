{
 "cells": [
  {
   "cell_type": "code",
   "execution_count": 1,
   "metadata": {},
   "outputs": [],
   "source": [
    "import numpy as np\n",
    "import pandas as pd\n",
    "import scipy\n",
    "from datetime import datetime\n",
    "import datetime as dt\n",
    "import matplotlib.pyplot as plt\n",
    "%matplotlib inline"
   ]
  },
  {
   "cell_type": "code",
   "execution_count": 2,
   "metadata": {},
   "outputs": [],
   "source": [
    "#Build a model based on census data to determine how certain census data effects bike stations and what would be other\n",
    "#good locations to add new bike shares. How many rides based on the area and what is the demographic like around the station"
   ]
  },
  {
   "cell_type": "code",
   "execution_count": 3,
   "metadata": {
    "scrolled": false
   },
   "outputs": [
    {
     "data": {
      "text/html": [
       "<div>\n",
       "<style scoped>\n",
       "    .dataframe tbody tr th:only-of-type {\n",
       "        vertical-align: middle;\n",
       "    }\n",
       "\n",
       "    .dataframe tbody tr th {\n",
       "        vertical-align: top;\n",
       "    }\n",
       "\n",
       "    .dataframe thead th {\n",
       "        text-align: right;\n",
       "    }\n",
       "</style>\n",
       "<table border=\"1\" class=\"dataframe\">\n",
       "  <thead>\n",
       "    <tr style=\"text-align: right;\">\n",
       "      <th></th>\n",
       "      <th>CensusTract</th>\n",
       "      <th>County</th>\n",
       "      <th>Borough</th>\n",
       "      <th>TotalPop</th>\n",
       "      <th>Men</th>\n",
       "      <th>Women</th>\n",
       "      <th>Hispanic</th>\n",
       "      <th>White</th>\n",
       "      <th>Black</th>\n",
       "      <th>Native</th>\n",
       "      <th>...</th>\n",
       "      <th>Walk</th>\n",
       "      <th>OtherTransp</th>\n",
       "      <th>WorkAtHome</th>\n",
       "      <th>MeanCommute</th>\n",
       "      <th>Employed</th>\n",
       "      <th>PrivateWork</th>\n",
       "      <th>PublicWork</th>\n",
       "      <th>SelfEmployed</th>\n",
       "      <th>FamilyWork</th>\n",
       "      <th>Unemployment</th>\n",
       "    </tr>\n",
       "  </thead>\n",
       "  <tbody>\n",
       "    <tr>\n",
       "      <th>0</th>\n",
       "      <td>36005000100</td>\n",
       "      <td>Bronx</td>\n",
       "      <td>Bronx</td>\n",
       "      <td>7703</td>\n",
       "      <td>7133</td>\n",
       "      <td>570</td>\n",
       "      <td>29.9</td>\n",
       "      <td>6.1</td>\n",
       "      <td>60.9</td>\n",
       "      <td>0.2</td>\n",
       "      <td>...</td>\n",
       "      <td>NaN</td>\n",
       "      <td>NaN</td>\n",
       "      <td>NaN</td>\n",
       "      <td>NaN</td>\n",
       "      <td>0</td>\n",
       "      <td>NaN</td>\n",
       "      <td>NaN</td>\n",
       "      <td>NaN</td>\n",
       "      <td>NaN</td>\n",
       "      <td>NaN</td>\n",
       "    </tr>\n",
       "    <tr>\n",
       "      <th>1</th>\n",
       "      <td>36005000200</td>\n",
       "      <td>Bronx</td>\n",
       "      <td>Bronx</td>\n",
       "      <td>5403</td>\n",
       "      <td>2659</td>\n",
       "      <td>2744</td>\n",
       "      <td>75.8</td>\n",
       "      <td>2.3</td>\n",
       "      <td>16.0</td>\n",
       "      <td>0.0</td>\n",
       "      <td>...</td>\n",
       "      <td>2.9</td>\n",
       "      <td>0.0</td>\n",
       "      <td>0.0</td>\n",
       "      <td>43.0</td>\n",
       "      <td>2308</td>\n",
       "      <td>80.8</td>\n",
       "      <td>16.2</td>\n",
       "      <td>2.9</td>\n",
       "      <td>0.0</td>\n",
       "      <td>7.7</td>\n",
       "    </tr>\n",
       "    <tr>\n",
       "      <th>2</th>\n",
       "      <td>36005000400</td>\n",
       "      <td>Bronx</td>\n",
       "      <td>Bronx</td>\n",
       "      <td>5915</td>\n",
       "      <td>2896</td>\n",
       "      <td>3019</td>\n",
       "      <td>62.7</td>\n",
       "      <td>3.6</td>\n",
       "      <td>30.7</td>\n",
       "      <td>0.0</td>\n",
       "      <td>...</td>\n",
       "      <td>1.4</td>\n",
       "      <td>0.5</td>\n",
       "      <td>2.1</td>\n",
       "      <td>45.0</td>\n",
       "      <td>2675</td>\n",
       "      <td>71.7</td>\n",
       "      <td>25.3</td>\n",
       "      <td>2.5</td>\n",
       "      <td>0.6</td>\n",
       "      <td>9.5</td>\n",
       "    </tr>\n",
       "    <tr>\n",
       "      <th>3</th>\n",
       "      <td>36005001600</td>\n",
       "      <td>Bronx</td>\n",
       "      <td>Bronx</td>\n",
       "      <td>5879</td>\n",
       "      <td>2558</td>\n",
       "      <td>3321</td>\n",
       "      <td>65.1</td>\n",
       "      <td>1.6</td>\n",
       "      <td>32.4</td>\n",
       "      <td>0.0</td>\n",
       "      <td>...</td>\n",
       "      <td>8.6</td>\n",
       "      <td>1.6</td>\n",
       "      <td>1.7</td>\n",
       "      <td>38.8</td>\n",
       "      <td>2120</td>\n",
       "      <td>75.0</td>\n",
       "      <td>21.3</td>\n",
       "      <td>3.8</td>\n",
       "      <td>0.0</td>\n",
       "      <td>8.7</td>\n",
       "    </tr>\n",
       "    <tr>\n",
       "      <th>4</th>\n",
       "      <td>36005001900</td>\n",
       "      <td>Bronx</td>\n",
       "      <td>Bronx</td>\n",
       "      <td>2591</td>\n",
       "      <td>1206</td>\n",
       "      <td>1385</td>\n",
       "      <td>55.4</td>\n",
       "      <td>9.0</td>\n",
       "      <td>29.0</td>\n",
       "      <td>0.0</td>\n",
       "      <td>...</td>\n",
       "      <td>3.0</td>\n",
       "      <td>2.4</td>\n",
       "      <td>6.2</td>\n",
       "      <td>45.4</td>\n",
       "      <td>1083</td>\n",
       "      <td>76.8</td>\n",
       "      <td>15.5</td>\n",
       "      <td>7.7</td>\n",
       "      <td>0.0</td>\n",
       "      <td>19.2</td>\n",
       "    </tr>\n",
       "  </tbody>\n",
       "</table>\n",
       "<p>5 rows × 36 columns</p>\n",
       "</div>"
      ],
      "text/plain": [
       "   CensusTract County Borough  TotalPop   Men  Women  Hispanic  White  Black  \\\n",
       "0  36005000100  Bronx   Bronx      7703  7133    570      29.9    6.1   60.9   \n",
       "1  36005000200  Bronx   Bronx      5403  2659   2744      75.8    2.3   16.0   \n",
       "2  36005000400  Bronx   Bronx      5915  2896   3019      62.7    3.6   30.7   \n",
       "3  36005001600  Bronx   Bronx      5879  2558   3321      65.1    1.6   32.4   \n",
       "4  36005001900  Bronx   Bronx      2591  1206   1385      55.4    9.0   29.0   \n",
       "\n",
       "   Native  ...  Walk  OtherTransp  WorkAtHome  MeanCommute  Employed  \\\n",
       "0     0.2  ...   NaN          NaN         NaN          NaN         0   \n",
       "1     0.0  ...   2.9          0.0         0.0         43.0      2308   \n",
       "2     0.0  ...   1.4          0.5         2.1         45.0      2675   \n",
       "3     0.0  ...   8.6          1.6         1.7         38.8      2120   \n",
       "4     0.0  ...   3.0          2.4         6.2         45.4      1083   \n",
       "\n",
       "   PrivateWork  PublicWork  SelfEmployed  FamilyWork  Unemployment  \n",
       "0          NaN         NaN           NaN         NaN           NaN  \n",
       "1         80.8        16.2           2.9         0.0           7.7  \n",
       "2         71.7        25.3           2.5         0.6           9.5  \n",
       "3         75.0        21.3           3.8         0.0           8.7  \n",
       "4         76.8        15.5           7.7         0.0          19.2  \n",
       "\n",
       "[5 rows x 36 columns]"
      ]
     },
     "execution_count": 3,
     "metadata": {},
     "output_type": "execute_result"
    }
   ],
   "source": [
    "data_ny=pd.read_csv('nyc_census_tracts.csv',keep_default_na=False, na_values=[\"\"])\n",
    "data_ny.head()\n"
   ]
  },
  {
   "cell_type": "code",
   "execution_count": 4,
   "metadata": {},
   "outputs": [
    {
     "data": {
      "text/plain": [
       "Index(['CensusTract', 'County', 'Borough', 'TotalPop', 'Men', 'Women',\n",
       "       'Hispanic', 'White', 'Black', 'Native', 'Asian', 'Citizen', 'Income',\n",
       "       'IncomeErr', 'IncomePerCap', 'IncomePerCapErr', 'Poverty',\n",
       "       'ChildPoverty', 'Professional', 'Service', 'Office', 'Construction',\n",
       "       'Production', 'Drive', 'Carpool', 'Transit', 'Walk', 'OtherTransp',\n",
       "       'WorkAtHome', 'MeanCommute', 'Employed', 'PrivateWork', 'PublicWork',\n",
       "       'SelfEmployed', 'FamilyWork', 'Unemployment'],\n",
       "      dtype='object')"
      ]
     },
     "execution_count": 4,
     "metadata": {},
     "output_type": "execute_result"
    }
   ],
   "source": [
    "data_ny.columns"
   ]
  },
  {
   "cell_type": "code",
   "execution_count": 5,
   "metadata": {
    "scrolled": false
   },
   "outputs": [
    {
     "data": {
      "text/html": [
       "<div>\n",
       "<style scoped>\n",
       "    .dataframe tbody tr th:only-of-type {\n",
       "        vertical-align: middle;\n",
       "    }\n",
       "\n",
       "    .dataframe tbody tr th {\n",
       "        vertical-align: top;\n",
       "    }\n",
       "\n",
       "    .dataframe thead th {\n",
       "        text-align: right;\n",
       "    }\n",
       "</style>\n",
       "<table border=\"1\" class=\"dataframe\">\n",
       "  <thead>\n",
       "    <tr style=\"text-align: right;\">\n",
       "      <th></th>\n",
       "      <th>Latitude</th>\n",
       "      <th>Longitude</th>\n",
       "      <th>BlockCode</th>\n",
       "      <th>County</th>\n",
       "      <th>State</th>\n",
       "    </tr>\n",
       "  </thead>\n",
       "  <tbody>\n",
       "    <tr>\n",
       "      <th>0</th>\n",
       "      <td>40.48</td>\n",
       "      <td>-74.280000</td>\n",
       "      <td>340230076002012</td>\n",
       "      <td>Middlesex</td>\n",
       "      <td>NJ</td>\n",
       "    </tr>\n",
       "    <tr>\n",
       "      <th>1</th>\n",
       "      <td>40.48</td>\n",
       "      <td>-74.276834</td>\n",
       "      <td>340230076005000</td>\n",
       "      <td>Middlesex</td>\n",
       "      <td>NJ</td>\n",
       "    </tr>\n",
       "    <tr>\n",
       "      <th>2</th>\n",
       "      <td>40.48</td>\n",
       "      <td>-74.273668</td>\n",
       "      <td>340230076003018</td>\n",
       "      <td>Middlesex</td>\n",
       "      <td>NJ</td>\n",
       "    </tr>\n",
       "    <tr>\n",
       "      <th>3</th>\n",
       "      <td>40.48</td>\n",
       "      <td>-74.270503</td>\n",
       "      <td>340230076003004</td>\n",
       "      <td>Middlesex</td>\n",
       "      <td>NJ</td>\n",
       "    </tr>\n",
       "    <tr>\n",
       "      <th>4</th>\n",
       "      <td>40.48</td>\n",
       "      <td>-74.267337</td>\n",
       "      <td>340230074021000</td>\n",
       "      <td>Middlesex</td>\n",
       "      <td>NJ</td>\n",
       "    </tr>\n",
       "  </tbody>\n",
       "</table>\n",
       "</div>"
      ],
      "text/plain": [
       "   Latitude  Longitude        BlockCode     County State\n",
       "0     40.48 -74.280000  340230076002012  Middlesex    NJ\n",
       "1     40.48 -74.276834  340230076005000  Middlesex    NJ\n",
       "2     40.48 -74.273668  340230076003018  Middlesex    NJ\n",
       "3     40.48 -74.270503  340230076003004  Middlesex    NJ\n",
       "4     40.48 -74.267337  340230074021000  Middlesex    NJ"
      ]
     },
     "execution_count": 5,
     "metadata": {},
     "output_type": "execute_result"
    }
   ],
   "source": [
    "data_census=pd.read_csv('census_block_loc.csv',keep_default_na=False, na_values=[\"\"])\n",
    "data_census.head()"
   ]
  },
  {
   "cell_type": "code",
   "execution_count": 6,
   "metadata": {},
   "outputs": [],
   "source": [
    "data_census['BlockCode_11'] = data_census['BlockCode'].apply(lambda x: int(str(x)[0:11]))"
   ]
  },
  {
   "cell_type": "code",
   "execution_count": 7,
   "metadata": {
    "scrolled": true
   },
   "outputs": [
    {
     "data": {
      "text/plain": [
       "<bound method NDFrame.head of        CensusTract  County_x        Borough  TotalPop   Men  Women  Hispanic  \\\n",
       "0      36005000100     Bronx          Bronx      7703  7133    570      29.9   \n",
       "1      36005000100     Bronx          Bronx      7703  7133    570      29.9   \n",
       "2      36005000100     Bronx          Bronx      7703  7133    570      29.9   \n",
       "3      36005000100     Bronx          Bronx      7703  7133    570      29.9   \n",
       "4      36005000100     Bronx          Bronx      7703  7133    570      29.9   \n",
       "5      36005000100     Bronx          Bronx      7703  7133    570      29.9   \n",
       "6      36005000100     Bronx          Bronx      7703  7133    570      29.9   \n",
       "7      36005000100     Bronx          Bronx      7703  7133    570      29.9   \n",
       "8      36005000100     Bronx          Bronx      7703  7133    570      29.9   \n",
       "9      36005000100     Bronx          Bronx      7703  7133    570      29.9   \n",
       "10     36005000100     Bronx          Bronx      7703  7133    570      29.9   \n",
       "11     36005000100     Bronx          Bronx      7703  7133    570      29.9   \n",
       "12     36005000100     Bronx          Bronx      7703  7133    570      29.9   \n",
       "13     36005000100     Bronx          Bronx      7703  7133    570      29.9   \n",
       "14     36005000100     Bronx          Bronx      7703  7133    570      29.9   \n",
       "15     36005000100     Bronx          Bronx      7703  7133    570      29.9   \n",
       "16     36005000100     Bronx          Bronx      7703  7133    570      29.9   \n",
       "17     36005000100     Bronx          Bronx      7703  7133    570      29.9   \n",
       "18     36005000100     Bronx          Bronx      7703  7133    570      29.9   \n",
       "19     36005000100     Bronx          Bronx      7703  7133    570      29.9   \n",
       "20     36005000100     Bronx          Bronx      7703  7133    570      29.9   \n",
       "21     36005000100     Bronx          Bronx      7703  7133    570      29.9   \n",
       "22     36005000100     Bronx          Bronx      7703  7133    570      29.9   \n",
       "23     36005000100     Bronx          Bronx      7703  7133    570      29.9   \n",
       "24     36005000100     Bronx          Bronx      7703  7133    570      29.9   \n",
       "25     36005000100     Bronx          Bronx      7703  7133    570      29.9   \n",
       "26     36005000100     Bronx          Bronx      7703  7133    570      29.9   \n",
       "27     36005000100     Bronx          Bronx      7703  7133    570      29.9   \n",
       "28     36005000100     Bronx          Bronx      7703  7133    570      29.9   \n",
       "29     36005000100     Bronx          Bronx      7703  7133    570      29.9   \n",
       "...            ...       ...            ...       ...   ...    ...       ...   \n",
       "18022  36085990100  Richmond  Staten Island         0     0      0       NaN   \n",
       "18023  36085990100  Richmond  Staten Island         0     0      0       NaN   \n",
       "18024  36085990100  Richmond  Staten Island         0     0      0       NaN   \n",
       "18025  36085990100  Richmond  Staten Island         0     0      0       NaN   \n",
       "18026  36085990100  Richmond  Staten Island         0     0      0       NaN   \n",
       "18027  36085990100  Richmond  Staten Island         0     0      0       NaN   \n",
       "18028  36085990100  Richmond  Staten Island         0     0      0       NaN   \n",
       "18029  36085990100  Richmond  Staten Island         0     0      0       NaN   \n",
       "18030  36085990100  Richmond  Staten Island         0     0      0       NaN   \n",
       "18031  36085990100  Richmond  Staten Island         0     0      0       NaN   \n",
       "18032  36085990100  Richmond  Staten Island         0     0      0       NaN   \n",
       "18033  36085990100  Richmond  Staten Island         0     0      0       NaN   \n",
       "18034  36085990100  Richmond  Staten Island         0     0      0       NaN   \n",
       "18035  36085990100  Richmond  Staten Island         0     0      0       NaN   \n",
       "18036  36085990100  Richmond  Staten Island         0     0      0       NaN   \n",
       "18037  36085990100  Richmond  Staten Island         0     0      0       NaN   \n",
       "18038  36085990100  Richmond  Staten Island         0     0      0       NaN   \n",
       "18039  36085990100  Richmond  Staten Island         0     0      0       NaN   \n",
       "18040  36085990100  Richmond  Staten Island         0     0      0       NaN   \n",
       "18041  36085990100  Richmond  Staten Island         0     0      0       NaN   \n",
       "18042  36085990100  Richmond  Staten Island         0     0      0       NaN   \n",
       "18043  36085990100  Richmond  Staten Island         0     0      0       NaN   \n",
       "18044  36085990100  Richmond  Staten Island         0     0      0       NaN   \n",
       "18045  36085990100  Richmond  Staten Island         0     0      0       NaN   \n",
       "18046  36085990100  Richmond  Staten Island         0     0      0       NaN   \n",
       "18047  36085990100  Richmond  Staten Island         0     0      0       NaN   \n",
       "18048  36085990100  Richmond  Staten Island         0     0      0       NaN   \n",
       "18049  36085990100  Richmond  Staten Island         0     0      0       NaN   \n",
       "18050  36085990100  Richmond  Staten Island         0     0      0       NaN   \n",
       "18051  36085990100  Richmond  Staten Island         0     0      0       NaN   \n",
       "\n",
       "       White  Black  Native  ...  PublicWork  SelfEmployed  FamilyWork  \\\n",
       "0        6.1   60.9     0.2  ...         NaN           NaN         NaN   \n",
       "1        6.1   60.9     0.2  ...         NaN           NaN         NaN   \n",
       "2        6.1   60.9     0.2  ...         NaN           NaN         NaN   \n",
       "3        6.1   60.9     0.2  ...         NaN           NaN         NaN   \n",
       "4        6.1   60.9     0.2  ...         NaN           NaN         NaN   \n",
       "5        6.1   60.9     0.2  ...         NaN           NaN         NaN   \n",
       "6        6.1   60.9     0.2  ...         NaN           NaN         NaN   \n",
       "7        6.1   60.9     0.2  ...         NaN           NaN         NaN   \n",
       "8        6.1   60.9     0.2  ...         NaN           NaN         NaN   \n",
       "9        6.1   60.9     0.2  ...         NaN           NaN         NaN   \n",
       "10       6.1   60.9     0.2  ...         NaN           NaN         NaN   \n",
       "11       6.1   60.9     0.2  ...         NaN           NaN         NaN   \n",
       "12       6.1   60.9     0.2  ...         NaN           NaN         NaN   \n",
       "13       6.1   60.9     0.2  ...         NaN           NaN         NaN   \n",
       "14       6.1   60.9     0.2  ...         NaN           NaN         NaN   \n",
       "15       6.1   60.9     0.2  ...         NaN           NaN         NaN   \n",
       "16       6.1   60.9     0.2  ...         NaN           NaN         NaN   \n",
       "17       6.1   60.9     0.2  ...         NaN           NaN         NaN   \n",
       "18       6.1   60.9     0.2  ...         NaN           NaN         NaN   \n",
       "19       6.1   60.9     0.2  ...         NaN           NaN         NaN   \n",
       "20       6.1   60.9     0.2  ...         NaN           NaN         NaN   \n",
       "21       6.1   60.9     0.2  ...         NaN           NaN         NaN   \n",
       "22       6.1   60.9     0.2  ...         NaN           NaN         NaN   \n",
       "23       6.1   60.9     0.2  ...         NaN           NaN         NaN   \n",
       "24       6.1   60.9     0.2  ...         NaN           NaN         NaN   \n",
       "25       6.1   60.9     0.2  ...         NaN           NaN         NaN   \n",
       "26       6.1   60.9     0.2  ...         NaN           NaN         NaN   \n",
       "27       6.1   60.9     0.2  ...         NaN           NaN         NaN   \n",
       "28       6.1   60.9     0.2  ...         NaN           NaN         NaN   \n",
       "29       6.1   60.9     0.2  ...         NaN           NaN         NaN   \n",
       "...      ...    ...     ...  ...         ...           ...         ...   \n",
       "18022    NaN    NaN     NaN  ...         NaN           NaN         NaN   \n",
       "18023    NaN    NaN     NaN  ...         NaN           NaN         NaN   \n",
       "18024    NaN    NaN     NaN  ...         NaN           NaN         NaN   \n",
       "18025    NaN    NaN     NaN  ...         NaN           NaN         NaN   \n",
       "18026    NaN    NaN     NaN  ...         NaN           NaN         NaN   \n",
       "18027    NaN    NaN     NaN  ...         NaN           NaN         NaN   \n",
       "18028    NaN    NaN     NaN  ...         NaN           NaN         NaN   \n",
       "18029    NaN    NaN     NaN  ...         NaN           NaN         NaN   \n",
       "18030    NaN    NaN     NaN  ...         NaN           NaN         NaN   \n",
       "18031    NaN    NaN     NaN  ...         NaN           NaN         NaN   \n",
       "18032    NaN    NaN     NaN  ...         NaN           NaN         NaN   \n",
       "18033    NaN    NaN     NaN  ...         NaN           NaN         NaN   \n",
       "18034    NaN    NaN     NaN  ...         NaN           NaN         NaN   \n",
       "18035    NaN    NaN     NaN  ...         NaN           NaN         NaN   \n",
       "18036    NaN    NaN     NaN  ...         NaN           NaN         NaN   \n",
       "18037    NaN    NaN     NaN  ...         NaN           NaN         NaN   \n",
       "18038    NaN    NaN     NaN  ...         NaN           NaN         NaN   \n",
       "18039    NaN    NaN     NaN  ...         NaN           NaN         NaN   \n",
       "18040    NaN    NaN     NaN  ...         NaN           NaN         NaN   \n",
       "18041    NaN    NaN     NaN  ...         NaN           NaN         NaN   \n",
       "18042    NaN    NaN     NaN  ...         NaN           NaN         NaN   \n",
       "18043    NaN    NaN     NaN  ...         NaN           NaN         NaN   \n",
       "18044    NaN    NaN     NaN  ...         NaN           NaN         NaN   \n",
       "18045    NaN    NaN     NaN  ...         NaN           NaN         NaN   \n",
       "18046    NaN    NaN     NaN  ...         NaN           NaN         NaN   \n",
       "18047    NaN    NaN     NaN  ...         NaN           NaN         NaN   \n",
       "18048    NaN    NaN     NaN  ...         NaN           NaN         NaN   \n",
       "18049    NaN    NaN     NaN  ...         NaN           NaN         NaN   \n",
       "18050    NaN    NaN     NaN  ...         NaN           NaN         NaN   \n",
       "18051    NaN    NaN     NaN  ...         NaN           NaN         NaN   \n",
       "\n",
       "       Unemployment   Latitude  Longitude        BlockCode  County_y  State  \\\n",
       "0               NaN  40.787538 -73.887437  360050001001007     Bronx     NY   \n",
       "1               NaN  40.787538 -73.884271  360050001001005     Bronx     NY   \n",
       "2               NaN  40.787538 -73.881106  360050001001003     Bronx     NY   \n",
       "3               NaN  40.787538 -73.877940  360050001001003     Bronx     NY   \n",
       "4               NaN  40.787538 -73.874774  360050001001006     Bronx     NY   \n",
       "5               NaN  40.787538 -73.871608  360050001001006     Bronx     NY   \n",
       "6               NaN  40.789799 -73.887437  360050001001011     Bronx     NY   \n",
       "7               NaN  40.789799 -73.884271  360050001001013     Bronx     NY   \n",
       "8               NaN  40.789799 -73.881106  360050001001003     Bronx     NY   \n",
       "9               NaN  40.789799 -73.877940  360050001001003     Bronx     NY   \n",
       "10              NaN  40.789799 -73.874774  360050001001006     Bronx     NY   \n",
       "11              NaN  40.789799 -73.871608  360050001000002     Bronx     NY   \n",
       "12              NaN  40.792060 -73.896935  360050001000002     Bronx     NY   \n",
       "13              NaN  40.792060 -73.893769  360050001000002     Bronx     NY   \n",
       "14              NaN  40.792060 -73.890603  360050001001012     Bronx     NY   \n",
       "15              NaN  40.792060 -73.887437  360050001001019     Bronx     NY   \n",
       "16              NaN  40.792060 -73.884271  360050001001014     Bronx     NY   \n",
       "17              NaN  40.792060 -73.881106  360050001001003     Bronx     NY   \n",
       "18              NaN  40.792060 -73.877940  360050001001003     Bronx     NY   \n",
       "19              NaN  40.792060 -73.874774  360050001001006     Bronx     NY   \n",
       "20              NaN  40.792060 -73.871608  360050001000002     Bronx     NY   \n",
       "21              NaN  40.794322 -73.896935  360050001000002     Bronx     NY   \n",
       "22              NaN  40.794322 -73.893769  360050001000002     Bronx     NY   \n",
       "23              NaN  40.794322 -73.890603  360050001001009     Bronx     NY   \n",
       "24              NaN  40.794322 -73.887437  360050001001015     Bronx     NY   \n",
       "25              NaN  40.794322 -73.884271  360050001001015     Bronx     NY   \n",
       "26              NaN  40.794322 -73.881106  360050001001000     Bronx     NY   \n",
       "27              NaN  40.794322 -73.877940  360050001000002     Bronx     NY   \n",
       "28              NaN  40.794322 -73.874774  360050001000002     Bronx     NY   \n",
       "29              NaN  40.794322 -73.871608  360050001000001     Bronx     NY   \n",
       "...             ...        ...        ...              ...       ...    ...   \n",
       "18022           NaN  40.586281 -74.048894  360859901000002  Richmond     NY   \n",
       "18023           NaN  40.586281 -74.045729  360859901000002  Richmond     NY   \n",
       "18024           NaN  40.586281 -74.042563  360859901000002  Richmond     NY   \n",
       "18025           NaN  40.586281 -74.039397  360859901000002  Richmond     NY   \n",
       "18026           NaN  40.588543 -74.052060  360859901000002  Richmond     NY   \n",
       "18027           NaN  40.588543 -74.048894  360859901000002  Richmond     NY   \n",
       "18028           NaN  40.588543 -74.045729  360859901000002  Richmond     NY   \n",
       "18029           NaN  40.588543 -74.042563  360859901000002  Richmond     NY   \n",
       "18030           NaN  40.588543 -74.039397  360859901000002  Richmond     NY   \n",
       "18031           NaN  40.590804 -74.052060  360859901000002  Richmond     NY   \n",
       "18032           NaN  40.590804 -74.048894  360859901000002  Richmond     NY   \n",
       "18033           NaN  40.590804 -74.045729  360859901000002  Richmond     NY   \n",
       "18034           NaN  40.590804 -74.042563  360859901000002  Richmond     NY   \n",
       "18035           NaN  40.590804 -74.039397  360859901000002  Richmond     NY   \n",
       "18036           NaN  40.593065 -74.052060  360859901000002  Richmond     NY   \n",
       "18037           NaN  40.593065 -74.048894  360859901000002  Richmond     NY   \n",
       "18038           NaN  40.593065 -74.045729  360859901000002  Richmond     NY   \n",
       "18039           NaN  40.593065 -74.042563  360859901000002  Richmond     NY   \n",
       "18040           NaN  40.593065 -74.039397  360859901000002  Richmond     NY   \n",
       "18041           NaN  40.595327 -74.048894  360859901000002  Richmond     NY   \n",
       "18042           NaN  40.595327 -74.045729  360859901000002  Richmond     NY   \n",
       "18043           NaN  40.595327 -74.042563  360859901000002  Richmond     NY   \n",
       "18044           NaN  40.597588 -74.048894  360859901000002  Richmond     NY   \n",
       "18045           NaN  40.597588 -74.045729  360859901000002  Richmond     NY   \n",
       "18046           NaN  40.597588 -74.042563  360859901000002  Richmond     NY   \n",
       "18047           NaN  40.599849 -74.045729  360859901000002  Richmond     NY   \n",
       "18048           NaN  40.599849 -74.042563  360859901000002  Richmond     NY   \n",
       "18049           NaN  40.602111 -74.045729  360859901000002  Richmond     NY   \n",
       "18050           NaN  40.602111 -74.042563  360859901000002  Richmond     NY   \n",
       "18051           NaN  40.604372 -74.042563  360859901000001  Richmond     NY   \n",
       "\n",
       "       BlockCode_11  \n",
       "0       36005000100  \n",
       "1       36005000100  \n",
       "2       36005000100  \n",
       "3       36005000100  \n",
       "4       36005000100  \n",
       "5       36005000100  \n",
       "6       36005000100  \n",
       "7       36005000100  \n",
       "8       36005000100  \n",
       "9       36005000100  \n",
       "10      36005000100  \n",
       "11      36005000100  \n",
       "12      36005000100  \n",
       "13      36005000100  \n",
       "14      36005000100  \n",
       "15      36005000100  \n",
       "16      36005000100  \n",
       "17      36005000100  \n",
       "18      36005000100  \n",
       "19      36005000100  \n",
       "20      36005000100  \n",
       "21      36005000100  \n",
       "22      36005000100  \n",
       "23      36005000100  \n",
       "24      36005000100  \n",
       "25      36005000100  \n",
       "26      36005000100  \n",
       "27      36005000100  \n",
       "28      36005000100  \n",
       "29      36005000100  \n",
       "...             ...  \n",
       "18022   36085990100  \n",
       "18023   36085990100  \n",
       "18024   36085990100  \n",
       "18025   36085990100  \n",
       "18026   36085990100  \n",
       "18027   36085990100  \n",
       "18028   36085990100  \n",
       "18029   36085990100  \n",
       "18030   36085990100  \n",
       "18031   36085990100  \n",
       "18032   36085990100  \n",
       "18033   36085990100  \n",
       "18034   36085990100  \n",
       "18035   36085990100  \n",
       "18036   36085990100  \n",
       "18037   36085990100  \n",
       "18038   36085990100  \n",
       "18039   36085990100  \n",
       "18040   36085990100  \n",
       "18041   36085990100  \n",
       "18042   36085990100  \n",
       "18043   36085990100  \n",
       "18044   36085990100  \n",
       "18045   36085990100  \n",
       "18046   36085990100  \n",
       "18047   36085990100  \n",
       "18048   36085990100  \n",
       "18049   36085990100  \n",
       "18050   36085990100  \n",
       "18051   36085990100  \n",
       "\n",
       "[18052 rows x 42 columns]>"
      ]
     },
     "execution_count": 7,
     "metadata": {},
     "output_type": "execute_result"
    }
   ],
   "source": [
    "df= pd.merge(left=data_ny,right= data_census, how='inner', on=None, left_on='CensusTract', right_on='BlockCode_11',\n",
    "        left_index=False, right_index=False, sort=True,\n",
    "        suffixes=('_x', '_y'), copy=True, indicator=False,\n",
    "        validate=None)\n",
    "df.head"
   ]
  },
  {
   "cell_type": "code",
   "execution_count": 8,
   "metadata": {},
   "outputs": [
    {
     "data": {
      "text/plain": [
       "Index(['CensusTract', 'County_x', 'Borough', 'TotalPop', 'Men', 'Women',\n",
       "       'Hispanic', 'White', 'Black', 'Native', 'Asian', 'Citizen', 'Income',\n",
       "       'IncomeErr', 'IncomePerCap', 'IncomePerCapErr', 'Poverty',\n",
       "       'ChildPoverty', 'Professional', 'Service', 'Office', 'Construction',\n",
       "       'Production', 'Drive', 'Carpool', 'Transit', 'Walk', 'OtherTransp',\n",
       "       'WorkAtHome', 'MeanCommute', 'Employed', 'PrivateWork', 'PublicWork',\n",
       "       'SelfEmployed', 'FamilyWork', 'Unemployment', 'Latitude', 'Longitude',\n",
       "       'BlockCode', 'County_y', 'State', 'BlockCode_11'],\n",
       "      dtype='object')"
      ]
     },
     "execution_count": 8,
     "metadata": {},
     "output_type": "execute_result"
    }
   ],
   "source": [
    "df.columns"
   ]
  },
  {
   "cell_type": "code",
   "execution_count": 9,
   "metadata": {
    "scrolled": false
   },
   "outputs": [
    {
     "name": "stderr",
     "output_type": "stream",
     "text": [
      "/anaconda3/lib/python3.7/site-packages/IPython/core/interactiveshell.py:3049: DtypeWarning: Columns (3,7) have mixed types. Specify dtype option on import or set low_memory=False.\n",
      "  interactivity=interactivity, compiler=compiler, result=result)\n"
     ]
    },
    {
     "data": {
      "text/html": [
       "<div>\n",
       "<style scoped>\n",
       "    .dataframe tbody tr th:only-of-type {\n",
       "        vertical-align: middle;\n",
       "    }\n",
       "\n",
       "    .dataframe tbody tr th {\n",
       "        vertical-align: top;\n",
       "    }\n",
       "\n",
       "    .dataframe thead th {\n",
       "        text-align: right;\n",
       "    }\n",
       "</style>\n",
       "<table border=\"1\" class=\"dataframe\">\n",
       "  <thead>\n",
       "    <tr style=\"text-align: right;\">\n",
       "      <th></th>\n",
       "      <th>tripduration</th>\n",
       "      <th>starttime</th>\n",
       "      <th>stoptime</th>\n",
       "      <th>start station id</th>\n",
       "      <th>start station name</th>\n",
       "      <th>start station latitude</th>\n",
       "      <th>start station longitude</th>\n",
       "      <th>end station id</th>\n",
       "      <th>end station name</th>\n",
       "      <th>end station latitude</th>\n",
       "      <th>end station longitude</th>\n",
       "      <th>bikeid</th>\n",
       "      <th>usertype</th>\n",
       "      <th>birth year</th>\n",
       "      <th>gender</th>\n",
       "    </tr>\n",
       "  </thead>\n",
       "  <tbody>\n",
       "    <tr>\n",
       "      <th>0</th>\n",
       "      <td>897</td>\n",
       "      <td>2019-07-01 00:00:00.1320</td>\n",
       "      <td>2019-07-01 00:14:58.0040</td>\n",
       "      <td>493</td>\n",
       "      <td>W 45 St &amp; 6 Ave</td>\n",
       "      <td>40.756800</td>\n",
       "      <td>-73.982912</td>\n",
       "      <td>454</td>\n",
       "      <td>E 51 St &amp; 1 Ave</td>\n",
       "      <td>40.754557</td>\n",
       "      <td>-73.965930</td>\n",
       "      <td>18340</td>\n",
       "      <td>Subscriber</td>\n",
       "      <td>1966</td>\n",
       "      <td>1</td>\n",
       "    </tr>\n",
       "    <tr>\n",
       "      <th>1</th>\n",
       "      <td>267</td>\n",
       "      <td>2019-07-01 00:00:05.1780</td>\n",
       "      <td>2019-07-01 00:04:32.4500</td>\n",
       "      <td>3143</td>\n",
       "      <td>5 Ave &amp; E 78 St</td>\n",
       "      <td>40.776321</td>\n",
       "      <td>-73.964274</td>\n",
       "      <td>3226</td>\n",
       "      <td>W 82 St &amp; Central Park West</td>\n",
       "      <td>40.782750</td>\n",
       "      <td>-73.971370</td>\n",
       "      <td>21458</td>\n",
       "      <td>Customer</td>\n",
       "      <td>1996</td>\n",
       "      <td>1</td>\n",
       "    </tr>\n",
       "    <tr>\n",
       "      <th>2</th>\n",
       "      <td>2201</td>\n",
       "      <td>2019-07-01 00:00:05.2130</td>\n",
       "      <td>2019-07-01 00:36:46.7490</td>\n",
       "      <td>317</td>\n",
       "      <td>E 6 St &amp; Avenue B</td>\n",
       "      <td>40.724537</td>\n",
       "      <td>-73.981854</td>\n",
       "      <td>3469</td>\n",
       "      <td>India St &amp; West St</td>\n",
       "      <td>40.731814</td>\n",
       "      <td>-73.959950</td>\n",
       "      <td>39874</td>\n",
       "      <td>Subscriber</td>\n",
       "      <td>1986</td>\n",
       "      <td>1</td>\n",
       "    </tr>\n",
       "    <tr>\n",
       "      <th>3</th>\n",
       "      <td>1660</td>\n",
       "      <td>2019-07-01 00:00:08.6010</td>\n",
       "      <td>2019-07-01 00:27:48.8050</td>\n",
       "      <td>249</td>\n",
       "      <td>Harrison St &amp; Hudson St</td>\n",
       "      <td>40.718710</td>\n",
       "      <td>-74.009001</td>\n",
       "      <td>369</td>\n",
       "      <td>Washington Pl &amp; 6 Ave</td>\n",
       "      <td>40.732241</td>\n",
       "      <td>-74.000264</td>\n",
       "      <td>38865</td>\n",
       "      <td>Subscriber</td>\n",
       "      <td>1988</td>\n",
       "      <td>1</td>\n",
       "    </tr>\n",
       "    <tr>\n",
       "      <th>4</th>\n",
       "      <td>109</td>\n",
       "      <td>2019-07-01 00:00:12.1580</td>\n",
       "      <td>2019-07-01 00:02:01.5670</td>\n",
       "      <td>3552</td>\n",
       "      <td>W 113 St &amp; Broadway</td>\n",
       "      <td>40.805973</td>\n",
       "      <td>-73.964928</td>\n",
       "      <td>3538</td>\n",
       "      <td>W 110 St &amp; Amsterdam Ave</td>\n",
       "      <td>40.802692</td>\n",
       "      <td>-73.962950</td>\n",
       "      <td>30256</td>\n",
       "      <td>Subscriber</td>\n",
       "      <td>1997</td>\n",
       "      <td>1</td>\n",
       "    </tr>\n",
       "  </tbody>\n",
       "</table>\n",
       "</div>"
      ],
      "text/plain": [
       "   tripduration                 starttime                  stoptime  \\\n",
       "0           897  2019-07-01 00:00:00.1320  2019-07-01 00:14:58.0040   \n",
       "1           267  2019-07-01 00:00:05.1780  2019-07-01 00:04:32.4500   \n",
       "2          2201  2019-07-01 00:00:05.2130  2019-07-01 00:36:46.7490   \n",
       "3          1660  2019-07-01 00:00:08.6010  2019-07-01 00:27:48.8050   \n",
       "4           109  2019-07-01 00:00:12.1580  2019-07-01 00:02:01.5670   \n",
       "\n",
       "  start station id       start station name  start station latitude  \\\n",
       "0              493          W 45 St & 6 Ave               40.756800   \n",
       "1             3143          5 Ave & E 78 St               40.776321   \n",
       "2              317        E 6 St & Avenue B               40.724537   \n",
       "3              249  Harrison St & Hudson St               40.718710   \n",
       "4             3552      W 113 St & Broadway               40.805973   \n",
       "\n",
       "   start station longitude end station id             end station name  \\\n",
       "0               -73.982912            454              E 51 St & 1 Ave   \n",
       "1               -73.964274           3226  W 82 St & Central Park West   \n",
       "2               -73.981854           3469           India St & West St   \n",
       "3               -74.009001            369        Washington Pl & 6 Ave   \n",
       "4               -73.964928           3538     W 110 St & Amsterdam Ave   \n",
       "\n",
       "   end station latitude  end station longitude  bikeid    usertype  \\\n",
       "0             40.754557             -73.965930   18340  Subscriber   \n",
       "1             40.782750             -73.971370   21458    Customer   \n",
       "2             40.731814             -73.959950   39874  Subscriber   \n",
       "3             40.732241             -74.000264   38865  Subscriber   \n",
       "4             40.802692             -73.962950   30256  Subscriber   \n",
       "\n",
       "   birth year  gender  \n",
       "0        1966       1  \n",
       "1        1996       1  \n",
       "2        1986       1  \n",
       "3        1988       1  \n",
       "4        1997       1  "
      ]
     },
     "execution_count": 9,
     "metadata": {},
     "output_type": "execute_result"
    }
   ],
   "source": [
    "bike=pd.read_csv('201907-citibike-tripdata.csv', keep_default_na=False, na_values=[\"\"])\n",
    "bike.head()"
   ]
  },
  {
   "cell_type": "code",
   "execution_count": 10,
   "metadata": {
    "scrolled": false
   },
   "outputs": [
    {
     "data": {
      "text/html": [
       "<div>\n",
       "<style scoped>\n",
       "    .dataframe tbody tr th:only-of-type {\n",
       "        vertical-align: middle;\n",
       "    }\n",
       "\n",
       "    .dataframe tbody tr th {\n",
       "        vertical-align: top;\n",
       "    }\n",
       "\n",
       "    .dataframe thead th {\n",
       "        text-align: right;\n",
       "    }\n",
       "</style>\n",
       "<table border=\"1\" class=\"dataframe\">\n",
       "  <thead>\n",
       "    <tr style=\"text-align: right;\">\n",
       "      <th></th>\n",
       "      <th>tripduration</th>\n",
       "      <th>starttime</th>\n",
       "      <th>stoptime</th>\n",
       "      <th>start_station_id</th>\n",
       "      <th>start_station_name</th>\n",
       "      <th>start_station_latitude</th>\n",
       "      <th>start_station_longitude</th>\n",
       "      <th>end_station_id</th>\n",
       "      <th>end_station_name</th>\n",
       "      <th>end_station_latitude</th>\n",
       "      <th>end_station_longitude</th>\n",
       "      <th>bikeid</th>\n",
       "      <th>usertype</th>\n",
       "      <th>birth_year</th>\n",
       "      <th>gender</th>\n",
       "    </tr>\n",
       "  </thead>\n",
       "  <tbody>\n",
       "    <tr>\n",
       "      <th>0</th>\n",
       "      <td>897</td>\n",
       "      <td>2019-07-01 00:00:00.1320</td>\n",
       "      <td>2019-07-01 00:14:58.0040</td>\n",
       "      <td>493</td>\n",
       "      <td>W 45 St &amp; 6 Ave</td>\n",
       "      <td>40.756800</td>\n",
       "      <td>-73.982912</td>\n",
       "      <td>454</td>\n",
       "      <td>E 51 St &amp; 1 Ave</td>\n",
       "      <td>40.754557</td>\n",
       "      <td>-73.965930</td>\n",
       "      <td>18340</td>\n",
       "      <td>Subscriber</td>\n",
       "      <td>1966</td>\n",
       "      <td>1</td>\n",
       "    </tr>\n",
       "    <tr>\n",
       "      <th>1</th>\n",
       "      <td>267</td>\n",
       "      <td>2019-07-01 00:00:05.1780</td>\n",
       "      <td>2019-07-01 00:04:32.4500</td>\n",
       "      <td>3143</td>\n",
       "      <td>5 Ave &amp; E 78 St</td>\n",
       "      <td>40.776321</td>\n",
       "      <td>-73.964274</td>\n",
       "      <td>3226</td>\n",
       "      <td>W 82 St &amp; Central Park West</td>\n",
       "      <td>40.782750</td>\n",
       "      <td>-73.971370</td>\n",
       "      <td>21458</td>\n",
       "      <td>Customer</td>\n",
       "      <td>1996</td>\n",
       "      <td>1</td>\n",
       "    </tr>\n",
       "    <tr>\n",
       "      <th>2</th>\n",
       "      <td>2201</td>\n",
       "      <td>2019-07-01 00:00:05.2130</td>\n",
       "      <td>2019-07-01 00:36:46.7490</td>\n",
       "      <td>317</td>\n",
       "      <td>E 6 St &amp; Avenue B</td>\n",
       "      <td>40.724537</td>\n",
       "      <td>-73.981854</td>\n",
       "      <td>3469</td>\n",
       "      <td>India St &amp; West St</td>\n",
       "      <td>40.731814</td>\n",
       "      <td>-73.959950</td>\n",
       "      <td>39874</td>\n",
       "      <td>Subscriber</td>\n",
       "      <td>1986</td>\n",
       "      <td>1</td>\n",
       "    </tr>\n",
       "    <tr>\n",
       "      <th>3</th>\n",
       "      <td>1660</td>\n",
       "      <td>2019-07-01 00:00:08.6010</td>\n",
       "      <td>2019-07-01 00:27:48.8050</td>\n",
       "      <td>249</td>\n",
       "      <td>Harrison St &amp; Hudson St</td>\n",
       "      <td>40.718710</td>\n",
       "      <td>-74.009001</td>\n",
       "      <td>369</td>\n",
       "      <td>Washington Pl &amp; 6 Ave</td>\n",
       "      <td>40.732241</td>\n",
       "      <td>-74.000264</td>\n",
       "      <td>38865</td>\n",
       "      <td>Subscriber</td>\n",
       "      <td>1988</td>\n",
       "      <td>1</td>\n",
       "    </tr>\n",
       "    <tr>\n",
       "      <th>4</th>\n",
       "      <td>109</td>\n",
       "      <td>2019-07-01 00:00:12.1580</td>\n",
       "      <td>2019-07-01 00:02:01.5670</td>\n",
       "      <td>3552</td>\n",
       "      <td>W 113 St &amp; Broadway</td>\n",
       "      <td>40.805973</td>\n",
       "      <td>-73.964928</td>\n",
       "      <td>3538</td>\n",
       "      <td>W 110 St &amp; Amsterdam Ave</td>\n",
       "      <td>40.802692</td>\n",
       "      <td>-73.962950</td>\n",
       "      <td>30256</td>\n",
       "      <td>Subscriber</td>\n",
       "      <td>1997</td>\n",
       "      <td>1</td>\n",
       "    </tr>\n",
       "  </tbody>\n",
       "</table>\n",
       "</div>"
      ],
      "text/plain": [
       "   tripduration                 starttime                  stoptime  \\\n",
       "0           897  2019-07-01 00:00:00.1320  2019-07-01 00:14:58.0040   \n",
       "1           267  2019-07-01 00:00:05.1780  2019-07-01 00:04:32.4500   \n",
       "2          2201  2019-07-01 00:00:05.2130  2019-07-01 00:36:46.7490   \n",
       "3          1660  2019-07-01 00:00:08.6010  2019-07-01 00:27:48.8050   \n",
       "4           109  2019-07-01 00:00:12.1580  2019-07-01 00:02:01.5670   \n",
       "\n",
       "  start_station_id       start_station_name  start_station_latitude  \\\n",
       "0              493          W 45 St & 6 Ave               40.756800   \n",
       "1             3143          5 Ave & E 78 St               40.776321   \n",
       "2              317        E 6 St & Avenue B               40.724537   \n",
       "3              249  Harrison St & Hudson St               40.718710   \n",
       "4             3552      W 113 St & Broadway               40.805973   \n",
       "\n",
       "   start_station_longitude end_station_id             end_station_name  \\\n",
       "0               -73.982912            454              E 51 St & 1 Ave   \n",
       "1               -73.964274           3226  W 82 St & Central Park West   \n",
       "2               -73.981854           3469           India St & West St   \n",
       "3               -74.009001            369        Washington Pl & 6 Ave   \n",
       "4               -73.964928           3538     W 110 St & Amsterdam Ave   \n",
       "\n",
       "   end_station_latitude  end_station_longitude  bikeid    usertype  \\\n",
       "0             40.754557             -73.965930   18340  Subscriber   \n",
       "1             40.782750             -73.971370   21458    Customer   \n",
       "2             40.731814             -73.959950   39874  Subscriber   \n",
       "3             40.732241             -74.000264   38865  Subscriber   \n",
       "4             40.802692             -73.962950   30256  Subscriber   \n",
       "\n",
       "   birth_year  gender  \n",
       "0        1966       1  \n",
       "1        1996       1  \n",
       "2        1986       1  \n",
       "3        1988       1  \n",
       "4        1997       1  "
      ]
     },
     "execution_count": 10,
     "metadata": {},
     "output_type": "execute_result"
    }
   ],
   "source": [
    "bike.columns = bike.columns.str.replace(' ', '_') \n",
    "bike.head()"
   ]
  },
  {
   "cell_type": "code",
   "execution_count": 11,
   "metadata": {},
   "outputs": [],
   "source": [
    "#new dataset with just station id, lat/long, number of rides"
   ]
  },
  {
   "cell_type": "code",
   "execution_count": 12,
   "metadata": {
    "scrolled": true
   },
   "outputs": [
    {
     "name": "stderr",
     "output_type": "stream",
     "text": [
      "/anaconda3/lib/python3.7/site-packages/ipykernel_launcher.py:5: FutureWarning: Passing timedelta64-dtype data is deprecated, will raise a TypeError in a future version\n",
      "  \"\"\"\n"
     ]
    }
   ],
   "source": [
    "format = \"%Y-%m-%dT%H:%M:%S\"\n",
    "start_time = pd.to_datetime(bike[\"starttime\"], format=format)\n",
    "end_time = pd.to_datetime(bike[\"stoptime\"], format=format)\n",
    "\n",
    "duration = pd.DatetimeIndex(end_time - start_time)\n",
    "duration = pd.DataFrame(duration.hour*60 + duration.minute)"
   ]
  },
  {
   "cell_type": "code",
   "execution_count": 13,
   "metadata": {
    "scrolled": false
   },
   "outputs": [
    {
     "name": "stdout",
     "output_type": "stream",
     "text": [
      "                  0\n",
      "count  2.181064e+06\n",
      "mean   1.488386e+01\n",
      "std    2.660018e+01\n",
      "min    1.000000e+00\n",
      "25%    6.000000e+00\n",
      "50%    1.000000e+01\n",
      "75%    1.900000e+01\n",
      "max    1.436000e+03\n"
     ]
    }
   ],
   "source": [
    "print(duration.describe())"
   ]
  },
  {
   "cell_type": "code",
   "execution_count": 14,
   "metadata": {},
   "outputs": [],
   "source": [
    "bike['trip_duration']=bike['tripduration'].astype(int)\n"
   ]
  },
  {
   "cell_type": "code",
   "execution_count": 15,
   "metadata": {
    "scrolled": true
   },
   "outputs": [
    {
     "name": "stdout",
     "output_type": "stream",
     "text": [
      "count    2.181064e+06\n",
      "mean     1.035360e+03\n",
      "std      1.077968e+04\n",
      "min      6.100000e+01\n",
      "25%      3.850000e+02\n",
      "50%      6.580000e+02\n",
      "75%      1.155000e+03\n",
      "max      2.621244e+06\n",
      "Name: tripduration, dtype: float64\n"
     ]
    }
   ],
   "source": [
    "print(bike['tripduration'].describe())"
   ]
  },
  {
   "cell_type": "code",
   "execution_count": 16,
   "metadata": {
    "scrolled": true
   },
   "outputs": [
    {
     "name": "stdout",
     "output_type": "stream",
     "text": [
      "count    14356.000000\n",
      "mean       151.926999\n",
      "std         80.316472\n",
      "min          1.000000\n",
      "25%         99.000000\n",
      "50%        137.000000\n",
      "75%        187.000000\n",
      "max        446.000000\n",
      "Name: bikeid, dtype: float64\n"
     ]
    }
   ],
   "source": [
    "bikes = bike[\"bikeid\"].dropna()\n",
    "print(bikes.value_counts().describe())"
   ]
  },
  {
   "cell_type": "code",
   "execution_count": 17,
   "metadata": {
    "scrolled": true
   },
   "outputs": [
    {
     "data": {
      "text/plain": [
       "Text(0.5, 0, 'Count of occurrences each bike was used')"
      ]
     },
     "execution_count": 17,
     "metadata": {},
     "output_type": "execute_result"
    },
    {
     "data": {
      "image/png": "[encoded data removed]",
      "text/plain": [
       "<Figure size 1152x576 with 1 Axes>"
      ]
     },
     "metadata": {
      "needs_background": "light"
     },
     "output_type": "display_data"
    }
   ],
   "source": [
    "plt.figure(figsize=(16, 8))\n",
    "bikes.value_counts().plot(kind=\"hist\", bins=35, range=(0,300))\n",
    "plt.xlabel(\"Count of occurrences each bike was used\")"
   ]
  },
  {
   "cell_type": "code",
   "execution_count": 18,
   "metadata": {},
   "outputs": [],
   "source": [
    "# There are 14356 bikes and each has been used on average 152 times. "
   ]
  },
  {
   "cell_type": "code",
   "execution_count": 19,
   "metadata": {
    "scrolled": false
   },
   "outputs": [
    {
     "name": "stdout",
     "output_type": "stream",
     "text": [
      "days = Subscriber, count = 1803055, percentage = 82%\n",
      "days = Customer, count = 378009, percentage = 17%\n"
     ]
    }
   ],
   "source": [
    "from collections import Counter\n",
    "for days, count in Counter(bike[\"usertype\"].fillna(\"nan\")).items():\n",
    "    print(\"days = {}, count = {}, percentage = {}%\".format(days, count, int(100*count/len(bike))))\n"
   ]
  },
  {
   "cell_type": "code",
   "execution_count": 20,
   "metadata": {},
   "outputs": [],
   "source": [
    "start_station = bike[\"start_station_id\"].dropna().value_counts()\n",
    "end_station = bike[\"end_station_id\"].dropna().value_counts()\n",
    "\n",
    "stations = pd.concat((start_station, end_station), axis=1, sort=False)\n",
    "stations = stations.reset_index(drop=True)"
   ]
  },
  {
   "cell_type": "code",
   "execution_count": 21,
   "metadata": {},
   "outputs": [
    {
     "name": "stdout",
     "output_type": "stream",
     "text": [
      "      start_station_id  end_station_id\n",
      "0              12451.0           12333\n",
      "1               9574.0            9782\n",
      "2               9440.0            9467\n",
      "3               9408.0           10012\n",
      "4               9329.0            9601\n",
      "5               9132.0            9273\n",
      "6               8711.0            8750\n",
      "7               8623.0            8326\n",
      "8               8543.0            8501\n",
      "9               8197.0            8216\n",
      "10              7948.0            8204\n",
      "11              7511.0            7544\n",
      "12              7421.0            6695\n",
      "13              7283.0            7312\n",
      "14              6883.0            6931\n",
      "15              6771.0            6907\n",
      "16              6726.0            6714\n",
      "17              6721.0            6503\n",
      "18              6720.0            6785\n",
      "19              6698.0            6630\n",
      "20              6662.0            6409\n",
      "21              6658.0            6533\n",
      "22              6625.0            6571\n",
      "23              6621.0            6591\n",
      "24              6593.0            6692\n",
      "25              6592.0            6230\n",
      "26              6571.0            6562\n",
      "27              6529.0            6501\n",
      "28              6465.0            6706\n",
      "29              6403.0            6358\n",
      "...                ...             ...\n",
      "1553              57.0              60\n",
      "1554              55.0              69\n",
      "1555              54.0              54\n",
      "1556              51.0              42\n",
      "1557              51.0              57\n",
      "1558              50.0              53\n",
      "1559              47.0              54\n",
      "1560              47.0              47\n",
      "1561              45.0              23\n",
      "1562              36.0              39\n",
      "1563              23.0              22\n",
      "1564              22.0              17\n",
      "1565              18.0              40\n",
      "1566              17.0              21\n",
      "1567              14.0              18\n",
      "1568               NaN              28\n",
      "1569               NaN               5\n",
      "1570               NaN               2\n",
      "1571               NaN               2\n",
      "1572               NaN               2\n",
      "1573               NaN               2\n",
      "1574               NaN               2\n",
      "1575               NaN               1\n",
      "1576               NaN               1\n",
      "1577               NaN               1\n",
      "1578               NaN               1\n",
      "1579               NaN               1\n",
      "1580               NaN               1\n",
      "1581               NaN               1\n",
      "1582               NaN               1\n",
      "\n",
      "[1583 rows x 2 columns]\n"
     ]
    }
   ],
   "source": [
    "print (stations)"
   ]
  },
  {
   "cell_type": "code",
   "execution_count": 22,
   "metadata": {
    "scrolled": true
   },
   "outputs": [
    {
     "name": "stdout",
     "output_type": "stream",
     "text": [
      "1583\n"
     ]
    }
   ],
   "source": [
    "print(len(stations))"
   ]
  },
  {
   "cell_type": "code",
   "execution_count": 23,
   "metadata": {
    "scrolled": true
   },
   "outputs": [
    {
     "name": "stdout",
     "output_type": "stream",
     "text": [
      "                  start_station_id  end_station_id\n",
      "start_station_id          1.000000        0.998435\n",
      "end_station_id            0.998435        1.000000\n"
     ]
    }
   ],
   "source": [
    "print(stations.corr())"
   ]
  },
  {
   "cell_type": "code",
   "execution_count": 24,
   "metadata": {
    "scrolled": true
   },
   "outputs": [
    {
     "data": {
      "text/plain": [
       "<matplotlib.legend.Legend at 0x119ac8ba8>"
      ]
     },
     "execution_count": 24,
     "metadata": {},
     "output_type": "execute_result"
    },
    {
     "data": {
      "image/png": "[encoded data removed]",
      "text/plain": [
       "<Figure size 1080x576 with 1 Axes>"
      ]
     },
     "metadata": {
      "needs_background": "light"
     },
     "output_type": "display_data"
    }
   ],
   "source": [
    "stations.plot(figsize=(15, 8))\n",
    "plt.xlabel(\"Stations\")\n",
    "plt.ylabel(\"Count of each station\")\n",
    "plt.legend()"
   ]
  },
  {
   "cell_type": "code",
   "execution_count": 25,
   "metadata": {},
   "outputs": [],
   "source": [
    "from math import sin, cos, sqrt, atan2, radians\n",
    "\n",
    "lat1 = bike[\"start_station_latitude\"].apply(radians)\n",
    "lon1 = bike[\"start_station_longitude\"].apply(radians)\n",
    "lat2 = bike[\"end_station_latitude\"].apply(radians)\n",
    "lon2 = bike[\"end_station_longitude\"].apply(radians)\n",
    "\n",
    "dlon = lon2 - lon1\n",
    "dlat = lat2 - lat1\n",
    "\n",
    "R = 6373.0\n",
    "\n",
    "a = np.sin(dlat/2)**2 + np.cos(lat1) * np.cos(lat2) * np.sin(dlon/2)**2\n",
    "c = 2 * np.arctan2(np.sqrt(a), np.sqrt(1 - a))\n",
    "\n",
    "bike['distance'] = R * c"
   ]
  },
  {
   "cell_type": "code",
   "execution_count": 26,
   "metadata": {
    "scrolled": true
   },
   "outputs": [
    {
     "data": {
      "text/plain": [
       "count    2.181064e+06\n",
       "mean     1.819484e+00\n",
       "std      1.450128e+00\n",
       "min      0.000000e+00\n",
       "25%      8.332764e-01\n",
       "50%      1.403231e+00\n",
       "75%      2.373937e+00\n",
       "max      1.671231e+01\n",
       "Name: distance, dtype: float64"
      ]
     },
     "execution_count": 26,
     "metadata": {},
     "output_type": "execute_result"
    }
   ],
   "source": [
    "bike[\"distance\"].describe()"
   ]
  },
  {
   "cell_type": "code",
   "execution_count": 27,
   "metadata": {
    "scrolled": true
   },
   "outputs": [
    {
     "data": {
      "text/plain": [
       "Text(0, 0.5, 'Frequency')"
      ]
     },
     "execution_count": 27,
     "metadata": {},
     "output_type": "execute_result"
    },
    {
     "data": {
      "image/png": "[encoded data removed]",
      "text/plain": [
       "<Figure size 1152x576 with 1 Axes>"
      ]
     },
     "metadata": {
      "needs_background": "light"
     },
     "output_type": "display_data"
    }
   ],
   "source": [
    "plt.figure(figsize=(16, 8))\n",
    "bike.distance.hist(range=(0,4), bins=50)\n",
    "plt.xlabel(\"km\")\n",
    "plt.ylabel('Frequency')"
   ]
  },
  {
   "cell_type": "code",
   "execution_count": 28,
   "metadata": {},
   "outputs": [],
   "source": [
    "# showing that average/ mean ride from the stations are slightly under 2km per ride. So most likely riding from one\n",
    "#station to another station. "
   ]
  },
  {
   "cell_type": "code",
   "execution_count": 29,
   "metadata": {},
   "outputs": [],
   "source": [
    "# find the distance from start station lat and long to the borough lat/long (where end station is) and then keep stations that are closest to that borough lat/long"
   ]
  },
  {
   "cell_type": "code",
   "execution_count": 30,
   "metadata": {},
   "outputs": [
    {
     "name": "stdout",
     "output_type": "stream",
     "text": [
      "start_station_id  start_station_latitude  start_station_longitude\n",
      "72                40.767272               -73.993929                 3607\n",
      "79                40.719116               -74.006667                 2082\n",
      "82                40.711174               -74.000165                 1214\n",
      "83                40.683826               -73.976323                 1623\n",
      "116               40.741776               -74.001497                 5761\n",
      "119               40.696089               -73.978034                  454\n",
      "120               40.686768               -73.959282                  916\n",
      "127               40.731724               -74.006744                 4880\n",
      "128               40.727103               -74.002971                 5565\n",
      "143               40.692395               -73.993379                 1978\n",
      "144               40.698399               -73.980689                  873\n",
      "146               40.716250               -74.009106                 2558\n",
      "150               40.720874               -73.980858                 2970\n",
      "151               40.722104               -73.997249                 6726\n",
      "157               40.690893               -73.996123                 1641\n",
      "161               40.729170               -73.998102                 4165\n",
      "164               40.753231               -73.970325                 2885\n",
      "167               40.748901               -73.976049                 3444\n",
      "168               40.739713               -73.994564                 6087\n",
      "173               40.760683               -73.984527                 5473\n",
      "174               40.738177               -73.977387                 2835\n",
      "195               40.709056               -74.010434                 3227\n",
      "212               40.743349               -74.006818                 4526\n",
      "216               40.700379               -73.995481                  759\n",
      "217               40.702772               -73.993836                 3117\n",
      "223               40.737815               -73.999947                 4030\n",
      "224               40.711464               -74.005524                 2239\n",
      "228               40.754601               -73.971879                 2422\n",
      "229               40.727434               -73.993790                 5883\n",
      "236               40.728419               -73.987140                 4542\n",
      "                                                                     ... \n",
      "NULL              40.842000               -73.884000                    1\n",
      "                                          -73.881000                    1\n",
      "                  40.845000               -73.902000                    1\n",
      "                  40.848000               -73.893000                    1\n",
      "                                          -73.887000                    1\n",
      "                  40.851000               -73.905000                    1\n",
      "                                          -73.902000                    3\n",
      "                                          -73.893000                    1\n",
      "                  40.854000               -73.911000                    1\n",
      "                                          -73.905000                    2\n",
      "                                          -73.902000                    1\n",
      "                                          -73.893000                    2\n",
      "                                          -73.890000                    4\n",
      "                                          -73.887000                    1\n",
      "                  40.857000               -73.902000                    1\n",
      "                                          -73.890000                    5\n",
      "                                          -73.887000                    1\n",
      "                                          -73.884000                    1\n",
      "                                          -73.881000                    1\n",
      "                  40.860000               -73.902000                    1\n",
      "                                          -73.899000                    2\n",
      "                                          -73.896000                    2\n",
      "                                          -73.893000                    1\n",
      "                                          -73.890000                    2\n",
      "                  40.863000               -73.896000                    3\n",
      "                                          -73.893000                    4\n",
      "                                          -73.890000                    2\n",
      "                  40.866000               -73.896000                    4\n",
      "                                          -73.893000                    2\n",
      "                                          -73.884000                    1\n",
      "Name: tripduration, Length: 1597, dtype: int64\n"
     ]
    }
   ],
   "source": [
    "df_bike = bike.groupby(['start_station_id', 'start_station_latitude','start_station_longitude']).agg('count')['tripduration']\n",
    "print (df_bike)"
   ]
  },
  {
   "cell_type": "code",
   "execution_count": 31,
   "metadata": {},
   "outputs": [],
   "source": [
    "lat1 = bike[\"start_station_latitude\"].apply(radians)\n",
    "lon1 = bike[\"start_station_longitude\"].apply(radians)\n",
    "lat2 = df[\"Latitude\"].apply(radians)\n",
    "lon2 = df[\"Longitude\"].apply(radians)\n",
    "\n",
    "dlon = lon2 - lon1\n",
    "dlat = lat2 - lat1\n",
    "\n",
    "R = 6373.0\n",
    "\n",
    "a = np.sin(dlat/2)**2 + np.cos(lat1) * np.cos(lat2) * np.sin(dlon/2)**2\n",
    "c = 2 * np.arctan2(np.sqrt(a), np.sqrt(1 - a))\n",
    "\n",
    "bike['borough_distance'] = R * c"
   ]
  },
  {
   "cell_type": "code",
   "execution_count": 32,
   "metadata": {
    "scrolled": false
   },
   "outputs": [
    {
     "data": {
      "text/plain": [
       "count    18052.000000\n",
       "mean        17.393047\n",
       "std          7.286242\n",
       "min          0.126213\n",
       "25%         12.391253\n",
       "50%         17.706913\n",
       "75%         22.313421\n",
       "max         43.270509\n",
       "Name: borough_distance, dtype: float64"
      ]
     },
     "execution_count": 32,
     "metadata": {},
     "output_type": "execute_result"
    }
   ],
   "source": [
    "bike[\"borough_distance\"].describe()"
   ]
  },
  {
   "cell_type": "code",
   "execution_count": 33,
   "metadata": {
    "scrolled": true
   },
   "outputs": [
    {
     "data": {
      "text/plain": [
       "Text(0, 0.5, 'Frequency')"
      ]
     },
     "execution_count": 33,
     "metadata": {},
     "output_type": "execute_result"
    },
    {
     "data": {
      "image/png": "[encoded data removed]",
      "text/plain": [
       "<Figure size 1152x576 with 1 Axes>"
      ]
     },
     "metadata": {
      "needs_background": "light"
     },
     "output_type": "display_data"
    }
   ],
   "source": [
    "plt.figure(figsize=(16, 8))\n",
    "bike.borough_distance.hist(range=(0,40), bins=50)\n",
    "plt.xlabel(\"km\")\n",
    "plt.ylabel('Frequency')"
   ]
  },
  {
   "cell_type": "code",
   "execution_count": 37,
   "metadata": {
    "scrolled": true
   },
   "outputs": [
    {
     "name": "stdout",
     "output_type": "stream",
     "text": [
      "6557    0.002126\n",
      "4002    0.011357\n",
      "6552    0.014437\n",
      "6375    0.015252\n",
      "6675    0.020054\n",
      "7307    0.028579\n",
      "3705    0.029723\n",
      "6257    0.030105\n",
      "7544    0.031139\n",
      "6233    0.033112\n",
      "2369    0.033964\n",
      "3115    0.035182\n",
      "8727    0.036800\n",
      "6017    0.037457\n",
      "7829    0.037797\n",
      "7229    0.039860\n",
      "6165    0.046197\n",
      "6405    0.046417\n",
      "6335    0.048980\n",
      "3842    0.049497\n",
      "6536    0.049633\n",
      "6047    0.049910\n",
      "6444    0.051322\n",
      "473     0.054055\n",
      "4049    0.055205\n",
      "5388    0.057519\n",
      "6930    0.058477\n",
      "8277    0.060562\n",
      "6488    0.064312\n",
      "3317    0.064833\n",
      "          ...   \n",
      "5244    2.225169\n",
      "3874    2.231661\n",
      "3906    2.233145\n",
      "4012    2.235181\n",
      "3175    2.235425\n",
      "5177    2.236471\n",
      "6261    2.243227\n",
      "6352    2.246979\n",
      "8163    2.248485\n",
      "3112    2.249960\n",
      "6688    2.250469\n",
      "5615    2.251922\n",
      "6513    2.254106\n",
      "3782    2.254224\n",
      "6800    2.254367\n",
      "2747    2.255618\n",
      "5418    2.258548\n",
      "6798    2.259999\n",
      "7837    2.271754\n",
      "7283    2.273204\n",
      "7006    2.273362\n",
      "3694    2.274165\n",
      "7337    2.276032\n",
      "4113    2.276538\n",
      "4056    2.278190\n",
      "3111    2.278567\n",
      "2810    2.279333\n",
      "6232    2.283313\n",
      "6227    2.283324\n",
      "8387    2.285102\n",
      "Length: 750, dtype: float64\n"
     ]
    }
   ],
   "source": [
    "diff = bike[\"borough_distance\"] - bike[\"distance\"]\n",
    "diff = diff.apply(abs).nsmallest(750)\n",
    "print(diff)\n",
    "\n",
    "bike['difference'] = diff"
   ]
  },
  {
   "cell_type": "code",
   "execution_count": 36,
   "metadata": {},
   "outputs": [
    {
     "data": {
      "text/plain": [
       "Index(['tripduration', 'starttime', 'stoptime', 'start_station_id',\n",
       "       'start_station_name', 'start_station_latitude',\n",
       "       'start_station_longitude', 'end_station_id', 'end_station_name',\n",
       "       'end_station_latitude', 'end_station_longitude', 'bikeid', 'usertype',\n",
       "       'birth_year', 'gender', 'trip_duration', 'distance',\n",
       "       'borough_distance'],\n",
       "      dtype='object')"
      ]
     },
     "execution_count": 36,
     "metadata": {},
     "output_type": "execute_result"
    }
   ],
   "source": [
    "bike.columns"
   ]
  },
  {
   "cell_type": "code",
   "execution_count": 71,
   "metadata": {
    "scrolled": true
   },
   "outputs": [
    {
     "data": {
      "text/plain": [
       "Text(0.5, 1.0, 'Stations closest to Boroughs')"
      ]
     },
     "execution_count": 71,
     "metadata": {},
     "output_type": "execute_result"
    },
    {
     "data": {
      "image/png": "[encoded data removed]",
      "text/plain": [
       "<Figure size 1152x576 with 1 Axes>"
      ]
     },
     "metadata": {
      "needs_background": "light"
     },
     "output_type": "display_data"
    }
   ],
   "source": [
    "plt.figure(figsize=(16, 8))\n",
    "bike.difference.hist(range=(0,5), bins=50)\n",
    "plt.xlabel(\"km\")\n",
    "plt.title('Stations closest to Boroughs')"
   ]
  },
  {
   "cell_type": "code",
   "execution_count": 41,
   "metadata": {
    "scrolled": true
   },
   "outputs": [
    {
     "name": "stdout",
     "output_type": "stream",
     "text": [
      "      start_station_id  start_station_latitude  start_station_longitude  \\\n",
      "18                3619               40.771361               -73.924615   \n",
      "136               3296               40.782454               -73.948920   \n",
      "181               3494               40.797911               -73.942300   \n",
      "310               3689               40.799041               -73.966495   \n",
      "337               3357               40.800836               -73.966449   \n",
      "473               3547               40.814326               -73.959025   \n",
      "474               3547               40.814326               -73.959025   \n",
      "2232               319               40.711066               -74.009447   \n",
      "2233               426               40.717548               -74.013221   \n",
      "2234               416               40.687534               -73.972652   \n",
      "2236               545               40.736502               -73.978095   \n",
      "2241               487               40.733143               -73.975739   \n",
      "2245               151               40.722104               -73.997249   \n",
      "2248              3733               40.730563               -73.973984   \n",
      "2252              3255               40.750585               -73.994685   \n",
      "2326              3361               40.674089               -73.978728   \n",
      "2356              3156               40.766638               -73.953483   \n",
      "2357               247               40.735354               -74.004831   \n",
      "2361               360               40.707179               -74.008873   \n",
      "2369               315               40.703554               -74.006702   \n",
      "2371              3680               40.754121               -73.980252   \n",
      "2440               174               40.738177               -73.977387   \n",
      "2445              2002               40.716887               -73.963198   \n",
      "2466               295               40.714067               -73.992939   \n",
      "2485              3236               40.758985               -73.993800   \n",
      "2525               350               40.715595               -73.987030   \n",
      "2539              3002               40.711512               -74.015756   \n",
      "2604              3256               40.727714               -74.011296   \n",
      "2612               282               40.707645               -73.968415   \n",
      "2621              3686               40.739448               -74.005070   \n",
      "...                ...                     ...                      ...   \n",
      "7984              3522               40.770148               -73.912094   \n",
      "7997              3507               40.804555               -73.939686   \n",
      "8012              3140               40.771404               -73.953517   \n",
      "8095              3318               40.783964               -73.947167   \n",
      "8127              3534               40.805159               -73.954692   \n",
      "8134              3095               40.719293               -73.945004   \n",
      "8163              3151               40.772838               -73.949892   \n",
      "8274              3553               40.801694               -73.957145   \n",
      "8277              3323               40.798186               -73.960591   \n",
      "8295              3400               40.796153               -73.947821   \n",
      "8299              3150               40.775369               -73.948034   \n",
      "8345              3437               40.793135               -73.977004   \n",
      "8387              3351               40.786995               -73.941648   \n",
      "8388              3320               40.794067               -73.962868   \n",
      "8727              3341               40.795346               -73.961860   \n",
      "8762              3509               40.801194               -73.950074   \n",
      "8849              3108               40.725570               -73.944340   \n",
      "8852               342               40.717400               -73.980166   \n",
      "8864               394               40.725213               -73.977688   \n",
      "8866              3402               40.690238               -73.992031   \n",
      "8882              3721               40.767549               -73.920933   \n",
      "8958              3715               40.718170               -73.955201   \n",
      "8967              3249               40.680356               -73.947679   \n",
      "9042              3454               40.710369               -73.947060   \n",
      "9089              3125               40.747086               -73.949772   \n",
      "9154              3108               40.725570               -73.944340   \n",
      "9186              3076               40.708704               -73.944862   \n",
      "9965              3050               40.685153               -73.941110   \n",
      "10564             3400               40.796153               -73.947821   \n",
      "18003             3397               40.676395               -73.998699   \n",
      "\n",
      "       difference  \n",
      "18       0.083575  \n",
      "136      1.780094  \n",
      "181      1.062587  \n",
      "310      0.152469  \n",
      "337      1.178137  \n",
      "473      0.054055  \n",
      "474      0.622795  \n",
      "2232     0.801635  \n",
      "2233     1.305594  \n",
      "2234     1.536380  \n",
      "2236     0.537259  \n",
      "2241     1.442279  \n",
      "2245     1.762100  \n",
      "2248     2.151611  \n",
      "2252     2.136377  \n",
      "2326     1.987892  \n",
      "2356     0.498374  \n",
      "2357     1.888054  \n",
      "2361     0.801707  \n",
      "2369     0.033964  \n",
      "2371     2.051524  \n",
      "2440     2.200129  \n",
      "2445     0.633097  \n",
      "2466     1.225830  \n",
      "2485     1.172156  \n",
      "2525     2.025747  \n",
      "2539     0.683178  \n",
      "2604     2.164214  \n",
      "2612     2.040578  \n",
      "2621     1.998790  \n",
      "...           ...  \n",
      "7984     1.802877  \n",
      "7997     1.418374  \n",
      "8012     0.461807  \n",
      "8095     1.751755  \n",
      "8127     1.070752  \n",
      "8134     1.884006  \n",
      "8163     2.248485  \n",
      "8274     2.190345  \n",
      "8277     0.060562  \n",
      "8295     0.447245  \n",
      "8299     0.835964  \n",
      "8345     1.109119  \n",
      "8387     2.285102  \n",
      "8388     0.602882  \n",
      "8727     0.036800  \n",
      "8762     2.089422  \n",
      "8849     1.724838  \n",
      "8852     1.844440  \n",
      "8864     2.052232  \n",
      "8866     0.168478  \n",
      "8882     0.378475  \n",
      "8958     2.049153  \n",
      "8967     1.896035  \n",
      "9042     0.335042  \n",
      "9089     0.628302  \n",
      "9154     0.336666  \n",
      "9186     0.589726  \n",
      "9965     1.620775  \n",
      "10564    1.518818  \n",
      "18003    2.111517  \n",
      "\n",
      "[750 rows x 4 columns]\n"
     ]
    }
   ],
   "source": [
    "bike_diff = bike.loc[bike['difference']<= 2.3,['start_station_id', 'start_station_latitude','start_station_longitude','difference']]\n",
    "print (bike_diff)"
   ]
  },
  {
   "cell_type": "code",
   "execution_count": 28,
   "metadata": {},
   "outputs": [
    {
     "data": {
      "image/png": "[encoded data removed]",
      "text/plain": [
       "<Figure size 576x611.36 with 2 Axes>"
      ]
     },
     "metadata": {
      "needs_background": "light"
     },
     "output_type": "display_data"
    }
   ],
   "source": [
    "latmin = 40.48\n",
    "lonmin = -74.28\n",
    "latmax = 40.93\n",
    "lonmax = -73.65\n",
    "# ratio = np.cos(40.7 * np.pi/180) * np.abs(lonmax-lonmin) /np.abs(latmax-latmin)\n",
    "from matplotlib.colors import LogNorm\n",
    "fig = plt.figure(1, figsize=(8,ratio*8) )\n",
    "hist = plt.hist2d(bike.start_station_longitude,bike.start_station_latitude,bins=199,\n",
    "                  range=[[lonmin,lonmax],[latmin,latmax]],norm=LogNorm())\n",
    "plt.xlabel('Longitude [degrees]')\n",
    "plt.ylabel('Latitude [degrees]')\n",
    "plt.title('Pickup Locations')\n",
    "plt.colorbar(label='Number')\n",
    "plt.show()"
   ]
  },
  {
   "cell_type": "code",
   "execution_count": 29,
   "metadata": {},
   "outputs": [
    {
     "data": {
      "image/png": "[encoded data removed]",
      "text/plain": [
       "<Figure size 576x611.36 with 2 Axes>"
      ]
     },
     "metadata": {
      "needs_background": "light"
     },
     "output_type": "display_data"
    }
   ],
   "source": [
    "latmin = 40.48\n",
    "lonmin = -74.28\n",
    "latmax = 40.93\n",
    "lonmax = -73.65\n",
    "# ratio = np.cos(40.7 * np.pi/180) * np.abs(lonmax-lonmin) /np.abs(latmax-latmin)\n",
    "from matplotlib.colors import LogNorm\n",
    "fig = plt.figure(1, figsize=(8,ratio*8) )\n",
    "hist = plt.hist2d(bike.end_station_longitude,bike.end_station_latitude,bins=199,\n",
    "                  range=[[lonmin,lonmax],[latmin,latmax]],norm=LogNorm())\n",
    "plt.xlabel('Longitude [degrees]')\n",
    "plt.ylabel('Latitude [degrees]')\n",
    "plt.title('Pickup Locations')\n",
    "plt.colorbar(label='Number')\n",
    "plt.show()"
   ]
  },
  {
   "cell_type": "code",
   "execution_count": null,
   "metadata": {},
   "outputs": [],
   "source": [
    "#for time series, use the plotted line charts with all 5 boroughs overlapped to show the difference in hours within day\n"
   ]
  },
  {
   "cell_type": "code",
   "execution_count": null,
   "metadata": {},
   "outputs": [],
   "source": []
  }
 ],
 "metadata": {
  "kernelspec": {
   "display_name": "Python 3",
   "language": "python",
   "name": "python3"
  },
  "language_info": {
   "codemirror_mode": {
    "name": "ipython",
    "version": 3
   },
   "file_extension": ".py",
   "mimetype": "text/x-python",
   "name": "python",
   "nbconvert_exporter": "python",
   "pygments_lexer": "ipython3",
   "version": "3.7.3"
  }
 },
 "nbformat": 4,
 "nbformat_minor": 2
}
