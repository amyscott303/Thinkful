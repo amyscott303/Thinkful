{
 "cells": [
  {
   "cell_type": "code",
   "execution_count": 1,
   "metadata": {},
   "outputs": [],
   "source": [
    "import numpy as np\n",
    "import pandas as pd\n",
    "import scipy\n",
    "from datetime import datetime\n",
    "import datetime as dt\n",
    "import matplotlib.pyplot as plt\n",
    "%matplotlib inline"
   ]
  },
  {
   "cell_type": "code",
   "execution_count": 2,
   "metadata": {},
   "outputs": [],
   "source": [
    "#Build a model based on census data to determine how certain census data effects bike stations and what would be other\n",
    "#good locations to add new bike shares. How many rides based on the area and what is the demographic like around the station"
   ]
  },
  {
   "cell_type": "code",
   "execution_count": 3,
   "metadata": {
    "scrolled": false
   },
   "outputs": [
    {
     "data": {
      "text/html": [
       "<div>\n",
       "<style scoped>\n",
       "    .dataframe tbody tr th:only-of-type {\n",
       "        vertical-align: middle;\n",
       "    }\n",
       "\n",
       "    .dataframe tbody tr th {\n",
       "        vertical-align: top;\n",
       "    }\n",
       "\n",
       "    .dataframe thead th {\n",
       "        text-align: right;\n",
       "    }\n",
       "</style>\n",
       "<table border=\"1\" class=\"dataframe\">\n",
       "  <thead>\n",
       "    <tr style=\"text-align: right;\">\n",
       "      <th></th>\n",
       "      <th>CensusTract</th>\n",
       "      <th>County</th>\n",
       "      <th>Borough</th>\n",
       "      <th>TotalPop</th>\n",
       "      <th>Men</th>\n",
       "      <th>Women</th>\n",
       "      <th>Hispanic</th>\n",
       "      <th>White</th>\n",
       "      <th>Black</th>\n",
       "      <th>Native</th>\n",
       "      <th>...</th>\n",
       "      <th>Walk</th>\n",
       "      <th>OtherTransp</th>\n",
       "      <th>WorkAtHome</th>\n",
       "      <th>MeanCommute</th>\n",
       "      <th>Employed</th>\n",
       "      <th>PrivateWork</th>\n",
       "      <th>PublicWork</th>\n",
       "      <th>SelfEmployed</th>\n",
       "      <th>FamilyWork</th>\n",
       "      <th>Unemployment</th>\n",
       "    </tr>\n",
       "  </thead>\n",
       "  <tbody>\n",
       "    <tr>\n",
       "      <th>0</th>\n",
       "      <td>36005000100</td>\n",
       "      <td>Bronx</td>\n",
       "      <td>Bronx</td>\n",
       "      <td>7703</td>\n",
       "      <td>7133</td>\n",
       "      <td>570</td>\n",
       "      <td>29.9</td>\n",
       "      <td>6.1</td>\n",
       "      <td>60.9</td>\n",
       "      <td>0.2</td>\n",
       "      <td>...</td>\n",
       "      <td>NaN</td>\n",
       "      <td>NaN</td>\n",
       "      <td>NaN</td>\n",
       "      <td>NaN</td>\n",
       "      <td>0</td>\n",
       "      <td>NaN</td>\n",
       "      <td>NaN</td>\n",
       "      <td>NaN</td>\n",
       "      <td>NaN</td>\n",
       "      <td>NaN</td>\n",
       "    </tr>\n",
       "    <tr>\n",
       "      <th>1</th>\n",
       "      <td>36005000200</td>\n",
       "      <td>Bronx</td>\n",
       "      <td>Bronx</td>\n",
       "      <td>5403</td>\n",
       "      <td>2659</td>\n",
       "      <td>2744</td>\n",
       "      <td>75.8</td>\n",
       "      <td>2.3</td>\n",
       "      <td>16.0</td>\n",
       "      <td>0.0</td>\n",
       "      <td>...</td>\n",
       "      <td>2.9</td>\n",
       "      <td>0.0</td>\n",
       "      <td>0.0</td>\n",
       "      <td>43.0</td>\n",
       "      <td>2308</td>\n",
       "      <td>80.8</td>\n",
       "      <td>16.2</td>\n",
       "      <td>2.9</td>\n",
       "      <td>0.0</td>\n",
       "      <td>7.7</td>\n",
       "    </tr>\n",
       "    <tr>\n",
       "      <th>2</th>\n",
       "      <td>36005000400</td>\n",
       "      <td>Bronx</td>\n",
       "      <td>Bronx</td>\n",
       "      <td>5915</td>\n",
       "      <td>2896</td>\n",
       "      <td>3019</td>\n",
       "      <td>62.7</td>\n",
       "      <td>3.6</td>\n",
       "      <td>30.7</td>\n",
       "      <td>0.0</td>\n",
       "      <td>...</td>\n",
       "      <td>1.4</td>\n",
       "      <td>0.5</td>\n",
       "      <td>2.1</td>\n",
       "      <td>45.0</td>\n",
       "      <td>2675</td>\n",
       "      <td>71.7</td>\n",
       "      <td>25.3</td>\n",
       "      <td>2.5</td>\n",
       "      <td>0.6</td>\n",
       "      <td>9.5</td>\n",
       "    </tr>\n",
       "    <tr>\n",
       "      <th>3</th>\n",
       "      <td>36005001600</td>\n",
       "      <td>Bronx</td>\n",
       "      <td>Bronx</td>\n",
       "      <td>5879</td>\n",
       "      <td>2558</td>\n",
       "      <td>3321</td>\n",
       "      <td>65.1</td>\n",
       "      <td>1.6</td>\n",
       "      <td>32.4</td>\n",
       "      <td>0.0</td>\n",
       "      <td>...</td>\n",
       "      <td>8.6</td>\n",
       "      <td>1.6</td>\n",
       "      <td>1.7</td>\n",
       "      <td>38.8</td>\n",
       "      <td>2120</td>\n",
       "      <td>75.0</td>\n",
       "      <td>21.3</td>\n",
       "      <td>3.8</td>\n",
       "      <td>0.0</td>\n",
       "      <td>8.7</td>\n",
       "    </tr>\n",
       "    <tr>\n",
       "      <th>4</th>\n",
       "      <td>36005001900</td>\n",
       "      <td>Bronx</td>\n",
       "      <td>Bronx</td>\n",
       "      <td>2591</td>\n",
       "      <td>1206</td>\n",
       "      <td>1385</td>\n",
       "      <td>55.4</td>\n",
       "      <td>9.0</td>\n",
       "      <td>29.0</td>\n",
       "      <td>0.0</td>\n",
       "      <td>...</td>\n",
       "      <td>3.0</td>\n",
       "      <td>2.4</td>\n",
       "      <td>6.2</td>\n",
       "      <td>45.4</td>\n",
       "      <td>1083</td>\n",
       "      <td>76.8</td>\n",
       "      <td>15.5</td>\n",
       "      <td>7.7</td>\n",
       "      <td>0.0</td>\n",
       "      <td>19.2</td>\n",
       "    </tr>\n",
       "  </tbody>\n",
       "</table>\n",
       "<p>5 rows × 36 columns</p>\n",
       "</div>"
      ],
      "text/plain": [
       "   CensusTract County Borough  TotalPop   Men  Women  Hispanic  White  Black  \\\n",
       "0  36005000100  Bronx   Bronx      7703  7133    570      29.9    6.1   60.9   \n",
       "1  36005000200  Bronx   Bronx      5403  2659   2744      75.8    2.3   16.0   \n",
       "2  36005000400  Bronx   Bronx      5915  2896   3019      62.7    3.6   30.7   \n",
       "3  36005001600  Bronx   Bronx      5879  2558   3321      65.1    1.6   32.4   \n",
       "4  36005001900  Bronx   Bronx      2591  1206   1385      55.4    9.0   29.0   \n",
       "\n",
       "   Native  ...  Walk  OtherTransp  WorkAtHome  MeanCommute  Employed  \\\n",
       "0     0.2  ...   NaN          NaN         NaN          NaN         0   \n",
       "1     0.0  ...   2.9          0.0         0.0         43.0      2308   \n",
       "2     0.0  ...   1.4          0.5         2.1         45.0      2675   \n",
       "3     0.0  ...   8.6          1.6         1.7         38.8      2120   \n",
       "4     0.0  ...   3.0          2.4         6.2         45.4      1083   \n",
       "\n",
       "   PrivateWork  PublicWork  SelfEmployed  FamilyWork  Unemployment  \n",
       "0          NaN         NaN           NaN         NaN           NaN  \n",
       "1         80.8        16.2           2.9         0.0           7.7  \n",
       "2         71.7        25.3           2.5         0.6           9.5  \n",
       "3         75.0        21.3           3.8         0.0           8.7  \n",
       "4         76.8        15.5           7.7         0.0          19.2  \n",
       "\n",
       "[5 rows x 36 columns]"
      ]
     },
     "execution_count": 3,
     "metadata": {},
     "output_type": "execute_result"
    }
   ],
   "source": [
    "data_ny=pd.read_csv('nyc_census_tracts.csv',keep_default_na=False, na_values=[\"\"])\n",
    "data_ny.head()\n"
   ]
  },
  {
   "cell_type": "code",
   "execution_count": 4,
   "metadata": {},
   "outputs": [
    {
     "data": {
      "text/plain": [
       "Index(['CensusTract', 'County', 'Borough', 'TotalPop', 'Men', 'Women',\n",
       "       'Hispanic', 'White', 'Black', 'Native', 'Asian', 'Citizen', 'Income',\n",
       "       'IncomeErr', 'IncomePerCap', 'IncomePerCapErr', 'Poverty',\n",
       "       'ChildPoverty', 'Professional', 'Service', 'Office', 'Construction',\n",
       "       'Production', 'Drive', 'Carpool', 'Transit', 'Walk', 'OtherTransp',\n",
       "       'WorkAtHome', 'MeanCommute', 'Employed', 'PrivateWork', 'PublicWork',\n",
       "       'SelfEmployed', 'FamilyWork', 'Unemployment'],\n",
       "      dtype='object')"
      ]
     },
     "execution_count": 4,
     "metadata": {},
     "output_type": "execute_result"
    }
   ],
   "source": [
    "data_ny.columns"
   ]
  },
  {
   "cell_type": "code",
   "execution_count": 5,
   "metadata": {
    "scrolled": false
   },
   "outputs": [
    {
     "data": {
      "text/html": [
       "<div>\n",
       "<style scoped>\n",
       "    .dataframe tbody tr th:only-of-type {\n",
       "        vertical-align: middle;\n",
       "    }\n",
       "\n",
       "    .dataframe tbody tr th {\n",
       "        vertical-align: top;\n",
       "    }\n",
       "\n",
       "    .dataframe thead th {\n",
       "        text-align: right;\n",
       "    }\n",
       "</style>\n",
       "<table border=\"1\" class=\"dataframe\">\n",
       "  <thead>\n",
       "    <tr style=\"text-align: right;\">\n",
       "      <th></th>\n",
       "      <th>Latitude</th>\n",
       "      <th>Longitude</th>\n",
       "      <th>BlockCode</th>\n",
       "      <th>County</th>\n",
       "      <th>State</th>\n",
       "    </tr>\n",
       "  </thead>\n",
       "  <tbody>\n",
       "    <tr>\n",
       "      <th>0</th>\n",
       "      <td>40.48</td>\n",
       "      <td>-74.280000</td>\n",
       "      <td>340230076002012</td>\n",
       "      <td>Middlesex</td>\n",
       "      <td>NJ</td>\n",
       "    </tr>\n",
       "    <tr>\n",
       "      <th>1</th>\n",
       "      <td>40.48</td>\n",
       "      <td>-74.276834</td>\n",
       "      <td>340230076005000</td>\n",
       "      <td>Middlesex</td>\n",
       "      <td>NJ</td>\n",
       "    </tr>\n",
       "    <tr>\n",
       "      <th>2</th>\n",
       "      <td>40.48</td>\n",
       "      <td>-74.273668</td>\n",
       "      <td>340230076003018</td>\n",
       "      <td>Middlesex</td>\n",
       "      <td>NJ</td>\n",
       "    </tr>\n",
       "    <tr>\n",
       "      <th>3</th>\n",
       "      <td>40.48</td>\n",
       "      <td>-74.270503</td>\n",
       "      <td>340230076003004</td>\n",
       "      <td>Middlesex</td>\n",
       "      <td>NJ</td>\n",
       "    </tr>\n",
       "    <tr>\n",
       "      <th>4</th>\n",
       "      <td>40.48</td>\n",
       "      <td>-74.267337</td>\n",
       "      <td>340230074021000</td>\n",
       "      <td>Middlesex</td>\n",
       "      <td>NJ</td>\n",
       "    </tr>\n",
       "  </tbody>\n",
       "</table>\n",
       "</div>"
      ],
      "text/plain": [
       "   Latitude  Longitude        BlockCode     County State\n",
       "0     40.48 -74.280000  340230076002012  Middlesex    NJ\n",
       "1     40.48 -74.276834  340230076005000  Middlesex    NJ\n",
       "2     40.48 -74.273668  340230076003018  Middlesex    NJ\n",
       "3     40.48 -74.270503  340230076003004  Middlesex    NJ\n",
       "4     40.48 -74.267337  340230074021000  Middlesex    NJ"
      ]
     },
     "execution_count": 5,
     "metadata": {},
     "output_type": "execute_result"
    }
   ],
   "source": [
    "data_census=pd.read_csv('census_block_loc.csv',keep_default_na=False, na_values=[\"\"])\n",
    "data_census.head()"
   ]
  },
  {
   "cell_type": "code",
   "execution_count": 6,
   "metadata": {},
   "outputs": [],
   "source": [
    "data_census['BlockCode_11'] = data_census['BlockCode'].apply(lambda x: int(str(x)[0:11]))"
   ]
  },
  {
   "cell_type": "code",
   "execution_count": 7,
   "metadata": {
    "scrolled": true
   },
   "outputs": [
    {
     "data": {
      "text/plain": [
       "<bound method NDFrame.head of        CensusTract  County_x        Borough  TotalPop   Men  Women  Hispanic  \\\n",
       "0      36005000100     Bronx          Bronx      7703  7133    570      29.9   \n",
       "1      36005000100     Bronx          Bronx      7703  7133    570      29.9   \n",
       "2      36005000100     Bronx          Bronx      7703  7133    570      29.9   \n",
       "3      36005000100     Bronx          Bronx      7703  7133    570      29.9   \n",
       "4      36005000100     Bronx          Bronx      7703  7133    570      29.9   \n",
       "5      36005000100     Bronx          Bronx      7703  7133    570      29.9   \n",
       "6      36005000100     Bronx          Bronx      7703  7133    570      29.9   \n",
       "7      36005000100     Bronx          Bronx      7703  7133    570      29.9   \n",
       "8      36005000100     Bronx          Bronx      7703  7133    570      29.9   \n",
       "9      36005000100     Bronx          Bronx      7703  7133    570      29.9   \n",
       "10     36005000100     Bronx          Bronx      7703  7133    570      29.9   \n",
       "11     36005000100     Bronx          Bronx      7703  7133    570      29.9   \n",
       "12     36005000100     Bronx          Bronx      7703  7133    570      29.9   \n",
       "13     36005000100     Bronx          Bronx      7703  7133    570      29.9   \n",
       "14     36005000100     Bronx          Bronx      7703  7133    570      29.9   \n",
       "15     36005000100     Bronx          Bronx      7703  7133    570      29.9   \n",
       "16     36005000100     Bronx          Bronx      7703  7133    570      29.9   \n",
       "17     36005000100     Bronx          Bronx      7703  7133    570      29.9   \n",
       "18     36005000100     Bronx          Bronx      7703  7133    570      29.9   \n",
       "19     36005000100     Bronx          Bronx      7703  7133    570      29.9   \n",
       "20     36005000100     Bronx          Bronx      7703  7133    570      29.9   \n",
       "21     36005000100     Bronx          Bronx      7703  7133    570      29.9   \n",
       "22     36005000100     Bronx          Bronx      7703  7133    570      29.9   \n",
       "23     36005000100     Bronx          Bronx      7703  7133    570      29.9   \n",
       "24     36005000100     Bronx          Bronx      7703  7133    570      29.9   \n",
       "25     36005000100     Bronx          Bronx      7703  7133    570      29.9   \n",
       "26     36005000100     Bronx          Bronx      7703  7133    570      29.9   \n",
       "27     36005000100     Bronx          Bronx      7703  7133    570      29.9   \n",
       "28     36005000100     Bronx          Bronx      7703  7133    570      29.9   \n",
       "29     36005000100     Bronx          Bronx      7703  7133    570      29.9   \n",
       "...            ...       ...            ...       ...   ...    ...       ...   \n",
       "18022  36085990100  Richmond  Staten Island         0     0      0       NaN   \n",
       "18023  36085990100  Richmond  Staten Island         0     0      0       NaN   \n",
       "18024  36085990100  Richmond  Staten Island         0     0      0       NaN   \n",
       "18025  36085990100  Richmond  Staten Island         0     0      0       NaN   \n",
       "18026  36085990100  Richmond  Staten Island         0     0      0       NaN   \n",
       "18027  36085990100  Richmond  Staten Island         0     0      0       NaN   \n",
       "18028  36085990100  Richmond  Staten Island         0     0      0       NaN   \n",
       "18029  36085990100  Richmond  Staten Island         0     0      0       NaN   \n",
       "18030  36085990100  Richmond  Staten Island         0     0      0       NaN   \n",
       "18031  36085990100  Richmond  Staten Island         0     0      0       NaN   \n",
       "18032  36085990100  Richmond  Staten Island         0     0      0       NaN   \n",
       "18033  36085990100  Richmond  Staten Island         0     0      0       NaN   \n",
       "18034  36085990100  Richmond  Staten Island         0     0      0       NaN   \n",
       "18035  36085990100  Richmond  Staten Island         0     0      0       NaN   \n",
       "18036  36085990100  Richmond  Staten Island         0     0      0       NaN   \n",
       "18037  36085990100  Richmond  Staten Island         0     0      0       NaN   \n",
       "18038  36085990100  Richmond  Staten Island         0     0      0       NaN   \n",
       "18039  36085990100  Richmond  Staten Island         0     0      0       NaN   \n",
       "18040  36085990100  Richmond  Staten Island         0     0      0       NaN   \n",
       "18041  36085990100  Richmond  Staten Island         0     0      0       NaN   \n",
       "18042  36085990100  Richmond  Staten Island         0     0      0       NaN   \n",
       "18043  36085990100  Richmond  Staten Island         0     0      0       NaN   \n",
       "18044  36085990100  Richmond  Staten Island         0     0      0       NaN   \n",
       "18045  36085990100  Richmond  Staten Island         0     0      0       NaN   \n",
       "18046  36085990100  Richmond  Staten Island         0     0      0       NaN   \n",
       "18047  36085990100  Richmond  Staten Island         0     0      0       NaN   \n",
       "18048  36085990100  Richmond  Staten Island         0     0      0       NaN   \n",
       "18049  36085990100  Richmond  Staten Island         0     0      0       NaN   \n",
       "18050  36085990100  Richmond  Staten Island         0     0      0       NaN   \n",
       "18051  36085990100  Richmond  Staten Island         0     0      0       NaN   \n",
       "\n",
       "       White  Black  Native  ...  PublicWork  SelfEmployed  FamilyWork  \\\n",
       "0        6.1   60.9     0.2  ...         NaN           NaN         NaN   \n",
       "1        6.1   60.9     0.2  ...         NaN           NaN         NaN   \n",
       "2        6.1   60.9     0.2  ...         NaN           NaN         NaN   \n",
       "3        6.1   60.9     0.2  ...         NaN           NaN         NaN   \n",
       "4        6.1   60.9     0.2  ...         NaN           NaN         NaN   \n",
       "5        6.1   60.9     0.2  ...         NaN           NaN         NaN   \n",
       "6        6.1   60.9     0.2  ...         NaN           NaN         NaN   \n",
       "7        6.1   60.9     0.2  ...         NaN           NaN         NaN   \n",
       "8        6.1   60.9     0.2  ...         NaN           NaN         NaN   \n",
       "9        6.1   60.9     0.2  ...         NaN           NaN         NaN   \n",
       "10       6.1   60.9     0.2  ...         NaN           NaN         NaN   \n",
       "11       6.1   60.9     0.2  ...         NaN           NaN         NaN   \n",
       "12       6.1   60.9     0.2  ...         NaN           NaN         NaN   \n",
       "13       6.1   60.9     0.2  ...         NaN           NaN         NaN   \n",
       "14       6.1   60.9     0.2  ...         NaN           NaN         NaN   \n",
       "15       6.1   60.9     0.2  ...         NaN           NaN         NaN   \n",
       "16       6.1   60.9     0.2  ...         NaN           NaN         NaN   \n",
       "17       6.1   60.9     0.2  ...         NaN           NaN         NaN   \n",
       "18       6.1   60.9     0.2  ...         NaN           NaN         NaN   \n",
       "19       6.1   60.9     0.2  ...         NaN           NaN         NaN   \n",
       "20       6.1   60.9     0.2  ...         NaN           NaN         NaN   \n",
       "21       6.1   60.9     0.2  ...         NaN           NaN         NaN   \n",
       "22       6.1   60.9     0.2  ...         NaN           NaN         NaN   \n",
       "23       6.1   60.9     0.2  ...         NaN           NaN         NaN   \n",
       "24       6.1   60.9     0.2  ...         NaN           NaN         NaN   \n",
       "25       6.1   60.9     0.2  ...         NaN           NaN         NaN   \n",
       "26       6.1   60.9     0.2  ...         NaN           NaN         NaN   \n",
       "27       6.1   60.9     0.2  ...         NaN           NaN         NaN   \n",
       "28       6.1   60.9     0.2  ...         NaN           NaN         NaN   \n",
       "29       6.1   60.9     0.2  ...         NaN           NaN         NaN   \n",
       "...      ...    ...     ...  ...         ...           ...         ...   \n",
       "18022    NaN    NaN     NaN  ...         NaN           NaN         NaN   \n",
       "18023    NaN    NaN     NaN  ...         NaN           NaN         NaN   \n",
       "18024    NaN    NaN     NaN  ...         NaN           NaN         NaN   \n",
       "18025    NaN    NaN     NaN  ...         NaN           NaN         NaN   \n",
       "18026    NaN    NaN     NaN  ...         NaN           NaN         NaN   \n",
       "18027    NaN    NaN     NaN  ...         NaN           NaN         NaN   \n",
       "18028    NaN    NaN     NaN  ...         NaN           NaN         NaN   \n",
       "18029    NaN    NaN     NaN  ...         NaN           NaN         NaN   \n",
       "18030    NaN    NaN     NaN  ...         NaN           NaN         NaN   \n",
       "18031    NaN    NaN     NaN  ...         NaN           NaN         NaN   \n",
       "18032    NaN    NaN     NaN  ...         NaN           NaN         NaN   \n",
       "18033    NaN    NaN     NaN  ...         NaN           NaN         NaN   \n",
       "18034    NaN    NaN     NaN  ...         NaN           NaN         NaN   \n",
       "18035    NaN    NaN     NaN  ...         NaN           NaN         NaN   \n",
       "18036    NaN    NaN     NaN  ...         NaN           NaN         NaN   \n",
       "18037    NaN    NaN     NaN  ...         NaN           NaN         NaN   \n",
       "18038    NaN    NaN     NaN  ...         NaN           NaN         NaN   \n",
       "18039    NaN    NaN     NaN  ...         NaN           NaN         NaN   \n",
       "18040    NaN    NaN     NaN  ...         NaN           NaN         NaN   \n",
       "18041    NaN    NaN     NaN  ...         NaN           NaN         NaN   \n",
       "18042    NaN    NaN     NaN  ...         NaN           NaN         NaN   \n",
       "18043    NaN    NaN     NaN  ...         NaN           NaN         NaN   \n",
       "18044    NaN    NaN     NaN  ...         NaN           NaN         NaN   \n",
       "18045    NaN    NaN     NaN  ...         NaN           NaN         NaN   \n",
       "18046    NaN    NaN     NaN  ...         NaN           NaN         NaN   \n",
       "18047    NaN    NaN     NaN  ...         NaN           NaN         NaN   \n",
       "18048    NaN    NaN     NaN  ...         NaN           NaN         NaN   \n",
       "18049    NaN    NaN     NaN  ...         NaN           NaN         NaN   \n",
       "18050    NaN    NaN     NaN  ...         NaN           NaN         NaN   \n",
       "18051    NaN    NaN     NaN  ...         NaN           NaN         NaN   \n",
       "\n",
       "       Unemployment   Latitude  Longitude        BlockCode  County_y  State  \\\n",
       "0               NaN  40.787538 -73.887437  360050001001007     Bronx     NY   \n",
       "1               NaN  40.787538 -73.884271  360050001001005     Bronx     NY   \n",
       "2               NaN  40.787538 -73.881106  360050001001003     Bronx     NY   \n",
       "3               NaN  40.787538 -73.877940  360050001001003     Bronx     NY   \n",
       "4               NaN  40.787538 -73.874774  360050001001006     Bronx     NY   \n",
       "5               NaN  40.787538 -73.871608  360050001001006     Bronx     NY   \n",
       "6               NaN  40.789799 -73.887437  360050001001011     Bronx     NY   \n",
       "7               NaN  40.789799 -73.884271  360050001001013     Bronx     NY   \n",
       "8               NaN  40.789799 -73.881106  360050001001003     Bronx     NY   \n",
       "9               NaN  40.789799 -73.877940  360050001001003     Bronx     NY   \n",
       "10              NaN  40.789799 -73.874774  360050001001006     Bronx     NY   \n",
       "11              NaN  40.789799 -73.871608  360050001000002     Bronx     NY   \n",
       "12              NaN  40.792060 -73.896935  360050001000002     Bronx     NY   \n",
       "13              NaN  40.792060 -73.893769  360050001000002     Bronx     NY   \n",
       "14              NaN  40.792060 -73.890603  360050001001012     Bronx     NY   \n",
       "15              NaN  40.792060 -73.887437  360050001001019     Bronx     NY   \n",
       "16              NaN  40.792060 -73.884271  360050001001014     Bronx     NY   \n",
       "17              NaN  40.792060 -73.881106  360050001001003     Bronx     NY   \n",
       "18              NaN  40.792060 -73.877940  360050001001003     Bronx     NY   \n",
       "19              NaN  40.792060 -73.874774  360050001001006     Bronx     NY   \n",
       "20              NaN  40.792060 -73.871608  360050001000002     Bronx     NY   \n",
       "21              NaN  40.794322 -73.896935  360050001000002     Bronx     NY   \n",
       "22              NaN  40.794322 -73.893769  360050001000002     Bronx     NY   \n",
       "23              NaN  40.794322 -73.890603  360050001001009     Bronx     NY   \n",
       "24              NaN  40.794322 -73.887437  360050001001015     Bronx     NY   \n",
       "25              NaN  40.794322 -73.884271  360050001001015     Bronx     NY   \n",
       "26              NaN  40.794322 -73.881106  360050001001000     Bronx     NY   \n",
       "27              NaN  40.794322 -73.877940  360050001000002     Bronx     NY   \n",
       "28              NaN  40.794322 -73.874774  360050001000002     Bronx     NY   \n",
       "29              NaN  40.794322 -73.871608  360050001000001     Bronx     NY   \n",
       "...             ...        ...        ...              ...       ...    ...   \n",
       "18022           NaN  40.586281 -74.048894  360859901000002  Richmond     NY   \n",
       "18023           NaN  40.586281 -74.045729  360859901000002  Richmond     NY   \n",
       "18024           NaN  40.586281 -74.042563  360859901000002  Richmond     NY   \n",
       "18025           NaN  40.586281 -74.039397  360859901000002  Richmond     NY   \n",
       "18026           NaN  40.588543 -74.052060  360859901000002  Richmond     NY   \n",
       "18027           NaN  40.588543 -74.048894  360859901000002  Richmond     NY   \n",
       "18028           NaN  40.588543 -74.045729  360859901000002  Richmond     NY   \n",
       "18029           NaN  40.588543 -74.042563  360859901000002  Richmond     NY   \n",
       "18030           NaN  40.588543 -74.039397  360859901000002  Richmond     NY   \n",
       "18031           NaN  40.590804 -74.052060  360859901000002  Richmond     NY   \n",
       "18032           NaN  40.590804 -74.048894  360859901000002  Richmond     NY   \n",
       "18033           NaN  40.590804 -74.045729  360859901000002  Richmond     NY   \n",
       "18034           NaN  40.590804 -74.042563  360859901000002  Richmond     NY   \n",
       "18035           NaN  40.590804 -74.039397  360859901000002  Richmond     NY   \n",
       "18036           NaN  40.593065 -74.052060  360859901000002  Richmond     NY   \n",
       "18037           NaN  40.593065 -74.048894  360859901000002  Richmond     NY   \n",
       "18038           NaN  40.593065 -74.045729  360859901000002  Richmond     NY   \n",
       "18039           NaN  40.593065 -74.042563  360859901000002  Richmond     NY   \n",
       "18040           NaN  40.593065 -74.039397  360859901000002  Richmond     NY   \n",
       "18041           NaN  40.595327 -74.048894  360859901000002  Richmond     NY   \n",
       "18042           NaN  40.595327 -74.045729  360859901000002  Richmond     NY   \n",
       "18043           NaN  40.595327 -74.042563  360859901000002  Richmond     NY   \n",
       "18044           NaN  40.597588 -74.048894  360859901000002  Richmond     NY   \n",
       "18045           NaN  40.597588 -74.045729  360859901000002  Richmond     NY   \n",
       "18046           NaN  40.597588 -74.042563  360859901000002  Richmond     NY   \n",
       "18047           NaN  40.599849 -74.045729  360859901000002  Richmond     NY   \n",
       "18048           NaN  40.599849 -74.042563  360859901000002  Richmond     NY   \n",
       "18049           NaN  40.602111 -74.045729  360859901000002  Richmond     NY   \n",
       "18050           NaN  40.602111 -74.042563  360859901000002  Richmond     NY   \n",
       "18051           NaN  40.604372 -74.042563  360859901000001  Richmond     NY   \n",
       "\n",
       "       BlockCode_11  \n",
       "0       36005000100  \n",
       "1       36005000100  \n",
       "2       36005000100  \n",
       "3       36005000100  \n",
       "4       36005000100  \n",
       "5       36005000100  \n",
       "6       36005000100  \n",
       "7       36005000100  \n",
       "8       36005000100  \n",
       "9       36005000100  \n",
       "10      36005000100  \n",
       "11      36005000100  \n",
       "12      36005000100  \n",
       "13      36005000100  \n",
       "14      36005000100  \n",
       "15      36005000100  \n",
       "16      36005000100  \n",
       "17      36005000100  \n",
       "18      36005000100  \n",
       "19      36005000100  \n",
       "20      36005000100  \n",
       "21      36005000100  \n",
       "22      36005000100  \n",
       "23      36005000100  \n",
       "24      36005000100  \n",
       "25      36005000100  \n",
       "26      36005000100  \n",
       "27      36005000100  \n",
       "28      36005000100  \n",
       "29      36005000100  \n",
       "...             ...  \n",
       "18022   36085990100  \n",
       "18023   36085990100  \n",
       "18024   36085990100  \n",
       "18025   36085990100  \n",
       "18026   36085990100  \n",
       "18027   36085990100  \n",
       "18028   36085990100  \n",
       "18029   36085990100  \n",
       "18030   36085990100  \n",
       "18031   36085990100  \n",
       "18032   36085990100  \n",
       "18033   36085990100  \n",
       "18034   36085990100  \n",
       "18035   36085990100  \n",
       "18036   36085990100  \n",
       "18037   36085990100  \n",
       "18038   36085990100  \n",
       "18039   36085990100  \n",
       "18040   36085990100  \n",
       "18041   36085990100  \n",
       "18042   36085990100  \n",
       "18043   36085990100  \n",
       "18044   36085990100  \n",
       "18045   36085990100  \n",
       "18046   36085990100  \n",
       "18047   36085990100  \n",
       "18048   36085990100  \n",
       "18049   36085990100  \n",
       "18050   36085990100  \n",
       "18051   36085990100  \n",
       "\n",
       "[18052 rows x 42 columns]>"
      ]
     },
     "execution_count": 7,
     "metadata": {},
     "output_type": "execute_result"
    }
   ],
   "source": [
    "df= pd.merge(left=data_ny,right= data_census, how='inner', on=None, left_on='CensusTract', right_on='BlockCode_11',\n",
    "        left_index=False, right_index=False, sort=True,\n",
    "        suffixes=('_x', '_y'), copy=True, indicator=False,\n",
    "        validate=None)\n",
    "df.head"
   ]
  },
  {
   "cell_type": "code",
   "execution_count": 8,
   "metadata": {},
   "outputs": [
    {
     "data": {
      "text/plain": [
       "Index(['CensusTract', 'County_x', 'Borough', 'TotalPop', 'Men', 'Women',\n",
       "       'Hispanic', 'White', 'Black', 'Native', 'Asian', 'Citizen', 'Income',\n",
       "       'IncomeErr', 'IncomePerCap', 'IncomePerCapErr', 'Poverty',\n",
       "       'ChildPoverty', 'Professional', 'Service', 'Office', 'Construction',\n",
       "       'Production', 'Drive', 'Carpool', 'Transit', 'Walk', 'OtherTransp',\n",
       "       'WorkAtHome', 'MeanCommute', 'Employed', 'PrivateWork', 'PublicWork',\n",
       "       'SelfEmployed', 'FamilyWork', 'Unemployment', 'Latitude', 'Longitude',\n",
       "       'BlockCode', 'County_y', 'State', 'BlockCode_11'],\n",
       "      dtype='object')"
      ]
     },
     "execution_count": 8,
     "metadata": {},
     "output_type": "execute_result"
    }
   ],
   "source": [
    "df.columns"
   ]
  },
  {
   "cell_type": "code",
   "execution_count": 9,
   "metadata": {
    "scrolled": false
   },
   "outputs": [
    {
     "name": "stderr",
     "output_type": "stream",
     "text": [
      "/anaconda3/lib/python3.7/site-packages/IPython/core/interactiveshell.py:3049: DtypeWarning: Columns (3,7) have mixed types. Specify dtype option on import or set low_memory=False.\n",
      "  interactivity=interactivity, compiler=compiler, result=result)\n"
     ]
    },
    {
     "data": {
      "text/html": [
       "<div>\n",
       "<style scoped>\n",
       "    .dataframe tbody tr th:only-of-type {\n",
       "        vertical-align: middle;\n",
       "    }\n",
       "\n",
       "    .dataframe tbody tr th {\n",
       "        vertical-align: top;\n",
       "    }\n",
       "\n",
       "    .dataframe thead th {\n",
       "        text-align: right;\n",
       "    }\n",
       "</style>\n",
       "<table border=\"1\" class=\"dataframe\">\n",
       "  <thead>\n",
       "    <tr style=\"text-align: right;\">\n",
       "      <th></th>\n",
       "      <th>tripduration</th>\n",
       "      <th>starttime</th>\n",
       "      <th>stoptime</th>\n",
       "      <th>start station id</th>\n",
       "      <th>start station name</th>\n",
       "      <th>start station latitude</th>\n",
       "      <th>start station longitude</th>\n",
       "      <th>end station id</th>\n",
       "      <th>end station name</th>\n",
       "      <th>end station latitude</th>\n",
       "      <th>end station longitude</th>\n",
       "      <th>bikeid</th>\n",
       "      <th>usertype</th>\n",
       "      <th>birth year</th>\n",
       "      <th>gender</th>\n",
       "    </tr>\n",
       "  </thead>\n",
       "  <tbody>\n",
       "    <tr>\n",
       "      <th>0</th>\n",
       "      <td>897</td>\n",
       "      <td>2019-07-01 00:00:00.1320</td>\n",
       "      <td>2019-07-01 00:14:58.0040</td>\n",
       "      <td>493</td>\n",
       "      <td>W 45 St &amp; 6 Ave</td>\n",
       "      <td>40.756800</td>\n",
       "      <td>-73.982912</td>\n",
       "      <td>454</td>\n",
       "      <td>E 51 St &amp; 1 Ave</td>\n",
       "      <td>40.754557</td>\n",
       "      <td>-73.965930</td>\n",
       "      <td>18340</td>\n",
       "      <td>Subscriber</td>\n",
       "      <td>1966</td>\n",
       "      <td>1</td>\n",
       "    </tr>\n",
       "    <tr>\n",
       "      <th>1</th>\n",
       "      <td>267</td>\n",
       "      <td>2019-07-01 00:00:05.1780</td>\n",
       "      <td>2019-07-01 00:04:32.4500</td>\n",
       "      <td>3143</td>\n",
       "      <td>5 Ave &amp; E 78 St</td>\n",
       "      <td>40.776321</td>\n",
       "      <td>-73.964274</td>\n",
       "      <td>3226</td>\n",
       "      <td>W 82 St &amp; Central Park West</td>\n",
       "      <td>40.782750</td>\n",
       "      <td>-73.971370</td>\n",
       "      <td>21458</td>\n",
       "      <td>Customer</td>\n",
       "      <td>1996</td>\n",
       "      <td>1</td>\n",
       "    </tr>\n",
       "    <tr>\n",
       "      <th>2</th>\n",
       "      <td>2201</td>\n",
       "      <td>2019-07-01 00:00:05.2130</td>\n",
       "      <td>2019-07-01 00:36:46.7490</td>\n",
       "      <td>317</td>\n",
       "      <td>E 6 St &amp; Avenue B</td>\n",
       "      <td>40.724537</td>\n",
       "      <td>-73.981854</td>\n",
       "      <td>3469</td>\n",
       "      <td>India St &amp; West St</td>\n",
       "      <td>40.731814</td>\n",
       "      <td>-73.959950</td>\n",
       "      <td>39874</td>\n",
       "      <td>Subscriber</td>\n",
       "      <td>1986</td>\n",
       "      <td>1</td>\n",
       "    </tr>\n",
       "    <tr>\n",
       "      <th>3</th>\n",
       "      <td>1660</td>\n",
       "      <td>2019-07-01 00:00:08.6010</td>\n",
       "      <td>2019-07-01 00:27:48.8050</td>\n",
       "      <td>249</td>\n",
       "      <td>Harrison St &amp; Hudson St</td>\n",
       "      <td>40.718710</td>\n",
       "      <td>-74.009001</td>\n",
       "      <td>369</td>\n",
       "      <td>Washington Pl &amp; 6 Ave</td>\n",
       "      <td>40.732241</td>\n",
       "      <td>-74.000264</td>\n",
       "      <td>38865</td>\n",
       "      <td>Subscriber</td>\n",
       "      <td>1988</td>\n",
       "      <td>1</td>\n",
       "    </tr>\n",
       "    <tr>\n",
       "      <th>4</th>\n",
       "      <td>109</td>\n",
       "      <td>2019-07-01 00:00:12.1580</td>\n",
       "      <td>2019-07-01 00:02:01.5670</td>\n",
       "      <td>3552</td>\n",
       "      <td>W 113 St &amp; Broadway</td>\n",
       "      <td>40.805973</td>\n",
       "      <td>-73.964928</td>\n",
       "      <td>3538</td>\n",
       "      <td>W 110 St &amp; Amsterdam Ave</td>\n",
       "      <td>40.802692</td>\n",
       "      <td>-73.962950</td>\n",
       "      <td>30256</td>\n",
       "      <td>Subscriber</td>\n",
       "      <td>1997</td>\n",
       "      <td>1</td>\n",
       "    </tr>\n",
       "  </tbody>\n",
       "</table>\n",
       "</div>"
      ],
      "text/plain": [
       "   tripduration                 starttime                  stoptime  \\\n",
       "0           897  2019-07-01 00:00:00.1320  2019-07-01 00:14:58.0040   \n",
       "1           267  2019-07-01 00:00:05.1780  2019-07-01 00:04:32.4500   \n",
       "2          2201  2019-07-01 00:00:05.2130  2019-07-01 00:36:46.7490   \n",
       "3          1660  2019-07-01 00:00:08.6010  2019-07-01 00:27:48.8050   \n",
       "4           109  2019-07-01 00:00:12.1580  2019-07-01 00:02:01.5670   \n",
       "\n",
       "  start station id       start station name  start station latitude  \\\n",
       "0              493          W 45 St & 6 Ave               40.756800   \n",
       "1             3143          5 Ave & E 78 St               40.776321   \n",
       "2              317        E 6 St & Avenue B               40.724537   \n",
       "3              249  Harrison St & Hudson St               40.718710   \n",
       "4             3552      W 113 St & Broadway               40.805973   \n",
       "\n",
       "   start station longitude end station id             end station name  \\\n",
       "0               -73.982912            454              E 51 St & 1 Ave   \n",
       "1               -73.964274           3226  W 82 St & Central Park West   \n",
       "2               -73.981854           3469           India St & West St   \n",
       "3               -74.009001            369        Washington Pl & 6 Ave   \n",
       "4               -73.964928           3538     W 110 St & Amsterdam Ave   \n",
       "\n",
       "   end station latitude  end station longitude  bikeid    usertype  \\\n",
       "0             40.754557             -73.965930   18340  Subscriber   \n",
       "1             40.782750             -73.971370   21458    Customer   \n",
       "2             40.731814             -73.959950   39874  Subscriber   \n",
       "3             40.732241             -74.000264   38865  Subscriber   \n",
       "4             40.802692             -73.962950   30256  Subscriber   \n",
       "\n",
       "   birth year  gender  \n",
       "0        1966       1  \n",
       "1        1996       1  \n",
       "2        1986       1  \n",
       "3        1988       1  \n",
       "4        1997       1  "
      ]
     },
     "execution_count": 9,
     "metadata": {},
     "output_type": "execute_result"
    }
   ],
   "source": [
    "bike=pd.read_csv('201907-citibike-tripdata.csv', keep_default_na=False, na_values=[\"\"])\n",
    "bike.head()"
   ]
  },
  {
   "cell_type": "code",
   "execution_count": 10,
   "metadata": {
    "scrolled": false
   },
   "outputs": [
    {
     "data": {
      "text/html": [
       "<div>\n",
       "<style scoped>\n",
       "    .dataframe tbody tr th:only-of-type {\n",
       "        vertical-align: middle;\n",
       "    }\n",
       "\n",
       "    .dataframe tbody tr th {\n",
       "        vertical-align: top;\n",
       "    }\n",
       "\n",
       "    .dataframe thead th {\n",
       "        text-align: right;\n",
       "    }\n",
       "</style>\n",
       "<table border=\"1\" class=\"dataframe\">\n",
       "  <thead>\n",
       "    <tr style=\"text-align: right;\">\n",
       "      <th></th>\n",
       "      <th>tripduration</th>\n",
       "      <th>starttime</th>\n",
       "      <th>stoptime</th>\n",
       "      <th>start_station_id</th>\n",
       "      <th>start_station_name</th>\n",
       "      <th>start_station_latitude</th>\n",
       "      <th>start_station_longitude</th>\n",
       "      <th>end_station_id</th>\n",
       "      <th>end_station_name</th>\n",
       "      <th>end_station_latitude</th>\n",
       "      <th>end_station_longitude</th>\n",
       "      <th>bikeid</th>\n",
       "      <th>usertype</th>\n",
       "      <th>birth_year</th>\n",
       "      <th>gender</th>\n",
       "    </tr>\n",
       "  </thead>\n",
       "  <tbody>\n",
       "    <tr>\n",
       "      <th>0</th>\n",
       "      <td>897</td>\n",
       "      <td>2019-07-01 00:00:00.1320</td>\n",
       "      <td>2019-07-01 00:14:58.0040</td>\n",
       "      <td>493</td>\n",
       "      <td>W 45 St &amp; 6 Ave</td>\n",
       "      <td>40.756800</td>\n",
       "      <td>-73.982912</td>\n",
       "      <td>454</td>\n",
       "      <td>E 51 St &amp; 1 Ave</td>\n",
       "      <td>40.754557</td>\n",
       "      <td>-73.965930</td>\n",
       "      <td>18340</td>\n",
       "      <td>Subscriber</td>\n",
       "      <td>1966</td>\n",
       "      <td>1</td>\n",
       "    </tr>\n",
       "    <tr>\n",
       "      <th>1</th>\n",
       "      <td>267</td>\n",
       "      <td>2019-07-01 00:00:05.1780</td>\n",
       "      <td>2019-07-01 00:04:32.4500</td>\n",
       "      <td>3143</td>\n",
       "      <td>5 Ave &amp; E 78 St</td>\n",
       "      <td>40.776321</td>\n",
       "      <td>-73.964274</td>\n",
       "      <td>3226</td>\n",
       "      <td>W 82 St &amp; Central Park West</td>\n",
       "      <td>40.782750</td>\n",
       "      <td>-73.971370</td>\n",
       "      <td>21458</td>\n",
       "      <td>Customer</td>\n",
       "      <td>1996</td>\n",
       "      <td>1</td>\n",
       "    </tr>\n",
       "    <tr>\n",
       "      <th>2</th>\n",
       "      <td>2201</td>\n",
       "      <td>2019-07-01 00:00:05.2130</td>\n",
       "      <td>2019-07-01 00:36:46.7490</td>\n",
       "      <td>317</td>\n",
       "      <td>E 6 St &amp; Avenue B</td>\n",
       "      <td>40.724537</td>\n",
       "      <td>-73.981854</td>\n",
       "      <td>3469</td>\n",
       "      <td>India St &amp; West St</td>\n",
       "      <td>40.731814</td>\n",
       "      <td>-73.959950</td>\n",
       "      <td>39874</td>\n",
       "      <td>Subscriber</td>\n",
       "      <td>1986</td>\n",
       "      <td>1</td>\n",
       "    </tr>\n",
       "    <tr>\n",
       "      <th>3</th>\n",
       "      <td>1660</td>\n",
       "      <td>2019-07-01 00:00:08.6010</td>\n",
       "      <td>2019-07-01 00:27:48.8050</td>\n",
       "      <td>249</td>\n",
       "      <td>Harrison St &amp; Hudson St</td>\n",
       "      <td>40.718710</td>\n",
       "      <td>-74.009001</td>\n",
       "      <td>369</td>\n",
       "      <td>Washington Pl &amp; 6 Ave</td>\n",
       "      <td>40.732241</td>\n",
       "      <td>-74.000264</td>\n",
       "      <td>38865</td>\n",
       "      <td>Subscriber</td>\n",
       "      <td>1988</td>\n",
       "      <td>1</td>\n",
       "    </tr>\n",
       "    <tr>\n",
       "      <th>4</th>\n",
       "      <td>109</td>\n",
       "      <td>2019-07-01 00:00:12.1580</td>\n",
       "      <td>2019-07-01 00:02:01.5670</td>\n",
       "      <td>3552</td>\n",
       "      <td>W 113 St &amp; Broadway</td>\n",
       "      <td>40.805973</td>\n",
       "      <td>-73.964928</td>\n",
       "      <td>3538</td>\n",
       "      <td>W 110 St &amp; Amsterdam Ave</td>\n",
       "      <td>40.802692</td>\n",
       "      <td>-73.962950</td>\n",
       "      <td>30256</td>\n",
       "      <td>Subscriber</td>\n",
       "      <td>1997</td>\n",
       "      <td>1</td>\n",
       "    </tr>\n",
       "  </tbody>\n",
       "</table>\n",
       "</div>"
      ],
      "text/plain": [
       "   tripduration                 starttime                  stoptime  \\\n",
       "0           897  2019-07-01 00:00:00.1320  2019-07-01 00:14:58.0040   \n",
       "1           267  2019-07-01 00:00:05.1780  2019-07-01 00:04:32.4500   \n",
       "2          2201  2019-07-01 00:00:05.2130  2019-07-01 00:36:46.7490   \n",
       "3          1660  2019-07-01 00:00:08.6010  2019-07-01 00:27:48.8050   \n",
       "4           109  2019-07-01 00:00:12.1580  2019-07-01 00:02:01.5670   \n",
       "\n",
       "  start_station_id       start_station_name  start_station_latitude  \\\n",
       "0              493          W 45 St & 6 Ave               40.756800   \n",
       "1             3143          5 Ave & E 78 St               40.776321   \n",
       "2              317        E 6 St & Avenue B               40.724537   \n",
       "3              249  Harrison St & Hudson St               40.718710   \n",
       "4             3552      W 113 St & Broadway               40.805973   \n",
       "\n",
       "   start_station_longitude end_station_id             end_station_name  \\\n",
       "0               -73.982912            454              E 51 St & 1 Ave   \n",
       "1               -73.964274           3226  W 82 St & Central Park West   \n",
       "2               -73.981854           3469           India St & West St   \n",
       "3               -74.009001            369        Washington Pl & 6 Ave   \n",
       "4               -73.964928           3538     W 110 St & Amsterdam Ave   \n",
       "\n",
       "   end_station_latitude  end_station_longitude  bikeid    usertype  \\\n",
       "0             40.754557             -73.965930   18340  Subscriber   \n",
       "1             40.782750             -73.971370   21458    Customer   \n",
       "2             40.731814             -73.959950   39874  Subscriber   \n",
       "3             40.732241             -74.000264   38865  Subscriber   \n",
       "4             40.802692             -73.962950   30256  Subscriber   \n",
       "\n",
       "   birth_year  gender  \n",
       "0        1966       1  \n",
       "1        1996       1  \n",
       "2        1986       1  \n",
       "3        1988       1  \n",
       "4        1997       1  "
      ]
     },
     "execution_count": 10,
     "metadata": {},
     "output_type": "execute_result"
    }
   ],
   "source": [
    "bike.columns = bike.columns.str.replace(' ', '_') \n",
    "bike.head()"
   ]
  },
  {
   "cell_type": "code",
   "execution_count": 11,
   "metadata": {},
   "outputs": [],
   "source": [
    "#new dataset with just station id, lat/long, number of rides"
   ]
  },
  {
   "cell_type": "code",
   "execution_count": 12,
   "metadata": {
    "scrolled": true
   },
   "outputs": [
    {
     "name": "stderr",
     "output_type": "stream",
     "text": [
      "/anaconda3/lib/python3.7/site-packages/ipykernel_launcher.py:5: FutureWarning: Passing timedelta64-dtype data is deprecated, will raise a TypeError in a future version\n",
      "  \"\"\"\n"
     ]
    }
   ],
   "source": [
    "format = \"%Y-%m-%dT%H:%M:%S\"\n",
    "start_time = pd.to_datetime(bike[\"starttime\"], format=format)\n",
    "end_time = pd.to_datetime(bike[\"stoptime\"], format=format)\n",
    "\n",
    "duration = pd.DatetimeIndex(end_time - start_time)\n",
    "duration = pd.DataFrame(duration.hour*60 + duration.minute)"
   ]
  },
  {
   "cell_type": "code",
   "execution_count": 13,
   "metadata": {
    "scrolled": false
   },
   "outputs": [
    {
     "name": "stdout",
     "output_type": "stream",
     "text": [
      "                  0\n",
      "count  2.181064e+06\n",
      "mean   1.488386e+01\n",
      "std    2.660018e+01\n",
      "min    1.000000e+00\n",
      "25%    6.000000e+00\n",
      "50%    1.000000e+01\n",
      "75%    1.900000e+01\n",
      "max    1.436000e+03\n"
     ]
    }
   ],
   "source": [
    "print(duration.describe())"
   ]
  },
  {
   "cell_type": "code",
   "execution_count": 15,
   "metadata": {},
   "outputs": [],
   "source": [
    "bike['trip_duration']=bike['tripduration'].astype(int)\n"
   ]
  },
  {
   "cell_type": "code",
   "execution_count": 16,
   "metadata": {
    "scrolled": true
   },
   "outputs": [
    {
     "name": "stdout",
     "output_type": "stream",
     "text": [
      "count    2.181064e+06\n",
      "mean     1.035360e+03\n",
      "std      1.077968e+04\n",
      "min      6.100000e+01\n",
      "25%      3.850000e+02\n",
      "50%      6.580000e+02\n",
      "75%      1.155000e+03\n",
      "max      2.621244e+06\n",
      "Name: tripduration, dtype: float64\n"
     ]
    }
   ],
   "source": [
    "print(bike['tripduration'].describe())"
   ]
  },
  {
   "cell_type": "code",
   "execution_count": 17,
   "metadata": {
    "scrolled": true
   },
   "outputs": [
    {
     "name": "stdout",
     "output_type": "stream",
     "text": [
      "count    14356.000000\n",
      "mean       151.926999\n",
      "std         80.316472\n",
      "min          1.000000\n",
      "25%         99.000000\n",
      "50%        137.000000\n",
      "75%        187.000000\n",
      "max        446.000000\n",
      "Name: bikeid, dtype: float64\n"
     ]
    }
   ],
   "source": [
    "bikes = bike[\"bikeid\"].dropna()\n",
    "print(bikes.value_counts().describe())"
   ]
  },
  {
   "cell_type": "code",
   "execution_count": 18,
   "metadata": {
    "scrolled": true
   },
   "outputs": [
    {
     "data": {
      "text/plain": [
       "Text(0.5, 0, 'Count of occurrences each bike was used')"
      ]
     },
     "execution_count": 18,
     "metadata": {},
     "output_type": "execute_result"
    },
    {
     "data": {
      "image/png": "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\n",
      "text/plain": [
       "<Figure size 1152x576 with 1 Axes>"
      ]
     },
     "metadata": {
      "needs_background": "light"
     },
     "output_type": "display_data"
    }
   ],
   "source": [
    "plt.figure(figsize=(16, 8))\n",
    "bikes.value_counts().plot(kind=\"hist\", bins=35, range=(0,300))\n",
    "plt.xlabel(\"Count of occurrences each bike was used\")"
   ]
  },
  {
   "cell_type": "code",
   "execution_count": 19,
   "metadata": {},
   "outputs": [],
   "source": [
    "# There are 14356 bikes and each has been used on average 152 times. "
   ]
  },
  {
   "cell_type": "code",
   "execution_count": 20,
   "metadata": {
    "scrolled": false
   },
   "outputs": [
    {
     "name": "stdout",
     "output_type": "stream",
     "text": [
      "days = Subscriber, count = 1803055, percentage = 82%\n",
      "days = Customer, count = 378009, percentage = 17%\n"
     ]
    }
   ],
   "source": [
    "from collections import Counter\n",
    "for days, count in Counter(bike[\"usertype\"].fillna(\"nan\")).items():\n",
    "    print(\"days = {}, count = {}, percentage = {}%\".format(days, count, int(100*count/len(bike))))\n"
   ]
  },
  {
   "cell_type": "code",
   "execution_count": 21,
   "metadata": {},
   "outputs": [],
   "source": [
    "start_station = bike[\"start_station_id\"].dropna().value_counts()\n",
    "end_station = bike[\"end_station_id\"].dropna().value_counts()\n",
    "\n",
    "stations = pd.concat((start_station, end_station), axis=1, sort=False)\n",
    "stations = stations.reset_index(drop=True)"
   ]
  },
  {
   "cell_type": "code",
   "execution_count": 22,
   "metadata": {},
   "outputs": [
    {
     "name": "stdout",
     "output_type": "stream",
     "text": [
      "      start_station_id  end_station_id\n",
      "0              12451.0           12333\n",
      "1               9574.0            9782\n",
      "2               9440.0            9467\n",
      "3               9408.0           10012\n",
      "4               9329.0            9601\n",
      "5               9132.0            9273\n",
      "6               8711.0            8750\n",
      "7               8623.0            8326\n",
      "8               8543.0            8501\n",
      "9               8197.0            8216\n",
      "10              7948.0            8204\n",
      "11              7511.0            7544\n",
      "12              7421.0            6695\n",
      "13              7283.0            7312\n",
      "14              6883.0            6931\n",
      "15              6771.0            6907\n",
      "16              6726.0            6714\n",
      "17              6721.0            6503\n",
      "18              6720.0            6785\n",
      "19              6698.0            6630\n",
      "20              6662.0            6409\n",
      "21              6658.0            6533\n",
      "22              6625.0            6571\n",
      "23              6621.0            6591\n",
      "24              6593.0            6692\n",
      "25              6592.0            6230\n",
      "26              6571.0            6562\n",
      "27              6529.0            6501\n",
      "28              6465.0            6706\n",
      "29              6403.0            6358\n",
      "...                ...             ...\n",
      "1553              57.0              60\n",
      "1554              55.0              69\n",
      "1555              54.0              54\n",
      "1556              51.0              57\n",
      "1557              51.0              42\n",
      "1558              50.0              53\n",
      "1559              47.0              47\n",
      "1560              47.0              54\n",
      "1561              45.0              23\n",
      "1562              36.0              39\n",
      "1563              23.0              22\n",
      "1564              22.0              17\n",
      "1565              18.0              40\n",
      "1566              17.0              21\n",
      "1567              14.0              18\n",
      "1568               NaN              28\n",
      "1569               NaN               5\n",
      "1570               NaN               2\n",
      "1571               NaN               2\n",
      "1572               NaN               2\n",
      "1573               NaN               2\n",
      "1574               NaN               2\n",
      "1575               NaN               1\n",
      "1576               NaN               1\n",
      "1577               NaN               1\n",
      "1578               NaN               1\n",
      "1579               NaN               1\n",
      "1580               NaN               1\n",
      "1581               NaN               1\n",
      "1582               NaN               1\n",
      "\n",
      "[1583 rows x 2 columns]\n"
     ]
    }
   ],
   "source": [
    "print (stations)"
   ]
  },
  {
   "cell_type": "code",
   "execution_count": 23,
   "metadata": {
    "scrolled": true
   },
   "outputs": [
    {
     "name": "stdout",
     "output_type": "stream",
     "text": [
      "1583\n"
     ]
    }
   ],
   "source": [
    "print(len(stations))"
   ]
  },
  {
   "cell_type": "code",
   "execution_count": 24,
   "metadata": {
    "scrolled": true
   },
   "outputs": [
    {
     "name": "stdout",
     "output_type": "stream",
     "text": [
      "                  start_station_id  end_station_id\n",
      "start_station_id          1.000000        0.998435\n",
      "end_station_id            0.998435        1.000000\n"
     ]
    }
   ],
   "source": [
    "print(stations.corr())"
   ]
  },
  {
   "cell_type": "code",
   "execution_count": 25,
   "metadata": {
    "scrolled": true
   },
   "outputs": [
    {
     "data": {
      "text/plain": [
       "<matplotlib.legend.Legend at 0x117867978>"
      ]
     },
     "execution_count": 25,
     "metadata": {},
     "output_type": "execute_result"
    },
    {
     "data": {
      "image/png": "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\n",
      "text/plain": [
       "<Figure size 1080x576 with 1 Axes>"
      ]
     },
     "metadata": {
      "needs_background": "light"
     },
     "output_type": "display_data"
    }
   ],
   "source": [
    "stations.plot(figsize=(15, 8))\n",
    "plt.xlabel(\"Stations\")\n",
    "plt.ylabel(\"Count of each station\")\n",
    "plt.legend()"
   ]
  },
  {
   "cell_type": "code",
   "execution_count": 26,
   "metadata": {},
   "outputs": [],
   "source": [
    "from math import sin, cos, sqrt, atan2, radians\n",
    "\n",
    "lat1 = bike[\"start_station_latitude\"].apply(radians)\n",
    "lon1 = bike[\"start_station_longitude\"].apply(radians)\n",
    "lat2 = bike[\"end_station_latitude\"].apply(radians)\n",
    "lon2 = bike[\"end_station_longitude\"].apply(radians)\n",
    "\n",
    "dlon = lon2 - lon1\n",
    "dlat = lat2 - lat1\n",
    "\n",
    "R = 6373.0\n",
    "\n",
    "a = np.sin(dlat/2)**2 + np.cos(lat1) * np.cos(lat2) * np.sin(dlon/2)**2\n",
    "c = 2 * np.arctan2(np.sqrt(a), np.sqrt(1 - a))\n",
    "\n",
    "bike['distance'] = R * c"
   ]
  },
  {
   "cell_type": "code",
   "execution_count": 27,
   "metadata": {
    "scrolled": true
   },
   "outputs": [
    {
     "data": {
      "text/plain": [
       "count    2.181064e+06\n",
       "mean     1.819484e+00\n",
       "std      1.450128e+00\n",
       "min      0.000000e+00\n",
       "25%      8.332764e-01\n",
       "50%      1.403231e+00\n",
       "75%      2.373937e+00\n",
       "max      1.671231e+01\n",
       "Name: distance, dtype: float64"
      ]
     },
     "execution_count": 27,
     "metadata": {},
     "output_type": "execute_result"
    }
   ],
   "source": [
    "bike[\"distance\"].describe()"
   ]
  },
  {
   "cell_type": "code",
   "execution_count": 64,
   "metadata": {
    "scrolled": true
   },
   "outputs": [
    {
     "data": {
      "text/plain": [
       "Text(0, 0.5, 'Frequency')"
      ]
     },
     "execution_count": 64,
     "metadata": {},
     "output_type": "execute_result"
    },
    {
     "data": {
      "image/png": "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\n",
      "text/plain": [
       "<Figure size 1152x576 with 1 Axes>"
      ]
     },
     "metadata": {
      "needs_background": "light"
     },
     "output_type": "display_data"
    }
   ],
   "source": [
    "plt.figure(figsize=(16, 8))\n",
    "bike.distance.hist(range=(0,4), bins=50)\n",
    "plt.xlabel(\"km\")\n",
    "plt.ylabel('Frequency')"
   ]
  },
  {
   "cell_type": "code",
   "execution_count": 29,
   "metadata": {},
   "outputs": [],
   "source": [
    "# showing that average/ mean ride from the stations are slightly under 2km per ride. So most likely riding from one\n",
    "#station to another station. "
   ]
  },
  {
   "cell_type": "code",
   "execution_count": 31,
   "metadata": {},
   "outputs": [],
   "source": [
    "# find the distance from start station lat and long to the borough lat/long (where end station is) and then keep stations that are closest to that borough lat/long"
   ]
  },
  {
   "cell_type": "code",
   "execution_count": 32,
   "metadata": {},
   "outputs": [
    {
     "name": "stdout",
     "output_type": "stream",
     "text": [
      "start_station_id  start_station_latitude  start_station_longitude\n",
      "72                40.767272               -73.993929                 3607\n",
      "79                40.719116               -74.006667                 2082\n",
      "82                40.711174               -74.000165                 1214\n",
      "83                40.683826               -73.976323                 1623\n",
      "116               40.741776               -74.001497                 5761\n",
      "119               40.696089               -73.978034                  454\n",
      "120               40.686768               -73.959282                  916\n",
      "127               40.731724               -74.006744                 4880\n",
      "128               40.727103               -74.002971                 5565\n",
      "143               40.692395               -73.993379                 1978\n",
      "144               40.698399               -73.980689                  873\n",
      "146               40.716250               -74.009106                 2558\n",
      "150               40.720874               -73.980858                 2970\n",
      "151               40.722104               -73.997249                 6726\n",
      "157               40.690893               -73.996123                 1641\n",
      "161               40.729170               -73.998102                 4165\n",
      "164               40.753231               -73.970325                 2885\n",
      "167               40.748901               -73.976049                 3444\n",
      "168               40.739713               -73.994564                 6087\n",
      "173               40.760683               -73.984527                 5473\n",
      "174               40.738177               -73.977387                 2835\n",
      "195               40.709056               -74.010434                 3227\n",
      "212               40.743349               -74.006818                 4526\n",
      "216               40.700379               -73.995481                  759\n",
      "217               40.702772               -73.993836                 3117\n",
      "223               40.737815               -73.999947                 4030\n",
      "224               40.711464               -74.005524                 2239\n",
      "228               40.754601               -73.971879                 2422\n",
      "229               40.727434               -73.993790                 5883\n",
      "236               40.728419               -73.987140                 4542\n",
      "                                                                     ... \n",
      "NULL              40.842000               -73.884000                    1\n",
      "                                          -73.881000                    1\n",
      "                  40.845000               -73.902000                    1\n",
      "                  40.848000               -73.893000                    1\n",
      "                                          -73.887000                    1\n",
      "                  40.851000               -73.905000                    1\n",
      "                                          -73.902000                    3\n",
      "                                          -73.893000                    1\n",
      "                  40.854000               -73.911000                    1\n",
      "                                          -73.905000                    2\n",
      "                                          -73.902000                    1\n",
      "                                          -73.893000                    2\n",
      "                                          -73.890000                    4\n",
      "                                          -73.887000                    1\n",
      "                  40.857000               -73.902000                    1\n",
      "                                          -73.890000                    5\n",
      "                                          -73.887000                    1\n",
      "                                          -73.884000                    1\n",
      "                                          -73.881000                    1\n",
      "                  40.860000               -73.902000                    1\n",
      "                                          -73.899000                    2\n",
      "                                          -73.896000                    2\n",
      "                                          -73.893000                    1\n",
      "                                          -73.890000                    2\n",
      "                  40.863000               -73.896000                    3\n",
      "                                          -73.893000                    4\n",
      "                                          -73.890000                    2\n",
      "                  40.866000               -73.896000                    4\n",
      "                                          -73.893000                    2\n",
      "                                          -73.884000                    1\n",
      "Name: tripduration, Length: 1597, dtype: int64\n"
     ]
    }
   ],
   "source": [
    "df_bike = bike.groupby(['start_station_id', 'start_station_latitude','start_station_longitude']).agg('count')['tripduration']\n",
    "print (df_bike)"
   ]
  },
  {
   "cell_type": "code",
   "execution_count": 33,
   "metadata": {},
   "outputs": [],
   "source": [
    "lat1 = bike[\"start_station_latitude\"].apply(radians)\n",
    "lon1 = bike[\"start_station_longitude\"].apply(radians)\n",
    "lat2 = df[\"Latitude\"].apply(radians)\n",
    "lon2 = df[\"Longitude\"].apply(radians)\n",
    "\n",
    "dlon = lon2 - lon1\n",
    "dlat = lat2 - lat1\n",
    "\n",
    "R = 6373.0\n",
    "\n",
    "a = np.sin(dlat/2)**2 + np.cos(lat1) * np.cos(lat2) * np.sin(dlon/2)**2\n",
    "c = 2 * np.arctan2(np.sqrt(a), np.sqrt(1 - a))\n",
    "\n",
    "bike['borough_distance'] = R * c"
   ]
  },
  {
   "cell_type": "code",
   "execution_count": 34,
   "metadata": {
    "scrolled": false
   },
   "outputs": [
    {
     "data": {
      "text/plain": [
       "count    18052.000000\n",
       "mean        17.393047\n",
       "std          7.286242\n",
       "min          0.126213\n",
       "25%         12.391253\n",
       "50%         17.706913\n",
       "75%         22.313421\n",
       "max         43.270509\n",
       "Name: borough_distance, dtype: float64"
      ]
     },
     "execution_count": 34,
     "metadata": {},
     "output_type": "execute_result"
    }
   ],
   "source": [
    "bike[\"borough_distance\"].describe()"
   ]
  },
  {
   "cell_type": "code",
   "execution_count": 65,
   "metadata": {
    "scrolled": true
   },
   "outputs": [
    {
     "data": {
      "text/plain": [
       "Text(0, 0.5, 'Frequency')"
      ]
     },
     "execution_count": 65,
     "metadata": {},
     "output_type": "execute_result"
    },
    {
     "data": {
      "image/png": "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\n",
      "text/plain": [
       "<Figure size 1152x576 with 1 Axes>"
      ]
     },
     "metadata": {
      "needs_background": "light"
     },
     "output_type": "display_data"
    }
   ],
   "source": [
    "plt.figure(figsize=(16, 8))\n",
    "bike.borough_distance.hist(range=(0,40), bins=50)\n",
    "plt.xlabel(\"km\")\n",
    "plt.ylabel('Frequency')"
   ]
  },
  {
   "cell_type": "code",
   "execution_count": 61,
   "metadata": {
    "scrolled": false
   },
   "outputs": [
    {
     "name": "stdout",
     "output_type": "stream",
     "text": [
      "6557    0.002126\n",
      "4002    0.011357\n",
      "6552    0.014437\n",
      "6375    0.015252\n",
      "6675    0.020054\n",
      "7307    0.028579\n",
      "3705    0.029723\n",
      "6257    0.030105\n",
      "7544    0.031139\n",
      "6233    0.033112\n",
      "2369    0.033964\n",
      "3115    0.035182\n",
      "8727    0.036800\n",
      "6017    0.037457\n",
      "7829    0.037797\n",
      "7229    0.039860\n",
      "6165    0.046197\n",
      "6405    0.046417\n",
      "6335    0.048980\n",
      "3842    0.049497\n",
      "6536    0.049633\n",
      "6047    0.049910\n",
      "6444    0.051322\n",
      "473     0.054055\n",
      "4049    0.055205\n",
      "5388    0.057519\n",
      "6930    0.058477\n",
      "8277    0.060562\n",
      "6488    0.064312\n",
      "3317    0.064833\n",
      "          ...   \n",
      "5244    2.225169\n",
      "3874    2.231661\n",
      "3906    2.233145\n",
      "4012    2.235181\n",
      "3175    2.235425\n",
      "5177    2.236471\n",
      "6261    2.243227\n",
      "6352    2.246979\n",
      "8163    2.248485\n",
      "3112    2.249960\n",
      "6688    2.250469\n",
      "5615    2.251922\n",
      "6513    2.254106\n",
      "3782    2.254224\n",
      "6800    2.254367\n",
      "2747    2.255618\n",
      "5418    2.258548\n",
      "6798    2.259999\n",
      "7837    2.271754\n",
      "7283    2.273204\n",
      "7006    2.273362\n",
      "3694    2.274165\n",
      "7337    2.276032\n",
      "4113    2.276538\n",
      "4056    2.278190\n",
      "3111    2.278567\n",
      "2810    2.279333\n",
      "6232    2.283313\n",
      "6227    2.283324\n",
      "8387    2.285102\n",
      "Length: 750, dtype: float64\n"
     ]
    }
   ],
   "source": [
    "diff = bike[\"borough_distance\"] - bike[\"distance\"]\n",
    "diff = diff.apply(abs).nsmallest(750)\n",
    "print(diff)\n"
   ]
  },
  {
   "cell_type": "code",
   "execution_count": 62,
   "metadata": {
    "scrolled": true
   },
   "outputs": [
    {
     "data": {
      "text/plain": [
       "Text(0.5, 0, 'km')"
      ]
     },
     "execution_count": 62,
     "metadata": {},
     "output_type": "execute_result"
    },
    {
     "data": {
      "image/png": "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\n",
      "text/plain": [
       "<Figure size 1152x576 with 1 Axes>"
      ]
     },
     "metadata": {
      "needs_background": "light"
     },
     "output_type": "display_data"
    }
   ],
   "source": [
    "plt.figure(figsize=(16, 8))\n",
    "diff.hist(range=(0,5), bins=50)\n",
    "plt.xlabel(\"km\")\n",
    "plt.title('Pickup Locations')"
   ]
  },
  {
   "cell_type": "code",
   "execution_count": null,
   "metadata": {},
   "outputs": [],
   "source": [
    "#use time series model to predict by borough bike rental by hour per day usage- look online for resources on bike usage.\n",
    "#use sql to merge the bike and census data base, export the table from sql into a csv(in the admin section) and then reupload back into python"
   ]
  },
  {
   "cell_type": "code",
   "execution_count": 28,
   "metadata": {},
   "outputs": [
    {
     "data": {
      "image/png": "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\n",
      "text/plain": [
       "<Figure size 576x611.36 with 2 Axes>"
      ]
     },
     "metadata": {
      "needs_background": "light"
     },
     "output_type": "display_data"
    }
   ],
   "source": [
    "latmin = 40.48\n",
    "lonmin = -74.28\n",
    "latmax = 40.93\n",
    "lonmax = -73.65\n",
    "# ratio = np.cos(40.7 * np.pi/180) * np.abs(lonmax-lonmin) /np.abs(latmax-latmin)\n",
    "from matplotlib.colors import LogNorm\n",
    "fig = plt.figure(1, figsize=(8,ratio*8) )\n",
    "hist = plt.hist2d(bike.start_station_longitude,bike.start_station_latitude,bins=199,\n",
    "                  range=[[lonmin,lonmax],[latmin,latmax]],norm=LogNorm())\n",
    "plt.xlabel('Longitude [degrees]')\n",
    "plt.ylabel('Latitude [degrees]')\n",
    "plt.title('Pickup Locations')\n",
    "plt.colorbar(label='Number')\n",
    "plt.show()"
   ]
  },
  {
   "cell_type": "code",
   "execution_count": 29,
   "metadata": {},
   "outputs": [
    {
     "data": {
      "image/png": "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\n",
      "text/plain": [
       "<Figure size 576x611.36 with 2 Axes>"
      ]
     },
     "metadata": {
      "needs_background": "light"
     },
     "output_type": "display_data"
    }
   ],
   "source": [
    "latmin = 40.48\n",
    "lonmin = -74.28\n",
    "latmax = 40.93\n",
    "lonmax = -73.65\n",
    "# ratio = np.cos(40.7 * np.pi/180) * np.abs(lonmax-lonmin) /np.abs(latmax-latmin)\n",
    "from matplotlib.colors import LogNorm\n",
    "fig = plt.figure(1, figsize=(8,ratio*8) )\n",
    "hist = plt.hist2d(bike.end_station_longitude,bike.end_station_latitude,bins=199,\n",
    "                  range=[[lonmin,lonmax],[latmin,latmax]],norm=LogNorm())\n",
    "plt.xlabel('Longitude [degrees]')\n",
    "plt.ylabel('Latitude [degrees]')\n",
    "plt.title('Pickup Locations')\n",
    "plt.colorbar(label='Number')\n",
    "plt.show()"
   ]
  },
  {
   "cell_type": "code",
   "execution_count": null,
   "metadata": {},
   "outputs": [],
   "source": [
    "#for time series, use the plotted line charts with all 5 boroughs overlapped to show the difference in hours within day\n"
   ]
  },
  {
   "cell_type": "code",
   "execution_count": null,
   "metadata": {},
   "outputs": [],
   "source": []
  }
 ],
 "metadata": {
  xokbR4RL+ae+WlAwwbM6IZ683sFGCJph0jXBXwJeKxBMXdX3Z9hdgxpNrCOeu3WB/mceWO0UXPIa10kzZa0VV68BNgCmJNvF/lxEQH2grpzlHRKPg85DHhEUl89vNeTz/E04AeSniT1fPrkVd60n+OewKJ8m9MNwEmR7zioyXGipMeAR4CbI+LPjQq6G+rKL9L55ROAGZIWkc6ZT2xg3N3Rk8+wo+2tj/OtaWZmZiXnnrmZmVnJuTE3MzMrOTfmZmZmJefG3MzMrOTcmJuZmZWcG3NrGZJWFVz/VEkj8vMf1bH9cEmLu7n+m6qZoa3q9XPUwSxtzSJpgqR/SSrzeAJmpePG3KyLIuL4iFiSF7vdmNfpqYjYpcgdSOrfW3VFxPlAXx0LwaxluTG3liZpG0l3