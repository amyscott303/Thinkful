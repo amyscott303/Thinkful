{
 "cells": [
  {
   "cell_type": "code",
   "execution_count": 112,
   "metadata": {},
   "outputs": [],
   "source": [
    "import pandas as pd\n",
    "import numpy as np\n",
    "import matplotlib.pyplot as plt\n",
    "\n",
    "from sklearn.ensemble import RandomForestClassifier as rf\n",
    "from sklearn.model_selection import train_test_split\n",
    "%matplotlib inline"
   ]
  },
  {
   "cell_type": "code",
   "execution_count": 113,
   "metadata": {
    "scrolled": true
   },
   "outputs": [
    {
     "name": "stderr",
     "output_type": "stream",
     "text": [
      "/Users/amyscott/anaconda2/envs/nthinkfulpython/lib/python3.7/site-packages/IPython/core/interactiveshell.py:3020: DtypeWarning: Columns (0,19,55) have mixed types. Specify dtype option on import or set low_memory=False.\n",
      "  interactivity=interactivity, compiler=compiler, result=result)\n"
     ]
    }
   ],
   "source": [
    "data = pd.read_csv(\n",
    "    'https://www.dropbox.com/s/0so14yudedjmm5m/LoanStats3d.csv?dl=1',\n",
    "    skipinitialspace=True,\n",
    "    header=1\n",
    ")"
   ]
  },
  {
   "cell_type": "code",
   "execution_count": 114,
   "metadata": {},
   "outputs": [],
   "source": [
    "data['id'] = pd.to_numeric(data['id'], errors='coerce')\n",
    "data['int_rate'] = pd.to_numeric(data['int_rate'].str.strip('%'), errors='coerce')\n",
    "\n",
    "# Drop other columns with many unique variables\n",
    "data.drop(['url', 'emp_title', 'zip_code', 'earliest_cr_line', 'revol_util',\n",
    "           'sub_grade', 'addr_state', 'desc','funded_amnt','funded_amnt_inv','pct_tl_nvr_dlq','total_il_high_credit_limit',\n",
    "          'open_il_6m','open_il_12m','open_il_24m', 'mths_since_rcnt_il','total_bal_il', 'il_util', 'open_rv_12m', 'open_rv_24m', 'max_bal_bc',\n",
    "          'all_util', 'total_rev_hi_lim', 'inq_fi', 'total_cu_tl', 'inq_last_12m','acc_open_past_24mths', 'avg_cur_bal', 'bc_open_to_buy', 'bc_util',\n",
    "          'chargeoff_within_12_mths', 'delinq_amnt', 'mo_sin_old_il_acct','chargeoff_within_12_mths', 'delinq_amnt', 'mo_sin_old_il_acct',\n",
    "          'mo_sin_old_rev_tl_op', 'mo_sin_rcnt_rev_tl_op', 'mo_sin_rcnt_tl','mort_acc', 'mths_since_recent_bc', 'mths_since_recent_bc_dlq',\n",
    "          'num_accts_ever_120_pd', 'num_actv_bc_tl', 'num_actv_rev_tl','num_bc_sats', 'num_bc_tl', 'num_il_tl', 'num_op_rev_tl',\n",
    "          'num_rev_accts', 'num_rev_tl_bal_gt_0', 'num_sats', 'num_tl_120dpd_2m','num_tl_30dpd', 'num_tl_90g_dpd_24m', 'num_tl_op_past_12m',\n",
    "          'percent_bc_gt_75', 'pub_rec_bankruptcies', 'tax_liens','tot_hi_cred_lim', 'total_bal_ex_mort', 'total_bc_limit',\n",
    "          'total_rec_int', 'total_rec_late_fee', 'recoveries','collection_recovery_fee', 'last_pymnt_d', 'last_pymnt_amnt',\n",
    "          'next_pymnt_d', 'last_credit_pull_d', 'collections_12_mths_ex_med','mths_since_last_major_derog', 'policy_code', 'application_type',\n",
    "          'annual_inc_joint', 'dti_joint', 'verification_status_joint','acc_now_delinq', 'tot_coll_amt', 'tot_cur_bal',\n",
    "          'open_acc_6m', 'mths_since_recent_inq','mths_since_recent_revol_delinq','total_rec_prncp','total_pymnt_inv','out_prncp_inv','initial_list_status',\n",
    "          'pub_rec','delinq_2yrs','dti','purpose','inq_last_6mths','mths_since_last_record','title','out_prncp'], 1, inplace=True)\n",
    "\n",
    "\n"
   ]
  },
  {
   "cell_type": "code",
   "execution_count": 115,
   "metadata": {},
   "outputs": [
    {
     "data": {
      "text/plain": [
       "Index(['id', 'member_id', 'loan_amnt', 'term', 'int_rate', 'installment',\n",
       "       'grade', 'emp_length', 'home_ownership', 'annual_inc',\n",
       "       'verification_status', 'issue_d', 'loan_status', 'pymnt_plan',\n",
       "       'mths_since_last_delinq', 'open_acc', 'revol_bal', 'total_acc',\n",
       "       'total_pymnt'],\n",
       "      dtype='object')"
      ]
     },
     "execution_count": 115,
     "metadata": {},
     "output_type": "execute_result"
    }
   ],
   "source": [
    "data.columns"
   ]
  },
  {
   "cell_type": "code",
   "execution_count": 116,
   "metadata": {},
   "outputs": [],
   "source": [
    "data = data[:-2]"
   ]
  },
  {
   "cell_type": "code",
   "execution_count": 117,
   "metadata": {},
   "outputs": [
    {
     "data": {
      "text/html": [
       "<div>\n",
       "<style scoped>\n",
       "    .dataframe tbody tr th:only-of-type {\n",
       "        vertical-align: middle;\n",
       "    }\n",
       "\n",
       "    .dataframe tbody tr th {\n",
       "        vertical-align: top;\n",
       "    }\n",
       "\n",
       "    .dataframe thead th {\n",
       "        text-align: right;\n",
       "    }\n",
       "</style>\n",
       "<table border=\"1\" class=\"dataframe\">\n",
       "  <thead>\n",
       "    <tr style=\"text-align: right;\">\n",
       "      <th></th>\n",
       "      <th>id</th>\n",
       "      <th>member_id</th>\n",
       "      <th>loan_amnt</th>\n",
       "      <th>term</th>\n",
       "      <th>int_rate</th>\n",
       "      <th>installment</th>\n",
       "      <th>grade</th>\n",
       "      <th>emp_length</th>\n",
       "      <th>home_ownership</th>\n",
       "      <th>annual_inc</th>\n",
       "      <th>verification_status</th>\n",
       "      <th>issue_d</th>\n",
       "      <th>loan_status</th>\n",
       "      <th>pymnt_plan</th>\n",
       "      <th>mths_since_last_delinq</th>\n",
       "      <th>open_acc</th>\n",
       "      <th>revol_bal</th>\n",
       "      <th>total_acc</th>\n",
       "      <th>total_pymnt</th>\n",
       "    </tr>\n",
       "  </thead>\n",
       "  <tbody>\n",
       "    <tr>\n",
       "      <th>0</th>\n",
       "      <td>68009401.0</td>\n",
       "      <td>72868139.0</td>\n",
       "      <td>16000.0</td>\n",
       "      <td>60 months</td>\n",
       "      <td>14.85</td>\n",
       "      <td>379.39</td>\n",
       "      <td>C</td>\n",
       "      <td>10+ years</td>\n",
       "      <td>MORTGAGE</td>\n",
       "      <td>48000.0</td>\n",
       "      <td>Not Verified</td>\n",
       "      <td>Dec-2015</td>\n",
       "      <td>Current</td>\n",
       "      <td>n</td>\n",
       "      <td>33.0</td>\n",
       "      <td>11.0</td>\n",
       "      <td>19108.0</td>\n",
       "      <td>19.0</td>\n",
       "      <td>4519.68</td>\n",
       "    </tr>\n",
       "    <tr>\n",
       "      <th>1</th>\n",
       "      <td>68354783.0</td>\n",
       "      <td>73244544.0</td>\n",
       "      <td>9600.0</td>\n",
       "      <td>36 months</td>\n",
       "      <td>7.49</td>\n",
       "      <td>298.58</td>\n",
       "      <td>A</td>\n",
       "      <td>8 years</td>\n",
       "      <td>MORTGAGE</td>\n",
       "      <td>60000.0</td>\n",
       "      <td>Not Verified</td>\n",
       "      <td>Dec-2015</td>\n",
       "      <td>Current</td>\n",
       "      <td>n</td>\n",
       "      <td>NaN</td>\n",
       "      <td>7.0</td>\n",
       "      <td>7722.0</td>\n",
       "      <td>9.0</td>\n",
       "      <td>3572.97</td>\n",
       "    </tr>\n",
       "    <tr>\n",
       "      <th>2</th>\n",
       "      <td>68466916.0</td>\n",
       "      <td>73356753.0</td>\n",
       "      <td>25000.0</td>\n",
       "      <td>36 months</td>\n",
       "      <td>7.49</td>\n",
       "      <td>777.55</td>\n",
       "      <td>A</td>\n",
       "      <td>10+ years</td>\n",
       "      <td>MORTGAGE</td>\n",
       "      <td>109000.0</td>\n",
       "      <td>Not Verified</td>\n",
       "      <td>Dec-2015</td>\n",
       "      <td>Fully Paid</td>\n",
       "      <td>n</td>\n",
       "      <td>NaN</td>\n",
       "      <td>9.0</td>\n",
       "      <td>20862.0</td>\n",
       "      <td>19.0</td>\n",
       "      <td>26224.23</td>\n",
       "    </tr>\n",
       "    <tr>\n",
       "      <th>3</th>\n",
       "      <td>68466961.0</td>\n",
       "      <td>73356799.0</td>\n",
       "      <td>28000.0</td>\n",
       "      <td>36 months</td>\n",
       "      <td>6.49</td>\n",
       "      <td>858.05</td>\n",
       "      <td>A</td>\n",
       "      <td>10+ years</td>\n",
       "      <td>MORTGAGE</td>\n",
       "      <td>92000.0</td>\n",
       "      <td>Not Verified</td>\n",
       "      <td>Dec-2015</td>\n",
       "      <td>Current</td>\n",
       "      <td>n</td>\n",
       "      <td>42.0</td>\n",
       "      <td>16.0</td>\n",
       "      <td>51507.0</td>\n",
       "      <td>24.0</td>\n",
       "      <td>10271.36</td>\n",
       "    </tr>\n",
       "    <tr>\n",
       "      <th>4</th>\n",
       "      <td>68495092.0</td>\n",
       "      <td>73384866.0</td>\n",
       "      <td>8650.0</td>\n",
       "      <td>36 months</td>\n",
       "      <td>19.89</td>\n",
       "      <td>320.99</td>\n",
       "      <td>E</td>\n",
       "      <td>8 years</td>\n",
       "      <td>RENT</td>\n",
       "      <td>55000.0</td>\n",
       "      <td>Verified</td>\n",
       "      <td>Dec-2015</td>\n",
       "      <td>Fully Paid</td>\n",
       "      <td>n</td>\n",
       "      <td>NaN</td>\n",
       "      <td>18.0</td>\n",
       "      <td>9568.0</td>\n",
       "      <td>19.0</td>\n",
       "      <td>9190.49</td>\n",
       "    </tr>\n",
       "  </tbody>\n",
       "</table>\n",
       "</div>"
      ],
      "text/plain": [
       "           id   member_id  loan_amnt        term  int_rate  installment grade  \\\n",
       "0  68009401.0  72868139.0    16000.0   60 months     14.85       379.39     C   \n",
       "1  68354783.0  73244544.0     9600.0   36 months      7.49       298.58     A   \n",
       "2  68466916.0  73356753.0    25000.0   36 months      7.49       777.55     A   \n",
       "3  68466961.0  73356799.0    28000.0   36 months      6.49       858.05     A   \n",
       "4  68495092.0  73384866.0     8650.0   36 months     19.89       320.99     E   \n",
       "\n",
       "  emp_length home_ownership  annual_inc verification_status   issue_d  \\\n",
       "0  10+ years       MORTGAGE     48000.0        Not Verified  Dec-2015   \n",
       "1    8 years       MORTGAGE     60000.0        Not Verified  Dec-2015   \n",
       "2  10+ years       MORTGAGE    109000.0        Not Verified  Dec-2015   \n",
       "3  10+ years       MORTGAGE     92000.0        Not Verified  Dec-2015   \n",
       "4    8 years           RENT     55000.0            Verified  Dec-2015   \n",
       "\n",
       "  loan_status pymnt_plan  mths_since_last_delinq  open_acc  revol_bal  \\\n",
       "0     Current          n                    33.0      11.0    19108.0   \n",
       "1     Current          n                     NaN       7.0     7722.0   \n",
       "2  Fully Paid          n                     NaN       9.0    20862.0   \n",
       "3     Current          n                    42.0      16.0    51507.0   \n",
       "4  Fully Paid          n                     NaN      18.0     9568.0   \n",
       "\n",
       "   total_acc  total_pymnt  \n",
       "0       19.0      4519.68  \n",
       "1        9.0      3572.97  \n",
       "2       19.0     26224.23  \n",
       "3       24.0     10271.36  \n",
       "4       19.0      9190.49  "
      ]
     },
     "execution_count": 117,
     "metadata": {},
     "output_type": "execute_result"
    }
   ],
   "source": [
    "pd.get_dummies(data)\n",
    "data[0:5]"
   ]
  },
  {
   "cell_type": "code",
   "execution_count": 118,
   "metadata": {},
   "outputs": [
    {
     "name": "stderr",
     "output_type": "stream",
     "text": [
      "/Users/amyscott/anaconda2/envs/nthinkfulpython/lib/python3.7/site-packages/sklearn/ensemble/forest.py:246: FutureWarning: The default value of n_estimators will change from 10 in version 0.20 to 100 in 0.22.\n",
      "  \"10 in version 0.20 to 100 in 0.22.\", FutureWarning)\n",
      "/Users/amyscott/anaconda2/envs/nthinkfulpython/lib/python3.7/site-packages/sklearn/ensemble/forest.py:246: FutureWarning: The default value of n_estimators will change from 10 in version 0.20 to 100 in 0.22.\n",
      "  \"10 in version 0.20 to 100 in 0.22.\", FutureWarning)\n",
      "/Users/amyscott/anaconda2/envs/nthinkfulpython/lib/python3.7/site-packages/sklearn/ensemble/forest.py:246: FutureWarning: The default value of n_estimators will change from 10 in version 0.20 to 100 in 0.22.\n",
      "  \"10 in version 0.20 to 100 in 0.22.\", FutureWarning)\n",
      "/Users/amyscott/anaconda2/envs/nthinkfulpython/lib/python3.7/site-packages/sklearn/ensemble/forest.py:246: FutureWarning: The default value of n_estimators will change from 10 in version 0.20 to 100 in 0.22.\n",
      "  \"10 in version 0.20 to 100 in 0.22.\", FutureWarning)\n",
      "/Users/amyscott/anaconda2/envs/nthinkfulpython/lib/python3.7/site-packages/sklearn/ensemble/forest.py:246: FutureWarning: The default value of n_estimators will change from 10 in version 0.20 to 100 in 0.22.\n",
      "  \"10 in version 0.20 to 100 in 0.22.\", FutureWarning)\n",
      "/Users/amyscott/anaconda2/envs/nthinkfulpython/lib/python3.7/site-packages/sklearn/ensemble/forest.py:246: FutureWarning: The default value of n_estimators will change from 10 in version 0.20 to 100 in 0.22.\n",
      "  \"10 in version 0.20 to 100 in 0.22.\", FutureWarning)\n",
      "/Users/amyscott/anaconda2/envs/nthinkfulpython/lib/python3.7/site-packages/sklearn/ensemble/forest.py:246: FutureWarning: The default value of n_estimators will change from 10 in version 0.20 to 100 in 0.22.\n",
      "  \"10 in version 0.20 to 100 in 0.22.\", FutureWarning)\n",
      "/Users/amyscott/anaconda2/envs/nthinkfulpython/lib/python3.7/site-packages/sklearn/ensemble/forest.py:246: FutureWarning: The default value of n_estimators will change from 10 in version 0.20 to 100 in 0.22.\n",
      "  \"10 in version 0.20 to 100 in 0.22.\", FutureWarning)\n",
      "/Users/amyscott/anaconda2/envs/nthinkfulpython/lib/python3.7/site-packages/sklearn/ensemble/forest.py:246: FutureWarning: The default value of n_estimators will change from 10 in version 0.20 to 100 in 0.22.\n",
      "  \"10 in version 0.20 to 100 in 0.22.\", FutureWarning)\n",
      "/Users/amyscott/anaconda2/envs/nthinkfulpython/lib/python3.7/site-packages/sklearn/ensemble/forest.py:246: FutureWarning: The default value of n_estimators will change from 10 in version 0.20 to 100 in 0.22.\n",
      "  \"10 in version 0.20 to 100 in 0.22.\", FutureWarning)\n"
     ]
    },
    {
     "data": {
      "text/plain": [
       "array([0.6983686 , 0.39300895, 0.37128066, 0.55527059, 0.32310615,\n",
       "       0.39061981, 0.27008478, 0.34904652, 0.29239794, 0.37317722])"
      ]
     },
     "execution_count": 118,
     "metadata": {},
     "output_type": "execute_result"
    }
   ],
   "source": [
    "from sklearn import ensemble\n",
    "from sklearn.model_selection import cross_val_score\n",
    "\n",
    "rfc = ensemble.RandomForestClassifier()\n",
    "X = data.drop('loan_status', 1)\n",
    "Y = data['loan_status']\n",
    "X = pd.get_dummies(X)\n",
    "X = X.dropna(axis=1)\n",
    "\n",
    "cross_val_score(rfc, X, Y, cv=10)"
   ]
  },
  {
   "cell_type": "code",
   "execution_count": 119,
   "metadata": {},
   "outputs": [
    {
     "name": "stderr",
     "output_type": "stream",
     "text": [
      "/Users/amyscott/anaconda2/envs/nthinkfulpython/lib/python3.7/site-packages/sklearn/ensemble/forest.py:246: FutureWarning: The default value of n_estimators will change from 10 in version 0.20 to 100 in 0.22.\n",
      "  \"10 in version 0.20 to 100 in 0.22.\", FutureWarning)\n"
     ]
    },
    {
     "data": {
      "text/plain": [
       "0.909692801641431"
      ]
     },
     "execution_count": 119,
     "metadata": {},
     "output_type": "execute_result"
    }
   ],
   "source": [
    "\n",
    "from sklearn.ensemble import RandomForestClassifier\n",
    "from sklearn.model_selection import train_test_split\n",
    "\n",
    "rf = RandomForestClassifier() \n",
    "(X_train, X_test, Y_train, Y_test)=train_test_split(X,Y,test_size=0.25)\n",
    "\n",
    "rf.fit(X_train, Y_train) \n",
    "\n",
    "rf.score(X_test, Y_test)"
   ]
  },
  {
   "cell_type": "code",
   "execution_count": 110,
   "metadata": {},
   "outputs": [],
   "source": [
    "serio = pd.Series(data=rf.feature_importances_, index=X_train.columns)\n",
    "serio_sorted = serio.sort_values(ascending=False)"
   ]
  },
  {
   "cell_type": "code",
   "execution_count": 111,
   "metadata": {},
   "outputs": [
    {
     "data": {
      "text/plain": [
       "id                                               0.023253\n",
       "member_id                                        0.026112\n",
       "loan_amnt                                        0.045293\n",
       "int_rate                                         0.016569\n",
       "installment                                      0.048218\n",
       "annual_inc                                       0.019484\n",
       "inq_last_6mths                                   0.006078\n",
       "open_acc                                         0.013895\n",
       "revol_bal                                        0.022714\n",
       "total_acc                                        0.016594\n",
       "out_prncp                                        0.458813\n",
       "total_pymnt                                      0.226920\n",
       "term_ 36 months                                  0.002331\n",
       "term_ 60 months                                  0.004836\n",
       "grade_A                                          0.002097\n",
       "grade_B                                          0.001537\n",
       "grade_C                                          0.001806\n",
       "grade_D                                          0.001531\n",
       "grade_E                                          0.001973\n",
       "grade_F                                          0.001734\n",
       "grade_G                                          0.000486\n",
       "emp_length_1 year                                0.001668\n",
       "emp_length_10+ years                             0.002761\n",
       "emp_length_2 years                               0.001971\n",
       "emp_length_3 years                               0.001698\n",
       "emp_length_4 years                               0.001461\n",
       "emp_length_5 years                               0.001578\n",
       "emp_length_6 years                               0.001165\n",
       "emp_length_7 years                               0.001312\n",
       "emp_length_8 years                               0.001392\n",
       "                                                   ...   \n",
       "issue_d_Oct-2015                                 0.001167\n",
       "issue_d_Sep-2015                                 0.000915\n",
       "pymnt_plan_n                                     0.000000\n",
       "title_Business                                   0.000552\n",
       "title_Car financing                              0.000409\n",
       "title_Credit Card/Auto Repair                    0.000000\n",
       "title_Credit card refinancing                    0.002196\n",
       "title_Debt consolidation                         0.002616\n",
       "title_DebtC                                      0.000000\n",
       "title_Green loan                                 0.000066\n",
       "title_Home buying                                0.000258\n",
       "title_Home improvement                           0.001289\n",
       "title_Learning and training                      0.000000\n",
       "title_Major purchase                             0.000778\n",
       "title_Medical expenses                           0.000508\n",
       "title_Moving and relocation                      0.000411\n",
       "title_New Baby and New House (CC Consolidate)    0.000000\n",
       "title_Other                                      0.001278\n",
       "title_Pay off Lowes Card                         0.000000\n",
       "title_Paying off higher interest cards & auto    0.000000\n",
       "title_Prescription Drug and Medical Costs        0.000002\n",
       "title_SAVE                                       0.000000\n",
       "title_Simple Loan Until Contract Is Completed    0.000000\n",
       "title_Student Loan                               0.000000\n",
       "title_Trying to come back to reality!            0.000000\n",
       "title_Vacation                                   0.000411\n",
       "title_considerate                                0.000000\n",
       "title_new day                                    0.000000\n",
       "title_new kitchen for momma!                     0.000000\n",
       "title_odymeds                                    0.000000\n",
       "Length: 79, dtype: float64"
      ]
     },
     "metadata": {},
     "output_type": "display_data"
    }
   ],
   "source": [
    "display(serio)"
   ]
  },
  {
   "cell_type": "code",
   "execution_count": null,
   "metadata": {},
   "outputs": [],
   "source": []
  }
 ],
 "metadata": {
  "kernelspec": {
   "display_name": "Python 3",
   "language": "python",
   "name": "python3"
  },
  "language_info": {
   "codemirror_mode": {
    "name": "ipython",
    "version": 3
   },
   "file_extension": ".py",
   "mimetype": "text/x-python",
   "name": "python",
   "nbconvert_exporter": "python",
   "pygments_lexer": "ipython3",
   "version": "3.7.2"
  }
 },
 "nbformat": 4,
 "nbformat_minor": 2
}
