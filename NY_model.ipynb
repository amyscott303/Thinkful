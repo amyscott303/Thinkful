{
 "cells": [
  {
   "cell_type": "code",
   "execution_count": 1,
   "metadata": {},
   "outputs": [],
   "source": [
    "import numpy as np\n",
    "import pandas as pd\n",
    "import scipy\n",
    "from datetime import datetime\n",
    "import datetime as dt\n",
    "import matplotlib.pyplot as plt\n",
    "import seaborn as sns\n",
    "import scipy.stats as stats\n",
    "from sklearn.linear_model import LinearRegression\n",
    "import statsmodels.formula.api as smf\n",
    "from sklearn.preprocessing import Binarizer\n",
    "from sklearn.metrics import f1_score, mean_squared_error\n",
    "from sklearn.model_selection import train_test_split\n",
    "from statsmodels.sandbox.regression.predstd import wls_prediction_std\n",
    "from sklearn import datasets, linear_model\n",
    "\n",
    "from sklearn.model_selection import train_test_split\n",
    "\n",
    "\n",
    "%matplotlib inline"
   ]
  },
  {
   "cell_type": "code",
   "execution_count": 2,
   "metadata": {
    "scrolled": false
   },
   "outputs": [
    {
     "data": {
      "text/html": [
       "<div>\n",
       "<style scoped>\n",
       "    .dataframe tbody tr th:only-of-type {\n",
       "        vertical-align: middle;\n",
       "    }\n",
       "\n",
       "    .dataframe tbody tr th {\n",
       "        vertical-align: top;\n",
       "    }\n",
       "\n",
       "    .dataframe thead th {\n",
       "        text-align: right;\n",
       "    }\n",
       "</style>\n",
       "<table border=\"1\" class=\"dataframe\">\n",
       "  <thead>\n",
       "    <tr style=\"text-align: right;\">\n",
       "      <th></th>\n",
       "      <th>Unnamed: 0</th>\n",
       "      <th>start_station_id</th>\n",
       "      <th>start_station_latitude</th>\n",
       "      <th>start_station_longitude</th>\n",
       "      <th>tripduration</th>\n",
       "      <th>tmp</th>\n",
       "      <th>CensusTract</th>\n",
       "      <th>County_x</th>\n",
       "      <th>Borough</th>\n",
       "      <th>TotalPop</th>\n",
       "      <th>...</th>\n",
       "      <th>FamilyWork</th>\n",
       "      <th>Unemployment</th>\n",
       "      <th>Latitude</th>\n",
       "      <th>Longitude</th>\n",
       "      <th>BlockCode</th>\n",
       "      <th>County_y</th>\n",
       "      <th>State</th>\n",
       "      <th>BlockCode_11</th>\n",
       "      <th>borough_distance</th>\n",
       "      <th>distance_rank</th>\n",
       "    </tr>\n",
       "  </thead>\n",
       "  <tbody>\n",
       "    <tr>\n",
       "      <th>0</th>\n",
       "      <td>6521</td>\n",
       "      <td>72.0</td>\n",
       "      <td>40.767272</td>\n",
       "      <td>-73.993929</td>\n",
       "      <td>3607</td>\n",
       "      <td>tmp</td>\n",
       "      <td>36061013500</td>\n",
       "      <td>New York</td>\n",
       "      <td>Manhattan</td>\n",
       "      <td>6384</td>\n",
       "      <td>...</td>\n",
       "      <td>0.0</td>\n",
       "      <td>5.7</td>\n",
       "      <td>40.767186</td>\n",
       "      <td>-73.995075</td>\n",
       "      <td>360610135002005</td>\n",
       "      <td>New York</td>\n",
       "      <td>NY</td>\n",
       "      <td>36061013500</td>\n",
       "      <td>0.097058</td>\n",
       "      <td>1.0</td>\n",
       "    </tr>\n",
       "    <tr>\n",
       "      <th>2</th>\n",
       "      <td>42233</td>\n",
       "      <td>82.0</td>\n",
       "      <td>40.711174</td>\n",
       "      <td>-74.000165</td>\n",
       "      <td>1214</td>\n",
       "      <td>tmp</td>\n",
       "      <td>36061002900</td>\n",
       "      <td>New York</td>\n",
       "      <td>Manhattan</td>\n",
       "      <td>6050</td>\n",
       "      <td>...</td>\n",
       "      <td>0.0</td>\n",
       "      <td>3.3</td>\n",
       "      <td>40.710653</td>\n",
       "      <td>-74.001407</td>\n",
       "      <td>360610029004022</td>\n",
       "      <td>New York</td>\n",
       "      <td>NY</td>\n",
       "      <td>36061002900</td>\n",
       "      <td>0.119646</td>\n",
       "      <td>1.0</td>\n",
       "    </tr>\n",
       "    <tr>\n",
       "      <th>3</th>\n",
       "      <td>56934</td>\n",
       "      <td>83.0</td>\n",
       "      <td>40.683826</td>\n",
       "      <td>-73.976323</td>\n",
       "      <td>1623</td>\n",
       "      <td>tmp</td>\n",
       "      <td>36047012901</td>\n",
       "      <td>Kings</td>\n",
       "      <td>Brooklyn</td>\n",
       "      <td>2577</td>\n",
       "      <td>...</td>\n",
       "      <td>0.0</td>\n",
       "      <td>5.7</td>\n",
       "      <td>40.683518</td>\n",
       "      <td>-73.976080</td>\n",
       "      <td>360470129011002</td>\n",
       "      <td>Kings</td>\n",
       "      <td>NY</td>\n",
       "      <td>36047012901</td>\n",
       "      <td>0.039960</td>\n",
       "      <td>1.0</td>\n",
       "    </tr>\n",
       "    <tr>\n",
       "      <th>4</th>\n",
       "      <td>78536</td>\n",
       "      <td>116.0</td>\n",
       "      <td>40.741776</td>\n",
       "      <td>-74.001497</td>\n",
       "      <td>5761</td>\n",
       "      <td>tmp</td>\n",
       "      <td>36061008300</td>\n",
       "      <td>New York</td>\n",
       "      <td>Manhattan</td>\n",
       "      <td>3929</td>\n",
       "      <td>...</td>\n",
       "      <td>0.0</td>\n",
       "      <td>11.3</td>\n",
       "      <td>40.742312</td>\n",
       "      <td>-74.001407</td>\n",
       "      <td>360610083001000</td>\n",
       "      <td>New York</td>\n",
       "      <td>NY</td>\n",
       "      <td>36061008300</td>\n",
       "      <td>0.060052</td>\n",
       "      <td>1.0</td>\n",
       "    </tr>\n",
       "    <tr>\n",
       "      <th>5</th>\n",
       "      <td>93334</td>\n",
       "      <td>119.0</td>\n",
       "      <td>40.696089</td>\n",
       "      <td>-73.978034</td>\n",
       "      <td>454</td>\n",
       "      <td>tmp</td>\n",
       "      <td>36047021100</td>\n",
       "      <td>Kings</td>\n",
       "      <td>Brooklyn</td>\n",
       "      <td>1362</td>\n",
       "      <td>...</td>\n",
       "      <td>0.0</td>\n",
       "      <td>9.2</td>\n",
       "      <td>40.697085</td>\n",
       "      <td>-73.979246</td>\n",
       "      <td>360470211001001</td>\n",
       "      <td>Kings</td>\n",
       "      <td>NY</td>\n",
       "      <td>36047021100</td>\n",
       "      <td>0.150738</td>\n",
       "      <td>1.0</td>\n",
       "    </tr>\n",
       "  </tbody>\n",
       "</table>\n",
       "<p>5 rows × 50 columns</p>\n",
       "</div>"
      ],
      "text/plain": [
       "   Unnamed: 0  start_station_id  start_station_latitude  \\\n",
       "0        6521              72.0               40.767272   \n",
       "2       42233              82.0               40.711174   \n",
       "3       56934              83.0               40.683826   \n",
       "4       78536             116.0               40.741776   \n",
       "5       93334             119.0               40.696089   \n",
       "\n",
       "   start_station_longitude  tripduration  tmp  CensusTract  County_x  \\\n",
       "0               -73.993929          3607  tmp  36061013500  New York   \n",
       "2               -74.000165          1214  tmp  36061002900  New York   \n",
       "3               -73.976323          1623  tmp  36047012901     Kings   \n",
       "4               -74.001497          5761  tmp  36061008300  New York   \n",
       "5               -73.978034           454  tmp  36047021100     Kings   \n",
       "\n",
       "     Borough  TotalPop  ...  FamilyWork  Unemployment   Latitude  Longitude  \\\n",
       "0  Manhattan      6384  ...         0.0           5.7  40.767186 -73.995075   \n",
       "2  Manhattan      6050  ...         0.0           3.3  40.710653 -74.001407   \n",
       "3   Brooklyn      2577  ...         0.0           5.7  40.683518 -73.976080   \n",
       "4  Manhattan      3929  ...         0.0          11.3  40.742312 -74.001407   \n",
       "5   Brooklyn      1362  ...         0.0           9.2  40.697085 -73.979246   \n",
       "\n",
       "         BlockCode  County_y  State  BlockCode_11  borough_distance  \\\n",
       "0  360610135002005  New York     NY   36061013500          0.097058   \n",
       "2  360610029004022  New York     NY   36061002900          0.119646   \n",
       "3  360470129011002     Kings     NY   36047012901          0.039960   \n",
       "4  360610083001000  New York     NY   36061008300          0.060052   \n",
       "5  360470211001001     Kings     NY   36047021100          0.150738   \n",
       "\n",
       "   distance_rank  \n",
       "0            1.0  \n",
       "2            1.0  \n",
       "3            1.0  \n",
       "4            1.0  \n",
       "5            1.0  \n",
       "\n",
       "[5 rows x 50 columns]"
      ]
     },
     "execution_count": 2,
     "metadata": {},
     "output_type": "execute_result"
    }
   ],
   "source": [
    "df= pd.read_csv('NY_bike_close.csv').dropna(axis=0)\n",
    "df.head()"
   ]
  },
  {
   "cell_type": "code",
   "execution_count": 3,
   "metadata": {},
   "outputs": [
    {
     "data": {
      "text/plain": [
       "Unnamed: 0                   int64\n",
       "start_station_id           float64\n",
       "start_station_latitude     float64\n",
       "start_station_longitude    float64\n",
       "tripduration                 int64\n",
       "tmp                         object\n",
       "CensusTract                  int64\n",
       "County_x                    object\n",
       "Borough                     object\n",
       "TotalPop                     int64\n",
       "Men                          int64\n",
       "Women                        int64\n",
       "Hispanic                   float64\n",
       "White                      float64\n",
       "Black                      float64\n",
       "Native                     float64\n",
       "Asian                      float64\n",
       "Citizen                      int64\n",
       "Income                     float64\n",
       "IncomeErr                  float64\n",
       "IncomePerCap               float64\n",
       "IncomePerCapErr            float64\n",
       "Poverty                    float64\n",
       "ChildPoverty               float64\n",
       "Professional               float64\n",
       "Service                    float64\n",
       "Office                     float64\n",
       "Construction               float64\n",
       "Production                 float64\n",
       "Drive                      float64\n",
       "Carpool                    float64\n",
       "Transit                    float64\n",
       "Walk                       float64\n",
       "OtherTransp                float64\n",
       "WorkAtHome                 float64\n",
       "MeanCommute                float64\n",
       "Employed                     int64\n",
       "PrivateWork                float64\n",
       "PublicWork                 float64\n",
       "SelfEmployed               float64\n",
       "FamilyWork                 float64\n",
       "Unemployment               float64\n",
       "Latitude                   float64\n",
       "Longitude                  float64\n",
       "BlockCode                    int64\n",
       "County_y                    object\n",
       "State                       object\n",
       "BlockCode_11                 int64\n",
       "borough_distance           float64\n",
       "distance_rank              float64\n",
       "dtype: object"
      ]
     },
     "execution_count": 3,
     "metadata": {},
     "output_type": "execute_result"
    }
   ],
   "source": [
    "df.dtypes"
   ]
  },
  {
   "cell_type": "code",
   "execution_count": 4,
   "metadata": {},
   "outputs": [],
   "source": [
    "#charts: correlation heatmap,histogram number of rides vs station, station vs borough, look at coursework and follow\n",
    "# along with the coursework to do on here, feature engineering, linear regression, random forest"
   ]
  },
  {
   "cell_type": "code",
   "execution_count": 5,
   "metadata": {},
   "outputs": [],
   "source": [
    "df['log_tripcount']=np.log(df.tripduration)"
   ]
  },
  {
   "cell_type": "code",
   "execution_count": 6,
   "metadata": {},
   "outputs": [
    {
     "data": {
      "image/png": "[encoded data removed]",
      "text/plain": [
       "<Figure size 864x648 with 2 Axes>"
      ]
     },
     "metadata": {
      "needs_background": "light"
     },
     "output_type": "display_data"
    }
   ],
   "source": [
    "corrmat = df.corr()\n",
    "\n",
    "\n",
    "f, ax = plt.subplots(figsize=(12, 9))\n",
    "\n",
    "sns.heatmap(corrmat, vmax=.8, square=True)\n",
    "plt.show()\n"
   ]
  },
  {
   "cell_type": "code",
   "execution_count": 7,
   "metadata": {},
   "outputs": [],
   "source": [
    "x=df[['borough_distance','TotalPop','Men','Women','Income','Poverty','start_station_id','Drive','Carpool','Walk','OtherTransp',\n",
    "     'WorkAtHome','MeanCommute','Employed','Unemployment','PrivateWork','PublicWork','SelfEmployed','FamilyWork', 'tripduration',\n",
    "     'CensusTract','Hispanic','White','Black','Native','Asian','Citizen','IncomePerCap','Professional','Service','Office',\n",
    "     'Construction','Production','Latitude','Longitude','BlockCode','log_tripcount']].dropna(axis=0)\n",
    "\n",
    "y=df['tripduration'].dropna"
   ]
  },
  {
   "cell_type": "code",
   "execution_count": 8,
   "metadata": {
    "scrolled": true
   },
   "outputs": [
    {
     "data": {
      "image/png": "[encoded data removed]",
      "text/plain": [
       "<Figure size 864x648 with 2 Axes>"
      ]
     },
     "metadata": {
      "needs_background": "light"
     },
     "output_type": "display_data"
    }
   ],
   "source": [
    "corrmat=x.corr()\n",
    "f, ax = plt.subplots(figsize=(12, 9))\n",
    "sns.heatmap(corrmat,vmax=.8,square=True)\n",
    "plt.show()"
   ]
  },
  {
   "cell_type": "code",
   "execution_count": 9,
   "metadata": {},
   "outputs": [],
   "source": [
    "from sklearn.svm import SVC\n",
    "from sklearn.metrics import confusion_matrix\n",
    "np.random.seed(123)"
   ]
  },
  {
   "cell_type": "code",
   "execution_count": 10,
   "metadata": {},
   "outputs": [],
   "source": [
    "corr = x.corr()"
   ]
  },
  {
   "cell_type": "code",
   "execution_count": 11,
   "metadata": {},
   "outputs": [],
   "source": [
    "import statsmodels.api as sm"
   ]
  },
  {
   "cell_type": "code",
   "execution_count": 12,
   "metadata": {
    "scrolled": true
   },
   "outputs": [
    {
     "data": {
      "text/plain": [
       "statsmodels.regression.linear_model.OLS"
      ]
     },
     "execution_count": 12,
     "metadata": {},
     "output_type": "execute_result"
    }
   ],
   "source": [
    "reg1 = sm.OLS(endog= x['tripduration'], exog=x[['borough_distance','TotalPop','Men','Women','Income','Poverty','start_station_id','Drive','Carpool','Walk','OtherTransp',\n",
    "     'WorkAtHome','MeanCommute','Employed','Unemployment','PrivateWork','PublicWork','SelfEmployed','FamilyWork', 'tripduration',\n",
    "     'CensusTract','Hispanic','White','Black','Native','Asian','Citizen','IncomePerCap','Professional','Service','Office',\n",
    "     'Construction','Production','Latitude','Longitude','BlockCode','log_tripcount']], missing='drop')\n",
    "type(reg1)"
   ]
  },
  {
   "cell_type": "code",
   "execution_count": 13,
   "metadata": {},
   "outputs": [
    {
     "name": "stdout",
     "output_type": "stream",
     "text": [
      "                            OLS Regression Results                            \n",
      "==============================================================================\n",
      "Dep. Variable:           tripduration   R-squared:                       1.000\n",
      "Model:                            OLS   Adj. R-squared:                  1.000\n",
      "Method:                 Least Squares   F-statistic:                 1.252e+12\n",
      "Date:                Thu, 19 Sep 2019   Prob (F-statistic):               0.00\n",
      "Time:                        16:10:16   Log-Likelihood:                 4490.6\n",
      "No. Observations:                1495   AIC:                            -8939.\n",
      "Df Residuals:                    1474   BIC:                            -8828.\n",
      "Df Model:                          20                                         \n",
      "Covariance Type:            nonrobust                                         \n",
      "====================================================================================\n",
      "                       coef    std err          t      P>|t|      [0.025      0.975]\n",
      "------------------------------------------------------------------------------------\n",
      "borough_distance  1.264e-06   3.15e-06      0.401      0.688   -4.92e-06    7.45e-06\n",
      "TotalPop           2.02e-05    5.9e-07     34.247      0.000     1.9e-05    2.14e-05\n",
      "Men              -4.353e-07   8.22e-07     -0.530      0.596   -2.05e-06    1.18e-06\n",
      "Women            -2.836e-05   7.98e-07    -35.546      0.000   -2.99e-05   -2.68e-05\n",
      "Income           -1.154e-07   2.02e-08     -5.720      0.000   -1.55e-07   -7.59e-08\n",
      "Poverty             -0.0007   6.07e-05    -11.737      0.000      -0.001      -0.001\n",
      "start_station_id   4.09e-06   2.89e-07     14.153      0.000    3.52e-06    4.66e-06\n",
      "Drive                0.0002   8.88e-05      2.521      0.012    4.96e-05       0.000\n",
      "Carpool           9.982e-05      0.000      0.469      0.639      -0.000       0.001\n",
      "Walk             -5.746e-06   4.55e-05     -0.126      0.900    -9.5e-05    8.35e-05\n",
      "OtherTransp       6.931e-05      0.000      0.656      0.512      -0.000       0.000\n",
      "WorkAtHome           0.0003      0.000      2.904      0.004    9.46e-05       0.000\n",
      "MeanCommute         -0.0003      0.000     -2.334      0.020      -0.000   -3.99e-05\n",
      "Employed         -8.182e-07   8.21e-07     -0.996      0.319   -2.43e-06    7.93e-07\n",
      "Unemployment     -2.076e-05      0.000     -0.189      0.850      -0.000       0.000\n",
      "PrivateWork       -5.24e-05      0.000     -0.239      0.811      -0.000       0.000\n",
      "PublicWork        -5.02e-06      0.000     -0.023      0.982      -0.000       0.000\n",
      "SelfEmployed        -0.0001      0.000     -0.602      0.547      -0.001       0.000\n",
      "FamilyWork           0.0002      0.001      0.293      0.770      -0.001       0.001\n",
      "tripduration         1.0000   3.81e-07   2.62e+06      0.000       1.000       1.000\n",
      "CensusTract      -1.323e-05   2.15e-05     -0.615      0.539   -5.54e-05     2.9e-05\n",
      "Hispanic         -6.766e-06      0.000     -0.037      0.970      -0.000       0.000\n",
      "White            -6.729e-06      0.000     -0.038      0.970      -0.000       0.000\n",
      "Black            -1.064e-05      0.000     -0.059      0.953      -0.000       0.000\n",
      "Native            1.151e-05      0.001      0.023      0.982      -0.001       0.001\n",
      "Asian             4.132e-06      0.000      0.022      0.982      -0.000       0.000\n",
      "Citizen          -3.621e-06   9.94e-07     -3.642      0.000   -5.57e-06   -1.67e-06\n",
      "IncomePerCap     -1.006e-07   2.22e-08     -4.531      0.000   -1.44e-07   -5.71e-08\n",
      "Professional      5.058e-07   4.36e-05      0.012      0.991   -8.49e-05    8.59e-05\n",
      "Service           4.621e-07   7.64e-05      0.006      0.995      -0.000       0.000\n",
      "Office            2.202e-06   6.35e-05      0.035      0.972      -0.000       0.000\n",
      "Construction     -9.625e-06      0.000     -0.072      0.943      -0.000       0.000\n",
      "Production        1.603e-06      0.000      0.016      0.988      -0.000       0.000\n",
      "Latitude          1.129e-06   4.21e-06      0.268      0.789   -7.14e-06     9.4e-06\n",
      "Longitude         2.359e-06   5.07e-06      0.466      0.642   -7.58e-06    1.23e-05\n",
      "BlockCode         1.323e-09   2.15e-09      0.615      0.539    -2.9e-09    5.54e-09\n",
      "log_tripcount    -1.246e-05      0.001     -0.021      0.983      -0.001       0.001\n",
      "==============================================================================\n",
      "Omnibus:                       95.949   Durbin-Watson:                   1.533\n",
      "Prob(Omnibus):                  0.000   Jarque-Bera (JB):              183.845\n",
      "Skew:                          -0.443   Prob(JB):                     1.20e-40\n",
      "Kurtosis:                       4.471   Cond. No.                     5.45e+16\n",
      "==============================================================================\n",
      "\n",
      "Warnings:\n",
      "[1] Standard Errors assume that the covariance matrix of the errors is correctly specified.\n",
      "[2] The condition number is large, 5.45e+16. This might indicate that there are\n",
      "strong multicollinearity or other numerical problems.\n"
     ]
    }
   ],
   "source": [
    "results = reg1.fit()\n",
    "type(results)\n",
    "print(results.summary())"
   ]
  },
  {
   "cell_type": "code",
   "execution_count": 14,
   "metadata": {},
   "outputs": [],
   "source": [
    "df_p=df[['TotalPop','Women','Income','Poverty','start_station_id','Drive','WorkAtHome','MeanCommute',\n",
    "     'Citizen','IncomePerCap']].dropna(axis=0)"
   ]
  },
  {
   "cell_type": "code",
   "execution_count": 15,
   "metadata": {},
   "outputs": [
    {
     "data": {
      "text/plain": [
       "Index(['TotalPop', 'Women', 'Income', 'Poverty', 'start_station_id', 'Drive',\n",
       "       'WorkAtHome', 'MeanCommute', 'Citizen', 'IncomePerCap'],\n",
       "      dtype='object')"
      ]
     },
     "execution_count": 15,
     "metadata": {},
     "output_type": "execute_result"
    }
   ],
   "source": [
    "df_p.columns"
   ]
  },
  {
   "cell_type": "code",
   "execution_count": 16,
   "metadata": {},
   "outputs": [],
   "source": [
    "#combine carpool+OtherTransp, keep drive, walk, drop meancommute, do percentage of men from totalpop, "
   ]
  },
  {
   "cell_type": "code",
   "execution_count": 17,
   "metadata": {},
   "outputs": [
    {
     "data": {
      "text/plain": [
       "Text(0, 0.5, 'Frequency')"
      ]
     },
     "execution_count": 17,
     "metadata": {},
     "output_type": "execute_result"
    },
    {
     "data": {
      "image/png": "[encoded data removed]",
      "text/plain": [
       "<Figure size 1152x576 with 1 Axes>"
      ]
     },
     "metadata": {
      "needs_background": "light"
     },
     "output_type": "display_data"
    }
   ],
   "source": [
    "plt.figure(figsize=(16, 8))\n",
    "df.tripduration.hist( bins=50)\n",
    "plt.xlabel(\"km\")\n",
    "plt.ylabel('Frequency')"
   ]
  },
  {
   "cell_type": "code",
   "execution_count": 18,
   "metadata": {
    "scrolled": true
   },
   "outputs": [
    {
     "data": {
      "text/plain": [
       "Text(0, 0.5, 'total trips')"
      ]
     },
     "execution_count": 18,
     "metadata": {},
     "output_type": "execute_result"
    },
    {
     "data": {
      "image/png": "[encoded data removed]",
      "text/plain": [
       "<Figure size 1152x576 with 1 Axes>"
      ]
     },
     "metadata": {
      "needs_background": "light"
     },
     "output_type": "display_data"
    }
   ],
   "source": [
    "plt.figure(figsize=(16, 8))\n",
    "df.log_tripcount.hist( bins=50)\n",
    "plt.xlabel(\"log of trip count\")\n",
    "plt.ylabel('total trips')"
   ]
  },
  {
   "cell_type": "code",
   "execution_count": 19,
   "metadata": {},
   "outputs": [
    {
     "data": {
      "text/plain": [
       "Text(0.5, 0, 'Start Station ID')"
      ]
     },
     "execution_count": 19,
     "metadata": {},
     "output_type": "execute_result"
    },
    {
     "data": {
      "image/png": "[encoded data removed]",
      "text/plain": [
       "<Figure size 1152x576 with 1 Axes>"
      ]
     },
     "metadata": {
      "needs_background": "light"
     },
     "output_type": "display_data"
    }
   ],
   "source": [
    "plt.figure(figsize=(16, 8))\n",
    "df.start_station_id.plot(kind=\"hist\", bins=35, range=(0,600))\n",
    "plt.xlabel(\"Start Station ID\")"
   ]
  },
  {
   "cell_type": "code",
   "execution_count": 20,
   "metadata": {},
   "outputs": [],
   "source": [
    "#remove datapoint at 0, basic models to start- linear regressions, random forest, etc and then work on features to improve \n",
    "#prediction rate"
   ]
  },
  {
   "cell_type": "code",
   "execution_count": 21,
   "metadata": {},
   "outputs": [],
   "source": [
    "#create powerpoint with shell for each slide to show what you will be predicting on that slide"
   ]
  },
  {
   "cell_type": "code",
   "execution_count": 22,
   "metadata": {
    "scrolled": true
   },
   "outputs": [
    {
     "data": {
      "text/plain": [
       "Index(['Unnamed: 0', 'start_station_id', 'start_station_latitude',\n",
       "       'start_station_longitude', 'tripduration', 'tmp', 'CensusTract',\n",
       "       'County_x', 'Borough', 'TotalPop', 'Men', 'Women', 'Hispanic', 'White',\n",
       "       'Black', 'Native', 'Asian', 'Citizen', 'Income', 'IncomeErr',\n",
       "       'IncomePerCap', 'IncomePerCapErr', 'Poverty', 'ChildPoverty',\n",
       "       'Professional', 'Service', 'Office', 'Construction', 'Production',\n",
       "       'Drive', 'Carpool', 'Transit', 'Walk', 'OtherTransp', 'WorkAtHome',\n",
       "       'MeanCommute', 'Employed', 'PrivateWork', 'PublicWork', 'SelfEmployed',\n",
       "       'FamilyWork', 'Unemployment', 'Latitude', 'Longitude', 'BlockCode',\n",
       "       'County_y', 'State', 'BlockCode_11', 'borough_distance',\n",
       "       'distance_rank', 'log_tripcount'],\n",
       "      dtype='object')"
      ]
     },
     "execution_count": 22,
     "metadata": {},
     "output_type": "execute_result"
    }
   ],
   "source": [
    "df.columns"
   ]
  },
  {
   "cell_type": "code",
   "execution_count": 23,
   "metadata": {},
   "outputs": [],
   "source": [
    "df_clean=df[['borough_distance','TotalPop','Men','Women','Income','Poverty','start_station_id','Drive','Carpool','Walk','OtherTransp',\n",
    "     'WorkAtHome','Employed','Unemployment','PrivateWork','PublicWork','SelfEmployed','FamilyWork','Borough','County_x','Hispanic','Black',\n",
    "            'Asian','White','Office','Construction','Production','Professional','Service']].dropna (axis=1)\n",
    "\n",
    "df_X=pd.concat([df_clean, pd.get_dummies(df_clean['Borough']),pd.get_dummies(df_clean['County_x'])],axis=1 )\n",
    "\n",
    "\n"
   ]
  },
  {
   "cell_type": "code",
   "execution_count": 24,
   "metadata": {},
   "outputs": [],
   "source": [
    "X = pd.concat([df_clean, pd.get_dummies(df_clean['Borough']),pd.get_dummies(df_clean['County_x'])], axis=1)\n",
    "\n",
    "Y = df['log_tripcount']"
   ]
  },
  {
   "cell_type": "code",
   "execution_count": 25,
   "metadata": {
    "scrolled": false
   },
   "outputs": [
    {
     "data": {
      "text/html": [
       "<div>\n",
       "<style scoped>\n",
       "    .dataframe tbody tr th:only-of-type {\n",
       "        vertical-align: middle;\n",
       "    }\n",
       "\n",
       "    .dataframe tbody tr th {\n",
       "        vertical-align: top;\n",
       "    }\n",
       "\n",
       "    .dataframe thead th {\n",
       "        text-align: right;\n",
       "    }\n",
       "</style>\n",
       "<table border=\"1\" class=\"dataframe\">\n",
       "  <thead>\n",
       "    <tr style=\"text-align: right;\">\n",
       "      <th></th>\n",
       "      <th>borough_distance</th>\n",
       "      <th>TotalPop</th>\n",
       "      <th>Men</th>\n",
       "      <th>Women</th>\n",
       "      <th>Income</th>\n",
       "      <th>Poverty</th>\n",
       "      <th>start_station_id</th>\n",
       "      <th>Drive</th>\n",
       "      <th>Carpool</th>\n",
       "      <th>Walk</th>\n",
       "      <th>...</th>\n",
       "      <th>Construction</th>\n",
       "      <th>Production</th>\n",
       "      <th>Professional</th>\n",
       "      <th>Service</th>\n",
       "      <th>Brooklyn</th>\n",
       "      <th>Manhattan</th>\n",
       "      <th>Queens</th>\n",
       "      <th>Kings</th>\n",
       "      <th>New York</th>\n",
       "      <th>Queens</th>\n",
       "    </tr>\n",
       "  </thead>\n",
       "  <tbody>\n",
       "    <tr>\n",
       "      <th>0</th>\n",
       "      <td>0.097058</td>\n",
       "      <td>6384</td>\n",
       "      <td>3286</td>\n",
       "      <td>3098</td>\n",
       "      <td>62290.0</td>\n",
       "      <td>18.6</td>\n",
       "      <td>72.0</td>\n",
       "      <td>6.9</td>\n",
       "      <td>1.1</td>\n",
       "      <td>39.5</td>\n",
       "      <td>...</td>\n",
       "      <td>1.1</td>\n",
       "      <td>4.3</td>\n",
       "      <td>57.5</td>\n",
       "      <td>13.2</td>\n",
       "      <td>0</td>\n",
       "      <td>1</td>\n",
       "      <td>0</td>\n",
       "      <td>0</td>\n",
       "      <td>1</td>\n",
       "      <td>0</td>\n",
       "    </tr>\n",
       "    <tr>\n",
       "      <th>2</th>\n",
       "      <td>0.119646</td>\n",
       "      <td>6050</td>\n",
       "      <td>3671</td>\n",
       "      <td>2379</td>\n",
       "      <td>30629.0</td>\n",
       "      <td>20.6</td>\n",
       "      <td>82.0</td>\n",
       "      <td>2.8</td>\n",
       "      <td>4.0</td>\n",
       "      <td>43.6</td>\n",
       "      <td>...</td>\n",
       "      <td>9.9</td>\n",
       "      <td>4.1</td>\n",
       "      <td>32.3</td>\n",
       "      <td>30.4</td>\n",
       "      <td>0</td>\n",
       "      <td>1</td>\n",
       "      <td>0</td>\n",
       "      <td>0</td>\n",
       "      <td>1</td>\n",
       "      <td>0</td>\n",
       "    </tr>\n",
       "    <tr>\n",
       "      <th>3</th>\n",
       "      <td>0.039960</td>\n",
       "      <td>2577</td>\n",
       "      <td>1102</td>\n",
       "      <td>1475</td>\n",
       "      <td>82071.0</td>\n",
       "      <td>11.2</td>\n",
       "      <td>83.0</td>\n",
       "      <td>1.2</td>\n",
       "      <td>0.0</td>\n",
       "      <td>8.7</td>\n",
       "      <td>...</td>\n",
       "      <td>0.0</td>\n",
       "      <td>0.7</td>\n",
       "      <td>61.5</td>\n",
       "      <td>17.5</td>\n",
       "      <td>1</td>\n",
       "      <td>0</td>\n",
       "      <td>0</td>\n",
       "      <td>1</td>\n",
       "      <td>0</td>\n",
       "      <td>0</td>\n",
       "    </tr>\n",
       "    <tr>\n",
       "      <th>4</th>\n",
       "      <td>0.060052</td>\n",
       "      <td>3929</td>\n",
       "      <td>1534</td>\n",
       "      <td>2395</td>\n",
       "      <td>69303.0</td>\n",
       "      <td>18.5</td>\n",
       "      <td>116.0</td>\n",
       "      <td>2.0</td>\n",
       "      <td>0.8</td>\n",
       "      <td>17.0</td>\n",
       "      <td>...</td>\n",
       "      <td>0.9</td>\n",
       "      <td>0.7</td>\n",
       "      <td>56.8</td>\n",
       "      <td>10.4</td>\n",
       "      <td>0</td>\n",
       "      <td>1</td>\n",
       "      <td>0</td>\n",
       "      <td>0</td>\n",
       "      <td>1</td>\n",
       "      <td>0</td>\n",
       "    </tr>\n",
       "    <tr>\n",
       "      <th>5</th>\n",
       "      <td>0.150738</td>\n",
       "      <td>1362</td>\n",
       "      <td>684</td>\n",
       "      <td>678</td>\n",
       "      <td>43000.0</td>\n",
       "      <td>18.7</td>\n",
       "      <td>119.0</td>\n",
       "      <td>25.8</td>\n",
       "      <td>2.3</td>\n",
       "      <td>4.7</td>\n",
       "      <td>...</td>\n",
       "      <td>3.8</td>\n",
       "      <td>11.5</td>\n",
       "      <td>44.3</td>\n",
       "      <td>22.7</td>\n",
       "      <td>1</td>\n",
       "      <td>0</td>\n",
       "      <td>0</td>\n",
       "      <td>1</td>\n",
       "      <td>0</td>\n",
       "      <td>0</td>\n",
       "    </tr>\n",
       "  </tbody>\n",
       "</table>\n",
       "<p>5 rows × 35 columns</p>\n",
       "</div>"
      ],
      "text/plain": [
       "   borough_distance  TotalPop   Men  Women   Income  Poverty  \\\n",
       "0          0.097058      6384  3286   3098  62290.0     18.6   \n",
       "2          0.119646      6050  3671   2379  30629.0     20.6   \n",
       "3          0.039960      2577  1102   1475  82071.0     11.2   \n",
       "4          0.060052      3929  1534   2395  69303.0     18.5   \n",
       "5          0.150738      1362   684    678  43000.0     18.7   \n",
       "\n",
       "   start_station_id  Drive  Carpool  Walk  ...  Construction  Production  \\\n",
       "0              72.0    6.9      1.1  39.5  ...           1.1         4.3   \n",
       "2              82.0    2.8      4.0  43.6  ...           9.9         4.1   \n",
       "3              83.0    1.2      0.0   8.7  ...           0.0         0.7   \n",
       "4             116.0    2.0      0.8  17.0  ...           0.9         0.7   \n",
       "5             119.0   25.8      2.3   4.7  ...           3.8        11.5   \n",
       "\n",
       "   Professional  Service  Brooklyn  Manhattan Queens  Kings New York Queens  \n",
       "0          57.5     13.2         0          1      0      0        1      0  \n",
       "2          32.3     30.4         0          1      0      0        1      0  \n",
       "3          61.5     17.5         1          0      0      1        0      0  \n",
       "4          56.8     10.4         0          1      0      0        1      0  \n",
       "5          44.3     22.7         1          0      0      1        0      0  \n",
       "\n",
       "[5 rows x 35 columns]"
      ]
     },
     "execution_count": 25,
     "metadata": {},
     "output_type": "execute_result"
    }
   ],
   "source": [
    "df_X.head()"
   ]
  },
  {
   "cell_type": "code",
   "execution_count": 26,
   "metadata": {},
   "outputs": [
    {
     "data": {
      "text/plain": [
       "Index(['borough_distance', 'TotalPop', 'Men', 'Women', 'Income', 'Poverty',\n",
       "       'start_station_id', 'Drive', 'Carpool', 'Walk', 'OtherTransp',\n",
       "       'WorkAtHome', 'Employed', 'Unemployment', 'PrivateWork', 'PublicWork',\n",
       "       'SelfEmployed', 'FamilyWork', 'Borough', 'County_x', 'Hispanic',\n",
       "       'Black', 'Asian', 'White', 'Office', 'Construction', 'Production',\n",
       "       'Professional', 'Service', 'Brooklyn', 'Manhattan', 'Queens', 'Kings',\n",
       "       'New York', 'Queens'],\n",
       "      dtype='object')"
      ]
     },
     "execution_count": 26,
     "metadata": {},
     "output_type": "execute_result"
    }
   ],
   "source": [
    "df_X.columns"
   ]
  },
  {
   "cell_type": "code",
   "execution_count": 27,
   "metadata": {},
   "outputs": [
    {
     "data": {
      "text/html": [
       "<div>\n",
       "<style scoped>\n",
       "    .dataframe tbody tr th:only-of-type {\n",
       "        vertical-align: middle;\n",
       "    }\n",
       "\n",
       "    .dataframe tbody tr th {\n",
       "        vertical-align: top;\n",
       "    }\n",
       "\n",
       "    .dataframe thead th {\n",
       "        text-align: right;\n",
       "    }\n",
       "</style>\n",
       "<table border=\"1\" class=\"dataframe\">\n",
       "  <thead>\n",
       "    <tr style=\"text-align: right;\">\n",
       "      <th></th>\n",
       "      <th>borough_distance</th>\n",
       "      <th>TotalPop</th>\n",
       "      <th>Men</th>\n",
       "      <th>Women</th>\n",
       "      <th>Income</th>\n",
       "      <th>Poverty</th>\n",
       "      <th>start_station_id</th>\n",
       "      <th>Drive</th>\n",
       "      <th>Carpool</th>\n",
       "      <th>Walk</th>\n",
       "      <th>...</th>\n",
       "      <th>Construction</th>\n",
       "      <th>Production</th>\n",
       "      <th>Professional</th>\n",
       "      <th>Service</th>\n",
       "      <th>Brooklyn</th>\n",
       "      <th>Manhattan</th>\n",
       "      <th>Queens</th>\n",
       "      <th>Kings</th>\n",
       "      <th>New York</th>\n",
       "      <th>Queens</th>\n",
       "    </tr>\n",
       "  </thead>\n",
       "  <tbody>\n",
       "    <tr>\n",
       "      <th>0</th>\n",
       "      <td>0.097058</td>\n",
       "      <td>6384</td>\n",
       "      <td>3286</td>\n",
       "      <td>3098</td>\n",
       "      <td>62290.0</td>\n",
       "      <td>18.6</td>\n",
       "      <td>72.0</td>\n",
       "      <td>6.9</td>\n",
       "      <td>1.1</td>\n",
       "      <td>39.5</td>\n",
       "      <td>...</td>\n",
       "      <td>1.1</td>\n",
       "      <td>4.3</td>\n",
       "      <td>57.5</td>\n",
       "      <td>13.2</td>\n",
       "      <td>0</td>\n",
       "      <td>1</td>\n",
       "      <td>0</td>\n",
       "      <td>0</td>\n",
       "      <td>1</td>\n",
       "      <td>0</td>\n",
       "    </tr>\n",
       "    <tr>\n",
       "      <th>2</th>\n",
       "      <td>0.119646</td>\n",
       "      <td>6050</td>\n",
       "      <td>3671</td>\n",
       "      <td>2379</td>\n",
       "      <td>30629.0</td>\n",
       "      <td>20.6</td>\n",
       "      <td>82.0</td>\n",
       "      <td>2.8</td>\n",
       "      <td>4.0</td>\n",
       "      <td>43.6</td>\n",
       "      <td>...</td>\n",
       "      <td>9.9</td>\n",
       "      <td>4.1</td>\n",
       "      <td>32.3</td>\n",
       "      <td>30.4</td>\n",
       "      <td>0</td>\n",
       "      <td>1</td>\n",
       "      <td>0</td>\n",
       "      <td>0</td>\n",
       "      <td>1</td>\n",
       "      <td>0</td>\n",
       "    </tr>\n",
       "    <tr>\n",
       "      <th>3</th>\n",
       "      <td>0.039960</td>\n",
       "      <td>2577</td>\n",
       "      <td>1102</td>\n",
       "      <td>1475</td>\n",
       "      <td>82071.0</td>\n",
       "      <td>11.2</td>\n",
       "      <td>83.0</td>\n",
       "      <td>1.2</td>\n",
       "      <td>0.0</td>\n",
       "      <td>8.7</td>\n",
       "      <td>...</td>\n",
       "      <td>0.0</td>\n",
       "      <td>0.7</td>\n",
       "      <td>61.5</td>\n",
       "      <td>17.5</td>\n",
       "      <td>1</td>\n",
       "      <td>0</td>\n",
       "      <td>0</td>\n",
       "      <td>1</td>\n",
       "      <td>0</td>\n",
       "      <td>0</td>\n",
       "    </tr>\n",
       "    <tr>\n",
       "      <th>4</th>\n",
       "      <td>0.060052</td>\n",
       "      <td>3929</td>\n",
       "      <td>1534</td>\n",
       "      <td>2395</td>\n",
       "      <td>69303.0</td>\n",
       "      <td>18.5</td>\n",
       "      <td>116.0</td>\n",
       "      <td>2.0</td>\n",
       "      <td>0.8</td>\n",
       "      <td>17.0</td>\n",
       "      <td>...</td>\n",
       "      <td>0.9</td>\n",
       "      <td>0.7</td>\n",
       "      <td>56.8</td>\n",
       "      <td>10.4</td>\n",
       "      <td>0</td>\n",
       "      <td>1</td>\n",
       "      <td>0</td>\n",
       "      <td>0</td>\n",
       "      <td>1</td>\n",
       "      <td>0</td>\n",
       "    </tr>\n",
       "    <tr>\n",
       "      <th>5</th>\n",
       "      <td>0.150738</td>\n",
       "      <td>1362</td>\n",
       "      <td>684</td>\n",
       "      <td>678</td>\n",
       "      <td>43000.0</td>\n",
       "      <td>18.7</td>\n",
       "      <td>119.0</td>\n",
       "      <td>25.8</td>\n",
       "      <td>2.3</td>\n",
       "      <td>4.7</td>\n",
       "      <td>...</td>\n",
       "      <td>3.8</td>\n",
       "      <td>11.5</td>\n",
       "      <td>44.3</td>\n",
       "      <td>22.7</td>\n",
       "      <td>1</td>\n",
       "      <td>0</td>\n",
       "      <td>0</td>\n",
       "      <td>1</td>\n",
       "      <td>0</td>\n",
       "      <td>0</td>\n",
       "    </tr>\n",
       "  </tbody>\n",
       "</table>\n",
       "<p>5 rows × 35 columns</p>\n",
       "</div>"
      ],
      "text/plain": [
       "   borough_distance  TotalPop   Men  Women   Income  Poverty  \\\n",
       "0          0.097058      6384  3286   3098  62290.0     18.6   \n",
       "2          0.119646      6050  3671   2379  30629.0     20.6   \n",
       "3          0.039960      2577  1102   1475  82071.0     11.2   \n",
       "4          0.060052      3929  1534   2395  69303.0     18.5   \n",
       "5          0.150738      1362   684    678  43000.0     18.7   \n",
       "\n",
       "   start_station_id  Drive  Carpool  Walk  ...  Construction  Production  \\\n",
       "0              72.0    6.9      1.1  39.5  ...           1.1         4.3   \n",
       "2              82.0    2.8      4.0  43.6  ...           9.9         4.1   \n",
       "3              83.0    1.2      0.0   8.7  ...           0.0         0.7   \n",
       "4             116.0    2.0      0.8  17.0  ...           0.9         0.7   \n",
       "5             119.0   25.8      2.3   4.7  ...           3.8        11.5   \n",
       "\n",
       "   Professional  Service  Brooklyn  Manhattan Queens  Kings New York Queens  \n",
       "0          57.5     13.2         0          1      0      0        1      0  \n",
       "2          32.3     30.4         0          1      0      0        1      0  \n",
       "3          61.5     17.5         1          0      0      1        0      0  \n",
       "4          56.8     10.4         0          1      0      0        1      0  \n",
       "5          44.3     22.7         1          0      0      1        0      0  \n",
       "\n",
       "[5 rows x 35 columns]"
      ]
     },
     "execution_count": 27,
     "metadata": {},
     "output_type": "execute_result"
    }
   ],
   "source": [
    "Y.head()\n",
    "X.head()"
   ]
  },
  {
   "cell_type": "code",
   "execution_count": 28,
   "metadata": {
    "scrolled": true
   },
   "outputs": [],
   "source": [
    "y=df.log_tripcount\n",
    "X= df_X.drop ('Borough', 1).drop('County_x' , 1)\n",
    "(X_train, X_test, y_train, y_test)=train_test_split(X,y,test_size=0.25)\n",
    "lr=LinearRegression()"
   ]
  },
  {
   "cell_type": "code",
   "execution_count": 29,
   "metadata": {
    "scrolled": true
   },
   "outputs": [
    {
     "data": {
      "text/plain": [
       "0.6504471099372925"
      ]
     },
     "execution_count": 29,
     "metadata": {},
     "output_type": "execute_result"
    }
   ],
   "source": [
    "lr.fit(X_train,y_train)\n",
    "y_pred=lr.predict(X_test)\n",
    "lr.score(X_test,y_pred)\n",
    "mean_squared_error(y_test,y_pred)"
   ]
  },
  {
   "cell_type": "code",
   "execution_count": 30,
   "metadata": {},
   "outputs": [
    {
     "name": "stdout",
     "output_type": "stream",
     "text": [
      "R-squared regression: 0.4910456463578624\n",
      "R-squared PLSR: 0.48806498687104904\n"
     ]
    },
    {
     "data": {
      "image/png": "[encoded data removed]",
      "text/plain": [
       "<Figure size 432x288 with 1 Axes>"
      ]
     },
     "metadata": {
      "needs_background": "light"
     },
     "output_type": "display_data"
    }
   ],
   "source": [
    "from sklearn.cross_decomposition import PLSRegression\n",
    "\n",
    "regr = linear_model.LinearRegression()\n",
    "regr.fit(X, y)\n",
    "\n",
    "Y_pred = regr.predict(X)\n",
    "print('R-squared regression:', regr.score(X, y))\n",
    "\n",
    "\n",
    "pls1 = PLSRegression(n_components=10)\n",
    "\n",
    "\n",
    "pls1.fit(X, y)\n",
    "\n",
    "\n",
    "Y_PLS_pred = pls1.predict(X)\n",
    "print('R-squared PLSR:', pls1.score(X, y))\n",
    "\n",
    "\n",
    "plt.scatter(Y_pred,Y_PLS_pred) \n",
    "plt.xlabel('Predicted by features')\n",
    "plt.ylabel('Predicted by 10 features')\n",
    "plt.title('Comparing LR and PLSR predictions')\n",
    "plt.show()"
   ]
  },
  {
   "cell_type": "code",
   "execution_count": 31,
   "metadata": {},
   "outputs": [],
   "source": [
    "from sklearn.ensemble import RandomForestClassifier\n",
    "from sklearn.model_selection import train_test_split\n",
    "from sklearn import ensemble\n",
    "from sklearn.model_selection import cross_val_score\n",
    "from sklearn.ensemble import RandomForestRegressor\n",
    "from sklearn.model_selection import train_test_split\n",
    "from sklearn.datasets import make_classification\n",
    "from sklearn.datasets import make_regression\n",
    "\n"
   ]
  },
  {
   "cell_type": "code",
   "execution_count": 32,
   "metadata": {
    "scrolled": false
   },
   "outputs": [
    {
     "name": "stdout",
     "output_type": "stream",
     "text": [
      "\n",
      "R-squared simple model:\n",
      "0.4910456463578624\n"
     ]
    }
   ],
   "source": [
    "regr1 = linear_model.LinearRegression()\n",
    "Y_train = df['log_tripcount']\n",
    "X_train = df_X.drop ('Borough', 1).drop('County_x' , 1)\n",
    "\n",
    "regr1.fit(X_train, Y_train)\n",
    "print('\\nR-squared simple model:')\n",
    "print(regr1.score(X_train, Y_train))"
   ]
  },
  {
   "cell_type": "code",
   "execution_count": 33,
   "metadata": {
    "scrolled": true
   },
   "outputs": [
    {
     "data": {
      "text/html": [
       "<div>\n",
       "<style scoped>\n",
       "    .dataframe tbody tr th:only-of-type {\n",
       "        vertical-align: middle;\n",
       "    }\n",
       "\n",
       "    .dataframe tbody tr th {\n",
       "        vertical-align: top;\n",
       "    }\n",
       "\n",
       "    .dataframe thead th {\n",
       "        text-align: right;\n",
       "    }\n",
       "</style>\n",
       "<table border=\"1\" class=\"dataframe\">\n",
       "  <thead>\n",
       "    <tr style=\"text-align: right;\">\n",
       "      <th></th>\n",
       "      <th>borough_distance</th>\n",
       "      <th>TotalPop</th>\n",
       "      <th>Men</th>\n",
       "      <th>Women</th>\n",
       "      <th>Income</th>\n",
       "      <th>Poverty</th>\n",
       "      <th>start_station_id</th>\n",
       "      <th>Drive</th>\n",
       "      <th>Carpool</th>\n",
       "      <th>Walk</th>\n",
       "      <th>...</th>\n",
       "      <th>Construction</th>\n",
       "      <th>Production</th>\n",
       "      <th>Professional</th>\n",
       "      <th>Service</th>\n",
       "      <th>Brooklyn</th>\n",
       "      <th>Manhattan</th>\n",
       "      <th>Queens</th>\n",
       "      <th>Kings</th>\n",
       "      <th>New York</th>\n",
       "      <th>Queens</th>\n",
       "    </tr>\n",
       "  </thead>\n",
       "  <tbody>\n",
       "    <tr>\n",
       "      <th>0</th>\n",
       "      <td>0.097058</td>\n",
       "      <td>6384</td>\n",
       "      <td>3286</td>\n",
       "      <td>3098</td>\n",
       "      <td>62290.0</td>\n",
       "      <td>18.6</td>\n",
       "      <td>72.0</td>\n",
       "      <td>6.9</td>\n",
       "      <td>1.1</td>\n",
       "      <td>39.5</td>\n",
       "      <td>...</td>\n",
       "      <td>1.1</td>\n",
       "      <td>4.3</td>\n",
       "      <td>57.5</td>\n",
       "      <td>13.2</td>\n",
       "      <td>0</td>\n",
       "      <td>1</td>\n",
       "      <td>0</td>\n",
       "      <td>0</td>\n",
       "      <td>1</td>\n",
       "      <td>0</td>\n",
       "    </tr>\n",
       "    <tr>\n",
       "      <th>2</th>\n",
       "      <td>0.119646</td>\n",
       "      <td>6050</td>\n",
       "      <td>3671</td>\n",
       "      <td>2379</td>\n",
       "      <td>30629.0</td>\n",
       "      <td>20.6</td>\n",
       "      <td>82.0</td>\n",
       "      <td>2.8</td>\n",
       "      <td>4.0</td>\n",
       "      <td>43.6</td>\n",
       "      <td>...</td>\n",
       "      <td>9.9</td>\n",
       "      <td>4.1</td>\n",
       "      <td>32.3</td>\n",
       "      <td>30.4</td>\n",
       "      <td>0</td>\n",
       "      <td>1</td>\n",
       "      <td>0</td>\n",
       "      <td>0</td>\n",
       "      <td>1</td>\n",
       "      <td>0</td>\n",
       "    </tr>\n",
       "    <tr>\n",
       "      <th>3</th>\n",
       "      <td>0.039960</td>\n",
       "      <td>2577</td>\n",
       "      <td>1102</td>\n",
       "      <td>1475</td>\n",
       "      <td>82071.0</td>\n",
       "      <td>11.2</td>\n",
       "      <td>83.0</td>\n",
       "      <td>1.2</td>\n",
       "      <td>0.0</td>\n",
       "      <td>8.7</td>\n",
       "      <td>...</td>\n",
       "      <td>0.0</td>\n",
       "      <td>0.7</td>\n",
       "      <td>61.5</td>\n",
       "      <td>17.5</td>\n",
       "      <td>1</td>\n",
       "      <td>0</td>\n",
       "      <td>0</td>\n",
       "      <td>1</td>\n",
       "      <td>0</td>\n",
       "      <td>0</td>\n",
       "    </tr>\n",
       "    <tr>\n",
       "      <th>4</th>\n",
       "      <td>0.060052</td>\n",
       "      <td>3929</td>\n",
       "      <td>1534</td>\n",
       "      <td>2395</td>\n",
       "      <td>69303.0</td>\n",
       "      <td>18.5</td>\n",
       "      <td>116.0</td>\n",
       "      <td>2.0</td>\n",
       "      <td>0.8</td>\n",
       "      <td>17.0</td>\n",
       "      <td>...</td>\n",
       "      <td>0.9</td>\n",
       "      <td>0.7</td>\n",
       "      <td>56.8</td>\n",
       "      <td>10.4</td>\n",
       "      <td>0</td>\n",
       "      <td>1</td>\n",
       "      <td>0</td>\n",
       "      <td>0</td>\n",
       "      <td>1</td>\n",
       "      <td>0</td>\n",
       "    </tr>\n",
       "    <tr>\n",
       "      <th>5</th>\n",
       "      <td>0.150738</td>\n",
       "      <td>1362</td>\n",
       "      <td>684</td>\n",
       "      <td>678</td>\n",
       "      <td>43000.0</td>\n",
       "      <td>18.7</td>\n",
       "      <td>119.0</td>\n",
       "      <td>25.8</td>\n",
       "      <td>2.3</td>\n",
       "      <td>4.7</td>\n",
       "      <td>...</td>\n",
       "      <td>3.8</td>\n",
       "      <td>11.5</td>\n",
       "      <td>44.3</td>\n",
       "      <td>22.7</td>\n",
       "      <td>1</td>\n",
       "      <td>0</td>\n",
       "      <td>0</td>\n",
       "      <td>1</td>\n",
       "      <td>0</td>\n",
       "      <td>0</td>\n",
       "    </tr>\n",
       "  </tbody>\n",
       "</table>\n",
       "<p>5 rows × 35 columns</p>\n",
       "</div>"
      ],
      "text/plain": [
       "   borough_distance  TotalPop   Men  Women   Income  Poverty  \\\n",
       "0          0.097058      6384  3286   3098  62290.0     18.6   \n",
       "2          0.119646      6050  3671   2379  30629.0     20.6   \n",
       "3          0.039960      2577  1102   1475  82071.0     11.2   \n",
       "4          0.060052      3929  1534   2395  69303.0     18.5   \n",
       "5          0.150738      1362   684    678  43000.0     18.7   \n",
       "\n",
       "   start_station_id  Drive  Carpool  Walk  ...  Construction  Production  \\\n",
       "0              72.0    6.9      1.1  39.5  ...           1.1         4.3   \n",
       "2              82.0    2.8      4.0  43.6  ...           9.9         4.1   \n",
       "3              83.0    1.2      0.0   8.7  ...           0.0         0.7   \n",
       "4             116.0    2.0      0.8  17.0  ...           0.9         0.7   \n",
       "5             119.0   25.8      2.3   4.7  ...           3.8        11.5   \n",
       "\n",
       "   Professional  Service  Brooklyn  Manhattan Queens  Kings New York Queens  \n",
       "0          57.5     13.2         0          1      0      0        1      0  \n",
       "2          32.3     30.4         0          1      0      0        1      0  \n",
       "3          61.5     17.5         1          0      0      1        0      0  \n",
       "4          56.8     10.4         0          1      0      0        1      0  \n",
       "5          44.3     22.7         1          0      0      1        0      0  \n",
       "\n",
       "[5 rows x 35 columns]"
      ]
     },
     "execution_count": 33,
     "metadata": {},
     "output_type": "execute_result"
    }
   ],
   "source": [
    "df_X.head()"
   ]
  },
  {
   "cell_type": "code",
   "execution_count": 34,
   "metadata": {},
   "outputs": [
    {
     "data": {
      "text/plain": [
       "Index(['borough_distance', 'TotalPop', 'Men', 'Women', 'Income', 'Poverty',\n",
       "       'start_station_id', 'Drive', 'Carpool', 'Walk', 'OtherTransp',\n",
       "       'WorkAtHome', 'Employed', 'Unemployment', 'PrivateWork', 'PublicWork',\n",
       "       'SelfEmployed', 'FamilyWork', 'Borough', 'County_x', 'Hispanic',\n",
       "       'Black', 'Asian', 'White', 'Office', 'Construction', 'Production',\n",
       "       'Professional', 'Service', 'Brooklyn', 'Manhattan', 'Queens', 'Kings',\n",
       "       'New York', 'Queens'],\n",
       "      dtype='object')"
      ]
     },
     "execution_count": 34,
     "metadata": {},
     "output_type": "execute_result"
    }
   ],
   "source": [
    "df_X.columns"
   ]
  },
  {
   "cell_type": "code",
   "execution_count": 35,
   "metadata": {},
   "outputs": [
    {
     "name": "stdout",
     "output_type": "stream",
     "text": [
      "[7.52669932e-02 5.74733141e-03 5.74385590e-03 8.01779199e-03\n",
      " 3.15309659e-02 1.63215667e-02 1.30606345e-01 3.10008967e-02\n",
      " 9.76762296e-03 2.24283477e-01 1.77314196e-02 1.32733781e-02\n",
      " 1.22262272e-02 1.09421336e-02 1.52239729e-02 1.40895768e-02\n",
      " 1.36839012e-02 1.61668154e-03 1.13478701e-02 4.19876168e-02\n",
      " 2.41320536e-02 1.25412169e-02 7.43133230e-03 9.21404432e-03\n",
      " 1.31071474e-02 4.78668788e-02 4.54119291e-02 3.71217592e-04\n",
      " 1.96960888e-03 2.47354829e-05 3.89251616e-03 1.43452836e-01\n",
      " 1.74859191e-04]\n"
     ]
    },
    {
     "name": "stderr",
     "output_type": "stream",
     "text": [
      "/anaconda3/lib/python3.7/site-packages/sklearn/ensemble/forest.py:246: FutureWarning: The default value of n_estimators will change from 10 in version 0.20 to 100 in 0.22.\n",
      "  \"10 in version 0.20 to 100 in 0.22.\", FutureWarning)\n"
     ]
    }
   ],
   "source": [
    "from sklearn import ensemble\n",
    "regr = ensemble.RandomForestRegressor()\n",
    "X = df_X.drop ('Borough', 1).drop('County_x' , 1)\n",
    "Y = df['log_tripcount']\n",
    "regr.fit(X, Y)\n",
    "\n",
    "print(regr.feature_importances_)"
   ]
  },
  {
   "cell_type": "code",
   "execution_count": 36,
   "metadata": {},
   "outputs": [],
   "source": [
    "y=df.log_tripcount\n",
    "X_feat=df_X.drop ('Borough', 1).drop('County_x' , 1)\n",
    "\n",
    "X_feat['male_usage']= X.Men / X.TotalPop *100\n",
    "X_feat['shared_trans'] = X.Carpool + X.Walk + X.OtherTransp\n",
    "X_feat['minority'] = X.Hispanic + X.Black + X.Asian\n",
    "X_feat['corporate'] = X.Office +X.Construction + X.PublicWork + X.Production\n",
    "(X_train, X_test, y_train, y_test)=train_test_split(X_feat,y,test_size=0.25)\n",
    "lr=LinearRegression()\n"
   ]
  },
  {
   "cell_type": "code",
   "execution_count": 37,
   "metadata": {},
   "outputs": [
    {
     "data": {
      "text/plain": [
       "0.6607169777506211"
      ]
     },
     "execution_count": 37,
     "metadata": {},
     "output_type": "execute_result"
    }
   ],
   "source": [
    "lr.fit(X_train,y_train)\n",
    "y_pred=lr.predict(X_test)\n",
    "lr.score(X_test,y_pred)\n",
    "mean_squared_error(y_test,y_pred)"
   ]
  },
  {
   "cell_type": "code",
   "execution_count": 38,
   "metadata": {},
   "outputs": [
    {
     "name": "stdout",
     "output_type": "stream",
     "text": [
      "R-squared regression: 0.4910456463578624\n",
      "R-squared PLSR: 0.48806498687104904\n"
     ]
    },
    {
     "data": {
      "image/png": "[encoded data removed]",
      "text/plain": [
       "<Figure size 432x288 with 1 Axes>"
      ]
     },
     "metadata": {
      "needs_background": "light"
     },
     "output_type": "display_data"
    }
   ],
   "source": [
    "regr = linear_model.LinearRegression()\n",
    "regr.fit(X, y)\n",
    "\n",
    "Y_pred = regr.predict(X)\n",
    "print('R-squared regression:', regr.score(X, y))\n",
    "\n",
    "\n",
    "pls1 = PLSRegression(n_components=10)\n",
    "\n",
    "\n",
    "pls1.fit(X, y)\n",
    "\n",
    "\n",
    "Y_PLS_pred = pls1.predict(X)\n",
    "print('R-squared PLSR:', pls1.score(X, y))\n",
    "\n",
    "\n",
    "plt.scatter(Y_pred,Y_PLS_pred) \n",
    "plt.xlabel('Predicted by features')\n",
    "plt.ylabel('Predicted by 10 features')\n",
    "plt.title('Comparing LR and PLSR predictions')\n",
    "plt.show()"
   ]
  },
  {
   "cell_type": "code",
   "execution_count": 39,
   "metadata": {},
   "outputs": [],
   "source": [
    "#random forest regression...whered it go?, gradient boosting, SVM,KNN maybe\n",
    "#gradient boost, random forest regression grid search and fine tune"
   ]
  },
  {
   "cell_type": "code",
   "execution_count": 40,
   "metadata": {},
   "outputs": [],
   "source": [
    "# use demographics to determine next best spot to add a station, in the .predict(use a census dataframe that doesn't have a\n",
    "#station information is not included)this way you find a spot in boroughs that need one. "
   ]
  },
  {
   "cell_type": "code",
   "execution_count": 41,
   "metadata": {},
   "outputs": [],
   "source": [
    "y_gb = df['log_tripcount'] - 1\n",
    "X_gb = df_X.loc[:,:]\n",
    "\n",
    "# Make the categorical variable 'country' into dummies.\n",
    "X_gb = df_X.drop ('Borough', 1).drop('County_x' , 1)\n",
    "\n",
    "# Create training and test sets.\n",
    "offset = int(X.shape[0] * 0.9)\n",
    "\n"
   ]
  },
  {
   "cell_type": "code",
   "execution_count": 42,
   "metadata": {},
   "outputs": [
    {
     "name": "stdout",
     "output_type": "stream",
     "text": [
      "MSE: 0.7824\n"
     ]
    }
   ],
   "source": [
    "params = {'n_estimators': 500,\n",
    "          'max_depth': 2}\n",
    "\n",
    "\n",
    "clf = ensemble.GradientBoostingRegressor(**params)\n",
    "\n",
    "clf.fit(X_train, y_train)\n",
    "mse = mean_squared_error(y_test, clf.predict(X_test))\n",
    "print(\"MSE: %.4f\" % mse)\n"
   ]
  },
  {
   "cell_type": "code",
   "execution_count": 43,
   "metadata": {},
   "outputs": [
    {
     "data": {
      "text/plain": [
       "GradientBoostingRegressor(alpha=0.9, criterion='friedman_mse', init=None,\n",
       "             learning_rate=0.01, loss='ls', max_depth=4, max_features=None,\n",
       "             max_leaf_nodes=None, min_impurity_decrease=0.0,\n",
       "             min_impurity_split=None, min_samples_leaf=1,\n",
       "             min_samples_split=2, min_weight_fraction_leaf=0.0,\n",
       "             n_estimators=500, n_iter_no_change=None, presort='auto',\n",
       "             random_state=None, subsample=1.0, tol=0.0001,\n",
       "             validation_fraction=0.1, verbose=0, warm_start=False)"
      ]
     },
     "execution_count": 43,
     "metadata": {},
     "output_type": "execute_result"
    }
   ],
   "source": [
    "params = {'n_estimators': 500, 'max_depth': 4, 'min_samples_split': 2,\n",
    "          'learning_rate': 0.01, 'loss': 'ls'}\n",
    "model = ensemble.GradientBoostingRegressor(**params)\n",
    "\n",
    "model.fit(X_train, y_train)"
   ]
  },
  {
   "cell_type": "code",
   "execution_count": 44,
   "metadata": {},
   "outputs": [
    {
     "name": "stdout",
     "output_type": "stream",
     "text": [
      "R2 sq:  0.6753638270354805\n",
      "Mean squared error: 0.68\n",
      "Test Variance score: 0.44\n"
     ]
    }
   ],
   "source": [
    "from sklearn.metrics import mean_squared_error, r2_score\n",
    "model_score = model.score(X_train, y_train)\n",
    "# Have a look at R sq to give an idea of the fit ,\n",
    "# Explained variance score: 1 is perfect prediction\n",
    "print('R2 sq: ',model_score)\n",
    "y_predicted = model.predict(X_test)\n",
    "\n",
    "# The mean squared error\n",
    "print(\"Mean squared error: %.2f\"% mean_squared_error(y_test, y_predicted))\n",
    "# Explained variance score: 1 is perfect prediction\n",
    "print('Test Variance score: %.2f' % r2_score(y_test, y_predicted))"
   ]
  },
  {
   "cell_type": "code",
   "execution_count": 45,
   "metadata": {},
   "outputs": [
    {
     "data": {
      "image/png": "[encoded data removed]",
      "text/plain": [
       "<Figure size 432x288 with 1 Axes>"
      ]
     },
     "metadata": {
      "needs_background": "light"
     },
     "output_type": "display_data"
    }
   ],
   "source": [
    "from sklearn.model_selection import cross_val_predict\n",
    "\n",
    "fig, ax = plt.subplots()\n",
    "ax.scatter(y_test, y_predicted, edgecolors=(0, 0, 0))\n",
    "ax.plot([y_test.min(), y_test.max()], [y_test.min(), y_test.max()], 'k--', lw=4)\n",
    "ax.set_xlabel('Actual')\n",
    "ax.set_ylabel('Predicted')\n",
    "ax.set_title(\"Ground Truth vs Predicted\")\n",
    "plt.show()"
   ]
  },
  {
   "cell_type": "code",
   "execution_count": 46,
   "metadata": {},
   "outputs": [
    {
     "data": {
      "text/plain": [
       "Text(0, 0.5, 'Deviance')"
      ]
     },
     "execution_count": 46,
     "metadata": {},
     "output_type": "execute_result"
    },
    {
     "data": {
      "image/png": "[encoded data removed]",
      "text/plain": [
       "<Figure size 864x432 with 1 Axes>"
      ]
     },
     "metadata": {
      "needs_background": "light"
     },
     "output_type": "display_data"
    }
   ],
   "source": [
    "test_score = np.zeros((params['n_estimators'],), dtype=np.float64)\n",
    "\n",
    "for i, y_pred in enumerate(clf.staged_predict(X_test)):\n",
    "    test_score[i] = clf.loss_(y_test, y_pred)\n",
    "\n",
    "plt.figure(figsize=(12, 6))\n",
    "plt.subplot(1, 2, 1)\n",
    "plt.title('Deviance')\n",
    "plt.plot(np.arange(params['n_estimators']) + 1, clf.train_score_, 'b-',\n",
    "         label='Training Set Deviance')\n",
    "plt.plot(np.arange(params['n_estimators']) + 1, test_score, 'r-',\n",
    "         label='Test Set Deviance')\n",
    "plt.legend(loc='upper right')\n",
    "plt.xlabel('Boosting Iterations')\n",
    "plt.ylabel('Deviance')"
   ]
  },
  {
   "cell_type": "code",
   "execution_count": 47,
   "metadata": {},
   "outputs": [
    {
     "data": {
      "image/png": "[encoded data removed]",
      "text/plain": [
       "<Figure size 432x288 with 1 Axes>"
      ]
     },
     "metadata": {
      "needs_background": "light"
     },
     "output_type": "display_data"
    }
   ],
   "source": [
    "feature_importance = clf.feature_importances_\n",
    "# make importances relative to max importance\n",
    "feature_importance = 100.0 * (feature_importance / feature_importance.max())\n",
    "sorted_idx = np.argsort(feature_importance)\n",
    "pos = np.arange(sorted_idx.shape[0]) + .5\n",
    "plt.subplot(1, 2, 2)\n",
    "plt.barh(pos, feature_importance[sorted_idx], align='center')\n",
    "plt.yticks(pos,df_X)\n",
    "plt.xlabel('Relative Importance')\n",
    "plt.title('Variable Importance')\n",
    "plt.show()"
   ]
  },
  {
   "cell_type": "code",
   "execution_count": 48,
   "metadata": {},
   "outputs": [
    {
     "data": {
      "image/png": "[encoded data removed]",
      "text/plain": [
       "<Figure size 1440x1080 with 12 Axes>"
      ]
     },
     "metadata": {
      "needs_background": "light"
     },
     "output_type": "display_data"
    }
   ],
   "source": [
    "%matplotlib inline\n",
    "import matplotlib.pyplot as plt\n",
    "df_p.hist(bins=50, figsize=(20,15))\n",
    "plt.savefig(\"attribute_histogram_plots\")\n",
    "plt.show()"
   ]
  },
  {
   "cell_type": "code",
   "execution_count": 49,
   "metadata": {},
   "outputs": [],
   "source": [
    "y=df.log_tripcount\n",
    "X= df_p\n",
    "(X_train, X_test, y_train, y_test)=train_test_split(X,y,test_size=0.25)\n",
    "lr=LinearRegression()"
   ]
  },
  {
   "cell_type": "code",
   "execution_count": 50,
   "metadata": {},
   "outputs": [
    {
     "data": {
      "text/plain": [
       "0.705723335525443"
      ]
     },
     "execution_count": 50,
     "metadata": {},
     "output_type": "execute_result"
    }
   ],
   "source": [
    "lr.fit(X_train,y_train)\n",
    "y_lr_pred=lr.predict(X_test)\n",
    "lr.score(X_test,y_lr_pred)\n",
    "mean_squared_error(y_test,y_lr_pred)"
   ]
  },
  {
   "cell_type": "code",
   "execution_count": 51,
   "metadata": {},
   "outputs": [
    {
     "name": "stdout",
     "output_type": "stream",
     "text": [
      "R-squared regression: 0.46817270419122187\n",
      "R-squared PLSR: 0.46817270419122187\n"
     ]
    },
    {
     "data": {
      "image/png": "[encoded data removed]",
      "text/plain": [
       "<Figure size 432x288 with 1 Axes>"
      ]
     },
     "metadata": {
      "needs_background": "light"
     },
     "output_type": "display_data"
    }
   ],
   "source": [
    "regr = linear_model.LinearRegression()\n",
    "regr.fit(X, y)\n",
    "\n",
    "Y_lr_pred = regr.predict(X)\n",
    "print('R-squared regression:', regr.score(X, y))\n",
    "\n",
    "\n",
    "pls1 = PLSRegression(n_components=10)\n",
    "\n",
    "\n",
    "pls1.fit(X, y)\n",
    "\n",
    "\n",
    "Y_PLS_pred = pls1.predict(X)\n",
    "print('R-squared PLSR:', pls1.score(X, y))\n",
    "\n",
    "\n",
    "plt.scatter(Y_pred,Y_PLS_pred) \n",
    "plt.xlabel('Predicted by features')\n",
    "plt.ylabel('Predicted by 10 features')\n",
    "plt.title('Comparing LR and PLSR predictions')\n",
    "plt.show()"
   ]
  },
  {
   "cell_type": "code",
   "execution_count": 52,
   "metadata": {},
   "outputs": [
    {
     "name": "stdout",
     "output_type": "stream",
     "text": [
      "\n",
      "R-squared simple model:\n",
      "0.46817270419122187\n"
     ]
    }
   ],
   "source": [
    "regr1 = linear_model.LinearRegression()\n",
    "Y_train = df['log_tripcount']\n",
    "X_train = df_p\n",
    "\n",
    "regr1.fit(X_train, Y_train)\n",
    "print('\\nR-squared simple model:')\n",
    "print(regr1.score(X_train, Y_train))"
   ]
  },
  {
   "cell_type": "code",
   "execution_count": 53,
   "metadata": {},
   "outputs": [
    {
     "data": {
      "text/plain": [
       "array([-0.92003542, -0.71043121,  0.09349909, -0.43928694,  0.26446807])"
      ]
     },
     "execution_count": 53,
     "metadata": {},
     "output_type": "execute_result"
    }
   ],
   "source": [
    "cross_val_score(regr1, X_train, Y_train, cv=5,scoring = 'r2')"
   ]
  },
  {
   "cell_type": "code",
   "execution_count": 54,
   "metadata": {},
   "outputs": [
    {
     "name": "stdout",
     "output_type": "stream",
     "text": [
      "[0.02307768 0.02513276 0.03428225 0.03143228 0.22712648 0.06503543\n",
      " 0.04322482 0.41363699 0.02903609 0.10801522]\n"
     ]
    },
    {
     "name": "stderr",
     "output_type": "stream",
     "text": [
      "/anaconda3/lib/python3.7/site-packages/sklearn/ensemble/forest.py:246: FutureWarning: The default value of n_estimators will change from 10 in version 0.20 to 100 in 0.22.\n",
      "  \"10 in version 0.20 to 100 in 0.22.\", FutureWarning)\n"
     ]
    }
   ],
   "source": [
    "regr = ensemble.RandomForestRegressor()\n",
    "X = df_p\n",
    "Y = df['log_tripcount']\n",
    "regr.fit(X, Y)\n",
    "\n",
    "print(regr.feature_importances_)"
   ]
  },
  {
   "cell_type": "code",
   "execution_count": 55,
   "metadata": {},
   "outputs": [],
   "source": [
    "y_gb2 = df['log_tripcount'] - 1\n",
    "X_gb2 = df_p.loc[:,:]\n",
    "\n",
    "\n",
    "X_gb2 = df_p\n",
    "\n",
    "# Create training and test sets.\n",
    "offset = int(X.shape[0] * 0.9)\n",
    "\n"
   ]
  },
  {
   "cell_type": "code",
   "execution_count": 56,
   "metadata": {},
   "outputs": [
    {
     "name": "stdout",
     "output_type": "stream",
     "text": [
      "MSE: 0.4855\n"
     ]
    }
   ],
   "source": [
    "params = {'n_estimators': 500,\n",
    "          'max_depth': 2}\n",
    "\n",
    "\n",
    "clf = ensemble.GradientBoostingRegressor(**params)\n",
    "\n",
    "clf.fit(X_train, Y_train)\n",
    "mse = mean_squared_error(y_test, clf.predict(X_test))\n",
    "print(\"MSE: %.4f\" % mse)\n"
   ]
  },
  {
   "cell_type": "code",
   "execution_count": 57,
   "metadata": {},
   "outputs": [
    {
     "data": {
      "text/plain": [
       "GradientBoostingRegressor(alpha=0.9, criterion='friedman_mse', init=None,\n",
       "             learning_rate=0.01, loss='ls', max_depth=4, max_features=None,\n",
       "             max_leaf_nodes=None, min_impurity_decrease=0.0,\n",
       "             min_impurity_split=None, min_samples_leaf=1,\n",
       "             min_samples_split=2, min_weight_fraction_leaf=0.0,\n",
       "             n_estimators=500, n_iter_no_change=None, presort='auto',\n",
       "             random_state=None, subsample=1.0, tol=0.0001,\n",
       "             validation_fraction=0.1, verbose=0, warm_start=False)"
      ]
     },
     "execution_count": 57,
     "metadata": {},
     "output_type": "execute_result"
    }
   ],
   "source": [
    "params = {'n_estimators': 500, 'max_depth': 4, 'min_samples_split': 2,\n",
    "          'learning_rate': 0.01, 'loss': 'ls'}\n",
    "model = ensemble.GradientBoostingRegressor(**params)\n",
    "\n",
    "model.fit(X_train, Y_train)"
   ]
  },
  {
   "cell_type": "code",
   "execution_count": 58,
   "metadata": {
    "scrolled": true
   },
   "outputs": [
    {
     "name": "stdout",
     "output_type": "stream",
     "text": [
      "R2 sq:  0.616899545603221\n",
      "Mean squared error: 0.50\n",
      "Test Variance score: 0.62\n"
     ]
    }
   ],
   "source": [
    "model_score = model.score(X_train, Y_train)\n",
    "# Have a look at R sq to give an idea of the fit ,\n",
    "# Explained variance score: 1 is perfect prediction\n",
    "print('R2 sq: ',model_score)\n",
    "y_gradient_pred = model.predict(X_test)\n",
    "\n",
    "# The mean squared error\n",
    "print(\"Mean squared error: %.2f\"% mean_squared_error(y_test, y_gradient_pred))\n",
    "# Explained variance score: 1 is perfect prediction\n",
    "print('Test Variance score: %.2f' % r2_score(y_test, y_gradient_pred))"
   ]
  },
  {
   "cell_type": "code",
   "execution_count": 59,
   "metadata": {},
   "outputs": [
    {
     "data": {
      "text/plain": [
       "array([-0.85669256, -1.12429688, -0.54072056, -0.94253659, -0.0304668 ])"
      ]
     },
     "execution_count": 59,
     "metadata": {},
     "output_type": "execute_result"
    }
   ],
   "source": [
    "cross_val_score(model, X_train, Y_train, cv=5, scoring= 'r2' )"
   ]
  },
  {
   "cell_type": "code",
   "execution_count": 60,
   "metadata": {},
   "outputs": [
    {
     "data": {
      "image/png": "[encoded data removed]",
      "text/plain": [
       "<Figure size 432x288 with 1 Axes>"
      ]
     },
     "metadata": {
      "needs_background": "light"
     },
     "output_type": "display_data"
    }
   ],
   "source": [
    "fig, ax = plt.subplots()\n",
    "ax.scatter(y_test, y_gradient_pred, edgecolors=(0, 0, 0))\n",
    "ax.plot([y_test.min(), y_test.max()], [y_test.min(), y_test.max()], 'k--', lw=4)\n",
    "ax.set_xlabel('Actual')\n",
    "ax.set_ylabel('Predicted')\n",
    "ax.set_title(\"Ground Truth vs Predicted\")\n",
    "plt.show()"
   ]
  },
  {
   "cell_type": "code",
   "execution_count": 61,
   "metadata": {},
   "outputs": [
    {
     "data": {
      "text/plain": [
       "Text(0, 0.5, 'Deviance')"
      ]
     },
     "execution_count": 61,
     "metadata": {},
     "output_type": "execute_result"
    },
    {
     "data": {
      "image/png": "[encoded data removed]",
      "text/plain": [
       "<Figure size 864x432 with 1 Axes>"
      ]
     },
     "metadata": {
      "needs_background": "light"
     },
     "output_type": "display_data"
    }
   ],
   "source": [
    "test_score = np.zeros((params['n_estimators'],), dtype=np.float64)\n",
    "\n",
    "for i, y_pred in enumerate(clf.staged_predict(X_test)):\n",
    "    test_score[i] = clf.loss_(y_test, y_pred)\n",
    "\n",
    "plt.figure(figsize=(12, 6))\n",
    "plt.subplot(1, 2, 1)\n",
    "plt.title('Deviance')\n",
    "plt.plot(np.arange(params['n_estimators']) + 1, clf.train_score_, 'b-',\n",
    "         label='Training Set Deviance')\n",
    "plt.plot(np.arange(params['n_estimators']) + 1, test_score, 'r-',\n",
    "         label='Test Set Deviance')\n",
    "plt.legend(loc='upper right')\n",
    "plt.xlabel('Boosting Iterations')\n",
    "plt.ylabel('Deviance')"
   ]
  },
  {
   "cell_type": "code",
   "execution_count": 62,
   "metadata": {},
   "outputs": [
    {
     "name": "stdout",
     "output_type": "stream",
     "text": [
      "R-squared regression: 0.46817270419122187\n",
      "R-squared PLSR: 0.46817270419122187\n"
     ]
    },
    {
     "data": {
      "image/png": "[encoded data removed]",
      "text/plain": [
       "<Figure size 432x288 with 1 Axes>"
      ]
     },
     "metadata": {
      "needs_background": "light"
     },
     "output_type": "display_data"
    }
   ],
   "source": [
    "regr = linear_model.LinearRegression()\n",
    "regr.fit(X, y)\n",
    "\n",
    "Y_lr_pred = regr.predict(X_test)\n",
    "print('R-squared regression:', regr.score(X, y))\n",
    "\n",
    "\n",
    "pls1 = PLSRegression(n_components=10)\n",
    "\n",
    "\n",
    "pls1.fit(X, y)\n",
    "\n",
    "\n",
    "Y_PLS_pred = pls1.predict(X_test)\n",
    "print('R-squared PLSR:', pls1.score(X, y))\n",
    "\n",
    "\n",
    "plt.scatter(y_test,Y_lr_pred) \n",
    "plt.xlabel('actual by features')\n",
    "plt.ylabel('Predicted by 10 features')\n",
    "plt.title('Comparing LR and PLSR predictions')\n",
    "plt.show()"
   ]
  },
  {
   "cell_type": "code",
   "execution_count": 63,
   "metadata": {},
   "outputs": [
    {
     "data": {
      "text/html": [
       "<div>\n",
       "<style scoped>\n",
       "    .dataframe tbody tr th:only-of-type {\n",
       "        vertical-align: middle;\n",
       "    }\n",
       "\n",
       "    .dataframe tbody tr th {\n",
       "        vertical-align: top;\n",
       "    }\n",
       "\n",
       "    .dataframe thead th {\n",
       "        text-align: right;\n",
       "    }\n",
       "</style>\n",
       "<table border=\"1\" class=\"dataframe\">\n",
       "  <thead>\n",
       "    <tr style=\"text-align: right;\">\n",
       "      <th></th>\n",
       "      <th>CensusTract</th>\n",
       "      <th>County</th>\n",
       "      <th>Borough</th>\n",
       "      <th>TotalPop</th>\n",
       "      <th>Men</th>\n",
       "      <th>Women</th>\n",
       "      <th>Hispanic</th>\n",
       "      <th>White</th>\n",
       "      <th>Black</th>\n",
       "      <th>Native</th>\n",
       "      <th>...</th>\n",
       "      <th>Walk</th>\n",
       "      <th>OtherTransp</th>\n",
       "      <th>WorkAtHome</th>\n",
       "      <th>MeanCommute</th>\n",
       "      <th>Employed</th>\n",
       "      <th>PrivateWork</th>\n",
       "      <th>PublicWork</th>\n",
       "      <th>SelfEmployed</th>\n",
       "      <th>FamilyWork</th>\n",
       "      <th>Unemployment</th>\n",
       "    </tr>\n",
       "  </thead>\n",
       "  <tbody>\n",
       "    <tr>\n",
       "      <th>0</th>\n",
       "      <td>36005000100</td>\n",
       "      <td>Bronx</td>\n",
       "      <td>Bronx</td>\n",
       "      <td>7703</td>\n",
       "      <td>7133</td>\n",
       "      <td>570</td>\n",
       "      <td>29.9</td>\n",
       "      <td>6.1</td>\n",
       "      <td>60.9</td>\n",
       "      <td>0.2</td>\n",
       "      <td>...</td>\n",
       "      <td>NaN</td>\n",
       "      <td>NaN</td>\n",
       "      <td>NaN</td>\n",
       "      <td>NaN</td>\n",
       "      <td>0</td>\n",
       "      <td>NaN</td>\n",
       "      <td>NaN</td>\n",
       "      <td>NaN</td>\n",
       "      <td>NaN</td>\n",
       "      <td>NaN</td>\n",
       "    </tr>\n",
       "    <tr>\n",
       "      <th>1</th>\n",
       "      <td>36005000200</td>\n",
       "      <td>Bronx</td>\n",
       "      <td>Bronx</td>\n",
       "      <td>5403</td>\n",
       "      <td>2659</td>\n",
       "      <td>2744</td>\n",
       "      <td>75.8</td>\n",
       "      <td>2.3</td>\n",
       "      <td>16.0</td>\n",
       "      <td>0.0</td>\n",
       "      <td>...</td>\n",
       "      <td>2.9</td>\n",
       "      <td>0.0</td>\n",
       "      <td>0.0</td>\n",
       "      <td>43.0</td>\n",
       "      <td>2308</td>\n",
       "      <td>80.8</td>\n",
       "      <td>16.2</td>\n",
       "      <td>2.9</td>\n",
       "      <td>0.0</td>\n",
       "      <td>7.7</td>\n",
       "    </tr>\n",
       "    <tr>\n",
       "      <th>2</th>\n",
       "      <td>36005000400</td>\n",
       "      <td>Bronx</td>\n",
       "      <td>Bronx</td>\n",
       "      <td>5915</td>\n",
       "      <td>2896</td>\n",
       "      <td>3019</td>\n",
       "      <td>62.7</td>\n",
       "      <td>3.6</td>\n",
       "      <td>30.7</td>\n",
       "      <td>0.0</td>\n",
       "      <td>...</td>\n",
       "      <td>1.4</td>\n",
       "      <td>0.5</td>\n",
       "      <td>2.1</td>\n",
       "      <td>45.0</td>\n",
       "      <td>2675</td>\n",
       "      <td>71.7</td>\n",
       "      <td>25.3</td>\n",
       "      <td>2.5</td>\n",
       "      <td>0.6</td>\n",
       "      <td>9.5</td>\n",
       "    </tr>\n",
       "    <tr>\n",
       "      <th>3</th>\n",
       "      <td>36005001600</td>\n",
       "      <td>Bronx</td>\n",
       "      <td>Bronx</td>\n",
       "      <td>5879</td>\n",
       "      <td>2558</td>\n",
       "      <td>3321</td>\n",
       "      <td>65.1</td>\n",
       "      <td>1.6</td>\n",
       "      <td>32.4</td>\n",
       "      <td>0.0</td>\n",
       "      <td>...</td>\n",
       "      <td>8.6</td>\n",
       "      <td>1.6</td>\n",
       "      <td>1.7</td>\n",
       "      <td>38.8</td>\n",
       "      <td>2120</td>\n",
       "      <td>75.0</td>\n",
       "      <td>21.3</td>\n",
       "      <td>3.8</td>\n",
       "      <td>0.0</td>\n",
       "      <td>8.7</td>\n",
       "    </tr>\n",
       "    <tr>\n",
       "      <th>4</th>\n",
       "      <td>36005001900</td>\n",
       "      <td>Bronx</td>\n",
       "      <td>Bronx</td>\n",
       "      <td>2591</td>\n",
       "      <td>1206</td>\n",
       "      <td>1385</td>\n",
       "      <td>55.4</td>\n",
       "      <td>9.0</td>\n",
       "      <td>29.0</td>\n",
       "      <td>0.0</td>\n",
       "      <td>...</td>\n",
       "      <td>3.0</td>\n",
       "      <td>2.4</td>\n",
       "      <td>6.2</td>\n",
       "      <td>45.4</td>\n",
       "      <td>1083</td>\n",
       "      <td>76.8</td>\n",
       "      <td>15.5</td>\n",
       "      <td>7.7</td>\n",
       "      <td>0.0</td>\n",
       "      <td>19.2</td>\n",
       "    </tr>\n",
       "  </tbody>\n",
       "</table>\n",
       "<p>5 rows × 36 columns</p>\n",
       "</div>"
      ],
      "text/plain": [
       "   CensusTract County Borough  TotalPop   Men  Women  Hispanic  White  Black  \\\n",
       "0  36005000100  Bronx   Bronx      7703  7133    570      29.9    6.1   60.9   \n",
       "1  36005000200  Bronx   Bronx      5403  2659   2744      75.8    2.3   16.0   \n",
       "2  36005000400  Bronx   Bronx      5915  2896   3019      62.7    3.6   30.7   \n",
       "3  36005001600  Bronx   Bronx      5879  2558   3321      65.1    1.6   32.4   \n",
       "4  36005001900  Bronx   Bronx      2591  1206   1385      55.4    9.0   29.0   \n",
       "\n",
       "   Native  ...  Walk  OtherTransp  WorkAtHome  MeanCommute  Employed  \\\n",
       "0     0.2  ...   NaN          NaN         NaN          NaN         0   \n",
       "1     0.0  ...   2.9          0.0         0.0         43.0      2308   \n",
       "2     0.0  ...   1.4          0.5         2.1         45.0      2675   \n",
       "3     0.0  ...   8.6          1.6         1.7         38.8      2120   \n",
       "4     0.0  ...   3.0          2.4         6.2         45.4      1083   \n",
       "\n",
       "   PrivateWork  PublicWork  SelfEmployed  FamilyWork  Unemployment  \n",
       "0          NaN         NaN           NaN         NaN           NaN  \n",
       "1         80.8        16.2           2.9         0.0           7.7  \n",
       "2         71.7        25.3           2.5         0.6           9.5  \n",
       "3         75.0        21.3           3.8         0.0           8.7  \n",
       "4         76.8        15.5           7.7         0.0          19.2  \n",
       "\n",
       "[5 rows x 36 columns]"
      ]
     },
     "execution_count": 63,
     "metadata": {},
     "output_type": "execute_result"
    }
   ],
   "source": [
    "data_ny=pd.read_csv('nyc_census_tracts.csv',keep_default_na=False, na_values=[\"\"])\n",
    "data_ny.head()"
   ]
  },
  {
   "cell_type": "code",
   "execution_count": 64,
   "metadata": {},
   "outputs": [
    {
     "data": {
      "text/html": [
       "<div>\n",
       "<style scoped>\n",
       "    .dataframe tbody tr th:only-of-type {\n",
       "        vertical-align: middle;\n",
       "    }\n",
       "\n",
       "    .dataframe tbody tr th {\n",
       "        vertical-align: top;\n",
       "    }\n",
       "\n",
       "    .dataframe thead th {\n",
       "        text-align: right;\n",
       "    }\n",
       "</style>\n",
       "<table border=\"1\" class=\"dataframe\">\n",
       "  <thead>\n",
       "    <tr style=\"text-align: right;\">\n",
       "      <th></th>\n",
       "      <th>Latitude</th>\n",
       "      <th>Longitude</th>\n",
       "      <th>BlockCode</th>\n",
       "      <th>County</th>\n",
       "      <th>State</th>\n",
       "    </tr>\n",
       "  </thead>\n",
       "  <tbody>\n",
       "    <tr>\n",
       "      <th>0</th>\n",
       "      <td>40.48</td>\n",
       "      <td>-74.280000</td>\n",
       "      <td>340230076002012</td>\n",
       "      <td>Middlesex</td>\n",
       "      <td>NJ</td>\n",
       "    </tr>\n",
       "    <tr>\n",
       "      <th>1</th>\n",
       "      <td>40.48</td>\n",
       "      <td>-74.276834</td>\n",
       "      <td>340230076005000</td>\n",
       "      <td>Middlesex</td>\n",
       "      <td>NJ</td>\n",
       "    </tr>\n",
       "    <tr>\n",
       "      <th>2</th>\n",
       "      <td>40.48</td>\n",
       "      <td>-74.273668</td>\n",
       "      <td>340230076003018</td>\n",
       "      <td>Middlesex</td>\n",
       "      <td>NJ</td>\n",
       "    </tr>\n",
       "    <tr>\n",
       "      <th>3</th>\n",
       "      <td>40.48</td>\n",
       "      <td>-74.270503</td>\n",
       "      <td>340230076003004</td>\n",
       "      <td>Middlesex</td>\n",
       "      <td>NJ</td>\n",
       "    </tr>\n",
       "    <tr>\n",
       "      <th>4</th>\n",
       "      <td>40.48</td>\n",
       "      <td>-74.267337</td>\n",
       "      <td>340230074021000</td>\n",
       "      <td>Middlesex</td>\n",
       "      <td>NJ</td>\n",
       "    </tr>\n",
       "  </tbody>\n",
       "</table>\n",
       "</div>"
      ],
      "text/plain": [
       "   Latitude  Longitude        BlockCode     County State\n",
       "0     40.48 -74.280000  340230076002012  Middlesex    NJ\n",
       "1     40.48 -74.276834  340230076005000  Middlesex    NJ\n",
       "2     40.48 -74.273668  340230076003018  Middlesex    NJ\n",
       "3     40.48 -74.270503  340230076003004  Middlesex    NJ\n",
       "4     40.48 -74.267337  340230074021000  Middlesex    NJ"
      ]
     },
     "execution_count": 64,
     "metadata": {},
     "output_type": "execute_result"
    }
   ],
   "source": [
    "data_census=pd.read_csv('census_block_loc.csv',keep_default_na=False, na_values=[\"\"])\n",
    "data_census.head()"
   ]
  },
  {
   "cell_type": "code",
   "execution_count": 65,
   "metadata": {},
   "outputs": [],
   "source": [
    "data_census['BlockCode_11'] = data_census['BlockCode'].apply(lambda x: int(str(x)[0:11]))"
   ]
  },
  {
   "cell_type": "code",
   "execution_count": 67,
   "metadata": {
    "scrolled": true
   },
   "outputs": [
    {
     "data": {
      "text/html": [
       "<div>\n",
       "<style scoped>\n",
       "    .dataframe tbody tr th:only-of-type {\n",
       "        vertical-align: middle;\n",
       "    }\n",
       "\n",
       "    .dataframe tbody tr th {\n",
       "        vertical-align: top;\n",
       "    }\n",
       "\n",
       "    .dataframe thead th {\n",
       "        text-align: right;\n",
       "    }\n",
       "</style>\n",
       "<table border=\"1\" class=\"dataframe\">\n",
       "  <thead>\n",
       "    <tr style=\"text-align: right;\">\n",
       "      <th></th>\n",
       "      <th>CensusTract</th>\n",
       "      <th>County_x</th>\n",
       "      <th>Borough</th>\n",
       "      <th>TotalPop</th>\n",
       "      <th>Men</th>\n",
       "      <th>Women</th>\n",
       "      <th>Hispanic</th>\n",
       "      <th>White</th>\n",
       "      <th>Black</th>\n",
       "      <th>Native</th>\n",
       "      <th>...</th>\n",
       "      <th>PublicWork</th>\n",
       "      <th>SelfEmployed</th>\n",
       "      <th>FamilyWork</th>\n",
       "      <th>Unemployment</th>\n",
       "      <th>Latitude</th>\n",
       "      <th>Longitude</th>\n",
       "      <th>BlockCode</th>\n",
       "      <th>County_y</th>\n",
       "      <th>State</th>\n",
       "      <th>BlockCode_11</th>\n",
       "    </tr>\n",
       "  </thead>\n",
       "  <tbody>\n",
       "    <tr>\n",
       "      <th>0</th>\n",
       "      <td>36005000100</td>\n",
       "      <td>Bronx</td>\n",
       "      <td>Bronx</td>\n",
       "      <td>7703</td>\n",
       "      <td>7133</td>\n",
       "      <td>570</td>\n",
       "      <td>29.9</td>\n",
       "      <td>6.1</td>\n",
       "      <td>60.9</td>\n",
       "      <td>0.2</td>\n",
       "      <td>...</td>\n",
       "      <td>NaN</td>\n",
       "      <td>NaN</td>\n",
       "      <td>NaN</td>\n",
       "      <td>NaN</td>\n",
       "      <td>40.787538</td>\n",
       "      <td>-73.887437</td>\n",
       "      <td>360050001001007</td>\n",
       "      <td>Bronx</td>\n",
       "      <td>NY</td>\n",
       "      <td>36005000100</td>\n",
       "    </tr>\n",
       "    <tr>\n",
       "      <th>1</th>\n",
       "      <td>36005000100</td>\n",
       "      <td>Bronx</td>\n",
       "      <td>Bronx</td>\n",
       "      <td>7703</td>\n",
       "      <td>7133</td>\n",
       "      <td>570</td>\n",
       "      <td>29.9</td>\n",
       "      <td>6.1</td>\n",
       "      <td>60.9</td>\n",
       "      <td>0.2</td>\n",
       "      <td>...</td>\n",
       "      <td>NaN</td>\n",
       "      <td>NaN</td>\n",
       "      <td>NaN</td>\n",
       "      <td>NaN</td>\n",
       "      <td>40.787538</td>\n",
       "      <td>-73.884271</td>\n",
       "      <td>360050001001005</td>\n",
       "      <td>Bronx</td>\n",
       "      <td>NY</td>\n",
       "      <td>36005000100</td>\n",
       "    </tr>\n",
       "    <tr>\n",
       "      <th>2</th>\n",
       "      <td>36005000100</td>\n",
       "      <td>Bronx</td>\n",
       "      <td>Bronx</td>\n",
       "      <td>7703</td>\n",
       "      <td>7133</td>\n",
       "      <td>570</td>\n",
       "      <td>29.9</td>\n",
       "      <td>6.1</td>\n",
       "      <td>60.9</td>\n",
       "      <td>0.2</td>\n",
       "      <td>...</td>\n",
       "      <td>NaN</td>\n",
       "      <td>NaN</td>\n",
       "      <td>NaN</td>\n",
       "      <td>NaN</td>\n",
       "      <td>40.787538</td>\n",
       "      <td>-73.881106</td>\n",
       "      <td>360050001001003</td>\n",
       "      <td>Bronx</td>\n",
       "      <td>NY</td>\n",
       "      <td>36005000100</td>\n",
       "    </tr>\n",
       "    <tr>\n",
       "      <th>3</th>\n",
       "      <td>36005000100</td>\n",
       "      <td>Bronx</td>\n",
       "      <td>Bronx</td>\n",
       "      <td>7703</td>\n",
       "      <td>7133</td>\n",
       "      <td>570</td>\n",
       "      <td>29.9</td>\n",
       "      <td>6.1</td>\n",
       "      <td>60.9</td>\n",
       "      <td>0.2</td>\n",
       "      <td>...</td>\n",
       "      <td>NaN</td>\n",
       "      <td>NaN</td>\n",
       "      <td>NaN</td>\n",
       "      <td>NaN</td>\n",
       "      <td>40.787538</td>\n",
       "      <td>-73.877940</td>\n",
       "      <td>360050001001003</td>\n",
       "      <td>Bronx</td>\n",
       "      <td>NY</td>\n",
       "      <td>36005000100</td>\n",
       "    </tr>\n",
       "    <tr>\n",
       "      <th>4</th>\n",
       "      <td>36005000100</td>\n",
       "      <td>Bronx</td>\n",
       "      <td>Bronx</td>\n",
       "      <td>7703</td>\n",
       "      <td>7133</td>\n",
       "      <td>570</td>\n",
       "      <td>29.9</td>\n",
       "      <td>6.1</td>\n",
       "      <td>60.9</td>\n",
       "      <td>0.2</td>\n",
       "      <td>...</td>\n",
       "      <td>NaN</td>\n",
       "      <td>NaN</td>\n",
       "      <td>NaN</td>\n",
       "      <td>NaN</td>\n",
       "      <td>40.787538</td>\n",
       "      <td>-73.874774</td>\n",
       "      <td>360050001001006</td>\n",
       "      <td>Bronx</td>\n",
       "      <td>NY</td>\n",
       "      <td>36005000100</td>\n",
       "    </tr>\n",
       "  </tbody>\n",
       "</table>\n",
       "<p>5 rows × 42 columns</p>\n",
       "</div>"
      ],
      "text/plain": [
       "   CensusTract County_x Borough  TotalPop   Men  Women  Hispanic  White  \\\n",
       "0  36005000100    Bronx   Bronx      7703  7133    570      29.9    6.1   \n",
       "1  36005000100    Bronx   Bronx      7703  7133    570      29.9    6.1   \n",
       "2  36005000100    Bronx   Bronx      7703  7133    570      29.9    6.1   \n",
       "3  36005000100    Bronx   Bronx      7703  7133    570      29.9    6.1   \n",
       "4  36005000100    Bronx   Bronx      7703  7133    570      29.9    6.1   \n",
       "\n",
       "   Black  Native  ...  PublicWork  SelfEmployed  FamilyWork  Unemployment  \\\n",
       "0   60.9     0.2  ...         NaN           NaN         NaN           NaN   \n",
       "1   60.9     0.2  ...         NaN           NaN         NaN           NaN   \n",
       "2   60.9     0.2  ...         NaN           NaN         NaN           NaN   \n",
       "3   60.9     0.2  ...         NaN           NaN         NaN           NaN   \n",
       "4   60.9     0.2  ...         NaN           NaN         NaN           NaN   \n",
       "\n",
       "    Latitude  Longitude        BlockCode  County_y  State  BlockCode_11  \n",
       "0  40.787538 -73.887437  360050001001007     Bronx     NY   36005000100  \n",
       "1  40.787538 -73.884271  360050001001005     Bronx     NY   36005000100  \n",
       "2  40.787538 -73.881106  360050001001003     Bronx     NY   36005000100  \n",
       "3  40.787538 -73.877940  360050001001003     Bronx     NY   36005000100  \n",
       "4  40.787538 -73.874774  360050001001006     Bronx     NY   36005000100  \n",
       "\n",
       "[5 rows x 42 columns]"
      ]
     },
     "execution_count": 67,
     "metadata": {},
     "output_type": "execute_result"
    }
   ],
   "source": [
    "df_census= pd.merge(left=data_ny,right= data_census, how='inner', on=None, left_on='CensusTract', right_on='BlockCode_11',\n",
    "        left_index=False, right_index=False, sort=True,\n",
    "        suffixes=('_x', '_y'), copy=True, indicator=False,\n",
    "        validate=None)\n",
    "df_census.head()"
   ]
  },
  {
   "cell_type": "code",
   "execution_count": 68,
   "metadata": {},
   "outputs": [],
   "source": [
    "df_predict= df_census[['TotalPop','Women','Income','Poverty','Drive','WorkAtHome','MeanCommute',\n",
    "     'Citizen','IncomePerCap']].dropna(axis=0)"
   ]
  },
  {
   "cell_type": "code",
   "execution_count": 69,
   "metadata": {},
   "outputs": [
    {
     "ename": "ValueError",
     "evalue": "Found input variables with inconsistent numbers of samples: [1495, 1121]",
     "output_type": "error",
     "traceback": [
      "\u001b[0;31m---------------------------------------------------------------------------\u001b[0m",
      "\u001b[0;31mValueError\u001b[0m                                Traceback (most recent call last)",
      "\u001b[0;32m<ipython-input-69-9bb119e2ae46>\u001b[0m in \u001b[0;36m<module>\u001b[0;34m\u001b[0m\n\u001b[0;32m----> 1\u001b[0;31m \u001b[0mlr\u001b[0m\u001b[0;34m.\u001b[0m\u001b[0mfit\u001b[0m\u001b[0;34m(\u001b[0m\u001b[0mX_train\u001b[0m\u001b[0;34m,\u001b[0m\u001b[0my_train\u001b[0m\u001b[0;34m)\u001b[0m\u001b[0;34m\u001b[0m\u001b[0;34m\u001b[0m\u001b[0m\n\u001b[0m\u001b[1;32m      2\u001b[0m \u001b[0my_lr_pred\u001b[0m\u001b[0;34m=\u001b[0m\u001b[0mlr\u001b[0m\u001b[0;34m.\u001b[0m\u001b[0mpredict\u001b[0m\u001b[0;34m(\u001b[0m\u001b[0mdf_predict\u001b[0m\u001b[0;34m)\u001b[0m\u001b[0;34m\u001b[0m\u001b[0;34m\u001b[0m\u001b[0m\n\u001b[1;32m      3\u001b[0m \u001b[0mlr\u001b[0m\u001b[0;34m.\u001b[0m\u001b[0mscore\u001b[0m\u001b[0;34m(\u001b[0m\u001b[0mdf_predict\u001b[0m\u001b[0;34m,\u001b[0m\u001b[0my_lr_pred\u001b[0m\u001b[0;34m)\u001b[0m\u001b[0;34m\u001b[0m\u001b[0;34m\u001b[0m\u001b[0m\n\u001b[1;32m      4\u001b[0m \u001b[0mmean_squared_error\u001b[0m\u001b[0;34m(\u001b[0m\u001b[0my_test\u001b[0m\u001b[0;34m,\u001b[0m\u001b[0my_lr_pred\u001b[0m\u001b[0;34m)\u001b[0m\u001b[0;34m\u001b[0m\u001b[0;34m\u001b[0m\u001b[0m\n",
      "\u001b[0;32m/anaconda3/lib/python3.7/site-packages/sklearn/linear_model/base.py\u001b[0m in \u001b[0;36mfit\u001b[0;34m(self, X, y, sample_weight)\u001b[0m\n\u001b[1;32m    456\u001b[0m         \u001b[0mn_jobs_\u001b[0m \u001b[0;34m=\u001b[0m \u001b[0mself\u001b[0m\u001b[0;34m.\u001b[0m\u001b[0mn_jobs\u001b[0m\u001b[0;34m\u001b[0m\u001b[0;34m\u001b[0m\u001b[0m\n\u001b[1;32m    457\u001b[0m         X, y = check_X_y(X, y, accept_sparse=['csr', 'csc', 'coo'],\n\u001b[0;32m--> 458\u001b[0;31m                          y_numeric=True, multi_output=True)\n\u001b[0m\u001b[1;32m    459\u001b[0m \u001b[0;34m\u001b[0m\u001b[0m\n\u001b[1;32m    460\u001b[0m         \u001b[0;32mif\u001b[0m \u001b[0msample_weight\u001b[0m \u001b[0;32mis\u001b[0m \u001b[0;32mnot\u001b[0m \u001b[0;32mNone\u001b[0m \u001b[0;32mand\u001b[0m \u001b[0mnp\u001b[0m\u001b[0;34m.\u001b[0m\u001b[0matleast_1d\u001b[0m\u001b[0;34m(\u001b[0m\u001b[0msample_weight\u001b[0m\u001b[0;34m)\u001b[0m\u001b[0;34m.\u001b[0m\u001b[0mndim\u001b[0m \u001b[0;34m>\u001b[0m \u001b[0;36m1\u001b[0m\u001b[0;34m:\u001b[0m\u001b[0;34m\u001b[0m\u001b[0;34m\u001b[0m\u001b[0m\n",
      "\u001b[0;32m/anaconda3/lib/python3.7/site-packages/sklearn/utils/validation.py\u001b[0m in \u001b[0;36mcheck_X_y\u001b[0;34m(X, y, accept_sparse, accept_large_sparse, dtype, order, copy, force_all_finite, ensure_2d, allow_nd, multi_output, ensure_min_samples, ensure_min_features, y_numeric, warn_on_dtype, estimator)\u001b[0m\n\u001b[1;32m    764\u001b[0m         \u001b[0my\u001b[0m \u001b[0;34m=\u001b[0m \u001b[0my\u001b[0m\u001b[0;34m.\u001b[0m\u001b[0mastype\u001b[0m\u001b[0;34m(\u001b[0m\u001b[0mnp\u001b[0m\u001b[0;34m.\u001b[0m\u001b[0mfloat64\u001b[0m\u001b[0;34m)\u001b[0m\u001b[0;34m\u001b[0m\u001b[0;34m\u001b[0m\u001b[0m\n\u001b[1;32m    765\u001b[0m \u001b[0;34m\u001b[0m\u001b[0m\n\u001b[0;32m--> 766\u001b[0;31m     \u001b[0mcheck_consistent_length\u001b[0m\u001b[0;34m(\u001b[0m\u001b[0mX\u001b[0m\u001b[0;34m,\u001b[0m \u001b[0my\u001b[0m\u001b[0;34m)\u001b[0m\u001b[0;34m\u001b[0m\u001b[0;34m\u001b[0m\u001b[0m\n\u001b[0m\u001b[1;32m    767\u001b[0m \u001b[0;34m\u001b[0m\u001b[0m\n\u001b[1;32m    768\u001b[0m     \u001b[0;32mreturn\u001b[0m \u001b[0mX\u001b[0m\u001b[0;34m,\u001b[0m \u001b[0my\u001b[0m\u001b[0;34m\u001b[0m\u001b[0;34m\u001b[0m\u001b[0m\n",
      "\u001b[0;32m/anaconda3/lib/python3.7/site-packages/sklearn/utils/validation.py\u001b[0m in \u001b[0;36mcheck_consistent_length\u001b[0;34m(*arrays)\u001b[0m\n\u001b[1;32m    233\u001b[0m     \u001b[0;32mif\u001b[0m \u001b[0mlen\u001b[0m\u001b[0;34m(\u001b[0m\u001b[0muniques\u001b[0m\u001b[0;34m)\u001b[0m \u001b[0;34m>\u001b[0m \u001b[0;36m1\u001b[0m\u001b[0;34m:\u001b[0m\u001b[0;34m\u001b[0m\u001b[0;34m\u001b[0m\u001b[0m\n\u001b[1;32m    234\u001b[0m         raise ValueError(\"Found input variables with inconsistent numbers of\"\n\u001b[0;32m--> 235\u001b[0;31m                          \" samples: %r\" % [int(l) for l in lengths])\n\u001b[0m\u001b[1;32m    236\u001b[0m \u001b[0;34m\u001b[0m\u001b[0m\n\u001b[1;32m    237\u001b[0m \u001b[0;34m\u001b[0m\u001b[0m\n",
      "\u001b[0;31mValueError\u001b[0m: Found input variables with inconsistent numbers of samples: [1495, 1121]"
     ]
    }
   ],
   "source": [
    "lr.fit(X_train,y_train)\n",
    "y_lr_pred=lr.predict(df_predict)\n",
    "lr.score(df_predict,y_lr_pred)\n",
    "mean_squared_error(y_test,y_lr_pred)"
   ]
  },
  {
   "cell_type": "code",
   "execution_count": null,
   "metadata": {},
   "outputs": [],
   "source": []
  }
 ],
 "metadata": {
  "kernelspec": {
   "display_name": "Python 3",
   "language": "python",
   "name": "python3"
  },
  "language_info": {
   "codemirror_mode": {
    "name": "ipython",
    "version": 3
   },
   "file_extension": ".py",
   "mimetype": "text/x-python",
   "name": "python",
   "nbconvert_exporter": "python",
   "pygments_lexer": "ipython3",
   "version": "3.7.3"
  }
 },
 "nbformat": 4,
 "nbformat_minor": 2
}
