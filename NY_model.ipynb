{
 "cells": [
  {
   "cell_type": "code",
   "execution_count": 1,
   "metadata": {},
   "outputs": [],
   "source": [
    "import numpy as np\n",
    "import pandas as pd\n",
    "import scipy\n",
    "from datetime import datetime\n",
    "import datetime as dt\n",
    "import matplotlib.pyplot as plt\n",
    "import seaborn as sns\n",
    "import scipy.stats as stats\n",
    "from sklearn.linear_model import LinearRegression\n",
    "import statsmodels.formula.api as smf\n",
    "from sklearn.preprocessing import Binarizer\n",
    "from sklearn.metrics import f1_score, mean_squared_error\n",
    "from sklearn.model_selection import train_test_split\n",
    "from statsmodels.sandbox.regression.predstd import wls_prediction_std\n",
    "from sklearn import datasets, linear_model\n",
    "from sklearn.model_selection import train_test_split\n",
    "\n",
    "\n",
    "%matplotlib inline"
   ]
  },
  {
   "cell_type": "code",
   "execution_count": 2,
   "metadata": {
    "scrolled": false
   },
   "outputs": [
    {
     "name": "stdout",
     "output_type": "stream",
     "text": [
      "      Unnamed: 0  start_station_id  start_station_latitude  \\\n",
      "0           6521              72.0               40.767272   \n",
      "2          42233              82.0               40.711174   \n",
      "3          56934              83.0               40.683826   \n",
      "4          78536             116.0               40.741776   \n",
      "5          93334             119.0               40.696089   \n",
      "6         111430             120.0               40.686768   \n",
      "7         132640             127.0               40.731724   \n",
      "8         150624             128.0               40.727103   \n",
      "9         164708             143.0               40.692395   \n",
      "10        184509             144.0               40.698399   \n",
      "12        222733             150.0               40.720874   \n",
      "13        240877             151.0               40.722104   \n",
      "14        255196             157.0               40.690893   \n",
      "15        276998             161.0               40.729170   \n",
      "16        295193             164.0               40.753231   \n",
      "17        313203             167.0               40.748901   \n",
      "18        331287             168.0               40.739713   \n",
      "19        349469             173.0               40.760683   \n",
      "20        367286             174.0               40.738177   \n",
      "21        385133             195.0               40.709056   \n",
      "22        403470             212.0               40.743349   \n",
      "23        417420             216.0               40.700379   \n",
      "24        439328             217.0               40.702772   \n",
      "25        457603             223.0               40.737815   \n",
      "26        475438             224.0               40.711464   \n",
      "27        493770             228.0               40.754601   \n",
      "28        511676             229.0               40.727434   \n",
      "29        529686             236.0               40.728419   \n",
      "30        547740             237.0               40.730473   \n",
      "31        565911             238.0               40.736197   \n",
      "...          ...               ...                     ...   \n",
      "1534    27697982             503.0               40.738274   \n",
      "1535    27716026             504.0               40.732219   \n",
      "1536    27734290             505.0               40.749013   \n",
      "1537    27752188             507.0               40.739126   \n",
      "1538    27770470             508.0               40.763414   \n",
      "1539    27788571             513.0               40.768254   \n",
      "1540    27806541             514.0               40.760875   \n",
      "1541    27824624             515.0               40.760094   \n",
      "1543    27860561             517.0               40.751581   \n",
      "1544    27878594             518.0               40.747804   \n",
      "1545    27896665             519.0               40.751873   \n",
      "1546    27914818             520.0               40.759923   \n",
      "1547    27932859             522.0               40.757148   \n",
      "1548    27950934             523.0               40.754666   \n",
      "1549    27968954             525.0               40.755942   \n",
      "1550    27986890             526.0               40.747659   \n",
      "1551    28004930             528.0               40.742909   \n",
      "1552    28023177             529.0               40.757570   \n",
      "1553    28041376             530.0               40.771497   \n",
      "1554    28058904             531.0               40.718939   \n",
      "1555    28074809             532.0               40.710451   \n",
      "1557    28113017             534.0               40.702551   \n",
      "1558    28131294             536.0               40.741444   \n",
      "1559    28147104             539.0               40.715348   \n",
      "1560    28167389             540.0               40.743116   \n",
      "1561    28185407             545.0               40.736502   \n",
      "1562    28203508             546.0               40.744449   \n",
      "1563    28221797              72.0               40.767272   \n",
      "1565    28257509              82.0               40.711174   \n",
      "1566    28272210              83.0               40.683826   \n",
      "\n",
      "      start_station_longitude  tripduration  tmp  CensusTract  County_x  \\\n",
      "0                  -73.993929          3607  tmp  36061013500  New York   \n",
      "2                  -74.000165          1214  tmp  36061002900  New York   \n",
      "3                  -73.976323          1623  tmp  36047012901     Kings   \n",
      "4                  -74.001497          5761  tmp  36061008300  New York   \n",
      "5                  -73.978034           454  tmp  36047021100     Kings   \n",
      "6                  -73.959282           916  tmp  36047023100     Kings   \n",
      "7                  -74.006744          4880  tmp  36061006900  New York   \n",
      "8                  -74.002971          5565  tmp  36061004900  New York   \n",
      "9                  -73.993379          1978  tmp  36047000900     Kings   \n",
      "10                 -73.980689           873  tmp  36047054300     Kings   \n",
      "12                 -73.980858          2970  tmp  36061002202  New York   \n",
      "13                 -73.997249          6726  tmp  36061004500  New York   \n",
      "14                 -73.996123          1641  tmp  36047004500     Kings   \n",
      "15                 -73.998102          4165  tmp  36061005501  New York   \n",
      "16                 -73.970325          2885  tmp  36061009000  New York   \n",
      "17                 -73.976049          3444  tmp  36061008000  New York   \n",
      "18                 -73.994564          6087  tmp  36061008700  New York   \n",
      "19                 -73.984527          5473  tmp  36061012500  New York   \n",
      "20                 -73.977387          2835  tmp  36061006200  New York   \n",
      "21                 -74.010434          3227  tmp  36061000700  New York   \n",
      "22                 -74.006818          4526  tmp  36061008300  New York   \n",
      "23                 -73.995481           759  tmp  36047000100     Kings   \n",
      "24                 -73.993836          3117  tmp  36061001501  New York   \n",
      "25                 -73.999947          4030  tmp  36061007700  New York   \n",
      "26                 -74.005524          2239  tmp  36061001501  New York   \n",
      "27                 -73.971879          2422  tmp  36061009200  New York   \n",
      "28                 -73.993790          5883  tmp  36061005502  New York   \n",
      "29                 -73.987140          4542  tmp  36061004000  New York   \n",
      "30                 -73.986724          3552  tmp  36061004000  New York   \n",
      "31                 -74.008592          2942  tmp  36061007500  New York   \n",
      "...                       ...           ...  ...          ...       ...   \n",
      "1534               -73.987520          1386  tmp  36061005200  New York   \n",
      "1535               -73.981656          2167  tmp  36061004800  New York   \n",
      "1536               -73.988484          2278  tmp  36061010100  New York   \n",
      "1537               -73.979738          1576  tmp  36061006600  New York   \n",
      "1538               -73.996674          1253  tmp  36061012900  New York   \n",
      "1539               -73.988639           938  tmp  36061013900  New York   \n",
      "1540               -74.002777          3409  tmp  36061011700  New York   \n",
      "1541               -73.994618          1289  tmp  36061012900  New York   \n",
      "1543               -73.977910          1429  tmp  36061008200  New York   \n",
      "1544               -73.973442          1561  tmp  36061007800  New York   \n",
      "1545               -73.977706          3897  tmp  36061008200  New York   \n",
      "1546               -73.976485          1451  tmp  36061010400  New York   \n",
      "1547               -73.972078           998  tmp  36061010000  New York   \n",
      "1548               -73.991382          2121  tmp  36061010900  New York   \n",
      "1549               -74.002116          2149  tmp  36061009900  New York   \n",
      "1550               -73.984907          1371  tmp  36061007400  New York   \n",
      "1551               -73.977061          1585  tmp  36061007000  New York   \n",
      "1552               -73.990985          1264  tmp  36061012100  New York   \n",
      "1553               -73.990460          1430  tmp  36061015100  New York   \n",
      "1554               -73.992663          1447  tmp  36061001800  New York   \n",
      "1555               -73.960876          1275  tmp  36047052300     Kings   \n",
      "1557               -74.012723           513  tmp  36061000900  New York   \n",
      "1558               -73.975361          1135  tmp  36061007000  New York   \n",
      "1559               -73.960241          1446  tmp  36047055300     Kings   \n",
      "1560               -73.982154          1078  tmp  36061006800  New York   \n",
      "1561               -73.978095          1450  tmp  36061006000  New York   \n",
      "1562               -73.983035          1137  tmp  36061007200  New York   \n",
      "1563               -73.993929          1231  tmp  36061013500  New York   \n",
      "1565               -74.000165           402  tmp  36061002900  New York   \n",
      "1566               -73.976323           480  tmp  36047012901     Kings   \n",
      "\n",
      "        Borough  TotalPop  ...  FamilyWork  Unemployment   Latitude  \\\n",
      "0     Manhattan      6384  ...         0.0           5.7  40.767186   \n",
      "2     Manhattan      6050  ...         0.0           3.3  40.710653   \n",
      "3      Brooklyn      2577  ...         0.0           5.7  40.683518   \n",
      "4     Manhattan      3929  ...         0.0          11.3  40.742312   \n",
      "5      Brooklyn      1362  ...         0.0           9.2  40.697085   \n",
      "6      Brooklyn      3506  ...         0.0          11.8  40.685779   \n",
      "7     Manhattan      2604  ...         0.0           3.4  40.731005   \n",
      "8     Manhattan      4388  ...         0.0           5.0  40.726482   \n",
      "9      Brooklyn      4162  ...         0.0           5.1  40.692563   \n",
      "10     Brooklyn       382  ...         0.0          10.3  40.699347   \n",
      "12    Manhattan      2019  ...         1.3           5.5  40.721960   \n",
      "13    Manhattan       984  ...         0.0           3.3  40.721960   \n",
      "14     Brooklyn      3318  ...         0.0           3.7  40.690302   \n",
      "15    Manhattan      4747  ...         0.0           3.6  40.728744   \n",
      "16    Manhattan      7306  ...         0.0           2.2  40.753618   \n",
      "17    Manhattan      5045  ...         0.4           4.9  40.749095   \n",
      "18    Manhattan      7159  ...         0.0           4.8  40.740050   \n",
      "19    Manhattan      2483  ...         0.0           3.1  40.760402   \n",
      "20    Manhattan      4536  ...         0.0           7.4  40.737789   \n",
      "21    Manhattan      8794  ...         0.0           4.4  40.708392   \n",
      "22    Manhattan      3929  ...         0.0          11.3  40.742312   \n",
      "23     Brooklyn      4304  ...         0.0           4.1  40.699347   \n",
      "24    Manhattan      6502  ...         0.0           5.0  40.703869   \n",
      "25    Manhattan      5599  ...         0.0           4.2  40.737789   \n",
      "26    Manhattan      6502  ...         0.0           5.0  40.710653   \n",
      "27    Manhattan      1717  ...         0.0           1.7  40.753618   \n",
      "28    Manhattan      2278  ...         0.0           4.4  40.726482   \n",
      "29    Manhattan      8947  ...         0.0           4.1  40.728744   \n",
      "30    Manhattan      8947  ...         0.0           4.1  40.731005   \n",
      "31    Manhattan      4358  ...         0.0           8.0  40.735528   \n",
      "...         ...       ...  ...         ...           ...        ...   \n",
      "1534  Manhattan      3726  ...         0.4           5.6  40.737789   \n",
      "1535  Manhattan      7325  ...         0.0           7.3  40.733266   \n",
      "1536  Manhattan      1259  ...         0.0           5.7  40.749095   \n",
      "1537  Manhattan     11252  ...         0.0           3.3  40.740050   \n",
      "1538  Manhattan      5755  ...         0.0           7.4  40.762663   \n",
      "1539  Manhattan      8252  ...         0.0           5.7  40.767186   \n",
      "1540  Manhattan      3870  ...         0.0           6.3  40.760402   \n",
      "1541  Manhattan      5755  ...         0.0           7.4  40.760402   \n",
      "1543  Manhattan      3060  ...         0.0           0.9  40.751357   \n",
      "1544  Manhattan      8032  ...         0.0           6.9  40.746834   \n",
      "1545  Manhattan      3060  ...         0.0           0.9  40.751357   \n",
      "1546  Manhattan       982  ...         0.0           6.2  40.760402   \n",
      "1547  Manhattan      1683  ...         0.0           3.6  40.758141   \n",
      "1548  Manhattan       186  ...         0.0           4.3  40.753618   \n",
      "1549  Manhattan      4938  ...         0.0           5.8  40.755879   \n",
      "1550  Manhattan      3752  ...         0.0           5.7  40.746834   \n",
      "1551  Manhattan      8131  ...         1.4           2.6  40.742312   \n",
      "1552  Manhattan      8192  ...         0.0           7.1  40.758141   \n",
      "1553  Manhattan      7481  ...         0.0           6.2  40.771709   \n",
      "1554  Manhattan      8326  ...         0.6           4.2  40.719698   \n",
      "1555   Brooklyn      5670  ...         0.0           4.3  40.710653   \n",
      "1557  Manhattan      1626  ...         0.0           2.8  40.701608   \n",
      "1558  Manhattan      8131  ...         1.4           2.6  40.742312   \n",
      "1559   Brooklyn      2899  ...         0.7           4.8  40.715176   \n",
      "1560  Manhattan      7413  ...         0.6           8.3  40.742312   \n",
      "1561  Manhattan      5063  ...         0.0           5.7  40.735528   \n",
      "1562  Manhattan      7640  ...         0.0           6.7  40.744573   \n",
      "1563  Manhattan      6384  ...         0.0           5.7  40.767186   \n",
      "1565  Manhattan      6050  ...         0.0           3.3  40.710653   \n",
      "1566   Brooklyn      2577  ...         0.0           5.7  40.683518   \n",
      "\n",
      "      Longitude        BlockCode  County_y  State  BlockCode_11  \\\n",
      "0    -73.995075  360610135002005  New York     NY   36061013500   \n",
      "2    -74.001407  360610029004022  New York     NY   36061002900   \n",
      "3    -73.976080  360470129011002     Kings     NY   36047012901   \n",
      "4    -74.001407  360610083001000  New York     NY   36061008300   \n",
      "5    -73.979246  360470211001001     Kings     NY   36047021100   \n",
      "6    -73.960251  360470231002002     Kings     NY   36047023100   \n",
      "7    -74.007739  360610069001007  New York     NY   36061006900   \n",
      "8    -74.001407  360610049003001  New York     NY   36061004900   \n",
      "9    -73.991910  360470009001003     Kings     NY   36047000900   \n",
      "10   -73.979246  360470543001044     Kings     NY   36047054300   \n",
      "12   -73.982412  360610022021001  New York     NY   36061002202   \n",
      "13   -73.998241  360610045001001  New York     NY   36061004500   \n",
      "14   -73.995075  360470045001001     Kings     NY   36047004500   \n",
      "15   -73.998241  360610055012000  New York     NY   36061005501   \n",
      "16   -73.969749  360610090005001  New York     NY   36061009000   \n",
      "17   -73.976080  360610080001002  New York     NY   36061008000   \n",
      "18   -73.995075  360610087001003  New York     NY   36061008700   \n",
      "19   -73.985578  360610125002001  New York     NY   36061012500   \n",
      "20   -73.976080  360610062001001  New York     NY   36061006200   \n",
      "21   -74.010905  360610007001001  New York     NY   36061000700   \n",
      "22   -74.007739  360610083003003  New York     NY   36061008300   \n",
      "23   -73.995075  360470001002002     Kings     NY   36047000100   \n",
      "24   -73.995075  360610015010001  New York     NY   36061001501   \n",
      "25   -74.001407  360610077001001  New York     NY   36061007700   \n",
      "26   -74.004573  360610015011009  New York     NY   36061001501   \n",
      "27   -73.972915  360610092001012  New York     NY   36061009200   \n",
      "28   -73.995075  360610055022004  New York     NY   36061005502   \n",
      "29   -73.985578  360610040004000  New York     NY   36061004000   \n",
      "30   -73.985578  360610040006001  New York     NY   36061004000   \n",
      "31   -74.007739  360610075002003  New York     NY   36061007500   \n",
      "...         ...              ...       ...    ...           ...   \n",
      "1534 -73.988744  360610052001002  New York     NY   36061005200   \n",
      "1535 -73.982412  360610048005000  New York     NY   36061004800   \n",
      "1536 -73.988744  360610101001008  New York     NY   36061010100   \n",
      "1537 -73.979246  360610066008002  New York     NY   36061006600   \n",
      "1538 -73.998241  360610129002003  New York     NY   36061012900   \n",
      "1539 -73.988744  360610139003001  New York     NY   36061013900   \n",
      "1540 -74.001407  360610117001005  New York     NY   36061011700   \n",
      "1541 -73.995075  360610129002010  New York     NY   36061012900   \n",
      "1543 -73.979246  360610082001005  New York     NY   36061008200   \n",
      "1544 -73.972915  360610078007000  New York     NY   36061007800   \n",
      "1545 -73.979246  360610082001005  New York     NY   36061008200   \n",
      "1546 -73.976080  360610104001003  New York     NY   36061010400   \n",
      "1547 -73.972915  360610100001004  New York     NY   36061010000   \n",
      "1548 -73.991910  360610109001003  New York     NY   36061010900   \n",
      "1549 -74.001407  360610099001040  New York     NY   36061009900   \n",
      "1550 -73.985578  360610074001004  New York     NY   36061007400   \n",
      "1551 -73.976080  360610070004000  New York     NY   36061007000   \n",
      "1552 -73.991910  360610121001001  New York     NY   36061012100   \n",
      "1553 -73.991910  360610151004005  New York     NY   36061015100   \n",
      "1554 -73.991910  360610018004001  New York     NY   36061001800   \n",
      "1555 -73.960251  360470523003003     Kings     NY   36047052300   \n",
      "1557 -74.014070  360610009001023  New York     NY   36061000900   \n",
      "1558 -73.976080  360610070004000  New York     NY   36061007000   \n",
      "1559 -73.960251  360470553002006     Kings     NY   36047055300   \n",
      "1560 -73.982412  360610068006000  New York     NY   36061006800   \n",
      "1561 -73.979246  360610060002001  New York     NY   36061006000   \n",
      "1562 -73.982412  360610072003000  New York     NY   36061007200   \n",
      "1563 -73.995075  360610135002005  New York     NY   36061013500   \n",
      "1565 -74.001407  360610029004022  New York     NY   36061002900   \n",
      "1566 -73.976080  360470129011002     Kings     NY   36047012901   \n",
      "\n",
      "      borough_distance  distance_rank  \n",
      "0             0.097058            1.0  \n",
      "2             0.119646            1.0  \n",
      "3             0.039960            1.0  \n",
      "4             0.060052            1.0  \n",
      "5             0.150738            1.0  \n",
      "6             0.137077            1.0  \n",
      "7             0.115864            1.0  \n",
      "8             0.148779            1.0  \n",
      "9             0.125334            1.0  \n",
      "10            0.160995            1.0  \n",
      "12            0.178216            1.0  \n",
      "13            0.085161            1.0  \n",
      "14            0.110175            1.0  \n",
      "15            0.048866            1.0  \n",
      "16            0.064908            1.0  \n",
      "17            0.021839            1.0  \n",
      "18            0.057132            1.0  \n",
      "19            0.093880            1.0  \n",
      "20            0.118226            1.0  \n",
      "21            0.083871            1.0  \n",
      "22            0.139108            1.0  \n",
      "23            0.119760            1.0  \n",
      "24            0.160718            1.0  \n",
      "25            0.123118            1.0  \n",
      "26            0.120662            1.0  \n",
      "27            0.139896            1.0  \n",
      "28            0.151471            1.0  \n",
      "29            0.136512            1.0  \n",
      "30            0.113267            1.0  \n",
      "31            0.103496            1.0  \n",
      "...                ...            ...  \n",
      "1534          0.116432            1.0  \n",
      "1535          0.132848            1.0  \n",
      "1536          0.023747            1.0  \n",
      "1537          0.110835            1.0  \n",
      "1538          0.156176            1.0  \n",
      "1539          0.119128            1.0  \n",
      "1540          0.126821            1.0  \n",
      "1541          0.051508            1.0  \n",
      "1543          0.115322            1.0  \n",
      "1544          0.116640            1.0  \n",
      "1545          0.141917            1.0  \n",
      "1546          0.063294            1.0  \n",
      "1547          0.131020            1.0  \n",
      "1548          0.124752            1.0  \n",
      "1549          0.060159            1.0  \n",
      "1550          0.107807            1.0  \n",
      "1551          0.106017            1.0  \n",
      "1552          0.100489            1.0  \n",
      "1553          0.124329            1.0  \n",
      "1554          0.105684            1.0  \n",
      "1555          0.057278            1.0  \n",
      "1557          0.154575            1.0  \n",
      "1558          0.113983            1.0  \n",
      "1559          0.019192            1.0  \n",
      "1560          0.092044            1.0  \n",
      "1561          0.145481            1.0  \n",
      "1562          0.054291            1.0  \n",
      "1563          0.097058            1.0  \n",
      "1565          0.119646            1.0  \n",
      "1566          0.039960            1.0  \n",
      "\n",
      "[1495 rows x 50 columns]\n"
     ]
    }
   ],
   "source": [
    "df= pd.read_csv('NY_bike_close.csv').dropna(axis=0)\n",
    "print(df)"
   ]
  },
  {
   "cell_type": "code",
   "execution_count": 3,
   "metadata": {},
   "outputs": [
    {
     "data": {
      "text/plain": [
       "Unnamed: 0                   int64\n",
       "start_station_id           float64\n",
       "start_station_latitude     float64\n",
       "start_station_longitude    float64\n",
       "tripduration                 int64\n",
       "tmp                         object\n",
       "CensusTract                  int64\n",
       "County_x                    object\n",
       "Borough                     object\n",
       "TotalPop                     int64\n",
       "Men                          int64\n",
       "Women                        int64\n",
       "Hispanic                   float64\n",
       "White                      float64\n",
       "Black                      float64\n",
       "Native                     float64\n",
       "Asian                      float64\n",
       "Citizen                      int64\n",
       "Income                     float64\n",
       "IncomeErr                  float64\n",
       "IncomePerCap               float64\n",
       "IncomePerCapErr            float64\n",
       "Poverty                    float64\n",
       "ChildPoverty               float64\n",
       "Professional               float64\n",
       "Service                    float64\n",
       "Office                     float64\n",
       "Construction               float64\n",
       "Production                 float64\n",
       "Drive                      float64\n",
       "Carpool                    float64\n",
       "Transit                    float64\n",
       "Walk                       float64\n",
       "OtherTransp                float64\n",
       "WorkAtHome                 float64\n",
       "MeanCommute                float64\n",
       "Employed                     int64\n",
       "PrivateWork                float64\n",
       "PublicWork                 float64\n",
       "SelfEmployed               float64\n",
       "FamilyWork                 float64\n",
       "Unemployment               float64\n",
       "Latitude                   float64\n",
       "Longitude                  float64\n",
       "BlockCode                    int64\n",
       "County_y                    object\n",
       "State                       object\n",
       "BlockCode_11                 int64\n",
       "borough_distance           float64\n",
       "distance_rank              float64\n",
       "dtype: object"
      ]
     },
     "execution_count": 3,
     "metadata": {},
     "output_type": "execute_result"
    }
   ],
   "source": [
    "df.dtypes"
   ]
  },
  {
   "cell_type": "code",
   "execution_count": 4,
   "metadata": {},
   "outputs": [],
   "source": [
    "#charts: correlation heatmap,histogram number of rides vs station, station vs borough, look at coursework and follow\n",
    "# along with the coursework to do on here, feature engineering, linear regression, random forest"
   ]
  },
  {
   "cell_type": "code",
   "execution_count": 5,
   "metadata": {},
   "outputs": [],
   "source": [
    "df['log_tripcount']=np.log(df.tripduration)"
   ]
  },
  {
   "cell_type": "code",
   "execution_count": 7,
   "metadata": {},
   "outputs": [
    {
     "data": {
      "image/png": "[encoded data removed]",
      "text/plain": [
       "<Figure size 864x648 with 2 Axes>"
      ]
     },
     "metadata": {
      "needs_background": "light"
     },
     "output_type": "display_data"
    }
   ],
   "source": [
    "corrmat = df.corr()\n",
    "\n",
    "\n",
    "f, ax = plt.subplots(figsize=(12, 9))\n",
    "\n",
    "sns.heatmap(corrmat, vmax=.8, square=True)\n",
    "plt.show()\n"
   ]
  },
  {
   "cell_type": "code",
   "execution_count": 8,
   "metadata": {},
   "outputs": [],
   "source": [
    "x=df[['borough_distance','TotalPop','Men','Women','Income','Poverty','start_station_id','Drive','Carpool','Walk','OtherTransp',\n",
    "     'WorkAtHome','MeanCommute','Employed','Unemployment','PrivateWork','PublicWork','SelfEmployed','FamilyWork', 'tripduration']].dropna(axis=0)\n",
    "\n",
    "y=df['tripduration'].dropna"
   ]
  },
  {
   "cell_type": "code",
   "execution_count": 9,
   "metadata": {
    "scrolled": true
   },
   "outputs": [
    {
     "data": {
      "image/png": "[encoded data removed]",
      "text/plain": [
       "<Figure size 864x648 with 2 Axes>"
      ]
     },
     "metadata": {
      "needs_background": "light"
     },
     "output_type": "display_data"
    }
   ],
   "source": [
    "corrmat=x.corr()\n",
    "f, ax = plt.subplots(figsize=(12, 9))\n",
    "sns.heatmap(corrmat,vmax=.8,square=True)\n",
    "plt.show()"
   ]
  },
  {
   "cell_type": "code",
   "execution_count": 10,
   "metadata": {},
   "outputs": [],
   "source": [
    "#combine carpool+OtherTransp, keep drive, walk, drop meancommute, do percentage of men from totalpop, "
   ]
  },
  {
   "cell_type": "code",
   "execution_count": 11,
   "metadata": {},
   "outputs": [
    {
     "data": {
      "text/plain": [
       "Text(0, 0.5, 'Frequency')"
      ]
     },
     "execution_count": 11,
     "metadata": {},
     "output_type": "execute_result"
    },
    {
     "data": {
      "image/png": "[encoded data removed]",
      "text/plain": [
       "<Figure size 1152x576 with 1 Axes>"
      ]
     },
     "metadata": {
      "needs_background": "light"
     },
     "output_type": "display_data"
    }
   ],
   "source": [
    "plt.figure(figsize=(16, 8))\n",
    "df.tripduration.hist( bins=50)\n",
    "plt.xlabel(\"km\")\n",
    "plt.ylabel('Frequency')"
   ]
  },
  {
   "cell_type": "code",
   "execution_count": 12,
   "metadata": {
    "scrolled": true
   },
   "outputs": [
    {
     "data": {
      "text/plain": [
       "Text(0, 0.5, 'total trips')"
      ]
     },
     "execution_count": 12,
     "metadata": {},
     "output_type": "execute_result"
    },
    {
     "data": {
      "image/png": "[encoded data removed]",
      "text/plain": [
       "<Figure size 1152x576 with 1 Axes>"
      ]
     },
     "metadata": {
      "needs_background": "light"
     },
     "output_type": "display_data"
    }
   ],
   "source": [
    "plt.figure(figsize=(16, 8))\n",
    "df.log_tripcount.hist( bins=50)\n",
    "plt.xlabel(\"log of trip count\")\n",
    "plt.ylabel('total trips')"
   ]
  },
  {
   "cell_type": "code",
   "execution_count": 13,
   "metadata": {},
   "outputs": [
    {
     "data": {
      "text/plain": [
       "Text(0.5, 0, 'Count of occurrences each bike was used')"
      ]
     },
     "execution_count": 13,
     "metadata": {},
     "output_type": "execute_result"
    },
    {
     "data": {
      "image/png": "[encoded data removed]",
      "text/plain": [
       "<Figure size 1152x576 with 1 Axes>"
      ]
     },
     "metadata": {
      "needs_background": "light"
     },
     "output_type": "display_data"
    }
   ],
   "source": [
    "plt.figure(figsize=(16, 8))\n",
    "df.start_station_id.plot(kind=\"hist\", bins=35, range=(0,600))\n",
    "plt.xlabel(\"Count of occurrences each bike was used\")"
   ]
  },
  {
   "cell_type": "code",
   "execution_count": 14,
   "metadata": {},
   "outputs": [],
   "source": [
    "#remove datapoint at 0, basic models to start- linear regressions, random forest, etc and then work on features to improve \n",
    "#prediction rate"
   ]
  },
  {
   "cell_type": "code",
   "execution_count": 15,
   "metadata": {},
   "outputs": [],
   "source": [
    "#create powerpoint with shell for each slide to show what you will be predicting on that slide"
   ]
  },
  {
   "cell_type": "code",
   "execution_count": 16,
   "metadata": {
    "scrolled": true
   },
   "outputs": [
    {
     "data": {
      "text/plain": [
       "Index(['Unnamed: 0', 'start_station_id', 'start_station_latitude',\n",
       "       'start_station_longitude', 'tripduration', 'tmp', 'CensusTract',\n",
       "       'County_x', 'Borough', 'TotalPop', 'Men', 'Women', 'Hispanic', 'White',\n",
       "       'Black', 'Native', 'Asian', 'Citizen', 'Income', 'IncomeErr',\n",
       "       'IncomePerCap', 'IncomePerCapErr', 'Poverty', 'ChildPoverty',\n",
       "       'Professional', 'Service', 'Office', 'Construction', 'Production',\n",
       "       'Drive', 'Carpool', 'Transit', 'Walk', 'OtherTransp', 'WorkAtHome',\n",
       "       'MeanCommute', 'Employed', 'PrivateWork', 'PublicWork', 'SelfEmployed',\n",
       "       'FamilyWork', 'Unemployment', 'Latitude', 'Longitude', 'BlockCode',\n",
       "       'County_y', 'State', 'BlockCode_11', 'borough_distance',\n",
       "       'distance_rank', 'log_tripcount'],\n",
       "      dtype='object')"
      ]
     },
     "execution_count": 16,
     "metadata": {},
     "output_type": "execute_result"
    }
   ],
   "source": [
    "df.columns"
   ]
  },
  {
   "cell_type": "code",
   "execution_count": 17,
   "metadata": {},
   "outputs": [],
   "source": [
    "df_clean=df[['borough_distance','TotalPop','Men','Women','Income','Poverty','start_station_id','Drive','Carpool','Walk','OtherTransp',\n",
    "     'WorkAtHome','Employed','Unemployment','PrivateWork','PublicWork','SelfEmployed','FamilyWork','Borough','County_x','Hispanic','Black',\n",
    "            'Asian','White','Office','Construction','Production','Professional','Service']]\n",
    "\n",
    "df_X=pd.concat([df_clean, pd.get_dummies(df_clean['Borough']),pd.get_dummies(df_clean['County_x'])],axis=1 )\n",
    "\n",
    "\n"
   ]
  },
  {
   "cell_type": "code",
   "execution_count": 19,
   "metadata": {},
   "outputs": [],
   "source": [
    "df_clean = df.drop ('log_tripcount', 1).drop('tripduration' , 1).drop('County_y', 1).drop('State',1).drop('tmp', 1) .dropna(axis=1)\n",
    "X = pd.concat([df_clean, pd.get_dummies(df_clean['Borough']),pd.get_dummies(df_clean['County_x'])], axis=1)\n",
    "\n",
    "Y = df['log_tripcount']"
   ]
  },
  {
   "cell_type": "code",
   "execution_count": 20,
   "metadata": {},
   "outputs": [
    {
     "name": "stdout",
     "output_type": "stream",
     "text": [
      "      borough_distance  TotalPop   Men  Women    Income  Poverty  \\\n",
      "0             0.097058      6384  3286   3098   62290.0     18.6   \n",
      "2             0.119646      6050  3671   2379   30629.0     20.6   \n",
      "3             0.039960      2577  1102   1475   82071.0     11.2   \n",
      "4             0.060052      3929  1534   2395   69303.0     18.5   \n",
      "5             0.150738      1362   684    678   43000.0     18.7   \n",
      "6             0.137077      3506  1711   1795   77039.0     19.0   \n",
      "7             0.115864      2604  1447   1157  183750.0      7.4   \n",
      "8             0.148779      4388  2315   2073   97929.0      4.7   \n",
      "9             0.125334      4162  1967   2195  121083.0      7.7   \n",
      "10            0.160995       382   214    168   92500.0     10.2   \n",
      "12            0.178216      2019   872   1147   68750.0     17.4   \n",
      "13            0.085161       984   519    465  139079.0      3.8   \n",
      "14            0.110175      3318  1539   1779  138281.0      3.7   \n",
      "15            0.048866      4747  2536   2211  134417.0      4.8   \n",
      "16            0.064908      7306  3428   3878  119196.0      8.9   \n",
      "17            0.021839      5045  2305   2740  110242.0     10.5   \n",
      "18            0.057132      7159  3829   3330  122569.0      4.6   \n",
      "19            0.093880      2483  1443   1040  150682.0      8.8   \n",
      "20            0.118226      4536  2420   2116   82102.0     36.9   \n",
      "21            0.083871      8794  4214   4580  117841.0     10.6   \n",
      "22            0.139108      3929  1534   2395   69303.0     18.5   \n",
      "23            0.119760      4304  2196   2108   70938.0     15.2   \n",
      "24            0.160718      6502  3007   3495   81867.0     10.3   \n",
      "25            0.123118      5599  3354   2245  127729.0      3.5   \n",
      "26            0.120662      6502  3007   3495   81867.0     10.3   \n",
      "27            0.139896      1717   822    895  122379.0      5.4   \n",
      "28            0.151471      2278  1113   1165  138523.0     12.8   \n",
      "29            0.136512      8947  5235   3712   85338.0     13.0   \n",
      "30            0.113267      8947  5235   3712   85338.0     13.0   \n",
      "31            0.103496      4358  2214   2144  113682.0      4.5   \n",
      "...                ...       ...   ...    ...       ...      ...   \n",
      "1534          0.116432      3726  1827   1899  168375.0     11.9   \n",
      "1535          0.132848      7325  2970   4355  106789.0      9.3   \n",
      "1536          0.023747      1259   758    501  159821.0     11.4   \n",
      "1537          0.110835     11252  5588   5664   64963.0     14.7   \n",
      "1538          0.156176      5755  3630   2125  111290.0     12.5   \n",
      "1539          0.119128      8252  3914   4338   91952.0      7.3   \n",
      "1540          0.126821      3870  1900   1970  107125.0     12.4   \n",
      "1541          0.051508      5755  3630   2125  111290.0     12.5   \n",
      "1543          0.115322      3060  1561   1499  107925.0      7.4   \n",
      "1544          0.116640      8032  3342   4690  120205.0      7.6   \n",
      "1545          0.141917      3060  1561   1499  107925.0      7.4   \n",
      "1546          0.063294       982   448    534  111806.0      7.9   \n",
      "1547          0.131020      1683   744    939  112098.0      8.5   \n",
      "1548          0.124752       186    73    113  135750.0     16.7   \n",
      "1549          0.060159      4938  2783   2155  128906.0      7.4   \n",
      "1550          0.107807      3752  1813   1939  128618.0     12.2   \n",
      "1551          0.106017      8131  3730   4401  101848.0      9.9   \n",
      "1552          0.100489      8192  4570   3622   62301.0      9.9   \n",
      "1553          0.124329      7481  3164   4317   67125.0     21.9   \n",
      "1554          0.105684      8326  4741   3585   59416.0     26.0   \n",
      "1555          0.057278      5670  2732   2938   43076.0     17.4   \n",
      "1557          0.154575      1626   946    680  147500.0      6.0   \n",
      "1558          0.113983      8131  3730   4401  101848.0      9.9   \n",
      "1559          0.019192      2899  1538   1361   80909.0     12.0   \n",
      "1560          0.092044      7413  3764   3649  109526.0     11.2   \n",
      "1561          0.145481      5063  2365   2698  106310.0     11.0   \n",
      "1562          0.054291      7640  3515   4125  104272.0      9.2   \n",
      "1563          0.097058      6384  3286   3098   62290.0     18.6   \n",
      "1565          0.119646      6050  3671   2379   30629.0     20.6   \n",
      "1566          0.039960      2577  1102   1475   82071.0     11.2   \n",
      "\n",
      "      start_station_id  Drive  Carpool  Walk  ...  Construction  Production  \\\n",
      "0                 72.0    6.9      1.1  39.5  ...           1.1         4.3   \n",
      "2                 82.0    2.8      4.0  43.6  ...           9.9         4.1   \n",
      "3                 83.0    1.2      0.0   8.7  ...           0.0         0.7   \n",
      "4                116.0    2.0      0.8  17.0  ...           0.9         0.7   \n",
      "5                119.0   25.8      2.3   4.7  ...           3.8        11.5   \n",
      "6                120.0   13.4      0.0  10.6  ...           4.8         4.4   \n",
      "7                127.0    8.2      0.0  16.1  ...           0.0         0.5   \n",
      "8                128.0    7.6      0.3  22.9  ...           2.8         1.5   \n",
      "9                143.0    2.1      0.3   8.9  ...           0.0         1.6   \n",
      "10               144.0   16.8      0.0   4.0  ...           0.0         6.1   \n",
      "12               150.0    1.9      0.5  28.4  ...           3.9         1.9   \n",
      "13               151.0    5.4      0.0  16.3  ...           1.3         5.2   \n",
      "14               157.0    4.4      0.2  13.1  ...           0.6         1.3   \n",
      "15               161.0    8.4      2.8  54.7  ...           0.0         0.6   \n",
      "16               164.0    3.4      1.0  44.7  ...           3.1         2.2   \n",
      "17               167.0    3.3      1.3  43.2  ...           1.3         0.8   \n",
      "18               168.0    3.8      1.7  30.8  ...           1.3         0.6   \n",
      "19               173.0    5.6      2.3  47.7  ...           0.9         0.7   \n",
      "20               174.0    2.3      2.4  49.5  ...           1.9         1.9   \n",
      "21               195.0    2.5      0.0  27.8  ...           0.9         0.0   \n",
      "22               212.0    2.0      0.8  17.0  ...           0.9         0.7   \n",
      "23               216.0    7.4      0.6   9.1  ...           3.0         1.6   \n",
      "24               217.0    5.7      0.0  32.0  ...           2.5         2.6   \n",
      "25               223.0    5.1      1.8  21.2  ...           1.7         2.1   \n",
      "26               224.0    5.7      0.0  32.0  ...           2.5         2.6   \n",
      "27               228.0    2.4      0.0  51.6  ...           0.5         1.1   \n",
      "28               229.0    6.0      0.8  18.2  ...           0.7         1.7   \n",
      "29               236.0    3.4      0.6  21.6  ...           5.4         1.1   \n",
      "30               237.0    3.4      0.6  21.6  ...           5.4         1.1   \n",
      "31               238.0    6.1      0.7  21.3  ...           0.0         0.0   \n",
      "...                ...    ...      ...   ...  ...           ...         ...   \n",
      "1534             503.0    4.0      0.5  24.2  ...           0.0         0.5   \n",
      "1535             504.0    4.2      0.0  25.1  ...           1.6         0.5   \n",
      "1536             505.0    4.2      1.1  38.3  ...           1.1         1.7   \n",
      "1537             507.0    7.8      2.0  31.0  ...           0.0         5.5   \n",
      "1538             508.0    5.7      0.0  33.0  ...           1.6         0.9   \n",
      "1539             513.0    2.2      1.0  28.0  ...           0.0         4.1   \n",
      "1540             514.0    2.5      0.0  27.6  ...           0.5         1.8   \n",
      "1541             515.0    5.7      0.0  33.0  ...           1.6         0.9   \n",
      "1543             517.0    7.0      1.7  51.1  ...           0.0         0.9   \n",
      "1544             518.0    2.5      0.4  43.7  ...           3.2         0.4   \n",
      "1545             519.0    7.0      1.7  51.1  ...           0.0         0.9   \n",
      "1546             520.0   10.1      0.0  31.2  ...           0.0         5.2   \n",
      "1547             522.0    7.7      0.0  42.4  ...           0.0         1.5   \n",
      "1548             523.0    0.0      0.0  29.5  ...           0.0         9.6   \n",
      "1549             525.0    3.4      2.4  36.4  ...           0.2         3.5   \n",
      "1550             526.0    3.7      1.7  47.6  ...           1.5         0.0   \n",
      "1551             528.0    2.8      0.4  41.3  ...           1.2         0.0   \n",
      "1552             529.0    3.7      0.9  42.1  ...           3.7         4.7   \n",
      "1553             530.0    4.6      0.0  21.4  ...           0.0         5.1   \n",
      "1554             531.0    3.8      2.3  22.5  ...           1.5        11.3   \n",
      "1555             532.0    4.9      0.5   9.0  ...           1.6         7.4   \n",
      "1557             534.0   10.0      0.4  24.1  ...           0.2         4.1   \n",
      "1558             536.0    2.8      0.4  41.3  ...           1.2         0.0   \n",
      "1559             539.0    6.0      0.0   3.9  ...           1.2         4.1   \n",
      "1560             540.0    1.0      0.0  23.9  ...           0.0         3.4   \n",
      "1561             545.0    5.8      4.3  28.5  ...           0.0         0.0   \n",
      "1562             546.0    0.5      1.1  36.8  ...           0.7         2.9   \n",
      "1563              72.0    6.9      1.1  39.5  ...           1.1         4.3   \n",
      "1565              82.0    2.8      4.0  43.6  ...           9.9         4.1   \n",
      "1566              83.0    1.2      0.0   8.7  ...           0.0         0.7   \n",
      "\n",
      "      Professional  Service  Brooklyn  Manhattan Queens  Kings New York Queens  \n",
      "0             57.5     13.2         0          1      0      0        1      0  \n",
      "2             32.3     30.4         0          1      0      0        1      0  \n",
      "3             61.5     17.5         1          0      0      1        0      0  \n",
      "4             56.8     10.4         0          1      0      0        1      0  \n",
      "5             44.3     22.7         1          0      0      1        0      0  \n",
      "6             55.3     13.9         1          0      0      1        0      0  \n",
      "7             75.2      1.7         0          1      0      0        1      0  \n",
      "8             75.6      4.9         0          1      0      0        1      0  \n",
      "9             78.6      3.2         1          0      0      1        0      0  \n",
      "10            56.5     15.5         1          0      0      1        0      0  \n",
      "12            65.6     11.8         0          1      0      0        1      0  \n",
      "13            65.7      2.7         0          1      0      0        1      0  \n",
      "14            76.3      5.7         1          0      0      1        0      0  \n",
      "15            93.3      1.0         0          1      0      0        1      0  \n",
      "16            73.1      1.8         0          1      0      0        1      0  \n",
      "17            74.4      1.8         0          1      0      0        1      0  \n",
      "18            64.4      5.1         0          1      0      0        1      0  \n",
      "19            75.3      2.6         0          1      0      0        1      0  \n",
      "20            71.8      7.7         0          1      0      0        1      0  \n",
      "21            71.9      3.0         0          1      0      0        1      0  \n",
      "22            56.8     10.4         0          1      0      0        1      0  \n",
      "23            66.6      9.3         1          0      0      1        0      0  \n",
      "24            67.8      6.9         0          1      0      0        1      0  \n",
      "25            74.2      1.0         0          1      0      0        1      0  \n",
      "26            67.8      6.9         0          1      0      0        1      0  \n",
      "27            75.4      2.1         0          1      0      0        1      0  \n",
      "28            74.3      4.6         0          1      0      0        1      0  \n",
      "29            66.3     13.4         0          1      0      0        1      0  \n",
      "30            66.3     13.4         0          1      0      0        1      0  \n",
      "31            73.1     13.7         0          1      0      0        1      0  \n",
      "...            ...      ...       ...        ...    ...    ...      ...    ...  \n",
      "1534          69.0      2.7         0          1      0      0        1      0  \n",
      "1535          69.7     11.0         0          1      0      0        1      0  \n",
      "1536          74.2      6.0         0          1      0      0        1      0  \n",
      "1537          68.2     13.6         0          1      0      0        1      0  \n",
      "1538          67.6     11.1         0          1      0      0        1      0  \n",
      "1539          72.0      5.9         0          1      0      0        1      0  \n",
      "1540          65.4     10.2         0          1      0      0        1      0  \n",
      "1541          67.6     11.1         0          1      0      0        1      0  \n",
      "1543          73.5      3.1         0          1      0      0        1      0  \n",
      "1544          64.5      4.4         0          1      0      0        1      0  \n",
      "1545          73.5      3.1         0          1      0      0        1      0  \n",
      "1546          58.9     15.2         0          1      0      0        1      0  \n",
      "1547          66.8      6.7         0          1      0      0        1      0  \n",
      "1548          68.1      8.1         0          1      0      0        1      0  \n",
      "1549          70.8      5.5         0          1      0      0        1      0  \n",
      "1550          77.5      0.8         0          1      0      0        1      0  \n",
      "1551          75.6      6.0         0          1      0      0        1      0  \n",
      "1552          66.0     10.6         0          1      0      0        1      0  \n",
      "1553          58.5     10.4         0          1      0      0        1      0  \n",
      "1554          49.1     20.7         0          1      0      0        1      0  \n",
      "1555          42.0     19.9         1          0      0      1        0      0  \n",
      "1557          67.6      2.6         0          1      0      0        1      0  \n",
      "1558          75.6      6.0         0          1      0      0        1      0  \n",
      "1559          64.8     11.2         1          0      0      1        0      0  \n",
      "1560          69.7      5.5         0          1      0      0        1      0  \n",
      "1561          82.0      5.4         0          1      0      0        1      0  \n",
      "1562          67.3      4.4         0          1      0      0        1      0  \n",
      "1563          57.5     13.2         0          1      0      0        1      0  \n",
      "1565          32.3     30.4         0          1      0      0        1      0  \n",
      "1566          61.5     17.5         1          0      0      1        0      0  \n",
      "\n",
      "[1495 rows x 35 columns]\n"
     ]
    }
   ],
   "source": [
    "print (df_X)"
   ]
  },
  {
   "cell_type": "code",
   "execution_count": 21,
   "metadata": {
    "scrolled": true
   },
   "outputs": [],
   "source": [
    "y=df.log_tripcount\n",
    "X= df_X.drop ('Borough', 1).drop('County_x' , 1)\n",
    "(X_train, X_test, y_train, y_test)=train_test_split(X,y,test_size=0.25)\n",
    "lr=LinearRegression()"
   ]
  },
  {
   "cell_type": "code",
   "execution_count": 22,
   "metadata": {},
   "outputs": [
    {
     "name": "stdout",
     "output_type": "stream",
     "text": [
      "      borough_distance  TotalPop   Men  Women    Income  Poverty  \\\n",
      "0             0.097058      6384  3286   3098   62290.0     18.6   \n",
      "2             0.119646      6050  3671   2379   30629.0     20.6   \n",
      "3             0.039960      2577  1102   1475   82071.0     11.2   \n",
      "4             0.060052      3929  1534   2395   69303.0     18.5   \n",
      "5             0.150738      1362   684    678   43000.0     18.7   \n",
      "6             0.137077      3506  1711   1795   77039.0     19.0   \n",
      "7             0.115864      2604  1447   1157  183750.0      7.4   \n",
      "8             0.148779      4388  2315   2073   97929.0      4.7   \n",
      "9             0.125334      4162  1967   2195  121083.0      7.7   \n",
      "10            0.160995       382   214    168   92500.0     10.2   \n",
      "12            0.178216      2019   872   1147   68750.0     17.4   \n",
      "13            0.085161       984   519    465  139079.0      3.8   \n",
      "14            0.110175      3318  1539   1779  138281.0      3.7   \n",
      "15            0.048866      4747  2536   2211  134417.0      4.8   \n",
      "16            0.064908      7306  3428   3878  119196.0      8.9   \n",
      "17            0.021839      5045  2305   2740  110242.0     10.5   \n",
      "18            0.057132      7159  3829   3330  122569.0      4.6   \n",
      "19            0.093880      2483  1443   1040  150682.0      8.8   \n",
      "20            0.118226      4536  2420   2116   82102.0     36.9   \n",
      "21            0.083871      8794  4214   4580  117841.0     10.6   \n",
      "22            0.139108      3929  1534   2395   69303.0     18.5   \n",
      "23            0.119760      4304  2196   2108   70938.0     15.2   \n",
      "24            0.160718      6502  3007   3495   81867.0     10.3   \n",
      "25            0.123118      5599  3354   2245  127729.0      3.5   \n",
      "26            0.120662      6502  3007   3495   81867.0     10.3   \n",
      "27            0.139896      1717   822    895  122379.0      5.4   \n",
      "28            0.151471      2278  1113   1165  138523.0     12.8   \n",
      "29            0.136512      8947  5235   3712   85338.0     13.0   \n",
      "30            0.113267      8947  5235   3712   85338.0     13.0   \n",
      "31            0.103496      4358  2214   2144  113682.0      4.5   \n",
      "...                ...       ...   ...    ...       ...      ...   \n",
      "1534          0.116432      3726  1827   1899  168375.0     11.9   \n",
      "1535          0.132848      7325  2970   4355  106789.0      9.3   \n",
      "1536          0.023747      1259   758    501  159821.0     11.4   \n",
      "1537          0.110835     11252  5588   5664   64963.0     14.7   \n",
      "1538          0.156176      5755  3630   2125  111290.0     12.5   \n",
      "1539          0.119128      8252  3914   4338   91952.0      7.3   \n",
      "1540          0.126821      3870  1900   1970  107125.0     12.4   \n",
      "1541          0.051508      5755  3630   2125  111290.0     12.5   \n",
      "1543          0.115322      3060  1561   1499  107925.0      7.4   \n",
      "1544          0.116640      8032  3342   4690  120205.0      7.6   \n",
      "1545          0.141917      3060  1561   1499  107925.0      7.4   \n",
      "1546          0.063294       982   448    534  111806.0      7.9   \n",
      "1547          0.131020      1683   744    939  112098.0      8.5   \n",
      "1548          0.124752       186    73    113  135750.0     16.7   \n",
      "1549          0.060159      4938  2783   2155  128906.0      7.4   \n",
      "1550          0.107807      3752  1813   1939  128618.0     12.2   \n",
      "1551          0.106017      8131  3730   4401  101848.0      9.9   \n",
      "1552          0.100489      8192  4570   3622   62301.0      9.9   \n",
      "1553          0.124329      7481  3164   4317   67125.0     21.9   \n",
      "1554          0.105684      8326  4741   3585   59416.0     26.0   \n",
      "1555          0.057278      5670  2732   2938   43076.0     17.4   \n",
      "1557          0.154575      1626   946    680  147500.0      6.0   \n",
      "1558          0.113983      8131  3730   4401  101848.0      9.9   \n",
      "1559          0.019192      2899  1538   1361   80909.0     12.0   \n",
      "1560          0.092044      7413  3764   3649  109526.0     11.2   \n",
      "1561          0.145481      5063  2365   2698  106310.0     11.0   \n",
      "1562          0.054291      7640  3515   4125  104272.0      9.2   \n",
      "1563          0.097058      6384  3286   3098   62290.0     18.6   \n",
      "1565          0.119646      6050  3671   2379   30629.0     20.6   \n",
      "1566          0.039960      2577  1102   1475   82071.0     11.2   \n",
      "\n",
      "      start_station_id  Drive  Carpool  Walk  ...  Construction  Production  \\\n",
      "0                 72.0    6.9      1.1  39.5  ...           1.1         4.3   \n",
      "2                 82.0    2.8      4.0  43.6  ...           9.9         4.1   \n",
      "3                 83.0    1.2      0.0   8.7  ...           0.0         0.7   \n",
      "4                116.0    2.0      0.8  17.0  ...           0.9         0.7   \n",
      "5                119.0   25.8      2.3   4.7  ...           3.8        11.5   \n",
      "6                120.0   13.4      0.0  10.6  ...           4.8         4.4   \n",
      "7                127.0    8.2      0.0  16.1  ...           0.0         0.5   \n",
      "8                128.0    7.6      0.3  22.9  ...           2.8         1.5   \n",
      "9                143.0    2.1      0.3   8.9  ...           0.0         1.6   \n",
      "10               144.0   16.8      0.0   4.0  ...           0.0         6.1   \n",
      "12               150.0    1.9      0.5  28.4  ...           3.9         1.9   \n",
      "13               151.0    5.4      0.0  16.3  ...           1.3         5.2   \n",
      "14               157.0    4.4      0.2  13.1  ...           0.6         1.3   \n",
      "15               161.0    8.4      2.8  54.7  ...           0.0         0.6   \n",
      "16               164.0    3.4      1.0  44.7  ...           3.1         2.2   \n",
      "17               167.0    3.3      1.3  43.2  ...           1.3         0.8   \n",
      "18               168.0    3.8      1.7  30.8  ...           1.3         0.6   \n",
      "19               173.0    5.6      2.3  47.7  ...           0.9         0.7   \n",
      "20               174.0    2.3      2.4  49.5  ...           1.9         1.9   \n",
      "21               195.0    2.5      0.0  27.8  ...           0.9         0.0   \n",
      "22               212.0    2.0      0.8  17.0  ...           0.9         0.7   \n",
      "23               216.0    7.4      0.6   9.1  ...           3.0         1.6   \n",
      "24               217.0    5.7      0.0  32.0  ...           2.5         2.6   \n",
      "25               223.0    5.1      1.8  21.2  ...           1.7         2.1   \n",
      "26               224.0    5.7      0.0  32.0  ...           2.5         2.6   \n",
      "27               228.0    2.4      0.0  51.6  ...           0.5         1.1   \n",
      "28               229.0    6.0      0.8  18.2  ...           0.7         1.7   \n",
      "29               236.0    3.4      0.6  21.6  ...           5.4         1.1   \n",
      "30               237.0    3.4      0.6  21.6  ...           5.4         1.1   \n",
      "31               238.0    6.1      0.7  21.3  ...           0.0         0.0   \n",
      "...                ...    ...      ...   ...  ...           ...         ...   \n",
      "1534             503.0    4.0      0.5  24.2  ...           0.0         0.5   \n",
      "1535             504.0    4.2      0.0  25.1  ...           1.6         0.5   \n",
      "1536             505.0    4.2      1.1  38.3  ...           1.1         1.7   \n",
      "1537             507.0    7.8      2.0  31.0  ...           0.0         5.5   \n",
      "1538             508.0    5.7      0.0  33.0  ...           1.6         0.9   \n",
      "1539             513.0    2.2      1.0  28.0  ...           0.0         4.1   \n",
      "1540             514.0    2.5      0.0  27.6  ...           0.5         1.8   \n",
      "1541             515.0    5.7      0.0  33.0  ...           1.6         0.9   \n",
      "1543             517.0    7.0      1.7  51.1  ...           0.0         0.9   \n",
      "1544             518.0    2.5      0.4  43.7  ...           3.2         0.4   \n",
      "1545             519.0    7.0      1.7  51.1  ...           0.0         0.9   \n",
      "1546             520.0   10.1      0.0  31.2  ...           0.0         5.2   \n",
      "1547             522.0    7.7      0.0  42.4  ...           0.0         1.5   \n",
      "1548             523.0    0.0      0.0  29.5  ...           0.0         9.6   \n",
      "1549             525.0    3.4      2.4  36.4  ...           0.2         3.5   \n",
      "1550             526.0    3.7      1.7  47.6  ...           1.5         0.0   \n",
      "1551             528.0    2.8      0.4  41.3  ...           1.2         0.0   \n",
      "1552             529.0    3.7      0.9  42.1  ...           3.7         4.7   \n",
      "1553             530.0    4.6      0.0  21.4  ...           0.0         5.1   \n",
      "1554             531.0    3.8      2.3  22.5  ...           1.5        11.3   \n",
      "1555             532.0    4.9      0.5   9.0  ...           1.6         7.4   \n",
      "1557             534.0   10.0      0.4  24.1  ...           0.2         4.1   \n",
      "1558             536.0    2.8      0.4  41.3  ...           1.2         0.0   \n",
      "1559             539.0    6.0      0.0   3.9  ...           1.2         4.1   \n",
      "1560             540.0    1.0      0.0  23.9  ...           0.0         3.4   \n",
      "1561             545.0    5.8      4.3  28.5  ...           0.0         0.0   \n",
      "1562             546.0    0.5      1.1  36.8  ...           0.7         2.9   \n",
      "1563              72.0    6.9      1.1  39.5  ...           1.1         4.3   \n",
      "1565              82.0    2.8      4.0  43.6  ...           9.9         4.1   \n",
      "1566              83.0    1.2      0.0   8.7  ...           0.0         0.7   \n",
      "\n",
      "      Professional  Service  Brooklyn  Manhattan Queens  Kings New York Queens  \n",
      "0             57.5     13.2         0          1      0      0        1      0  \n",
      "2             32.3     30.4         0          1      0      0        1      0  \n",
      "3             61.5     17.5         1          0      0      1        0      0  \n",
      "4             56.8     10.4         0          1      0      0        1      0  \n",
      "5             44.3     22.7         1          0      0      1        0      0  \n",
      "6             55.3     13.9         1          0      0      1        0      0  \n",
      "7             75.2      1.7         0          1      0      0        1      0  \n",
      "8             75.6      4.9         0          1      0      0        1      0  \n",
      "9             78.6      3.2         1          0      0      1        0      0  \n",
      "10            56.5     15.5         1          0      0      1        0      0  \n",
      "12            65.6     11.8         0          1      0      0        1      0  \n",
      "13            65.7      2.7         0          1      0      0        1      0  \n",
      "14            76.3      5.7         1          0      0      1        0      0  \n",
      "15            93.3      1.0         0          1      0      0        1      0  \n",
      "16            73.1      1.8         0          1      0      0        1      0  \n",
      "17            74.4      1.8         0          1      0      0        1      0  \n",
      "18            64.4      5.1         0          1      0      0        1      0  \n",
      "19            75.3      2.6         0          1      0      0        1      0  \n",
      "20            71.8      7.7         0          1      0      0        1      0  \n",
      "21            71.9      3.0         0          1      0      0        1      0  \n",
      "22            56.8     10.4         0          1      0      0        1      0  \n",
      "23            66.6      9.3         1          0      0      1        0      0  \n",
      "24            67.8      6.9         0          1      0      0        1      0  \n",
      "25            74.2      1.0         0          1      0      0        1      0  \n",
      "26            67.8      6.9         0          1      0      0        1      0  \n",
      "27            75.4      2.1         0          1      0      0        1      0  \n",
      "28            74.3      4.6         0          1      0      0        1      0  \n",
      "29            66.3     13.4         0          1      0      0        1      0  \n",
      "30            66.3     13.4         0          1      0      0        1      0  \n",
      "31            73.1     13.7         0          1      0      0        1      0  \n",
      "...            ...      ...       ...        ...    ...    ...      ...    ...  \n",
      "1534          69.0      2.7         0          1      0      0        1      0  \n",
      "1535          69.7     11.0         0          1      0      0        1      0  \n",
      "1536          74.2      6.0         0          1      0      0        1      0  \n",
      "1537          68.2     13.6         0          1      0      0        1      0  \n",
      "1538          67.6     11.1         0          1      0      0        1      0  \n",
      "1539          72.0      5.9         0          1      0      0        1      0  \n",
      "1540          65.4     10.2         0          1      0      0        1      0  \n",
      "1541          67.6     11.1         0          1      0      0        1      0  \n",
      "1543          73.5      3.1         0          1      0      0        1      0  \n",
      "1544          64.5      4.4         0          1      0      0        1      0  \n",
      "1545          73.5      3.1         0          1      0      0        1      0  \n",
      "1546          58.9     15.2         0          1      0      0        1      0  \n",
      "1547          66.8      6.7         0          1      0      0        1      0  \n",
      "1548          68.1      8.1         0          1      0      0        1      0  \n",
      "1549          70.8      5.5         0          1      0      0        1      0  \n",
      "1550          77.5      0.8         0          1      0      0        1      0  \n",
      "1551          75.6      6.0         0          1      0      0        1      0  \n",
      "1552          66.0     10.6         0          1      0      0        1      0  \n",
      "1553          58.5     10.4         0          1      0      0        1      0  \n",
      "1554          49.1     20.7         0          1      0      0        1      0  \n",
      "1555          42.0     19.9         1          0      0      1        0      0  \n",
      "1557          67.6      2.6         0          1      0      0        1      0  \n",
      "1558          75.6      6.0         0          1      0      0        1      0  \n",
      "1559          64.8     11.2         1          0      0      1        0      0  \n",
      "1560          69.7      5.5         0          1      0      0        1      0  \n",
      "1561          82.0      5.4         0          1      0      0        1      0  \n",
      "1562          67.3      4.4         0          1      0      0        1      0  \n",
      "1563          57.5     13.2         0          1      0      0        1      0  \n",
      "1565          32.3     30.4         0          1      0      0        1      0  \n",
      "1566          61.5     17.5         1          0      0      1        0      0  \n",
      "\n",
      "[1495 rows x 35 columns]\n"
     ]
    }
   ],
   "source": [
    "print (df_X)"
   ]
  },
  {
   "cell_type": "code",
   "execution_count": 23,
   "metadata": {
    "scrolled": true
   },
   "outputs": [
    {
     "data": {
      "text/plain": [
       "0.66275594443915"
      ]
     },
     "execution_count": 23,
     "metadata": {},
     "output_type": "execute_result"
    }
   ],
   "source": [
    "lr.fit(X_train,y_train)\n",
    "y_pred=lr.predict(X_test)\n",
    "lr.score(X_test,y_pred)\n",
    "mean_squared_error(y_test,y_pred)"
   ]
  },
  {
   "cell_type": "code",
   "execution_count": 24,
   "metadata": {},
   "outputs": [
    {
     "name": "stdout",
     "output_type": "stream",
     "text": [
      "R-squared regression: 0.4910456463578624\n",
      "R-squared PLSR: 0.48806498687104904\n"
     ]
    },
    {
     "data": {
      "image/png": "[encoded data removed]",
      "text/plain": [
       "<Figure size 432x288 with 1 Axes>"
      ]
     },
     "metadata": {
      "needs_background": "light"
     },
     "output_type": "display_data"
    }
   ],
   "source": [
    "from sklearn.cross_decomposition import PLSRegression\n",
    "\n",
    "regr = linear_model.LinearRegression()\n",
    "regr.fit(X, y)\n",
    "\n",
    "Y_pred = regr.predict(X)\n",
    "print('R-squared regression:', regr.score(X, y))\n",
    "\n",
    "\n",
    "pls1 = PLSRegression(n_components=10)\n",
    "\n",
    "\n",
    "pls1.fit(X, y)\n",
    "\n",
    "\n",
    "Y_PLS_pred = pls1.predict(X)\n",
    "print('R-squared PLSR:', pls1.score(X, y))\n",
    "\n",
    "\n",
    "plt.scatter(Y_pred,Y_PLS_pred) \n",
    "plt.xlabel('Predicted by features')\n",
    "plt.ylabel('Predicted by 10 features')\n",
    "plt.title('Comparing LR and PLSR predictions')\n",
    "plt.show()"
   ]
  },
  {
   "cell_type": "code",
   "execution_count": 25,
   "metadata": {},
   "outputs": [],
   "source": [
    "from sklearn.ensemble import RandomForestClassifier\n",
    "from sklearn.model_selection import train_test_split\n",
    "from sklearn import ensemble\n",
    "from sklearn.model_selection import cross_val_score\n",
    "from sklearn.ensemble import RandomForestRegressor\n",
    "from sklearn.model_selection import train_test_split\n",
    "from sklearn.datasets import make_classification\n",
    "from sklearn.datasets import make_regression\n",
    "\n"
   ]
  },
  {
   "cell_type": "code",
   "execution_count": 26,
   "metadata": {
    "scrolled": true
   },
   "outputs": [
    {
     "ename": "AttributeError",
     "evalue": "'LinearRegression' object has no attribute 'feature_importances_'",
     "output_type": "error",
     "traceback": [
      "\u001b[0;31m---------------------------------------------------------------------------\u001b[0m",
      "\u001b[0;31mAttributeError\u001b[0m                            Traceback (most recent call last)",
      "\u001b[0;32m<ipython-input-26-eee20235838a>\u001b[0m in \u001b[0;36m<module>\u001b[0;34m\u001b[0m\n\u001b[1;32m      1\u001b[0m \u001b[0mregr\u001b[0m\u001b[0;34m.\u001b[0m\u001b[0mfit\u001b[0m\u001b[0;34m(\u001b[0m\u001b[0mX\u001b[0m\u001b[0;34m,\u001b[0m \u001b[0my\u001b[0m\u001b[0;34m)\u001b[0m\u001b[0;34m\u001b[0m\u001b[0;34m\u001b[0m\u001b[0m\n\u001b[1;32m      2\u001b[0m \u001b[0;34m\u001b[0m\u001b[0m\n\u001b[0;32m----> 3\u001b[0;31m \u001b[0mprint\u001b[0m\u001b[0;34m(\u001b[0m\u001b[0mregr\u001b[0m\u001b[0;34m.\u001b[0m\u001b[0mfeature_importances_\u001b[0m\u001b[0;34m)\u001b[0m\u001b[0;34m\u001b[0m\u001b[0;34m\u001b[0m\u001b[0m\n\u001b[0m",
      "\u001b[0;31mAttributeError\u001b[0m: 'LinearRegression' object has no attribute 'feature_importances_'"
     ]
    }
   ],
   "source": [
    "regr.fit(X, y)\n",
    "\n",
    "print(regr.feature_importances_)\n"
   ]
  },
  {
   "cell_type": "code",
   "execution_count": 27,
   "metadata": {
    "scrolled": false
   },
   "outputs": [
    {
     "name": "stdout",
     "output_type": "stream",
     "text": [
      "\n",
      "R-squared simple model:\n",
      "0.4910456463578624\n"
     ]
    }
   ],
   "source": [
    "regr1 = linear_model.LinearRegression()\n",
    "Y_train = df['log_tripcount']\n",
    "X_train = df_X.drop ('Borough', 1).drop('County_x' , 1)\n",
    "\n",
    "regr1.fit(X_train, Y_train)\n",
    "print('\\nR-squared simple model:')\n",
    "print(regr1.score(X_train, Y_train))"
   ]
  },
  {
   "cell_type": "code",
   "execution_count": 28,
   "metadata": {},
   "outputs": [
    {
     "data": {
      "text/html": [
       "<div>\n",
       "<style scoped>\n",
       "    .dataframe tbody tr th:only-of-type {\n",
       "        vertical-align: middle;\n",
       "    }\n",
       "\n",
       "    .dataframe tbody tr th {\n",
       "        vertical-align: top;\n",
       "    }\n",
       "\n",
       "    .dataframe thead th {\n",
       "        text-align: right;\n",
       "    }\n",
       "</style>\n",
       "<table border=\"1\" class=\"dataframe\">\n",
       "  <thead>\n",
       "    <tr style=\"text-align: right;\">\n",
       "      <th></th>\n",
       "      <th>borough_distance</th>\n",
       "      <th>TotalPop</th>\n",
       "      <th>Men</th>\n",
       "      <th>Women</th>\n",
       "      <th>Income</th>\n",
       "      <th>Poverty</th>\n",
       "      <th>start_station_id</th>\n",
       "      <th>Drive</th>\n",
       "      <th>Carpool</th>\n",
       "      <th>Walk</th>\n",
       "      <th>...</th>\n",
       "      <th>Construction</th>\n",
       "      <th>Production</th>\n",
       "      <th>Professional</th>\n",
       "      <th>Service</th>\n",
       "      <th>Brooklyn</th>\n",
       "      <th>Manhattan</th>\n",
       "      <th>Queens</th>\n",
       "      <th>Kings</th>\n",
       "      <th>New York</th>\n",
       "      <th>Queens</th>\n",
       "    </tr>\n",
       "  </thead>\n",
       "  <tbody>\n",
       "    <tr>\n",
       "      <th>0</th>\n",
       "      <td>0.097058</td>\n",
       "      <td>6384</td>\n",
       "      <td>3286</td>\n",
       "      <td>3098</td>\n",
       "      <td>62290.0</td>\n",
       "      <td>18.6</td>\n",
       "      <td>72.0</td>\n",
       "      <td>6.9</td>\n",
       "      <td>1.1</td>\n",
       "      <td>39.5</td>\n",
       "      <td>...</td>\n",
       "      <td>1.1</td>\n",
       "      <td>4.3</td>\n",
       "      <td>57.5</td>\n",
       "      <td>13.2</td>\n",
       "      <td>0</td>\n",
       "      <td>1</td>\n",
       "      <td>0</td>\n",
       "      <td>0</td>\n",
       "      <td>1</td>\n",
       "      <td>0</td>\n",
       "    </tr>\n",
       "    <tr>\n",
       "      <th>2</th>\n",
       "      <td>0.119646</td>\n",
       "      <td>6050</td>\n",
       "      <td>3671</td>\n",
       "      <td>2379</td>\n",
       "      <td>30629.0</td>\n",
       "      <td>20.6</td>\n",
       "      <td>82.0</td>\n",
       "      <td>2.8</td>\n",
       "      <td>4.0</td>\n",
       "      <td>43.6</td>\n",
       "      <td>...</td>\n",
       "      <td>9.9</td>\n",
       "      <td>4.1</td>\n",
       "      <td>32.3</td>\n",
       "      <td>30.4</td>\n",
       "      <td>0</td>\n",
       "      <td>1</td>\n",
       "      <td>0</td>\n",
       "      <td>0</td>\n",
       "      <td>1</td>\n",
       "      <td>0</td>\n",
       "    </tr>\n",
       "    <tr>\n",
       "      <th>3</th>\n",
       "      <td>0.039960</td>\n",
       "      <td>2577</td>\n",
       "      <td>1102</td>\n",
       "      <td>1475</td>\n",
       "      <td>82071.0</td>\n",
       "      <td>11.2</td>\n",
       "      <td>83.0</td>\n",
       "      <td>1.2</td>\n",
       "      <td>0.0</td>\n",
       "      <td>8.7</td>\n",
       "      <td>...</td>\n",
       "      <td>0.0</td>\n",
       "      <td>0.7</td>\n",
       "      <td>61.5</td>\n",
       "      <td>17.5</td>\n",
       "      <td>1</td>\n",
       "      <td>0</td>\n",
       "      <td>0</td>\n",
       "      <td>1</td>\n",
       "      <td>0</td>\n",
       "      <td>0</td>\n",
       "    </tr>\n",
       "    <tr>\n",
       "      <th>4</th>\n",
       "      <td>0.060052</td>\n",
       "      <td>3929</td>\n",
       "      <td>1534</td>\n",
       "      <td>2395</td>\n",
       "      <td>69303.0</td>\n",
       "      <td>18.5</td>\n",
       "      <td>116.0</td>\n",
       "      <td>2.0</td>\n",
       "      <td>0.8</td>\n",
       "      <td>17.0</td>\n",
       "      <td>...</td>\n",
       "      <td>0.9</td>\n",
       "      <td>0.7</td>\n",
       "      <td>56.8</td>\n",
       "      <td>10.4</td>\n",
       "      <td>0</td>\n",
       "      <td>1</td>\n",
       "      <td>0</td>\n",
       "      <td>0</td>\n",
       "      <td>1</td>\n",
       "      <td>0</td>\n",
       "    </tr>\n",
       "    <tr>\n",
       "      <th>5</th>\n",
       "      <td>0.150738</td>\n",
       "      <td>1362</td>\n",
       "      <td>684</td>\n",
       "      <td>678</td>\n",
       "      <td>43000.0</td>\n",
       "      <td>18.7</td>\n",
       "      <td>119.0</td>\n",
       "      <td>25.8</td>\n",
       "      <td>2.3</td>\n",
       "      <td>4.7</td>\n",
       "      <td>...</td>\n",
       "      <td>3.8</td>\n",
       "      <td>11.5</td>\n",
       "      <td>44.3</td>\n",
       "      <td>22.7</td>\n",
       "      <td>1</td>\n",
       "      <td>0</td>\n",
       "      <td>0</td>\n",
       "      <td>1</td>\n",
       "      <td>0</td>\n",
       "      <td>0</td>\n",
       "    </tr>\n",
       "  </tbody>\n",
       "</table>\n",
       "<p>5 rows × 35 columns</p>\n",
       "</div>"
      ],
      "text/plain": [
       "   borough_distance  TotalPop   Men  Women   Income  Poverty  \\\n",
       "0          0.097058      6384  3286   3098  62290.0     18.6   \n",
       "2          0.119646      6050  3671   2379  30629.0     20.6   \n",
       "3          0.039960      2577  1102   1475  82071.0     11.2   \n",
       "4          0.060052      3929  1534   2395  69303.0     18.5   \n",
       "5          0.150738      1362   684    678  43000.0     18.7   \n",
       "\n",
       "   start_station_id  Drive  Carpool  Walk  ...  Construction  Production  \\\n",
       "0              72.0    6.9      1.1  39.5  ...           1.1         4.3   \n",
       "2              82.0    2.8      4.0  43.6  ...           9.9         4.1   \n",
       "3              83.0    1.2      0.0   8.7  ...           0.0         0.7   \n",
       "4             116.0    2.0      0.8  17.0  ...           0.9         0.7   \n",
       "5             119.0   25.8      2.3   4.7  ...           3.8        11.5   \n",
       "\n",
       "   Professional  Service  Brooklyn  Manhattan Queens  Kings New York Queens  \n",
       "0          57.5     13.2         0          1      0      0        1      0  \n",
       "2          32.3     30.4         0          1      0      0        1      0  \n",
       "3          61.5     17.5         1          0      0      1        0      0  \n",
       "4          56.8     10.4         0          1      0      0        1      0  \n",
       "5          44.3     22.7         1          0      0      1        0      0  \n",
       "\n",
       "[5 rows x 35 columns]"
      ]
     },
     "execution_count": 28,
     "metadata": {},
     "output_type": "execute_result"
    }
   ],
   "source": [
    "df_X.head()"
   ]
  },
  {
   "cell_type": "code",
   "execution_count": 29,
   "metadata": {},
   "outputs": [],
   "source": [
    "y=df.log_tripcount\n",
    "X_feat=df_X.drop ('Borough', 1).drop('County_x' , 1)\n",
    "\n",
    "X_feat['male_usage']= X.Men / X.TotalPop *100\n",
    "X_feat['shared_trans'] = X.Carpool + X.Walk + X.OtherTransp\n",
    "X_feat['minority'] = X.Hispanic + X.Black + X.Asian\n",
    "X_feat['corporate'] = X.Office +X.Construction + X.PublicWork + X.Production\n",
    "(X_train, X_test, y_train, y_test)=train_test_split(X,y,test_size=0.25)\n",
    "lr=LinearRegression()\n"
   ]
  },
  {
   "cell_type": "code",
   "execution_count": 30,
   "metadata": {},
   "outputs": [
    {
     "data": {
      "text/plain": [
       "0.6051467894718664"
      ]
     },
     "execution_count": 30,
     "metadata": {},
     "output_type": "execute_result"
    }
   ],
   "source": [
    "lr.fit(X_train,y_train)\n",
    "y_pred=lr.predict(X_test)\n",
    "lr.score(X_test,y_pred)\n",
    "mean_squared_error(y_test,y_pred)"
   ]
  },
  {
   "cell_type": "code",
   "execution_count": 31,
   "metadata": {},
   "outputs": [
    {
     "name": "stdout",
     "output_type": "stream",
     "text": [
      "R-squared regression: 0.4910456463578624\n",
      "R-squared PLSR: 0.48806498687104904\n"
     ]
    },
    {
     "data": {
      "image/png": "[encoded data removed]",
      "text/plain": [
       "<Figure size 432x288 with 1 Axes>"
      ]
     },
     "metadata": {
      "needs_background": "light"
     },
     "output_type": "display_data"
    }
   ],
   "source": [
    "regr = linear_model.LinearRegression()\n",
    "regr.fit(X, y)\n",
    "\n",
    "Y_pred = regr.predict(X)\n",
    "print('R-squared regression:', regr.score(X, y))\n",
    "\n",
    "\n",
    "pls1 = PLSRegression(n_components=10)\n",
    "\n",
    "\n",
    "pls1.fit(X, y)\n",
    "\n",
    "\n",
    "Y_PLS_pred = pls1.predict(X)\n",
    "print('R-squared PLSR:', pls1.score(X, y))\n",
    "\n",
    "\n",
    "plt.scatter(Y_pred,Y_PLS_pred) \n",
    "plt.xlabel('Predicted by features')\n",
    "plt.ylabel('Predicted by 10 features')\n",
    "plt.title('Comparing LR and PLSR predictions')\n",
    "plt.show()"
   ]
  },
  {
   "cell_type": "code",
   "execution_count": 32,
   "metadata": {},
   "outputs": [],
   "source": [
    "#ARIMA modeling?"
   ]
  },
  {
   "cell_type": "code",
   "execution_count": 33,
   "metadata": {},
   "outputs": [
    {
     "name": "stdout",
     "output_type": "stream",
     "text": [
      "Done\n",
      "Estimated number of clusters: 38\n"
     ]
    }
   ],
   "source": [
    "from sklearn.cluster import AffinityPropagation\n",
    "from sklearn import metrics\n",
    "\n",
    "# Declare the model and fit it in one statement.\n",
    "# Note that you can provide arguments to the model, but we didn't.\n",
    "af = AffinityPropagation().fit(X_train)\n",
    "print('Done')\n",
    "\n",
    "# Pull the number of clusters and cluster assignments for each data point.\n",
    "cluster_centers_indices = af.cluster_centers_indices_\n",
    "n_clusters_ = len(cluster_centers_indices)\n",
    "labels = af.labels_\n",
    "\n",
    "print('Estimated number of clusters: {}'.format(n_clusters_))\n"
   ]
  },
  {
   "cell_type": "code",
   "execution_count": null,
   "metadata": {},
   "outputs": [
    {
     "name": "stderr",
     "output_type": "stream",
     "text": [
      "/anaconda3/lib/python3.7/site-packages/sklearn/manifold/spectral_embedding_.py:237: UserWarning: Graph is not fully connected, spectral embedding may not work as expected.\n",
      "  warnings.warn(\"Graph is not fully connected, spectral embedding\"\n"
     ]
    }
   ],
   "source": [
    "from sklearn.cluster import SpectralClustering\n",
    "\n",
    "n_clusters=5\n",
    "\n",
    "sc = SpectralClustering(n_clusters=n_clusters)\n",
    "sc.fit(X_train)\n",
    "\n",
    "\n",
    "predict=sc.fit_predict(X_train)\n",
    "\n",
    "\n",
    "plt.scatter(X_train[:, 0], X_train[:, 1], c=predict)\n",
    "plt.show()\n",
    "\n",
    "print('Comparing the assigned categories to the ones in the data:')\n",
    "print(pd.crosstab(y_train,predict))"
   ]
  },
  {
   "cell_type": "code",
   "execution_count": null,
   "metadata": {},
   "outputs": [],
   "source": [
    "from sklearn.datasets.samples_generator import make_blobs\n",
    "from sklearn.model_selection import train_test_split\n",
    "\n",
    "\n",
    "centers = [[2, 2], [-2, -2], [2, -2],[2, -2],[2, -2]]\n",
    "\n",
    "\n",
    "X, y = make_blobs(\n",
    "    n_samples=10000,\n",
    "    centers=centers,\n",
    "    cluster_std=1,\n",
    "    n_features=8,\n",
    "    random_state=42)\n",
    "\n",
    "plt.scatter(X[:, 0], X[:, 1], c=y)\n",
    "plt.show()\n",
    "\n",
    "#Divide into training and test sets.\n",
    "X_train, X_test, y_train, y_test = train_test_split(\n",
    "    X,\n",
    "    y,\n",
    "    test_size=0.9,\n",
    "    random_state=42)"
   ]
  },
  {
   "cell_type": "code",
   "execution_count": 211,
   "metadata": {},
   "outputs": [],
   "source": [
    "regr = ensemble.RandomForestRegressor()\n",
    "X = df.drop ('log_tripcount', 1).drop('tripduration' , 1).drop('County_y', 1).drop('State',1).drop('tmp', 1)\n",
    "Y = df['log_tripcount']\n",
    "X = X.dropna(axis=1)\n",
    "X = pd.concat([X, pd.get_dummies(X['Borough']),pd.get_dummies(X['County_x'])], axis=1)"
   ]
  },
  {
   "cell_type": "code",
   "execution_count": null,
   "metadata": {},
   "outputs": [],
   "source": []
  }
 ],
 "metadata": {
  "kernelspec": {
   "display_name": "Python 3",
   "language": "python",
   "name": "python3"
  },
  "language_info": {
   "codemirror_mode": {
    "name": "ipython",
    "version": 3
   },
   "file_extension": ".py",
   "mimetype": "text/x-python",
   "name": "python",
   "nbconvert_exporter": "python",
   "pygments_lexer": "ipython3",
   "version": "3.7.3"
  }
 },
 "nbformat": 4,
 "nbformat_minor": 2
}
