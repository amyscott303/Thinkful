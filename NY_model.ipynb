{
 "cells": [
  {
   "cell_type": "code",
   "execution_count": 1,
   "metadata": {},
   "outputs": [],
   "source": [
    "import numpy as np\n",
    "import pandas as pd\n",
    "import scipy\n",
    "from datetime import datetime\n",
    "import datetime as dt\n",
    "import matplotlib.pyplot as plt\n",
    "import seaborn as sns\n",
    "import scipy.stats as stats\n",
    "from sklearn.linear_model import LinearRegression\n",
    "import statsmodels.formula.api as smf\n",
    "from sklearn.preprocessing import Binarizer\n",
    "from sklearn.metrics import f1_score, mean_squared_error\n",
    "from sklearn.model_selection import train_test_split\n",
    "from statsmodels.sandbox.regression.predstd import wls_prediction_std\n",
    "from sklearn import datasets, linear_model\n",
    "from sklearn.model_selection import train_test_split\n",
    "\n",
    "\n",
    "%matplotlib inline"
   ]
  },
  {
   "cell_type": "code",
   "execution_count": 2,
   "metadata": {
    "scrolled": false
   },
   "outputs": [
    {
     "data": {
      "text/html": [
       "<div>\n",
       "<style scoped>\n",
       "    .dataframe tbody tr th:only-of-type {\n",
       "        vertical-align: middle;\n",
       "    }\n",
       "\n",
       "    .dataframe tbody tr th {\n",
       "        vertical-align: top;\n",
       "    }\n",
       "\n",
       "    .dataframe thead th {\n",
       "        text-align: right;\n",
       "    }\n",
       "</style>\n",
       "<table border=\"1\" class=\"dataframe\">\n",
       "  <thead>\n",
       "    <tr style=\"text-align: right;\">\n",
       "      <th></th>\n",
       "      <th>Unnamed: 0</th>\n",
       "      <th>start_station_id</th>\n",
       "      <th>start_station_latitude</th>\n",
       "      <th>start_station_longitude</th>\n",
       "      <th>tripduration</th>\n",
       "      <th>tmp</th>\n",
       "      <th>CensusTract</th>\n",
       "      <th>County_x</th>\n",
       "      <th>Borough</th>\n",
       "      <th>TotalPop</th>\n",
       "      <th>...</th>\n",
       "      <th>FamilyWork</th>\n",
       "      <th>Unemployment</th>\n",
       "      <th>Latitude</th>\n",
       "      <th>Longitude</th>\n",
       "      <th>BlockCode</th>\n",
       "      <th>County_y</th>\n",
       "      <th>State</th>\n",
       "      <th>BlockCode_11</th>\n",
       "      <th>borough_distance</th>\n",
       "      <th>distance_rank</th>\n",
       "    </tr>\n",
       "  </thead>\n",
       "  <tbody>\n",
       "    <tr>\n",
       "      <th>0</th>\n",
       "      <td>6521</td>\n",
       "      <td>72.0</td>\n",
       "      <td>40.767272</td>\n",
       "      <td>-73.993929</td>\n",
       "      <td>3607</td>\n",
       "      <td>tmp</td>\n",
       "      <td>36061013500</td>\n",
       "      <td>New York</td>\n",
       "      <td>Manhattan</td>\n",
       "      <td>6384</td>\n",
       "      <td>...</td>\n",
       "      <td>0.0</td>\n",
       "      <td>5.7</td>\n",
       "      <td>40.767186</td>\n",
       "      <td>-73.995075</td>\n",
       "      <td>360610135002005</td>\n",
       "      <td>New York</td>\n",
       "      <td>NY</td>\n",
       "      <td>36061013500</td>\n",
       "      <td>0.097058</td>\n",
       "      <td>1.0</td>\n",
       "    </tr>\n",
       "    <tr>\n",
       "      <th>2</th>\n",
       "      <td>42233</td>\n",
       "      <td>82.0</td>\n",
       "      <td>40.711174</td>\n",
       "      <td>-74.000165</td>\n",
       "      <td>1214</td>\n",
       "      <td>tmp</td>\n",
       "      <td>36061002900</td>\n",
       "      <td>New York</td>\n",
       "      <td>Manhattan</td>\n",
       "      <td>6050</td>\n",
       "      <td>...</td>\n",
       "      <td>0.0</td>\n",
       "      <td>3.3</td>\n",
       "      <td>40.710653</td>\n",
       "      <td>-74.001407</td>\n",
       "      <td>360610029004022</td>\n",
       "      <td>New York</td>\n",
       "      <td>NY</td>\n",
       "      <td>36061002900</td>\n",
       "      <td>0.119646</td>\n",
       "      <td>1.0</td>\n",
       "    </tr>\n",
       "    <tr>\n",
       "      <th>3</th>\n",
       "      <td>56934</td>\n",
       "      <td>83.0</td>\n",
       "      <td>40.683826</td>\n",
       "      <td>-73.976323</td>\n",
       "      <td>1623</td>\n",
       "      <td>tmp</td>\n",
       "      <td>36047012901</td>\n",
       "      <td>Kings</td>\n",
       "      <td>Brooklyn</td>\n",
       "      <td>2577</td>\n",
       "      <td>...</td>\n",
       "      <td>0.0</td>\n",
       "      <td>5.7</td>\n",
       "      <td>40.683518</td>\n",
       "      <td>-73.976080</td>\n",
       "      <td>360470129011002</td>\n",
       "      <td>Kings</td>\n",
       "      <td>NY</td>\n",
       "      <td>36047012901</td>\n",
       "      <td>0.039960</td>\n",
       "      <td>1.0</td>\n",
       "    </tr>\n",
       "    <tr>\n",
       "      <th>4</th>\n",
       "      <td>78536</td>\n",
       "      <td>116.0</td>\n",
       "      <td>40.741776</td>\n",
       "      <td>-74.001497</td>\n",
       "      <td>5761</td>\n",
       "      <td>tmp</td>\n",
       "      <td>36061008300</td>\n",
       "      <td>New York</td>\n",
       "      <td>Manhattan</td>\n",
       "      <td>3929</td>\n",
       "      <td>...</td>\n",
       "      <td>0.0</td>\n",
       "      <td>11.3</td>\n",
       "      <td>40.742312</td>\n",
       "      <td>-74.001407</td>\n",
       "      <td>360610083001000</td>\n",
       "      <td>New York</td>\n",
       "      <td>NY</td>\n",
       "      <td>36061008300</td>\n",
       "      <td>0.060052</td>\n",
       "      <td>1.0</td>\n",
       "    </tr>\n",
       "    <tr>\n",
       "      <th>5</th>\n",
       "      <td>93334</td>\n",
       "      <td>119.0</td>\n",
       "      <td>40.696089</td>\n",
       "      <td>-73.978034</td>\n",
       "      <td>454</td>\n",
       "      <td>tmp</td>\n",
       "      <td>36047021100</td>\n",
       "      <td>Kings</td>\n",
       "      <td>Brooklyn</td>\n",
       "      <td>1362</td>\n",
       "      <td>...</td>\n",
       "      <td>0.0</td>\n",
       "      <td>9.2</td>\n",
       "      <td>40.697085</td>\n",
       "      <td>-73.979246</td>\n",
       "      <td>360470211001001</td>\n",
       "      <td>Kings</td>\n",
       "      <td>NY</td>\n",
       "      <td>36047021100</td>\n",
       "      <td>0.150738</td>\n",
       "      <td>1.0</td>\n",
       "    </tr>\n",
       "  </tbody>\n",
       "</table>\n",
       "<p>5 rows × 50 columns</p>\n",
       "</div>"
      ],
      "text/plain": [
       "   Unnamed: 0  start_station_id  start_station_latitude  \\\n",
       "0        6521              72.0               40.767272   \n",
       "2       42233              82.0               40.711174   \n",
       "3       56934              83.0               40.683826   \n",
       "4       78536             116.0               40.741776   \n",
       "5       93334             119.0               40.696089   \n",
       "\n",
       "   start_station_longitude  tripduration  tmp  CensusTract  County_x  \\\n",
       "0               -73.993929          3607  tmp  36061013500  New York   \n",
       "2               -74.000165          1214  tmp  36061002900  New York   \n",
       "3               -73.976323          1623  tmp  36047012901     Kings   \n",
       "4               -74.001497          5761  tmp  36061008300  New York   \n",
       "5               -73.978034           454  tmp  36047021100     Kings   \n",
       "\n",
       "     Borough  TotalPop  ...  FamilyWork  Unemployment   Latitude  Longitude  \\\n",
       "0  Manhattan      6384  ...         0.0           5.7  40.767186 -73.995075   \n",
       "2  Manhattan      6050  ...         0.0           3.3  40.710653 -74.001407   \n",
       "3   Brooklyn      2577  ...         0.0           5.7  40.683518 -73.976080   \n",
       "4  Manhattan      3929  ...         0.0          11.3  40.742312 -74.001407   \n",
       "5   Brooklyn      1362  ...         0.0           9.2  40.697085 -73.979246   \n",
       "\n",
       "         BlockCode  County_y  State  BlockCode_11  borough_distance  \\\n",
       "0  360610135002005  New York     NY   36061013500          0.097058   \n",
       "2  360610029004022  New York     NY   36061002900          0.119646   \n",
       "3  360470129011002     Kings     NY   36047012901          0.039960   \n",
       "4  360610083001000  New York     NY   36061008300          0.060052   \n",
       "5  360470211001001     Kings     NY   36047021100          0.150738   \n",
       "\n",
       "   distance_rank  \n",
       "0            1.0  \n",
       "2            1.0  \n",
       "3            1.0  \n",
       "4            1.0  \n",
       "5            1.0  \n",
       "\n",
       "[5 rows x 50 columns]"
      ]
     },
     "execution_count": 2,
     "metadata": {},
     "output_type": "execute_result"
    }
   ],
   "source": [
    "df= pd.read_csv('NY_bike_close.csv').dropna(axis=0)\n",
    "df.head()"
   ]
  },
  {
   "cell_type": "code",
   "execution_count": 3,
   "metadata": {},
   "outputs": [
    {
     "data": {
      "text/plain": [
       "Unnamed: 0                   int64\n",
       "start_station_id           float64\n",
       "start_station_latitude     float64\n",
       "start_station_longitude    float64\n",
       "tripduration                 int64\n",
       "tmp                         object\n",
       "CensusTract                  int64\n",
       "County_x                    object\n",
       "Borough                     object\n",
       "TotalPop                     int64\n",
       "Men                          int64\n",
       "Women                        int64\n",
       "Hispanic                   float64\n",
       "White                      float64\n",
       "Black                      float64\n",
       "Native                     float64\n",
       "Asian                      float64\n",
       "Citizen                      int64\n",
       "Income                     float64\n",
       "IncomeErr                  float64\n",
       "IncomePerCap               float64\n",
       "IncomePerCapErr            float64\n",
       "Poverty                    float64\n",
       "ChildPoverty               float64\n",
       "Professional               float64\n",
       "Service                    float64\n",
       "Office                     float64\n",
       "Construction               float64\n",
       "Production                 float64\n",
       "Drive                      float64\n",
       "Carpool                    float64\n",
       "Transit                    float64\n",
       "Walk                       float64\n",
       "OtherTransp                float64\n",
       "WorkAtHome                 float64\n",
       "MeanCommute                float64\n",
       "Employed                     int64\n",
       "PrivateWork                float64\n",
       "PublicWork                 float64\n",
       "SelfEmployed               float64\n",
       "FamilyWork                 float64\n",
       "Unemployment               float64\n",
       "Latitude                   float64\n",
       "Longitude                  float64\n",
       "BlockCode                    int64\n",
       "County_y                    object\n",
       "State                       object\n",
       "BlockCode_11                 int64\n",
       "borough_distance           float64\n",
       "distance_rank              float64\n",
       "dtype: object"
      ]
     },
     "execution_count": 3,
     "metadata": {},
     "output_type": "execute_result"
    }
   ],
   "source": [
    "df.dtypes"
   ]
  },
  {
   "cell_type": "code",
   "execution_count": 4,
   "metadata": {},
   "outputs": [],
   "source": [
    "#charts: correlation heatmap,histogram number of rides vs station, station vs borough, look at coursework and follow\n",
    "# along with the coursework to do on here, feature engineering, linear regression, random forest"
   ]
  },
  {
   "cell_type": "code",
   "execution_count": 5,
   "metadata": {},
   "outputs": [],
   "source": [
    "df['log_tripcount']=np.log(df.tripduration)"
   ]
  },
  {
   "cell_type": "code",
   "execution_count": 6,
   "metadata": {},
   "outputs": [
    {
     "data": {
      "image/png": "[encoded data removed]",
      "text/plain": [
       "<Figure size 864x648 with 2 Axes>"
      ]
     },
     "metadata": {
      "needs_background": "light"
     },
     "output_type": "display_data"
    }
   ],
   "source": [
    "corrmat = df.corr()\n",
    "\n",
    "\n",
    "f, ax = plt.subplots(figsize=(12, 9))\n",
    "\n",
    "sns.heatmap(corrmat, vmax=.8, square=True)\n",
    "plt.show()\n"
   ]
  },
  {
   "cell_type": "code",
   "execution_count": 7,
   "metadata": {},
   "outputs": [],
   "source": [
    "x=df[['borough_distance','TotalPop','Men','Women','Income','Poverty','start_station_id','Drive','Carpool','Walk','OtherTransp',\n",
    "     'WorkAtHome','MeanCommute','Employed','Unemployment','PrivateWork','PublicWork','SelfEmployed','FamilyWork', 'tripduration']].dropna(axis=0)\n",
    "\n",
    "y=df['tripduration'].dropna"
   ]
  },
  {
   "cell_type": "code",
   "execution_count": 8,
   "metadata": {
    "scrolled": true
   },
   "outputs": [
    {
     "data": {
      "image/png": "[encoded data removed]",
      "text/plain": [
       "<Figure size 864x648 with 2 Axes>"
      ]
     },
     "metadata": {
      "needs_background": "light"
     },
     "output_type": "display_data"
    }
   ],
   "source": [
    "corrmat=x.corr()\n",
    "f, ax = plt.subplots(figsize=(12, 9))\n",
    "sns.heatmap(corrmat,vmax=.8,square=True)\n",
    "plt.show()"
   ]
  },
  {
   "cell_type": "code",
   "execution_count": 36,
   "metadata": {},
   "outputs": [],
   "source": [
    "from sklearn.svm import SVC\n",
    "from sklearn.metrics import confusion_matrix\n",
    "np.random.seed(123)"
   ]
  },
  {
   "cell_type": "code",
   "execution_count": 40,
   "metadata": {},
   "outputs": [],
   "source": [
    "corr = x.corr()"
   ]
  },
  {
   "cell_type": "code",
   "execution_count": 42,
   "metadata": {},
   "outputs": [],
   "source": [
    "columns = np.full((corr.shape[0],), True, dtype=bool)\n",
    "for i in range(corr.shape[0]):\n",
    "    for j in range(i+1, corr.shape[0]):\n",
    "        if corr.iloc[i,j] <= 0.05:\n",
    "            if columns[j]:\n",
    "                columns[j] = False\n",
    "selected_columns = x.columns[columns]\n",
    "data = df[selected_columns]"
   ]
  },
  {
   "cell_type": "code",
   "execution_count": 48,
   "metadata": {},
   "outputs": [
    {
     "ename": "AttributeError",
     "evalue": "'numpy.ndarray' object has no attribute 'values'",
     "output_type": "error",
     "traceback": [
      "\u001b[0;31m---------------------------------------------------------------------------\u001b[0m",
      "\u001b[0;31mAttributeError\u001b[0m                            Traceback (most recent call last)",
      "\u001b[0;32m<ipython-input-48-9cdb8b1fba2b>\u001b[0m in \u001b[0;36m<module>\u001b[0;34m\u001b[0m\n\u001b[0;32m----> 1\u001b[0;31m \u001b[0mselected_columns\u001b[0m \u001b[0;34m=\u001b[0m \u001b[0mselected_columns\u001b[0m\u001b[0;34m[\u001b[0m\u001b[0;34m:\u001b[0m\u001b[0;34m-\u001b[0m\u001b[0;36m1\u001b[0m\u001b[0;34m]\u001b[0m\u001b[0;34m.\u001b[0m\u001b[0mvalues\u001b[0m\u001b[0;34m\u001b[0m\u001b[0;34m\u001b[0m\u001b[0m\n\u001b[0m\u001b[1;32m      2\u001b[0m \u001b[0;32mimport\u001b[0m \u001b[0mstatsmodels\u001b[0m\u001b[0;34m.\u001b[0m\u001b[0mformula\u001b[0m\u001b[0;34m.\u001b[0m\u001b[0mapi\u001b[0m \u001b[0;32mas\u001b[0m \u001b[0msm\u001b[0m\u001b[0;34m\u001b[0m\u001b[0;34m\u001b[0m\u001b[0m\n\u001b[1;32m      3\u001b[0m \u001b[0;32mdef\u001b[0m \u001b[0mbackwardElimination\u001b[0m\u001b[0;34m(\u001b[0m\u001b[0mx\u001b[0m\u001b[0;34m,\u001b[0m \u001b[0mY\u001b[0m\u001b[0;34m,\u001b[0m \u001b[0msl\u001b[0m\u001b[0;34m,\u001b[0m \u001b[0mcolumns\u001b[0m\u001b[0;34m)\u001b[0m\u001b[0;34m:\u001b[0m\u001b[0;34m\u001b[0m\u001b[0;34m\u001b[0m\u001b[0m\n\u001b[1;32m      4\u001b[0m     \u001b[0mnumVars\u001b[0m \u001b[0;34m=\u001b[0m \u001b[0mlen\u001b[0m\u001b[0;34m(\u001b[0m\u001b[0mx\u001b[0m\u001b[0;34m[\u001b[0m\u001b[0;36m0\u001b[0m\u001b[0;34m]\u001b[0m\u001b[0;34m)\u001b[0m\u001b[0;34m\u001b[0m\u001b[0;34m\u001b[0m\u001b[0m\n\u001b[1;32m      5\u001b[0m     \u001b[0;32mfor\u001b[0m \u001b[0mi\u001b[0m \u001b[0;32min\u001b[0m \u001b[0mrange\u001b[0m\u001b[0;34m(\u001b[0m\u001b[0;36m0\u001b[0m\u001b[0;34m,\u001b[0m \u001b[0mnumVars\u001b[0m\u001b[0;34m)\u001b[0m\u001b[0;34m:\u001b[0m\u001b[0;34m\u001b[0m\u001b[0;34m\u001b[0m\u001b[0m\n",
      "\u001b[0;31mAttributeError\u001b[0m: 'numpy.ndarray' object has no attribute 'values'"
     ]
    }
   ],
   "source": [
    "selected_columns = selected_columns[:-1].values\n",
    "import statsmodels.formula.api as sm\n",
    "def backwardElimination(x, Y, sl, columns):\n",
    "    numVars = len(x[0])\n",
    "    for i in range(0, numVars):\n",
    "        regressor_OLS = sm.OLS(Y, x).fit()\n",
    "        maxVar = max(regressor_OLS.pvalues).astype(float)\n",
    "        if maxVar > sl:\n",
    "            for j in range(0, numVars - i):\n",
    "                if (regressor_OLS.pvalues[j].astype(float) == maxVar):\n",
    "                    x = np.delete(x, j, 1)\n",
    "                    columns = np.delete(columns, j)\n",
    "                    \n",
    "    regressor_OLS.summary()\n",
    "    return x, columns\n",
    "SL = 0.05\n",
    "data_modeled, selected_columns = backwardElimination(data.iloc[:,1:].values, data.iloc[:,0].values, SL, selected_columns)"
   ]
  },
  {
   "cell_type": "code",
   "execution_count": 9,
   "metadata": {},
   "outputs": [],
   "source": [
    "#combine carpool+OtherTransp, keep drive, walk, drop meancommute, do percentage of men from totalpop, "
   ]
  },
  {
   "cell_type": "code",
   "execution_count": 10,
   "metadata": {},
   "outputs": [
    {
     "data": {
      "text/plain": [
       "Text(0, 0.5, 'Frequency')"
      ]
     },
     "execution_count": 10,
     "metadata": {},
     "output_type": "execute_result"
    },
    {
     "data": {
      "image/png": "[encoded data removed]",
      "text/plain": [
       "<Figure size 1152x576 with 1 Axes>"
      ]
     },
     "metadata": {
      "needs_background": "light"
     },
     "output_type": "display_data"
    }
   ],
   "source": [
    "plt.figure(figsize=(16, 8))\n",
    "df.tripduration.hist( bins=50)\n",
    "plt.xlabel(\"km\")\n",
    "plt.ylabel('Frequency')"
   ]
  },
  {
   "cell_type": "code",
   "execution_count": 11,
   "metadata": {
    "scrolled": true
   },
   "outputs": [
    {
     "data": {
      "text/plain": [
       "Text(0, 0.5, 'total trips')"
      ]
     },
     "execution_count": 11,
     "metadata": {},
     "output_type": "execute_result"
    },
    {
     "data": {
      "image/png": "[encoded data removed]",
      "text/plain": [
       "<Figure size 1152x576 with 1 Axes>"
      ]
     },
     "metadata": {
      "needs_background": "light"
     },
     "output_type": "display_data"
    }
   ],
   "source": [
    "plt.figure(figsize=(16, 8))\n",
    "df.log_tripcount.hist( bins=50)\n",
    "plt.xlabel(\"log of trip count\")\n",
    "plt.ylabel('total trips')"
   ]
  },
  {
   "cell_type": "code",
   "execution_count": 12,
   "metadata": {},
   "outputs": [
    {
     "data": {
      "text/plain": [
       "Text(0.5, 0, 'Start Station ID')"
      ]
     },
     "execution_count": 12,
     "metadata": {},
     "output_type": "execute_result"
    },
    {
     "data": {
      "image/png": "[encoded data removed]",
      "text/plain": [
       "<Figure size 1152x576 with 1 Axes>"
      ]
     },
     "metadata": {
      "needs_background": "light"
     },
     "output_type": "display_data"
    }
   ],
   "source": [
    "plt.figure(figsize=(16, 8))\n",
    "df.start_station_id.plot(kind=\"hist\", bins=35, range=(0,600))\n",
    "plt.xlabel(\"Start Station ID\")"
   ]
  },
  {
   "cell_type": "code",
   "execution_count": 13,
   "metadata": {},
   "outputs": [],
   "source": [
    "#remove datapoint at 0, basic models to start- linear regressions, random forest, etc and then work on features to improve \n",
    "#prediction rate"
   ]
  },
  {
   "cell_type": "code",
   "execution_count": 14,
   "metadata": {},
   "outputs": [],
   "source": [
    "#create powerpoint with shell for each slide to show what you will be predicting on that slide"
   ]
  },
  {
   "cell_type": "code",
   "execution_count": 15,
   "metadata": {
    "scrolled": true
   },
   "outputs": [
    {
     "data": {
      "text/plain": [
       "Index(['Unnamed: 0', 'start_station_id', 'start_station_latitude',\n",
       "       'start_station_longitude', 'tripduration', 'tmp', 'CensusTract',\n",
       "       'County_x', 'Borough', 'TotalPop', 'Men', 'Women', 'Hispanic', 'White',\n",
       "       'Black', 'Native', 'Asian', 'Citizen', 'Income', 'IncomeErr',\n",
       "       'IncomePerCap', 'IncomePerCapErr', 'Poverty', 'ChildPoverty',\n",
       "       'Professional', 'Service', 'Office', 'Construction', 'Production',\n",
       "       'Drive', 'Carpool', 'Transit', 'Walk', 'OtherTransp', 'WorkAtHome',\n",
       "       'MeanCommute', 'Employed', 'PrivateWork', 'PublicWork', 'SelfEmployed',\n",
       "       'FamilyWork', 'Unemployment', 'Latitude', 'Longitude', 'BlockCode',\n",
       "       'County_y', 'State', 'BlockCode_11', 'borough_distance',\n",
       "       'distance_rank', 'log_tripcount'],\n",
       "      dtype='object')"
      ]
     },
     "execution_count": 15,
     "metadata": {},
     "output_type": "execute_result"
    }
   ],
   "source": [
    "df.columns"
   ]
  },
  {
   "cell_type": "code",
   "execution_count": 16,
   "metadata": {},
   "outputs": [],
   "source": [
    "df_clean=df[['borough_distance','TotalPop','Men','Women','Income','Poverty','start_station_id','Drive','Carpool','Walk','OtherTransp',\n",
    "     'WorkAtHome','Employed','Unemployment','PrivateWork','PublicWork','SelfEmployed','FamilyWork','Borough','County_x','Hispanic','Black',\n",
    "            'Asian','White','Office','Construction','Production','Professional','Service']].dropna (axis=1)\n",
    "\n",
    "df_X=pd.concat([df_clean, pd.get_dummies(df_clean['Borough']),pd.get_dummies(df_clean['County_x'])],axis=1 )\n",
    "\n",
    "\n"
   ]
  },
  {
   "cell_type": "code",
   "execution_count": 17,
   "metadata": {},
   "outputs": [],
   "source": [
    "X = pd.concat([df_clean, pd.get_dummies(df_clean['Borough']),pd.get_dummies(df_clean['County_x'])], axis=1)\n",
    "\n",
    "Y = df['log_tripcount']"
   ]
  },
  {
   "cell_type": "code",
   "execution_count": 18,
   "metadata": {
    "scrolled": false
   },
   "outputs": [
    {
     "data": {
      "text/html": [
       "<div>\n",
       "<style scoped>\n",
       "    .dataframe tbody tr th:only-of-type {\n",
       "        vertical-align: middle;\n",
       "    }\n",
       "\n",
       "    .dataframe tbody tr th {\n",
       "        vertical-align: top;\n",
       "    }\n",
       "\n",
       "    .dataframe thead th {\n",
       "        text-align: right;\n",
       "    }\n",
       "</style>\n",
       "<table border=\"1\" class=\"dataframe\">\n",
       "  <thead>\n",
       "    <tr style=\"text-align: right;\">\n",
       "      <th></th>\n",
       "      <th>borough_distance</th>\n",
       "      <th>TotalPop</th>\n",
       "      <th>Men</th>\n",
       "      <th>Women</th>\n",
       "      <th>Income</th>\n",
       "      <th>Poverty</th>\n",
       "      <th>start_station_id</th>\n",
       "      <th>Drive</th>\n",
       "      <th>Carpool</th>\n",
       "      <th>Walk</th>\n",
       "      <th>...</th>\n",
       "      <th>Construction</th>\n",
       "      <th>Production</th>\n",
       "      <th>Professional</th>\n",
       "      <th>Service</th>\n",
       "      <th>Brooklyn</th>\n",
       "      <th>Manhattan</th>\n",
       "      <th>Queens</th>\n",
       "      <th>Kings</th>\n",
       "      <th>New York</th>\n",
       "      <th>Queens</th>\n",
       "    </tr>\n",
       "  </thead>\n",
       "  <tbody>\n",
       "    <tr>\n",
       "      <th>0</th>\n",
       "      <td>0.097058</td>\n",
       "      <td>6384</td>\n",
       "      <td>3286</td>\n",
       "      <td>3098</td>\n",
       "      <td>62290.0</td>\n",
       "      <td>18.6</td>\n",
       "      <td>72.0</td>\n",
       "      <td>6.9</td>\n",
       "      <td>1.1</td>\n",
       "      <td>39.5</td>\n",
       "      <td>...</td>\n",
       "      <td>1.1</td>\n",
       "      <td>4.3</td>\n",
       "      <td>57.5</td>\n",
       "      <td>13.2</td>\n",
       "      <td>0</td>\n",
       "      <td>1</td>\n",
       "      <td>0</td>\n",
       "      <td>0</td>\n",
       "      <td>1</td>\n",
       "      <td>0</td>\n",
       "    </tr>\n",
       "    <tr>\n",
       "      <th>2</th>\n",
       "      <td>0.119646</td>\n",
       "      <td>6050</td>\n",
       "      <td>3671</td>\n",
       "      <td>2379</td>\n",
       "      <td>30629.0</td>\n",
       "      <td>20.6</td>\n",
       "      <td>82.0</td>\n",
       "      <td>2.8</td>\n",
       "      <td>4.0</td>\n",
       "      <td>43.6</td>\n",
       "      <td>...</td>\n",
       "      <td>9.9</td>\n",
       "      <td>4.1</td>\n",
       "      <td>32.3</td>\n",
       "      <td>30.4</td>\n",
       "      <td>0</td>\n",
       "      <td>1</td>\n",
       "      <td>0</td>\n",
       "      <td>0</td>\n",
       "      <td>1</td>\n",
       "      <td>0</td>\n",
       "    </tr>\n",
       "    <tr>\n",
       "      <th>3</th>\n",
       "      <td>0.039960</td>\n",
       "      <td>2577</td>\n",
       "      <td>1102</td>\n",
       "      <td>1475</td>\n",
       "      <td>82071.0</td>\n",
       "      <td>11.2</td>\n",
       "      <td>83.0</td>\n",
       "      <td>1.2</td>\n",
       "      <td>0.0</td>\n",
       "      <td>8.7</td>\n",
       "      <td>...</td>\n",
       "      <td>0.0</td>\n",
       "      <td>0.7</td>\n",
       "      <td>61.5</td>\n",
       "      <td>17.5</td>\n",
       "      <td>1</td>\n",
       "      <td>0</td>\n",
       "      <td>0</td>\n",
       "      <td>1</td>\n",
       "      <td>0</td>\n",
       "      <td>0</td>\n",
       "    </tr>\n",
       "    <tr>\n",
       "      <th>4</th>\n",
       "      <td>0.060052</td>\n",
       "      <td>3929</td>\n",
       "      <td>1534</td>\n",
       "      <td>2395</td>\n",
       "      <td>69303.0</td>\n",
       "      <td>18.5</td>\n",
       "      <td>116.0</td>\n",
       "      <td>2.0</td>\n",
       "      <td>0.8</td>\n",
       "      <td>17.0</td>\n",
       "      <td>...</td>\n",
       "      <td>0.9</td>\n",
       "      <td>0.7</td>\n",
       "      <td>56.8</td>\n",
       "      <td>10.4</td>\n",
       "      <td>0</td>\n",
       "      <td>1</td>\n",
       "      <td>0</td>\n",
       "      <td>0</td>\n",
       "      <td>1</td>\n",
       "      <td>0</td>\n",
       "    </tr>\n",
       "    <tr>\n",
       "      <th>5</th>\n",
       "      <td>0.150738</td>\n",
       "      <td>1362</td>\n",
       "      <td>684</td>\n",
       "      <td>678</td>\n",
       "      <td>43000.0</td>\n",
       "      <td>18.7</td>\n",
       "      <td>119.0</td>\n",
       "      <td>25.8</td>\n",
       "      <td>2.3</td>\n",
       "      <td>4.7</td>\n",
       "      <td>...</td>\n",
       "      <td>3.8</td>\n",
       "      <td>11.5</td>\n",
       "      <td>44.3</td>\n",
       "      <td>22.7</td>\n",
       "      <td>1</td>\n",
       "      <td>0</td>\n",
       "      <td>0</td>\n",
       "      <td>1</td>\n",
       "      <td>0</td>\n",
       "      <td>0</td>\n",
       "    </tr>\n",
       "  </tbody>\n",
       "</table>\n",
       "<p>5 rows × 35 columns</p>\n",
       "</div>"
      ],
      "text/plain": [
       "   borough_distance  TotalPop   Men  Women   Income  Poverty  \\\n",
       "0          0.097058      6384  3286   3098  62290.0     18.6   \n",
       "2          0.119646      6050  3671   2379  30629.0     20.6   \n",
       "3          0.039960      2577  1102   1475  82071.0     11.2   \n",
       "4          0.060052      3929  1534   2395  69303.0     18.5   \n",
       "5          0.150738      1362   684    678  43000.0     18.7   \n",
       "\n",
       "   start_station_id  Drive  Carpool  Walk  ...  Construction  Production  \\\n",
       "0              72.0    6.9      1.1  39.5  ...           1.1         4.3   \n",
       "2              82.0    2.8      4.0  43.6  ...           9.9         4.1   \n",
       "3              83.0    1.2      0.0   8.7  ...           0.0         0.7   \n",
       "4             116.0    2.0      0.8  17.0  ...           0.9         0.7   \n",
       "5             119.0   25.8      2.3   4.7  ...           3.8        11.5   \n",
       "\n",
       "   Professional  Service  Brooklyn  Manhattan Queens  Kings New York Queens  \n",
       "0          57.5     13.2         0          1      0      0        1      0  \n",
       "2          32.3     30.4         0          1      0      0        1      0  \n",
       "3          61.5     17.5         1          0      0      1        0      0  \n",
       "4          56.8     10.4         0          1      0      0        1      0  \n",
       "5          44.3     22.7         1          0      0      1        0      0  \n",
       "\n",
       "[5 rows x 35 columns]"
      ]
     },
     "execution_count": 18,
     "metadata": {},
     "output_type": "execute_result"
    }
   ],
   "source": [
    "df_X.head()"
   ]
  },
  {
   "cell_type": "code",
   "execution_count": 19,
   "metadata": {},
   "outputs": [
    {
     "data": {
      "text/html": [
       "<div>\n",
       "<style scoped>\n",
       "    .dataframe tbody tr th:only-of-type {\n",
       "        vertical-align: middle;\n",
       "    }\n",
       "\n",
       "    .dataframe tbody tr th {\n",
       "        vertical-align: top;\n",
       "    }\n",
       "\n",
       "    .dataframe thead th {\n",
       "        text-align: right;\n",
       "    }\n",
       "</style>\n",
       "<table border=\"1\" class=\"dataframe\">\n",
       "  <thead>\n",
       "    <tr style=\"text-align: right;\">\n",
       "      <th></th>\n",
       "      <th>borough_distance</th>\n",
       "      <th>TotalPop</th>\n",
       "      <th>Men</th>\n",
       "      <th>Women</th>\n",
       "      <th>Income</th>\n",
       "      <th>Poverty</th>\n",
       "      <th>start_station_id</th>\n",
       "      <th>Drive</th>\n",
       "      <th>Carpool</th>\n",
       "      <th>Walk</th>\n",
       "      <th>...</th>\n",
       "      <th>Construction</th>\n",
       "      <th>Production</th>\n",
       "      <th>Professional</th>\n",
       "      <th>Service</th>\n",
       "      <th>Brooklyn</th>\n",
       "      <th>Manhattan</th>\n",
       "      <th>Queens</th>\n",
       "      <th>Kings</th>\n",
       "      <th>New York</th>\n",
       "      <th>Queens</th>\n",
       "    </tr>\n",
       "  </thead>\n",
       "  <tbody>\n",
       "    <tr>\n",
       "      <th>0</th>\n",
       "      <td>0.097058</td>\n",
       "      <td>6384</td>\n",
       "      <td>3286</td>\n",
       "      <td>3098</td>\n",
       "      <td>62290.0</td>\n",
       "      <td>18.6</td>\n",
       "      <td>72.0</td>\n",
       "      <td>6.9</td>\n",
       "      <td>1.1</td>\n",
       "      <td>39.5</td>\n",
       "      <td>...</td>\n",
       "      <td>1.1</td>\n",
       "      <td>4.3</td>\n",
       "      <td>57.5</td>\n",
       "      <td>13.2</td>\n",
       "      <td>0</td>\n",
       "      <td>1</td>\n",
       "      <td>0</td>\n",
       "      <td>0</td>\n",
       "      <td>1</td>\n",
       "      <td>0</td>\n",
       "    </tr>\n",
       "    <tr>\n",
       "      <th>2</th>\n",
       "      <td>0.119646</td>\n",
       "      <td>6050</td>\n",
       "      <td>3671</td>\n",
       "      <td>2379</td>\n",
       "      <td>30629.0</td>\n",
       "      <td>20.6</td>\n",
       "      <td>82.0</td>\n",
       "      <td>2.8</td>\n",
       "      <td>4.0</td>\n",
       "      <td>43.6</td>\n",
       "      <td>...</td>\n",
       "      <td>9.9</td>\n",
       "      <td>4.1</td>\n",
       "      <td>32.3</td>\n",
       "      <td>30.4</td>\n",
       "      <td>0</td>\n",
       "      <td>1</td>\n",
       "      <td>0</td>\n",
       "      <td>0</td>\n",
       "      <td>1</td>\n",
       "      <td>0</td>\n",
       "    </tr>\n",
       "    <tr>\n",
       "      <th>3</th>\n",
       "      <td>0.039960</td>\n",
       "      <td>2577</td>\n",
       "      <td>1102</td>\n",
       "      <td>1475</td>\n",
       "      <td>82071.0</td>\n",
       "      <td>11.2</td>\n",
       "      <td>83.0</td>\n",
       "      <td>1.2</td>\n",
       "      <td>0.0</td>\n",
       "      <td>8.7</td>\n",
       "      <td>...</td>\n",
       "      <td>0.0</td>\n",
       "      <td>0.7</td>\n",
       "      <td>61.5</td>\n",
       "      <td>17.5</td>\n",
       "      <td>1</td>\n",
       "      <td>0</td>\n",
       "      <td>0</td>\n",
       "      <td>1</td>\n",
       "      <td>0</td>\n",
       "      <td>0</td>\n",
       "    </tr>\n",
       "    <tr>\n",
       "      <th>4</th>\n",
       "      <td>0.060052</td>\n",
       "      <td>3929</td>\n",
       "      <td>1534</td>\n",
       "      <td>2395</td>\n",
       "      <td>69303.0</td>\n",
       "      <td>18.5</td>\n",
       "      <td>116.0</td>\n",
       "      <td>2.0</td>\n",
       "      <td>0.8</td>\n",
       "      <td>17.0</td>\n",
       "      <td>...</td>\n",
       "      <td>0.9</td>\n",
       "      <td>0.7</td>\n",
       "      <td>56.8</td>\n",
       "      <td>10.4</td>\n",
       "      <td>0</td>\n",
       "      <td>1</td>\n",
       "      <td>0</td>\n",
       "      <td>0</td>\n",
       "      <td>1</td>\n",
       "      <td>0</td>\n",
       "    </tr>\n",
       "    <tr>\n",
       "      <th>5</th>\n",
       "      <td>0.150738</td>\n",
       "      <td>1362</td>\n",
       "      <td>684</td>\n",
       "      <td>678</td>\n",
       "      <td>43000.0</td>\n",
       "      <td>18.7</td>\n",
       "      <td>119.0</td>\n",
       "      <td>25.8</td>\n",
       "      <td>2.3</td>\n",
       "      <td>4.7</td>\n",
       "      <td>...</td>\n",
       "      <td>3.8</td>\n",
       "      <td>11.5</td>\n",
       "      <td>44.3</td>\n",
       "      <td>22.7</td>\n",
       "      <td>1</td>\n",
       "      <td>0</td>\n",
       "      <td>0</td>\n",
       "      <td>1</td>\n",
       "      <td>0</td>\n",
       "      <td>0</td>\n",
       "    </tr>\n",
       "  </tbody>\n",
       "</table>\n",
       "<p>5 rows × 35 columns</p>\n",
       "</div>"
      ],
      "text/plain": [
       "   borough_distance  TotalPop   Men  Women   Income  Poverty  \\\n",
       "0          0.097058      6384  3286   3098  62290.0     18.6   \n",
       "2          0.119646      6050  3671   2379  30629.0     20.6   \n",
       "3          0.039960      2577  1102   1475  82071.0     11.2   \n",
       "4          0.060052      3929  1534   2395  69303.0     18.5   \n",
       "5          0.150738      1362   684    678  43000.0     18.7   \n",
       "\n",
       "   start_station_id  Drive  Carpool  Walk  ...  Construction  Production  \\\n",
       "0              72.0    6.9      1.1  39.5  ...           1.1         4.3   \n",
       "2              82.0    2.8      4.0  43.6  ...           9.9         4.1   \n",
       "3              83.0    1.2      0.0   8.7  ...           0.0         0.7   \n",
       "4             116.0    2.0      0.8  17.0  ...           0.9         0.7   \n",
       "5             119.0   25.8      2.3   4.7  ...           3.8        11.5   \n",
       "\n",
       "   Professional  Service  Brooklyn  Manhattan Queens  Kings New York Queens  \n",
       "0          57.5     13.2         0          1      0      0        1      0  \n",
       "2          32.3     30.4         0          1      0      0        1      0  \n",
       "3          61.5     17.5         1          0      0      1        0      0  \n",
       "4          56.8     10.4         0          1      0      0        1      0  \n",
       "5          44.3     22.7         1          0      0      1        0      0  \n",
       "\n",
       "[5 rows x 35 columns]"
      ]
     },
     "execution_count": 19,
     "metadata": {},
     "output_type": "execute_result"
    }
   ],
   "source": [
    "Y.head()\n",
    "X.head()"
   ]
  },
  {
   "cell_type": "code",
   "execution_count": 20,
   "metadata": {
    "scrolled": true
   },
   "outputs": [],
   "source": [
    "y=df.log_tripcount\n",
    "X= df_X.drop ('Borough', 1).drop('County_x' , 1)\n",
    "(X_train, X_test, y_train, y_test)=train_test_split(X,y,test_size=0.25)\n",
    "lr=LinearRegression()"
   ]
  },
  {
   "cell_type": "code",
   "execution_count": 21,
   "metadata": {
    "scrolled": true
   },
   "outputs": [
    {
     "data": {
      "text/plain": [
       "0.689326369427993"
      ]
     },
     "execution_count": 21,
     "metadata": {},
     "output_type": "execute_result"
    }
   ],
   "source": [
    "lr.fit(X_train,y_train)\n",
    "y_pred=lr.predict(X_test)\n",
    "lr.score(X_test,y_pred)\n",
    "mean_squared_error(y_test,y_pred)"
   ]
  },
  {
   "cell_type": "code",
   "execution_count": 22,
   "metadata": {},
   "outputs": [
    {
     "name": "stdout",
     "output_type": "stream",
     "text": [
      "R-squared regression: 0.4910456463578624\n",
      "R-squared PLSR: 0.48806498687104904\n"
     ]
    },
    {
     "data": {
      "image/png": "[encoded data removed]",
      "text/plain": [
       "<Figure size 432x288 with 1 Axes>"
      ]
     },
     "metadata": {
      "needs_background": "light"
     },
     "output_type": "display_data"
    }
   ],
   "source": [
    "from sklearn.cross_decomposition import PLSRegression\n",
    "\n",
    "regr = linear_model.LinearRegression()\n",
    "regr.fit(X, y)\n",
    "\n",
    "Y_pred = regr.predict(X)\n",
    "print('R-squared regression:', regr.score(X, y))\n",
    "\n",
    "\n",
    "pls1 = PLSRegression(n_components=10)\n",
    "\n",
    "\n",
    "pls1.fit(X, y)\n",
    "\n",
    "\n",
    "Y_PLS_pred = pls1.predict(X)\n",
    "print('R-squared PLSR:', pls1.score(X, y))\n",
    "\n",
    "\n",
    "plt.scatter(Y_pred,Y_PLS_pred) \n",
    "plt.xlabel('Predicted by features')\n",
    "plt.ylabel('Predicted by 10 features')\n",
    "plt.title('Comparing LR and PLSR predictions')\n",
    "plt.show()"
   ]
  },
  {
   "cell_type": "code",
   "execution_count": 90,
   "metadata": {},
   "outputs": [],
   "source": [
    "from sklearn.ensemble import RandomForestClassifier\n",
    "from sklearn.model_selection import train_test_split\n",
    "from sklearn import ensemble\n",
    "from sklearn.model_selection import cross_val_score\n",
    "from sklearn.ensemble import RandomForestRegressor\n",
    "from sklearn.model_selection import train_test_split\n",
    "from sklearn.datasets import make_classification\n",
    "from sklearn.datasets import make_regression\n",
    "\n"
   ]
  },
  {
   "cell_type": "code",
   "execution_count": 23,
   "metadata": {
    "scrolled": false
   },
   "outputs": [
    {
     "name": "stdout",
     "output_type": "stream",
     "text": [
      "\n",
      "R-squared simple model:\n",
      "0.4910456463578624\n"
     ]
    }
   ],
   "source": [
    "regr1 = linear_model.LinearRegression()\n",
    "Y_train = df['log_tripcount']\n",
    "X_train = df_X.drop ('Borough', 1).drop('County_x' , 1)\n",
    "\n",
    "regr1.fit(X_train, Y_train)\n",
    "print('\\nR-squared simple model:')\n",
    "print(regr1.score(X_train, Y_train))"
   ]
  },
  {
   "cell_type": "code",
   "execution_count": 92,
   "metadata": {
    "scrolled": true
   },
   "outputs": [
    {
     "data": {
      "text/html": [
       "<div>\n",
       "<style scoped>\n",
       "    .dataframe tbody tr th:only-of-type {\n",
       "        vertical-align: middle;\n",
       "    }\n",
       "\n",
       "    .dataframe tbody tr th {\n",
       "        vertical-align: top;\n",
       "    }\n",
       "\n",
       "    .dataframe thead th {\n",
       "        text-align: right;\n",
       "    }\n",
       "</style>\n",
       "<table border=\"1\" class=\"dataframe\">\n",
       "  <thead>\n",
       "    <tr style=\"text-align: right;\">\n",
       "      <th></th>\n",
       "      <th>borough_distance</th>\n",
       "      <th>TotalPop</th>\n",
       "      <th>Men</th>\n",
       "      <th>Women</th>\n",
       "      <th>Income</th>\n",
       "      <th>Poverty</th>\n",
       "      <th>start_station_id</th>\n",
       "      <th>Drive</th>\n",
       "      <th>Carpool</th>\n",
       "      <th>Walk</th>\n",
       "      <th>...</th>\n",
       "      <th>Production</th>\n",
       "      <th>Professional</th>\n",
       "      <th>Service</th>\n",
       "      <th>log_tripcount</th>\n",
       "      <th>Brooklyn</th>\n",
       "      <th>Manhattan</th>\n",
       "      <th>Queens</th>\n",
       "      <th>Kings</th>\n",
       "      <th>New York</th>\n",
       "      <th>Queens</th>\n",
       "    </tr>\n",
       "  </thead>\n",
       "  <tbody>\n",
       "    <tr>\n",
       "      <th>0</th>\n",
       "      <td>0.097058</td>\n",
       "      <td>6384</td>\n",
       "      <td>3286</td>\n",
       "      <td>3098</td>\n",
       "      <td>62290.0</td>\n",
       "      <td>18.6</td>\n",
       "      <td>72.0</td>\n",
       "      <td>6.9</td>\n",
       "      <td>1.1</td>\n",
       "      <td>39.5</td>\n",
       "      <td>...</td>\n",
       "      <td>4.3</td>\n",
       "      <td>57.5</td>\n",
       "      <td>13.2</td>\n",
       "      <td>8.190632</td>\n",
       "      <td>0</td>\n",
       "      <td>1</td>\n",
       "      <td>0</td>\n",
       "      <td>0</td>\n",
       "      <td>1</td>\n",
       "      <td>0</td>\n",
       "    </tr>\n",
       "    <tr>\n",
       "      <th>2</th>\n",
       "      <td>0.119646</td>\n",
       "      <td>6050</td>\n",
       "      <td>3671</td>\n",
       "      <td>2379</td>\n",
       "      <td>30629.0</td>\n",
       "      <td>20.6</td>\n",
       "      <td>82.0</td>\n",
       "      <td>2.8</td>\n",
       "      <td>4.0</td>\n",
       "      <td>43.6</td>\n",
       "      <td>...</td>\n",
       "      <td>4.1</td>\n",
       "      <td>32.3</td>\n",
       "      <td>30.4</td>\n",
       "      <td>7.101676</td>\n",
       "      <td>0</td>\n",
       "      <td>1</td>\n",
       "      <td>0</td>\n",
       "      <td>0</td>\n",
       "      <td>1</td>\n",
       "      <td>0</td>\n",
       "    </tr>\n",
       "    <tr>\n",
       "      <th>3</th>\n",
       "      <td>0.039960</td>\n",
       "      <td>2577</td>\n",
       "      <td>1102</td>\n",
       "      <td>1475</td>\n",
       "      <td>82071.0</td>\n",
       "      <td>11.2</td>\n",
       "      <td>83.0</td>\n",
       "      <td>1.2</td>\n",
       "      <td>0.0</td>\n",
       "      <td>8.7</td>\n",
       "      <td>...</td>\n",
       "      <td>0.7</td>\n",
       "      <td>61.5</td>\n",
       "      <td>17.5</td>\n",
       "      <td>7.392032</td>\n",
       "      <td>1</td>\n",
       "      <td>0</td>\n",
       "      <td>0</td>\n",
       "      <td>1</td>\n",
       "      <td>0</td>\n",
       "      <td>0</td>\n",
       "    </tr>\n",
       "    <tr>\n",
       "      <th>4</th>\n",
       "      <td>0.060052</td>\n",
       "      <td>3929</td>\n",
       "      <td>1534</td>\n",
       "      <td>2395</td>\n",
       "      <td>69303.0</td>\n",
       "      <td>18.5</td>\n",
       "      <td>116.0</td>\n",
       "      <td>2.0</td>\n",
       "      <td>0.8</td>\n",
       "      <td>17.0</td>\n",
       "      <td>...</td>\n",
       "      <td>0.7</td>\n",
       "      <td>56.8</td>\n",
       "      <td>10.4</td>\n",
       "      <td>8.658866</td>\n",
       "      <td>0</td>\n",
       "      <td>1</td>\n",
       "      <td>0</td>\n",
       "      <td>0</td>\n",
       "      <td>1</td>\n",
       "      <td>0</td>\n",
       "    </tr>\n",
       "    <tr>\n",
       "      <th>5</th>\n",
       "      <td>0.150738</td>\n",
       "      <td>1362</td>\n",
       "      <td>684</td>\n",
       "      <td>678</td>\n",
       "      <td>43000.0</td>\n",
       "      <td>18.7</td>\n",
       "      <td>119.0</td>\n",
       "      <td>25.8</td>\n",
       "      <td>2.3</td>\n",
       "      <td>4.7</td>\n",
       "      <td>...</td>\n",
       "      <td>11.5</td>\n",
       "      <td>44.3</td>\n",
       "      <td>22.7</td>\n",
       "      <td>6.118097</td>\n",
       "      <td>1</td>\n",
       "      <td>0</td>\n",
       "      <td>0</td>\n",
       "      <td>1</td>\n",
       "      <td>0</td>\n",
       "      <td>0</td>\n",
       "    </tr>\n",
       "  </tbody>\n",
       "</table>\n",
       "<p>5 rows × 36 columns</p>\n",
       "</div>"
      ],
      "text/plain": [
       "   borough_distance  TotalPop   Men  Women   Income  Poverty  \\\n",
       "0          0.097058      6384  3286   3098  62290.0     18.6   \n",
       "2          0.119646      6050  3671   2379  30629.0     20.6   \n",
       "3          0.039960      2577  1102   1475  82071.0     11.2   \n",
       "4          0.060052      3929  1534   2395  69303.0     18.5   \n",
       "5          0.150738      1362   684    678  43000.0     18.7   \n",
       "\n",
       "   start_station_id  Drive  Carpool  Walk  ...  Production  Professional  \\\n",
       "0              72.0    6.9      1.1  39.5  ...         4.3          57.5   \n",
       "2              82.0    2.8      4.0  43.6  ...         4.1          32.3   \n",
       "3              83.0    1.2      0.0   8.7  ...         0.7          61.5   \n",
       "4             116.0    2.0      0.8  17.0  ...         0.7          56.8   \n",
       "5             119.0   25.8      2.3   4.7  ...        11.5          44.3   \n",
       "\n",
       "   Service  log_tripcount  Brooklyn  Manhattan Queens  Kings New York Queens  \n",
       "0     13.2       8.190632         0          1      0      0        1      0  \n",
       "2     30.4       7.101676         0          1      0      0        1      0  \n",
       "3     17.5       7.392032         1          0      0      1        0      0  \n",
       "4     10.4       8.658866         0          1      0      0        1      0  \n",
       "5     22.7       6.118097         1          0      0      1        0      0  \n",
       "\n",
       "[5 rows x 36 columns]"
      ]
     },
     "execution_count": 92,
     "metadata": {},
     "output_type": "execute_result"
    }
   ],
   "source": [
    "df_X.head()"
   ]
  },
  {
   "cell_type": "code",
   "execution_count": 93,
   "metadata": {},
   "outputs": [
    {
     "data": {
      "text/plain": [
       "Index(['borough_distance', 'TotalPop', 'Men', 'Women', 'Income', 'Poverty',\n",
       "       'start_station_id', 'Drive', 'Carpool', 'Walk', 'OtherTransp',\n",
       "       'WorkAtHome', 'Employed', 'Unemployment', 'PrivateWork', 'PublicWork',\n",
       "       'SelfEmployed', 'FamilyWork', 'Borough', 'County_x', 'Hispanic',\n",
       "       'Black', 'Asian', 'White', 'Office', 'Construction', 'Production',\n",
       "       'Professional', 'Service', 'log_tripcount', 'Brooklyn', 'Manhattan',\n",
       "       'Queens', 'Kings', 'New York', 'Queens'],\n",
       "      dtype='object')"
      ]
     },
     "execution_count": 93,
     "metadata": {},
     "output_type": "execute_result"
    }
   ],
   "source": [
    "df_X.columns"
   ]
  },
  {
   "cell_type": "code",
   "execution_count": 25,
   "metadata": {},
   "outputs": [
    {
     "name": "stdout",
     "output_type": "stream",
     "text": [
      "[6.63506746e-02 6.95948015e-03 1.00948932e-02 8.78675021e-03\n",
      " 1.85752189e-02 2.29526103e-02 1.56675709e-01 2.48172790e-02\n",
      " 1.13159547e-02 2.54585288e-01 2.02159211e-02 1.64867911e-02\n",
      " 9.96969543e-03 1.12424252e-02 2.06491999e-02 2.22938155e-02\n",
      " 8.60557631e-03 5.10820839e-03 1.05307173e-02 2.50500042e-02\n",
      " 1.89391096e-02 1.18572515e-02 1.41083055e-02 7.85630388e-03\n",
      " 2.36893642e-02 5.21912306e-02 5.53497544e-02 2.75729077e-03\n",
      " 3.73552990e-02 1.27093335e-03 7.24293699e-03 3.59271459e-02\n",
      " 1.88862201e-04]\n"
     ]
    },
    {
     "name": "stderr",
     "output_type": "stream",
     "text": [
      "/anaconda3/lib/python3.7/site-packages/sklearn/ensemble/forest.py:246: FutureWarning: The default value of n_estimators will change from 10 in version 0.20 to 100 in 0.22.\n",
      "  \"10 in version 0.20 to 100 in 0.22.\", FutureWarning)\n"
     ]
    }
   ],
   "source": [
    "from sklearn import ensemble\n",
    "regr = ensemble.RandomForestRegressor()\n",
    "X = df_X.drop ('Borough', 1).drop('County_x' , 1)\n",
    "Y = df['log_tripcount']\n",
    "regr.fit(X, Y)\n",
    "\n",
    "print(regr.feature_importances_)"
   ]
  },
  {
   "cell_type": "code",
   "execution_count": 26,
   "metadata": {},
   "outputs": [],
   "source": [
    "y=df.log_tripcount\n",
    "X_feat=df_X.drop ('Borough', 1).drop('County_x' , 1)\n",
    "\n",
    "X_feat['male_usage']= X.Men / X.TotalPop *100\n",
    "X_feat['shared_trans'] = X.Carpool + X.Walk + X.OtherTransp\n",
    "X_feat['minority'] = X.Hispanic + X.Black + X.Asian\n",
    "X_feat['corporate'] = X.Office +X.Construction + X.PublicWork + X.Production\n",
    "(X_train, X_test, y_train, y_test)=train_test_split(X_feat,y,test_size=0.25)\n",
    "lr=LinearRegression()\n"
   ]
  },
  {
   "cell_type": "code",
   "execution_count": 27,
   "metadata": {},
   "outputs": [
    {
     "data": {
      "text/plain": [
       "0.6752747332714665"
      ]
     },
     "execution_count": 27,
     "metadata": {},
     "output_type": "execute_result"
    }
   ],
   "source": [
    "lr.fit(X_train,y_train)\n",
    "y_pred=lr.predict(X_test)\n",
    "lr.score(X_test,y_pred)\n",
    "mean_squared_error(y_test,y_pred)"
   ]
  },
  {
   "cell_type": "code",
   "execution_count": 28,
   "metadata": {},
   "outputs": [
    {
     "name": "stdout",
     "output_type": "stream",
     "text": [
      "R-squared regression: 0.4910456463578624\n",
      "R-squared PLSR: 0.48806498687104904\n"
     ]
    },
    {
     "data": {
      "image/png": "[encoded data removed]",
      "text/plain": [
       "<Figure size 432x288 with 1 Axes>"
      ]
     },
     "metadata": {
      "needs_background": "light"
     },
     "output_type": "display_data"
    }
   ],
   "source": [
    "regr = linear_model.LinearRegression()\n",
    "regr.fit(X, y)\n",
    "\n",
    "Y_pred = regr.predict(X)\n",
    "print('R-squared regression:', regr.score(X, y))\n",
    "\n",
    "\n",
    "pls1 = PLSRegression(n_components=10)\n",
    "\n",
    "\n",
    "pls1.fit(X, y)\n",
    "\n",
    "\n",
    "Y_PLS_pred = pls1.predict(X)\n",
    "print('R-squared PLSR:', pls1.score(X, y))\n",
    "\n",
    "\n",
    "plt.scatter(Y_pred,Y_PLS_pred) \n",
    "plt.xlabel('Predicted by features')\n",
    "plt.ylabel('Predicted by 10 features')\n",
    "plt.title('Comparing LR and PLSR predictions')\n",
    "plt.show()"
   ]
  },
  {
   "cell_type": "code",
   "execution_count": 99,
   "metadata": {},
   "outputs": [],
   "source": [
    "#random forest regression...whered it go?, gradient boosting, SVM,KNN maybe\n",
    "#gradient boost, random forest regression grid search and fine tune"
   ]
  },
  {
   "cell_type": "code",
   "execution_count": 100,
   "metadata": {},
   "outputs": [],
   "source": [
    "# use demographics to determine next best spot to add a station, in the .predict(use a census dataframe that doesn't have a\n",
    "#station information is not included)this way you find a spot in boroughs that need one. "
   ]
  },
  {
   "cell_type": "code",
   "execution_count": 29,
   "metadata": {},
   "outputs": [],
   "source": [
    "y_gb = df['log_tripcount'] - 1\n",
    "X_gb = df_X.loc[:,:]\n",
    "\n",
    "# Make the categorical variable 'country' into dummies.\n",
    "X_gb = df_X.drop ('Borough', 1).drop('County_x' , 1)\n",
    "\n",
    "# Create training and test sets.\n",
    "offset = int(X.shape[0] * 0.9)\n",
    "\n",
    "# Put 90% of the data in the training set.\n",
    "X_train, y_train = X_gb[:offset], y_gb[:offset]\n",
    "\n",
    "# And put 10% in the test set.\n",
    "X_test, y_test = X_gb[offset:], y_gb[offset:]"
   ]
  },
  {
   "cell_type": "code",
   "execution_count": 30,
   "metadata": {},
   "outputs": [
    {
     "name": "stdout",
     "output_type": "stream",
     "text": [
      "MSE: 1.1489\n"
     ]
    }
   ],
   "source": [
    "params = {'n_estimators': 500,\n",
    "          'max_depth': 2}\n",
    "\n",
    "\n",
    "clf = ensemble.GradientBoostingRegressor(**params)\n",
    "\n",
    "clf.fit(X_train, y_train)\n",
    "mse = mean_squared_error(y_test, clf.predict(X_test))\n",
    "print(\"MSE: %.4f\" % mse)\n"
   ]
  },
  {
   "cell_type": "code",
   "execution_count": 31,
   "metadata": {},
   "outputs": [
    {
     "data": {
      "text/plain": [
       "GradientBoostingRegressor(alpha=0.9, criterion='friedman_mse', init=None,\n",
       "             learning_rate=0.01, loss='ls', max_depth=4, max_features=None,\n",
       "             max_leaf_nodes=None, min_impurity_decrease=0.0,\n",
       "             min_impurity_split=None, min_samples_leaf=1,\n",
       "             min_samples_split=2, min_weight_fraction_leaf=0.0,\n",
       "             n_estimators=500, n_iter_no_change=None, presort='auto',\n",
       "             random_state=None, subsample=1.0, tol=0.0001,\n",
       "             validation_fraction=0.1, verbose=0, warm_start=False)"
      ]
     },
     "execution_count": 31,
     "metadata": {},
     "output_type": "execute_result"
    }
   ],
   "source": [
    "params = {'n_estimators': 500, 'max_depth': 4, 'min_samples_split': 2,\n",
    "          'learning_rate': 0.01, 'loss': 'ls'}\n",
    "model = ensemble.GradientBoostingRegressor(**params)\n",
    "\n",
    "model.fit(X_train, y_train)"
   ]
  },
  {
   "cell_type": "code",
   "execution_count": 32,
   "metadata": {},
   "outputs": [
    {
     "name": "stdout",
     "output_type": "stream",
     "text": [
      "R2 sq:  0.6748469100193764\n",
      "Mean squared error: 1.01\n",
      "Test Variance score: -0.16\n"
     ]
    }
   ],
   "source": [
    "from sklearn.metrics import mean_squared_error, r2_score\n",
    "model_score = model.score(X_train, y_train)\n",
    "# Have a look at R sq to give an idea of the fit ,\n",
    "# Explained variance score: 1 is perfect prediction\n",
    "print('R2 sq: ',model_score)\n",
    "y_predicted = model.predict(X_test)\n",
    "\n",
    "# The mean squared error\n",
    "print(\"Mean squared error: %.2f\"% mean_squared_error(y_test, y_predicted))\n",
    "# Explained variance score: 1 is perfect prediction\n",
    "print('Test Variance score: %.2f' % r2_score(y_test, y_predicted))"
   ]
  },
  {
   "cell_type": "code",
   "execution_count": 33,
   "metadata": {},
   "outputs": [
    {
     "data": {
      "image/png": "[encoded data removed]",
      "text/plain": [
       "<Figure size 432x288 with 1 Axes>"
      ]
     },
     "metadata": {
      "needs_background": "light"
     },
     "output_type": "display_data"
    }
   ],
   "source": [
    "from sklearn.model_selection import cross_val_predict\n",
    "\n",
    "fig, ax = plt.subplots()\n",
    "ax.scatter(y_test, y_predicted, edgecolors=(0, 0, 0))\n",
    "ax.plot([y_test.min(), y_test.max()], [y_test.min(), y_test.max()], 'k--', lw=4)\n",
    "ax.set_xlabel('Actual')\n",
    "ax.set_ylabel('Predicted')\n",
    "ax.set_title(\"Ground Truth vs Predicted\")\n",
    "plt.show()"
   ]
  },
  {
   "cell_type": "code",
   "execution_count": 34,
   "metadata": {},
   "outputs": [
    {
     "data": {
      "text/plain": [
       "Text(0, 0.5, 'Deviance')"
      ]
     },
     "execution_count": 34,
     "metadata": {},
     "output_type": "execute_result"
    },
    {
     "data": {
      "image/png": "[encoded data removed]",
      "text/plain": [
       "<Figure size 864x432 with 1 Axes>"
      ]
     },
     "metadata": {
      "needs_background": "light"
     },
     "output_type": "display_data"
    }
   ],
   "source": [
    "test_score = np.zeros((params['n_estimators'],), dtype=np.float64)\n",
    "\n",
    "for i, y_pred in enumerate(clf.staged_predict(X_test)):\n",
    "    test_score[i] = clf.loss_(y_test, y_pred)\n",
    "\n",
    "plt.figure(figsize=(12, 6))\n",
    "plt.subplot(1, 2, 1)\n",
    "plt.title('Deviance')\n",
    "plt.plot(np.arange(params['n_estimators']) + 1, clf.train_score_, 'b-',\n",
    "         label='Training Set Deviance')\n",
    "plt.plot(np.arange(params['n_estimators']) + 1, test_score, 'r-',\n",
    "         label='Test Set Deviance')\n",
    "plt.legend(loc='upper right')\n",
    "plt.xlabel('Boosting Iterations')\n",
    "plt.ylabel('Deviance')"
   ]
  },
  {
   "cell_type": "code",
   "execution_count": 35,
   "metadata": {},
   "outputs": [
    {
     "data": {
      "image/png": "[encoded data removed]",
      "text/plain": [
       "<Figure size 432x288 with 1 Axes>"
      ]
     },
     "metadata": {
      "needs_background": "light"
     },
     "output_type": "display_data"
    }
   ],
   "source": [
    "feature_importance = clf.feature_importances_\n",
    "# make importances relative to max importance\n",
    "feature_importance = 100.0 * (feature_importance / feature_importance.max())\n",
    "sorted_idx = np.argsort(feature_importance)\n",
    "pos = np.arange(sorted_idx.shape[0]) + .5\n",
    "plt.subplot(1, 2, 2)\n",
    "plt.barh(pos, feature_importance[sorted_idx], align='center')\n",
    "plt.yticks(pos,df_X)\n",
    "plt.xlabel('Relative Importance')\n",
    "plt.title('Variable Importance')\n",
    "plt.show()"
   ]
  },
  {
   "cell_type": "code",
   "execution_count": null,
   "metadata": {},
   "outputs": [],
   "source": []
  }
 ],
 "metadata": {
  "kernelspec": {
   "display_name": "Python 3",
   "language": "python",
   "name": "python3"
  },
  "language_info": {
   "codemirror_mode": {
    "name": "ipython",
    "version": 3
   },
   "file_extension": ".py",
   "mimetype": "text/x-python",
   "name": "python",
   "nbconvert_exporter": "python",
   "pygments_lexer": "ipython3",
   "version": "3.7.3"
  }
 },
 "nbformat": 4,
 "nbformat_minor": 2
}
