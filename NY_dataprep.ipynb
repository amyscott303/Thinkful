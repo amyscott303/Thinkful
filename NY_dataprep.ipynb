{
 "cells": [
  {
   "cell_type": "code",
   "execution_count": 1,
   "metadata": {},
   "outputs": [],
   "source": [
    "import numpy as np\n",
    "import pandas as pd\n",
    "import scipy\n",
    "from datetime import datetime\n",
    "import datetime as dt\n",
    "import matplotlib.pyplot as plt\n",
    "%matplotlib inline"
   ]
  },
  {
   "cell_type": "code",
   "execution_count": 2,
   "metadata": {},
   "outputs": [],
   "source": [
    "#Build a model based on census data to determine how certain census data effects bike stations and what would be other\n",
    "#good locations to add new bike shares. How many rides based on the area and what is the demographic like around the station"
   ]
  },
  {
   "cell_type": "code",
   "execution_count": 3,
   "metadata": {
    "scrolled": false
   },
   "outputs": [
    {
     "data": {
      "text/html": [
       "<div>\n",
       "<style scoped>\n",
       "    .dataframe tbody tr th:only-of-type {\n",
       "        vertical-align: middle;\n",
       "    }\n",
       "\n",
       "    .dataframe tbody tr th {\n",
       "        vertical-align: top;\n",
       "    }\n",
       "\n",
       "    .dataframe thead th {\n",
       "        text-align: right;\n",
       "    }\n",
       "</style>\n",
       "<table border=\"1\" class=\"dataframe\">\n",
       "  <thead>\n",
       "    <tr style=\"text-align: right;\">\n",
       "      <th></th>\n",
       "      <th>CensusTract</th>\n",
       "      <th>County</th>\n",
       "      <th>Borough</th>\n",
       "      <th>TotalPop</th>\n",
       "      <th>Men</th>\n",
       "      <th>Women</th>\n",
       "      <th>Hispanic</th>\n",
       "      <th>White</th>\n",
       "      <th>Black</th>\n",
       "      <th>Native</th>\n",
       "      <th>...</th>\n",
       "      <th>Walk</th>\n",
       "      <th>OtherTransp</th>\n",
       "      <th>WorkAtHome</th>\n",
       "      <th>MeanCommute</th>\n",
       "      <th>Employed</th>\n",
       "      <th>PrivateWork</th>\n",
       "      <th>PublicWork</th>\n",
       "      <th>SelfEmployed</th>\n",
       "      <th>FamilyWork</th>\n",
       "      <th>Unemployment</th>\n",
       "    </tr>\n",
       "  </thead>\n",
       "  <tbody>\n",
       "    <tr>\n",
       "      <th>0</th>\n",
       "      <td>36005000100</td>\n",
       "      <td>Bronx</td>\n",
       "      <td>Bronx</td>\n",
       "      <td>7703</td>\n",
       "      <td>7133</td>\n",
       "      <td>570</td>\n",
       "      <td>29.9</td>\n",
       "      <td>6.1</td>\n",
       "      <td>60.9</td>\n",
       "      <td>0.2</td>\n",
       "      <td>...</td>\n",
       "      <td>NaN</td>\n",
       "      <td>NaN</td>\n",
       "      <td>NaN</td>\n",
       "      <td>NaN</td>\n",
       "      <td>0</td>\n",
       "      <td>NaN</td>\n",
       "      <td>NaN</td>\n",
       "      <td>NaN</td>\n",
       "      <td>NaN</td>\n",
       "      <td>NaN</td>\n",
       "    </tr>\n",
       "    <tr>\n",
       "      <th>1</th>\n",
       "      <td>36005000200</td>\n",
       "      <td>Bronx</td>\n",
       "      <td>Bronx</td>\n",
       "      <td>5403</td>\n",
       "      <td>2659</td>\n",
       "      <td>2744</td>\n",
       "      <td>75.8</td>\n",
       "      <td>2.3</td>\n",
       "      <td>16.0</td>\n",
       "      <td>0.0</td>\n",
       "      <td>...</td>\n",
       "      <td>2.9</td>\n",
       "      <td>0.0</td>\n",
       "      <td>0.0</td>\n",
       "      <td>43.0</td>\n",
       "      <td>2308</td>\n",
       "      <td>80.8</td>\n",
       "      <td>16.2</td>\n",
       "      <td>2.9</td>\n",
       "      <td>0.0</td>\n",
       "      <td>7.7</td>\n",
       "    </tr>\n",
       "    <tr>\n",
       "      <th>2</th>\n",
       "      <td>36005000400</td>\n",
       "      <td>Bronx</td>\n",
       "      <td>Bronx</td>\n",
       "      <td>5915</td>\n",
       "      <td>2896</td>\n",
       "      <td>3019</td>\n",
       "      <td>62.7</td>\n",
       "      <td>3.6</td>\n",
       "      <td>30.7</td>\n",
       "      <td>0.0</td>\n",
       "      <td>...</td>\n",
       "      <td>1.4</td>\n",
       "      <td>0.5</td>\n",
       "      <td>2.1</td>\n",
       "      <td>45.0</td>\n",
       "      <td>2675</td>\n",
       "      <td>71.7</td>\n",
       "      <td>25.3</td>\n",
       "      <td>2.5</td>\n",
       "      <td>0.6</td>\n",
       "      <td>9.5</td>\n",
       "    </tr>\n",
       "    <tr>\n",
       "      <th>3</th>\n",
       "      <td>36005001600</td>\n",
       "      <td>Bronx</td>\n",
       "      <td>Bronx</td>\n",
       "      <td>5879</td>\n",
       "      <td>2558</td>\n",
       "      <td>3321</td>\n",
       "      <td>65.1</td>\n",
       "      <td>1.6</td>\n",
       "      <td>32.4</td>\n",
       "      <td>0.0</td>\n",
       "      <td>...</td>\n",
       "      <td>8.6</td>\n",
       "      <td>1.6</td>\n",
       "      <td>1.7</td>\n",
       "      <td>38.8</td>\n",
       "      <td>2120</td>\n",
       "      <td>75.0</td>\n",
       "      <td>21.3</td>\n",
       "      <td>3.8</td>\n",
       "      <td>0.0</td>\n",
       "      <td>8.7</td>\n",
       "    </tr>\n",
       "    <tr>\n",
       "      <th>4</th>\n",
       "      <td>36005001900</td>\n",
       "      <td>Bronx</td>\n",
       "      <td>Bronx</td>\n",
       "      <td>2591</td>\n",
       "      <td>1206</td>\n",
       "      <td>1385</td>\n",
       "      <td>55.4</td>\n",
       "      <td>9.0</td>\n",
       "      <td>29.0</td>\n",
       "      <td>0.0</td>\n",
       "      <td>...</td>\n",
       "      <td>3.0</td>\n",
       "      <td>2.4</td>\n",
       "      <td>6.2</td>\n",
       "      <td>45.4</td>\n",
       "      <td>1083</td>\n",
       "      <td>76.8</td>\n",
       "      <td>15.5</td>\n",
       "      <td>7.7</td>\n",
       "      <td>0.0</td>\n",
       "      <td>19.2</td>\n",
       "    </tr>\n",
       "  </tbody>\n",
       "</table>\n",
       "<p>5 rows × 36 columns</p>\n",
       "</div>"
      ],
      "text/plain": [
       "   CensusTract County Borough  TotalPop   Men  Women  Hispanic  White  Black  \\\n",
       "0  36005000100  Bronx   Bronx      7703  7133    570      29.9    6.1   60.9   \n",
       "1  36005000200  Bronx   Bronx      5403  2659   2744      75.8    2.3   16.0   \n",
       "2  36005000400  Bronx   Bronx      5915  2896   3019      62.7    3.6   30.7   \n",
       "3  36005001600  Bronx   Bronx      5879  2558   3321      65.1    1.6   32.4   \n",
       "4  36005001900  Bronx   Bronx      2591  1206   1385      55.4    9.0   29.0   \n",
       "\n",
       "   Native  ...  Walk  OtherTransp  WorkAtHome  MeanCommute  Employed  \\\n",
       "0     0.2  ...   NaN          NaN         NaN          NaN         0   \n",
       "1     0.0  ...   2.9          0.0         0.0         43.0      2308   \n",
       "2     0.0  ...   1.4          0.5         2.1         45.0      2675   \n",
       "3     0.0  ...   8.6          1.6         1.7         38.8      2120   \n",
       "4     0.0  ...   3.0          2.4         6.2         45.4      1083   \n",
       "\n",
       "   PrivateWork  PublicWork  SelfEmployed  FamilyWork  Unemployment  \n",
       "0          NaN         NaN           NaN         NaN           NaN  \n",
       "1         80.8        16.2           2.9         0.0           7.7  \n",
       "2         71.7        25.3           2.5         0.6           9.5  \n",
       "3         75.0        21.3           3.8         0.0           8.7  \n",
       "4         76.8        15.5           7.7         0.0          19.2  \n",
       "\n",
       "[5 rows x 36 columns]"
      ]
     },
     "execution_count": 3,
     "metadata": {},
     "output_type": "execute_result"
    }
   ],
   "source": [
    "data_ny=pd.read_csv('nyc_census_tracts.csv',keep_default_na=False, na_values=[\"\"])\n",
    "data_ny.head()\n"
   ]
  },
  {
   "cell_type": "code",
   "execution_count": 4,
   "metadata": {},
   "outputs": [
    {
     "data": {
      "text/plain": [
       "Index(['CensusTract', 'County', 'Borough', 'TotalPop', 'Men', 'Women',\n",
       "       'Hispanic', 'White', 'Black', 'Native', 'Asian', 'Citizen', 'Income',\n",
       "       'IncomeErr', 'IncomePerCap', 'IncomePerCapErr', 'Poverty',\n",
       "       'ChildPoverty', 'Professional', 'Service', 'Office', 'Construction',\n",
       "       'Production', 'Drive', 'Carpool', 'Transit', 'Walk', 'OtherTransp',\n",
       "       'WorkAtHome', 'MeanCommute', 'Employed', 'PrivateWork', 'PublicWork',\n",
       "       'SelfEmployed', 'FamilyWork', 'Unemployment'],\n",
       "      dtype='object')"
      ]
     },
     "execution_count": 4,
     "metadata": {},
     "output_type": "execute_result"
    }
   ],
   "source": [
    "data_ny.columns"
   ]
  },
  {
   "cell_type": "code",
   "execution_count": 5,
   "metadata": {
    "scrolled": false
   },
   "outputs": [
    {
     "data": {
      "text/html": [
       "<div>\n",
       "<style scoped>\n",
       "    .dataframe tbody tr th:only-of-type {\n",
       "        vertical-align: middle;\n",
       "    }\n",
       "\n",
       "    .dataframe tbody tr th {\n",
       "        vertical-align: top;\n",
       "    }\n",
       "\n",
       "    .dataframe thead th {\n",
       "        text-align: right;\n",
       "    }\n",
       "</style>\n",
       "<table border=\"1\" class=\"dataframe\">\n",
       "  <thead>\n",
       "    <tr style=\"text-align: right;\">\n",
       "      <th></th>\n",
       "      <th>Latitude</th>\n",
       "      <th>Longitude</th>\n",
       "      <th>BlockCode</th>\n",
       "      <th>County</th>\n",
       "      <th>State</th>\n",
       "    </tr>\n",
       "  </thead>\n",
       "  <tbody>\n",
       "    <tr>\n",
       "      <th>0</th>\n",
       "      <td>40.48</td>\n",
       "      <td>-74.280000</td>\n",
       "      <td>340230076002012</td>\n",
       "      <td>Middlesex</td>\n",
       "      <td>NJ</td>\n",
       "    </tr>\n",
       "    <tr>\n",
       "      <th>1</th>\n",
       "      <td>40.48</td>\n",
       "      <td>-74.276834</td>\n",
       "      <td>340230076005000</td>\n",
       "      <td>Middlesex</td>\n",
       "      <td>NJ</td>\n",
       "    </tr>\n",
       "    <tr>\n",
       "      <th>2</th>\n",
       "      <td>40.48</td>\n",
       "      <td>-74.273668</td>\n",
       "      <td>340230076003018</td>\n",
       "      <td>Middlesex</td>\n",
       "      <td>NJ</td>\n",
       "    </tr>\n",
       "    <tr>\n",
       "      <th>3</th>\n",
       "      <td>40.48</td>\n",
       "      <td>-74.270503</td>\n",
       "      <td>340230076003004</td>\n",
       "      <td>Middlesex</td>\n",
       "      <td>NJ</td>\n",
       "    </tr>\n",
       "    <tr>\n",
       "      <th>4</th>\n",
       "      <td>40.48</td>\n",
       "      <td>-74.267337</td>\n",
       "      <td>340230074021000</td>\n",
       "      <td>Middlesex</td>\n",
       "      <td>NJ</td>\n",
       "    </tr>\n",
       "  </tbody>\n",
       "</table>\n",
       "</div>"
      ],
      "text/plain": [
       "   Latitude  Longitude        BlockCode     County State\n",
       "0     40.48 -74.280000  340230076002012  Middlesex    NJ\n",
       "1     40.48 -74.276834  340230076005000  Middlesex    NJ\n",
       "2     40.48 -74.273668  340230076003018  Middlesex    NJ\n",
       "3     40.48 -74.270503  340230076003004  Middlesex    NJ\n",
       "4     40.48 -74.267337  340230074021000  Middlesex    NJ"
      ]
     },
     "execution_count": 5,
     "metadata": {},
     "output_type": "execute_result"
    }
   ],
   "source": [
    "data_census=pd.read_csv('census_block_loc.csv',keep_default_na=False, na_values=[\"\"])\n",
    "data_census.head()"
   ]
  },
  {
   "cell_type": "code",
   "execution_count": 6,
   "metadata": {},
   "outputs": [],
   "source": [
    "data_census['BlockCode_11'] = data_census['BlockCode'].apply(lambda x: int(str(x)[0:11]))"
   ]
  },
  {
   "cell_type": "code",
   "execution_count": 7,
   "metadata": {
    "scrolled": true
   },
   "outputs": [
    {
     "data": {
      "text/plain": [
       "<bound method NDFrame.head of        CensusTract  County_x        Borough  TotalPop   Men  Women  Hispanic  \\\n",
       "0      36005000100     Bronx          Bronx      7703  7133    570      29.9   \n",
       "1      36005000100     Bronx          Bronx      7703  7133    570      29.9   \n",
       "2      36005000100     Bronx          Bronx      7703  7133    570      29.9   \n",
       "3      36005000100     Bronx          Bronx      7703  7133    570      29.9   \n",
       "4      36005000100     Bronx          Bronx      7703  7133    570      29.9   \n",
       "5      36005000100     Bronx          Bronx      7703  7133    570      29.9   \n",
       "6      36005000100     Bronx          Bronx      7703  7133    570      29.9   \n",
       "7      36005000100     Bronx          Bronx      7703  7133    570      29.9   \n",
       "8      36005000100     Bronx          Bronx      7703  7133    570      29.9   \n",
       "9      36005000100     Bronx          Bronx      7703  7133    570      29.9   \n",
       "10     36005000100     Bronx          Bronx      7703  7133    570      29.9   \n",
       "11     36005000100     Bronx          Bronx      7703  7133    570      29.9   \n",
       "12     36005000100     Bronx          Bronx      7703  7133    570      29.9   \n",
       "13     36005000100     Bronx          Bronx      7703  7133    570      29.9   \n",
       "14     36005000100     Bronx          Bronx      7703  7133    570      29.9   \n",
       "15     36005000100     Bronx          Bronx      7703  7133    570      29.9   \n",
       "16     36005000100     Bronx          Bronx      7703  7133    570      29.9   \n",
       "17     36005000100     Bronx          Bronx      7703  7133    570      29.9   \n",
       "18     36005000100     Bronx          Bronx      7703  7133    570      29.9   \n",
       "19     36005000100     Bronx          Bronx      7703  7133    570      29.9   \n",
       "20     36005000100     Bronx          Bronx      7703  7133    570      29.9   \n",
       "21     36005000100     Bronx          Bronx      7703  7133    570      29.9   \n",
       "22     36005000100     Bronx          Bronx      7703  7133    570      29.9   \n",
       "23     36005000100     Bronx          Bronx      7703  7133    570      29.9   \n",
       "24     36005000100     Bronx          Bronx      7703  7133    570      29.9   \n",
       "25     36005000100     Bronx          Bronx      7703  7133    570      29.9   \n",
       "26     36005000100     Bronx          Bronx      7703  7133    570      29.9   \n",
       "27     36005000100     Bronx          Bronx      7703  7133    570      29.9   \n",
       "28     36005000100     Bronx          Bronx      7703  7133    570      29.9   \n",
       "29     36005000100     Bronx          Bronx      7703  7133    570      29.9   \n",
       "...            ...       ...            ...       ...   ...    ...       ...   \n",
       "18022  36085990100  Richmond  Staten Island         0     0      0       NaN   \n",
       "18023  36085990100  Richmond  Staten Island         0     0      0       NaN   \n",
       "18024  36085990100  Richmond  Staten Island         0     0      0       NaN   \n",
       "18025  36085990100  Richmond  Staten Island         0     0      0       NaN   \n",
       "18026  36085990100  Richmond  Staten Island         0     0      0       NaN   \n",
       "18027  36085990100  Richmond  Staten Island         0     0      0       NaN   \n",
       "18028  36085990100  Richmond  Staten Island         0     0      0       NaN   \n",
       "18029  36085990100  Richmond  Staten Island         0     0      0       NaN   \n",
       "18030  36085990100  Richmond  Staten Island         0     0      0       NaN   \n",
       "18031  36085990100  Richmond  Staten Island         0     0      0       NaN   \n",
       "18032  36085990100  Richmond  Staten Island         0     0      0       NaN   \n",
       "18033  36085990100  Richmond  Staten Island         0     0      0       NaN   \n",
       "18034  36085990100  Richmond  Staten Island         0     0      0       NaN   \n",
       "18035  36085990100  Richmond  Staten Island         0     0      0       NaN   \n",
       "18036  36085990100  Richmond  Staten Island         0     0      0       NaN   \n",
       "18037  36085990100  Richmond  Staten Island         0     0      0       NaN   \n",
       "18038  36085990100  Richmond  Staten Island         0     0      0       NaN   \n",
       "18039  36085990100  Richmond  Staten Island         0     0      0       NaN   \n",
       "18040  36085990100  Richmond  Staten Island         0     0      0       NaN   \n",
       "18041  36085990100  Richmond  Staten Island         0     0      0       NaN   \n",
       "18042  36085990100  Richmond  Staten Island         0     0      0       NaN   \n",
       "18043  36085990100  Richmond  Staten Island         0     0      0       NaN   \n",
       "18044  36085990100  Richmond  Staten Island         0     0      0       NaN   \n",
       "18045  36085990100  Richmond  Staten Island         0     0      0       NaN   \n",
       "18046  36085990100  Richmond  Staten Island         0     0      0       NaN   \n",
       "18047  36085990100  Richmond  Staten Island         0     0      0       NaN   \n",
       "18048  36085990100  Richmond  Staten Island         0     0      0       NaN   \n",
       "18049  36085990100  Richmond  Staten Island         0     0      0       NaN   \n",
       "18050  36085990100  Richmond  Staten Island         0     0      0       NaN   \n",
       "18051  36085990100  Richmond  Staten Island         0     0      0       NaN   \n",
       "\n",
       "       White  Black  Native  ...  PublicWork  SelfEmployed  FamilyWork  \\\n",
       "0        6.1   60.9     0.2  ...         NaN           NaN         NaN   \n",
       "1        6.1   60.9     0.2  ...         NaN           NaN         NaN   \n",
       "2        6.1   60.9     0.2  ...         NaN           NaN         NaN   \n",
       "3        6.1   60.9     0.2  ...         NaN           NaN         NaN   \n",
       "4        6.1   60.9     0.2  ...         NaN           NaN         NaN   \n",
       "5        6.1   60.9     0.2  ...         NaN           NaN         NaN   \n",
       "6        6.1   60.9     0.2  ...         NaN           NaN         NaN   \n",
       "7        6.1   60.9     0.2  ...         NaN           NaN         NaN   \n",
       "8        6.1   60.9     0.2  ...         NaN           NaN         NaN   \n",
       "9        6.1   60.9     0.2  ...         NaN           NaN         NaN   \n",
       "10       6.1   60.9     0.2  ...         NaN           NaN         NaN   \n",
       "11       6.1   60.9     0.2  ...         NaN           NaN         NaN   \n",
       "12       6.1   60.9     0.2  ...         NaN           NaN         NaN   \n",
       "13       6.1   60.9     0.2  ...         NaN           NaN         NaN   \n",
       "14       6.1   60.9     0.2  ...         NaN           NaN         NaN   \n",
       "15       6.1   60.9     0.2  ...         NaN           NaN         NaN   \n",
       "16       6.1   60.9     0.2  ...         NaN           NaN         NaN   \n",
       "17       6.1   60.9     0.2  ...         NaN           NaN         NaN   \n",
       "18       6.1   60.9     0.2  ...         NaN           NaN         NaN   \n",
       "19       6.1   60.9     0.2  ...         NaN           NaN         NaN   \n",
       "20       6.1   60.9     0.2  ...         NaN           NaN         NaN   \n",
       "21       6.1   60.9     0.2  ...         NaN           NaN         NaN   \n",
       "22       6.1   60.9     0.2  ...         NaN           NaN         NaN   \n",
       "23       6.1   60.9     0.2  ...         NaN           NaN         NaN   \n",
       "24       6.1   60.9     0.2  ...         NaN           NaN         NaN   \n",
       "25       6.1   60.9     0.2  ...         NaN           NaN         NaN   \n",
       "26       6.1   60.9     0.2  ...         NaN           NaN         NaN   \n",
       "27       6.1   60.9     0.2  ...         NaN           NaN         NaN   \n",
       "28       6.1   60.9     0.2  ...         NaN           NaN         NaN   \n",
       "29       6.1   60.9     0.2  ...         NaN           NaN         NaN   \n",
       "...      ...    ...     ...  ...         ...           ...         ...   \n",
       "18022    NaN    NaN     NaN  ...         NaN           NaN         NaN   \n",
       "18023    NaN    NaN     NaN  ...         NaN           NaN         NaN   \n",
       "18024    NaN    NaN     NaN  ...         NaN           NaN         NaN   \n",
       "18025    NaN    NaN     NaN  ...         NaN           NaN         NaN   \n",
       "18026    NaN    NaN     NaN  ...         NaN           NaN         NaN   \n",
       "18027    NaN    NaN     NaN  ...         NaN           NaN         NaN   \n",
       "18028    NaN    NaN     NaN  ...         NaN           NaN         NaN   \n",
       "18029    NaN    NaN     NaN  ...         NaN           NaN         NaN   \n",
       "18030    NaN    NaN     NaN  ...         NaN           NaN         NaN   \n",
       "18031    NaN    NaN     NaN  ...         NaN           NaN         NaN   \n",
       "18032    NaN    NaN     NaN  ...         NaN           NaN         NaN   \n",
       "18033    NaN    NaN     NaN  ...         NaN           NaN         NaN   \n",
       "18034    NaN    NaN     NaN  ...         NaN           NaN         NaN   \n",
       "18035    NaN    NaN     NaN  ...         NaN           NaN         NaN   \n",
       "18036    NaN    NaN     NaN  ...         NaN           NaN         NaN   \n",
       "18037    NaN    NaN     NaN  ...         NaN           NaN         NaN   \n",
       "18038    NaN    NaN     NaN  ...         NaN           NaN         NaN   \n",
       "18039    NaN    NaN     NaN  ...         NaN           NaN         NaN   \n",
       "18040    NaN    NaN     NaN  ...         NaN           NaN         NaN   \n",
       "18041    NaN    NaN     NaN  ...         NaN           NaN         NaN   \n",
       "18042    NaN    NaN     NaN  ...         NaN           NaN         NaN   \n",
       "18043    NaN    NaN     NaN  ...         NaN           NaN         NaN   \n",
       "18044    NaN    NaN     NaN  ...         NaN           NaN         NaN   \n",
       "18045    NaN    NaN     NaN  ...         NaN           NaN         NaN   \n",
       "18046    NaN    NaN     NaN  ...         NaN           NaN         NaN   \n",
       "18047    NaN    NaN     NaN  ...         NaN           NaN         NaN   \n",
       "18048    NaN    NaN     NaN  ...         NaN           NaN         NaN   \n",
       "18049    NaN    NaN     NaN  ...         NaN           NaN         NaN   \n",
       "18050    NaN    NaN     NaN  ...         NaN           NaN         NaN   \n",
       "18051    NaN    NaN     NaN  ...         NaN           NaN         NaN   \n",
       "\n",
       "       Unemployment   Latitude  Longitude        BlockCode  County_y  State  \\\n",
       "0               NaN  40.787538 -73.887437  360050001001007     Bronx     NY   \n",
       "1               NaN  40.787538 -73.884271  360050001001005     Bronx     NY   \n",
       "2               NaN  40.787538 -73.881106  360050001001003     Bronx     NY   \n",
       "3               NaN  40.787538 -73.877940  360050001001003     Bronx     NY   \n",
       "4               NaN  40.787538 -73.874774  360050001001006     Bronx     NY   \n",
       "5               NaN  40.787538 -73.871608  360050001001006     Bronx     NY   \n",
       "6               NaN  40.789799 -73.887437  360050001001011     Bronx     NY   \n",
       "7               NaN  40.789799 -73.884271  360050001001013     Bronx     NY   \n",
       "8               NaN  40.789799 -73.881106  360050001001003     Bronx     NY   \n",
       "9               NaN  40.789799 -73.877940  360050001001003     Bronx     NY   \n",
       "10              NaN  40.789799 -73.874774  360050001001006     Bronx     NY   \n",
       "11              NaN  40.789799 -73.871608  360050001000002     Bronx     NY   \n",
       "12              NaN  40.792060 -73.896935  360050001000002     Bronx     NY   \n",
       "13              NaN  40.792060 -73.893769  360050001000002     Bronx     NY   \n",
       "14              NaN  40.792060 -73.890603  360050001001012     Bronx     NY   \n",
       "15              NaN  40.792060 -73.887437  360050001001019     Bronx     NY   \n",
       "16              NaN  40.792060 -73.884271  360050001001014     Bronx     NY   \n",
       "17              NaN  40.792060 -73.881106  360050001001003     Bronx     NY   \n",
       "18              NaN  40.792060 -73.877940  360050001001003     Bronx     NY   \n",
       "19              NaN  40.792060 -73.874774  360050001001006     Bronx     NY   \n",
       "20              NaN  40.792060 -73.871608  360050001000002     Bronx     NY   \n",
       "21              NaN  40.794322 -73.896935  360050001000002     Bronx     NY   \n",
       "22              NaN  40.794322 -73.893769  360050001000002     Bronx     NY   \n",
       "23              NaN  40.794322 -73.890603  360050001001009     Bronx     NY   \n",
       "24              NaN  40.794322 -73.887437  360050001001015     Bronx     NY   \n",
       "25              NaN  40.794322 -73.884271  360050001001015     Bronx     NY   \n",
       "26              NaN  40.794322 -73.881106  360050001001000     Bronx     NY   \n",
       "27              NaN  40.794322 -73.877940  360050001000002     Bronx     NY   \n",
       "28              NaN  40.794322 -73.874774  360050001000002     Bronx     NY   \n",
       "29              NaN  40.794322 -73.871608  360050001000001     Bronx     NY   \n",
       "...             ...        ...        ...              ...       ...    ...   \n",
       "18022           NaN  40.586281 -74.048894  360859901000002  Richmond     NY   \n",
       "18023           NaN  40.586281 -74.045729  360859901000002  Richmond     NY   \n",
       "18024           NaN  40.586281 -74.042563  360859901000002  Richmond     NY   \n",
       "18025           NaN  40.586281 -74.039397  360859901000002  Richmond     NY   \n",
       "18026           NaN  40.588543 -74.052060  360859901000002  Richmond     NY   \n",
       "18027           NaN  40.588543 -74.048894  360859901000002  Richmond     NY   \n",
       "18028           NaN  40.588543 -74.045729  360859901000002  Richmond     NY   \n",
       "18029           NaN  40.588543 -74.042563  360859901000002  Richmond     NY   \n",
       "18030           NaN  40.588543 -74.039397  360859901000002  Richmond     NY   \n",
       "18031           NaN  40.590804 -74.052060  360859901000002  Richmond     NY   \n",
       "18032           NaN  40.590804 -74.048894  360859901000002  Richmond     NY   \n",
       "18033           NaN  40.590804 -74.045729  360859901000002  Richmond     NY   \n",
       "18034           NaN  40.590804 -74.042563  360859901000002  Richmond     NY   \n",
       "18035           NaN  40.590804 -74.039397  360859901000002  Richmond     NY   \n",
       "18036           NaN  40.593065 -74.052060  360859901000002  Richmond     NY   \n",
       "18037           NaN  40.593065 -74.048894  360859901000002  Richmond     NY   \n",
       "18038           NaN  40.593065 -74.045729  360859901000002  Richmond     NY   \n",
       "18039           NaN  40.593065 -74.042563  360859901000002  Richmond     NY   \n",
       "18040           NaN  40.593065 -74.039397  360859901000002  Richmond     NY   \n",
       "18041           NaN  40.595327 -74.048894  360859901000002  Richmond     NY   \n",
       "18042           NaN  40.595327 -74.045729  360859901000002  Richmond     NY   \n",
       "18043           NaN  40.595327 -74.042563  360859901000002  Richmond     NY   \n",
       "18044           NaN  40.597588 -74.048894  360859901000002  Richmond     NY   \n",
       "18045           NaN  40.597588 -74.045729  360859901000002  Richmond     NY   \n",
       "18046           NaN  40.597588 -74.042563  360859901000002  Richmond     NY   \n",
       "18047           NaN  40.599849 -74.045729  360859901000002  Richmond     NY   \n",
       "18048           NaN  40.599849 -74.042563  360859901000002  Richmond     NY   \n",
       "18049           NaN  40.602111 -74.045729  360859901000002  Richmond     NY   \n",
       "18050           NaN  40.602111 -74.042563  360859901000002  Richmond     NY   \n",
       "18051           NaN  40.604372 -74.042563  360859901000001  Richmond     NY   \n",
       "\n",
       "       BlockCode_11  \n",
       "0       36005000100  \n",
       "1       36005000100  \n",
       "2       36005000100  \n",
       "3       36005000100  \n",
       "4       36005000100  \n",
       "5       36005000100  \n",
       "6       36005000100  \n",
       "7       36005000100  \n",
       "8       36005000100  \n",
       "9       36005000100  \n",
       "10      36005000100  \n",
       "11      36005000100  \n",
       "12      36005000100  \n",
       "13      36005000100  \n",
       "14      36005000100  \n",
       "15      36005000100  \n",
       "16      36005000100  \n",
       "17      36005000100  \n",
       "18      36005000100  \n",
       "19      36005000100  \n",
       "20      36005000100  \n",
       "21      36005000100  \n",
       "22      36005000100  \n",
       "23      36005000100  \n",
       "24      36005000100  \n",
       "25      36005000100  \n",
       "26      36005000100  \n",
       "27      36005000100  \n",
       "28      36005000100  \n",
       "29      36005000100  \n",
       "...             ...  \n",
       "18022   36085990100  \n",
       "18023   36085990100  \n",
       "18024   36085990100  \n",
       "18025   36085990100  \n",
       "18026   36085990100  \n",
       "18027   36085990100  \n",
       "18028   36085990100  \n",
       "18029   36085990100  \n",
       "18030   36085990100  \n",
       "18031   36085990100  \n",
       "18032   36085990100  \n",
       "18033   36085990100  \n",
       "18034   36085990100  \n",
       "18035   36085990100  \n",
       "18036   36085990100  \n",
       "18037   36085990100  \n",
       "18038   36085990100  \n",
       "18039   36085990100  \n",
       "18040   36085990100  \n",
       "18041   36085990100  \n",
       "18042   36085990100  \n",
       "18043   36085990100  \n",
       "18044   36085990100  \n",
       "18045   36085990100  \n",
       "18046   36085990100  \n",
       "18047   36085990100  \n",
       "18048   36085990100  \n",
       "18049   36085990100  \n",
       "18050   36085990100  \n",
       "18051   36085990100  \n",
       "\n",
       "[18052 rows x 42 columns]>"
      ]
     },
     "execution_count": 7,
     "metadata": {},
     "output_type": "execute_result"
    }
   ],
   "source": [
    "df= pd.merge(left=data_ny,right= data_census, how='inner', on=None, left_on='CensusTract', right_on='BlockCode_11',\n",
    "        left_index=False, right_index=False, sort=True,\n",
    "        suffixes=('_x', '_y'), copy=True, indicator=False,\n",
    "        validate=None)\n",
    "df.head"
   ]
  },
  {
   "cell_type": "code",
   "execution_count": 8,
   "metadata": {
    "scrolled": true
   },
   "outputs": [
    {
     "data": {
      "text/plain": [
       "CensusTract          int64\n",
       "County_x            object\n",
       "Borough             object\n",
       "TotalPop             int64\n",
       "Men                  int64\n",
       "Women                int64\n",
       "Hispanic           float64\n",
       "White              float64\n",
       "Black              float64\n",
       "Native             float64\n",
       "Asian              float64\n",
       "Citizen              int64\n",
       "Income             float64\n",
       "IncomeErr          float64\n",
       "IncomePerCap       float64\n",
       "IncomePerCapErr    float64\n",
       "Poverty            float64\n",
       "ChildPoverty       float64\n",
       "Professional       float64\n",
       "Service            float64\n",
       "Office             float64\n",
       "Construction       float64\n",
       "Production         float64\n",
       "Drive              float64\n",
       "Carpool            float64\n",
       "Transit            float64\n",
       "Walk               float64\n",
       "OtherTransp        float64\n",
       "WorkAtHome         float64\n",
       "MeanCommute        float64\n",
       "Employed             int64\n",
       "PrivateWork        float64\n",
       "PublicWork         float64\n",
       "SelfEmployed       float64\n",
       "FamilyWork         float64\n",
       "Unemployment       float64\n",
       "Latitude           float64\n",
       "Longitude          float64\n",
       "BlockCode            int64\n",
       "County_y            object\n",
       "State               object\n",
       "BlockCode_11         int64\n",
       "dtype: object"
      ]
     },
     "execution_count": 8,
     "metadata": {},
     "output_type": "execute_result"
    }
   ],
   "source": [
    "df.dtypes"
   ]
  },
  {
   "cell_type": "code",
   "execution_count": 9,
   "metadata": {
    "scrolled": false
   },
   "outputs": [
    {
     "name": "stderr",
     "output_type": "stream",
     "text": [
      "/anaconda3/lib/python3.7/site-packages/IPython/core/interactiveshell.py:3049: DtypeWarning: Columns (3,7) have mixed types. Specify dtype option on import or set low_memory=False.\n",
      "  interactivity=interactivity, compiler=compiler, result=result)\n"
     ]
    },
    {
     "data": {
      "text/html": [
       "<div>\n",
       "<style scoped>\n",
       "    .dataframe tbody tr th:only-of-type {\n",
       "        vertical-align: middle;\n",
       "    }\n",
       "\n",
       "    .dataframe tbody tr th {\n",
       "        vertical-align: top;\n",
       "    }\n",
       "\n",
       "    .dataframe thead th {\n",
       "        text-align: right;\n",
       "    }\n",
       "</style>\n",
       "<table border=\"1\" class=\"dataframe\">\n",
       "  <thead>\n",
       "    <tr style=\"text-align: right;\">\n",
       "      <th></th>\n",
       "      <th>tripduration</th>\n",
       "      <th>starttime</th>\n",
       "      <th>stoptime</th>\n",
       "      <th>start station id</th>\n",
       "      <th>start station name</th>\n",
       "      <th>start station latitude</th>\n",
       "      <th>start station longitude</th>\n",
       "      <th>end station id</th>\n",
       "      <th>end station name</th>\n",
       "      <th>end station latitude</th>\n",
       "      <th>end station longitude</th>\n",
       "      <th>bikeid</th>\n",
       "      <th>usertype</th>\n",
       "      <th>birth year</th>\n",
       "      <th>gender</th>\n",
       "    </tr>\n",
       "  </thead>\n",
       "  <tbody>\n",
       "    <tr>\n",
       "      <th>0</th>\n",
       "      <td>897</td>\n",
       "      <td>2019-07-01 00:00:00.1320</td>\n",
       "      <td>2019-07-01 00:14:58.0040</td>\n",
       "      <td>493</td>\n",
       "      <td>W 45 St &amp; 6 Ave</td>\n",
       "      <td>40.756800</td>\n",
       "      <td>-73.982912</td>\n",
       "      <td>454</td>\n",
       "      <td>E 51 St &amp; 1 Ave</td>\n",
       "      <td>40.754557</td>\n",
       "      <td>-73.965930</td>\n",
       "      <td>18340</td>\n",
       "      <td>Subscriber</td>\n",
       "      <td>1966</td>\n",
       "      <td>1</td>\n",
       "    </tr>\n",
       "    <tr>\n",
       "      <th>1</th>\n",
       "      <td>267</td>\n",
       "      <td>2019-07-01 00:00:05.1780</td>\n",
       "      <td>2019-07-01 00:04:32.4500</td>\n",
       "      <td>3143</td>\n",
       "      <td>5 Ave &amp; E 78 St</td>\n",
       "      <td>40.776321</td>\n",
       "      <td>-73.964274</td>\n",
       "      <td>3226</td>\n",
       "      <td>W 82 St &amp; Central Park West</td>\n",
       "      <td>40.782750</td>\n",
       "      <td>-73.971370</td>\n",
       "      <td>21458</td>\n",
       "      <td>Customer</td>\n",
       "      <td>1996</td>\n",
       "      <td>1</td>\n",
       "    </tr>\n",
       "    <tr>\n",
       "      <th>2</th>\n",
       "      <td>2201</td>\n",
       "      <td>2019-07-01 00:00:05.2130</td>\n",
       "      <td>2019-07-01 00:36:46.7490</td>\n",
       "      <td>317</td>\n",
       "      <td>E 6 St &amp; Avenue B</td>\n",
       "      <td>40.724537</td>\n",
       "      <td>-73.981854</td>\n",
       "      <td>3469</td>\n",
       "      <td>India St &amp; West St</td>\n",
       "      <td>40.731814</td>\n",
       "      <td>-73.959950</td>\n",
       "      <td>39874</td>\n",
       "      <td>Subscriber</td>\n",
       "      <td>1986</td>\n",
       "      <td>1</td>\n",
       "    </tr>\n",
       "    <tr>\n",
       "      <th>3</th>\n",
       "      <td>1660</td>\n",
       "      <td>2019-07-01 00:00:08.6010</td>\n",
       "      <td>2019-07-01 00:27:48.8050</td>\n",
       "      <td>249</td>\n",
       "      <td>Harrison St &amp; Hudson St</td>\n",
       "      <td>40.718710</td>\n",
       "      <td>-74.009001</td>\n",
       "      <td>369</td>\n",
       "      <td>Washington Pl &amp; 6 Ave</td>\n",
       "      <td>40.732241</td>\n",
       "      <td>-74.000264</td>\n",
       "      <td>38865</td>\n",
       "      <td>Subscriber</td>\n",
       "      <td>1988</td>\n",
       "      <td>1</td>\n",
       "    </tr>\n",
       "    <tr>\n",
       "      <th>4</th>\n",
       "      <td>109</td>\n",
       "      <td>2019-07-01 00:00:12.1580</td>\n",
       "      <td>2019-07-01 00:02:01.5670</td>\n",
       "      <td>3552</td>\n",
       "      <td>W 113 St &amp; Broadway</td>\n",
       "      <td>40.805973</td>\n",
       "      <td>-73.964928</td>\n",
       "      <td>3538</td>\n",
       "      <td>W 110 St &amp; Amsterdam Ave</td>\n",
       "      <td>40.802692</td>\n",
       "      <td>-73.962950</td>\n",
       "      <td>30256</td>\n",
       "      <td>Subscriber</td>\n",
       "      <td>1997</td>\n",
       "      <td>1</td>\n",
       "    </tr>\n",
       "  </tbody>\n",
       "</table>\n",
       "</div>"
      ],
      "text/plain": [
       "   tripduration                 starttime                  stoptime  \\\n",
       "0           897  2019-07-01 00:00:00.1320  2019-07-01 00:14:58.0040   \n",
       "1           267  2019-07-01 00:00:05.1780  2019-07-01 00:04:32.4500   \n",
       "2          2201  2019-07-01 00:00:05.2130  2019-07-01 00:36:46.7490   \n",
       "3          1660  2019-07-01 00:00:08.6010  2019-07-01 00:27:48.8050   \n",
       "4           109  2019-07-01 00:00:12.1580  2019-07-01 00:02:01.5670   \n",
       "\n",
       "  start station id       start station name  start station latitude  \\\n",
       "0              493          W 45 St & 6 Ave               40.756800   \n",
       "1             3143          5 Ave & E 78 St               40.776321   \n",
       "2              317        E 6 St & Avenue B               40.724537   \n",
       "3              249  Harrison St & Hudson St               40.718710   \n",
       "4             3552      W 113 St & Broadway               40.805973   \n",
       "\n",
       "   start station longitude end station id             end station name  \\\n",
       "0               -73.982912            454              E 51 St & 1 Ave   \n",
       "1               -73.964274           3226  W 82 St & Central Park West   \n",
       "2               -73.981854           3469           India St & West St   \n",
       "3               -74.009001            369        Washington Pl & 6 Ave   \n",
       "4               -73.964928           3538     W 110 St & Amsterdam Ave   \n",
       "\n",
       "   end station latitude  end station longitude  bikeid    usertype  \\\n",
       "0             40.754557             -73.965930   18340  Subscriber   \n",
       "1             40.782750             -73.971370   21458    Customer   \n",
       "2             40.731814             -73.959950   39874  Subscriber   \n",
       "3             40.732241             -74.000264   38865  Subscriber   \n",
       "4             40.802692             -73.962950   30256  Subscriber   \n",
       "\n",
       "   birth year  gender  \n",
       "0        1966       1  \n",
       "1        1996       1  \n",
       "2        1986       1  \n",
       "3        1988       1  \n",
       "4        1997       1  "
      ]
     },
     "execution_count": 9,
     "metadata": {},
     "output_type": "execute_result"
    }
   ],
   "source": [
    "bike=pd.read_csv('201907-citibike-tripdata.csv', keep_default_na=False, na_values=[\"\"])\n",
    "bike.head()"
   ]
  },
  {
   "cell_type": "code",
   "execution_count": 10,
   "metadata": {
    "scrolled": true
   },
   "outputs": [
    {
     "data": {
      "text/html": [
       "<div>\n",
       "<style scoped>\n",
       "    .dataframe tbody tr th:only-of-type {\n",
       "        vertical-align: middle;\n",
       "    }\n",
       "\n",
       "    .dataframe tbody tr th {\n",
       "        vertical-align: top;\n",
       "    }\n",
       "\n",
       "    .dataframe thead th {\n",
       "        text-align: right;\n",
       "    }\n",
       "</style>\n",
       "<table border=\"1\" class=\"dataframe\">\n",
       "  <thead>\n",
       "    <tr style=\"text-align: right;\">\n",
       "      <th></th>\n",
       "      <th>tripduration</th>\n",
       "      <th>starttime</th>\n",
       "      <th>stoptime</th>\n",
       "      <th>start_station_id</th>\n",
       "      <th>start_station_name</th>\n",
       "      <th>start_station_latitude</th>\n",
       "      <th>start_station_longitude</th>\n",
       "      <th>end_station_id</th>\n",
       "      <th>end_station_name</th>\n",
       "      <th>end_station_latitude</th>\n",
       "      <th>end_station_longitude</th>\n",
       "      <th>bikeid</th>\n",
       "      <th>usertype</th>\n",
       "      <th>birth_year</th>\n",
       "      <th>gender</th>\n",
       "    </tr>\n",
       "  </thead>\n",
       "  <tbody>\n",
       "    <tr>\n",
       "      <th>0</th>\n",
       "      <td>897</td>\n",
       "      <td>2019-07-01 00:00:00.1320</td>\n",
       "      <td>2019-07-01 00:14:58.0040</td>\n",
       "      <td>493</td>\n",
       "      <td>W 45 St &amp; 6 Ave</td>\n",
       "      <td>40.756800</td>\n",
       "      <td>-73.982912</td>\n",
       "      <td>454</td>\n",
       "      <td>E 51 St &amp; 1 Ave</td>\n",
       "      <td>40.754557</td>\n",
       "      <td>-73.965930</td>\n",
       "      <td>18340</td>\n",
       "      <td>Subscriber</td>\n",
       "      <td>1966</td>\n",
       "      <td>1</td>\n",
       "    </tr>\n",
       "    <tr>\n",
       "      <th>1</th>\n",
       "      <td>267</td>\n",
       "      <td>2019-07-01 00:00:05.1780</td>\n",
       "      <td>2019-07-01 00:04:32.4500</td>\n",
       "      <td>3143</td>\n",
       "      <td>5 Ave &amp; E 78 St</td>\n",
       "      <td>40.776321</td>\n",
       "      <td>-73.964274</td>\n",
       "      <td>3226</td>\n",
       "      <td>W 82 St &amp; Central Park West</td>\n",
       "      <td>40.782750</td>\n",
       "      <td>-73.971370</td>\n",
       "      <td>21458</td>\n",
       "      <td>Customer</td>\n",
       "      <td>1996</td>\n",
       "      <td>1</td>\n",
       "    </tr>\n",
       "    <tr>\n",
       "      <th>2</th>\n",
       "      <td>2201</td>\n",
       "      <td>2019-07-01 00:00:05.2130</td>\n",
       "      <td>2019-07-01 00:36:46.7490</td>\n",
       "      <td>317</td>\n",
       "      <td>E 6 St &amp; Avenue B</td>\n",
       "      <td>40.724537</td>\n",
       "      <td>-73.981854</td>\n",
       "      <td>3469</td>\n",
       "      <td>India St &amp; West St</td>\n",
       "      <td>40.731814</td>\n",
       "      <td>-73.959950</td>\n",
       "      <td>39874</td>\n",
       "      <td>Subscriber</td>\n",
       "      <td>1986</td>\n",
       "      <td>1</td>\n",
       "    </tr>\n",
       "    <tr>\n",
       "      <th>3</th>\n",
       "      <td>1660</td>\n",
       "      <td>2019-07-01 00:00:08.6010</td>\n",
       "      <td>2019-07-01 00:27:48.8050</td>\n",
       "      <td>249</td>\n",
       "      <td>Harrison St &amp; Hudson St</td>\n",
       "      <td>40.718710</td>\n",
       "      <td>-74.009001</td>\n",
       "      <td>369</td>\n",
       "      <td>Washington Pl &amp; 6 Ave</td>\n",
       "      <td>40.732241</td>\n",
       "      <td>-74.000264</td>\n",
       "      <td>38865</td>\n",
       "      <td>Subscriber</td>\n",
       "      <td>1988</td>\n",
       "      <td>1</td>\n",
       "    </tr>\n",
       "    <tr>\n",
       "      <th>4</th>\n",
       "      <td>109</td>\n",
       "      <td>2019-07-01 00:00:12.1580</td>\n",
       "      <td>2019-07-01 00:02:01.5670</td>\n",
       "      <td>3552</td>\n",
       "      <td>W 113 St &amp; Broadway</td>\n",
       "      <td>40.805973</td>\n",
       "      <td>-73.964928</td>\n",
       "      <td>3538</td>\n",
       "      <td>W 110 St &amp; Amsterdam Ave</td>\n",
       "      <td>40.802692</td>\n",
       "      <td>-73.962950</td>\n",
       "      <td>30256</td>\n",
       "      <td>Subscriber</td>\n",
       "      <td>1997</td>\n",
       "      <td>1</td>\n",
       "    </tr>\n",
       "  </tbody>\n",
       "</table>\n",
       "</div>"
      ],
      "text/plain": [
       "   tripduration                 starttime                  stoptime  \\\n",
       "0           897  2019-07-01 00:00:00.1320  2019-07-01 00:14:58.0040   \n",
       "1           267  2019-07-01 00:00:05.1780  2019-07-01 00:04:32.4500   \n",
       "2          2201  2019-07-01 00:00:05.2130  2019-07-01 00:36:46.7490   \n",
       "3          1660  2019-07-01 00:00:08.6010  2019-07-01 00:27:48.8050   \n",
       "4           109  2019-07-01 00:00:12.1580  2019-07-01 00:02:01.5670   \n",
       "\n",
       "  start_station_id       start_station_name  start_station_latitude  \\\n",
       "0              493          W 45 St & 6 Ave               40.756800   \n",
       "1             3143          5 Ave & E 78 St               40.776321   \n",
       "2              317        E 6 St & Avenue B               40.724537   \n",
       "3              249  Harrison St & Hudson St               40.718710   \n",
       "4             3552      W 113 St & Broadway               40.805973   \n",
       "\n",
       "   start_station_longitude end_station_id             end_station_name  \\\n",
       "0               -73.982912            454              E 51 St & 1 Ave   \n",
       "1               -73.964274           3226  W 82 St & Central Park West   \n",
       "2               -73.981854           3469           India St & West St   \n",
       "3               -74.009001            369        Washington Pl & 6 Ave   \n",
       "4               -73.964928           3538     W 110 St & Amsterdam Ave   \n",
       "\n",
       "   end_station_latitude  end_station_longitude  bikeid    usertype  \\\n",
       "0             40.754557             -73.965930   18340  Subscriber   \n",
       "1             40.782750             -73.971370   21458    Customer   \n",
       "2             40.731814             -73.959950   39874  Subscriber   \n",
       "3             40.732241             -74.000264   38865  Subscriber   \n",
       "4             40.802692             -73.962950   30256  Subscriber   \n",
       "\n",
       "   birth_year  gender  \n",
       "0        1966       1  \n",
       "1        1996       1  \n",
       "2        1986       1  \n",
       "3        1988       1  \n",
       "4        1997       1  "
      ]
     },
     "execution_count": 10,
     "metadata": {},
     "output_type": "execute_result"
    }
   ],
   "source": [
    "bike.columns = bike.columns.str.replace(' ', '_') \n",
    "bike.head()"
   ]
  },
  {
   "cell_type": "code",
   "execution_count": 11,
   "metadata": {},
   "outputs": [
    {
     "data": {
      "text/plain": [
       "tripduration                 int64\n",
       "starttime                   object\n",
       "stoptime                    object\n",
       "start_station_id            object\n",
       "start_station_name          object\n",
       "start_station_latitude     float64\n",
       "start_station_longitude    float64\n",
       "end_station_id              object\n",
       "end_station_name            object\n",
       "end_station_latitude       float64\n",
       "end_station_longitude      float64\n",
       "bikeid                       int64\n",
       "usertype                    object\n",
       "birth_year                   int64\n",
       "gender                       int64\n",
       "dtype: object"
      ]
     },
     "execution_count": 11,
     "metadata": {},
     "output_type": "execute_result"
    }
   ],
   "source": [
    "bike.dtypes"
   ]
  },
  {
   "cell_type": "code",
   "execution_count": 12,
   "metadata": {},
   "outputs": [
    {
     "data": {
      "text/plain": [
       "2181064"
      ]
     },
     "execution_count": 12,
     "metadata": {},
     "output_type": "execute_result"
    }
   ],
   "source": [
    "len(bike)"
   ]
  },
  {
   "cell_type": "code",
   "execution_count": 13,
   "metadata": {},
   "outputs": [],
   "source": [
    "#new dataset with just station id, lat/long, number of rides"
   ]
  },
  {
   "cell_type": "code",
   "execution_count": 14,
   "metadata": {
    "scrolled": true
   },
   "outputs": [
    {
     "name": "stderr",
     "output_type": "stream",
     "text": [
      "/anaconda3/lib/python3.7/site-packages/ipykernel_launcher.py:5: FutureWarning: Passing timedelta64-dtype data is deprecated, will raise a TypeError in a future version\n",
      "  \"\"\"\n"
     ]
    }
   ],
   "source": [
    "format = \"%Y-%m-%dT%H:%M:%S\"\n",
    "start_time = pd.to_datetime(bike[\"starttime\"], format=format)\n",
    "end_time = pd.to_datetime(bike[\"stoptime\"], format=format)\n",
    "\n",
    "duration = pd.DatetimeIndex(end_time - start_time)\n",
    "duration = pd.DataFrame(duration.hour*60 + duration.minute)"
   ]
  },
  {
   "cell_type": "code",
   "execution_count": 15,
   "metadata": {
    "scrolled": false
   },
   "outputs": [
    {
     "name": "stdout",
     "output_type": "stream",
     "text": [
      "                  0\n",
      "count  2.181064e+06\n",
      "mean   1.488386e+01\n",
      "std    2.660018e+01\n",
      "min    1.000000e+00\n",
      "25%    6.000000e+00\n",
      "50%    1.000000e+01\n",
      "75%    1.900000e+01\n",
      "max    1.436000e+03\n"
     ]
    }
   ],
   "source": [
    "print(duration.describe())"
   ]
  },
  {
   "cell_type": "code",
   "execution_count": 16,
   "metadata": {},
   "outputs": [],
   "source": [
    "bike['trip_duration']=bike['tripduration'].astype(int)\n"
   ]
  },
  {
   "cell_type": "code",
   "execution_count": 17,
   "metadata": {
    "scrolled": true
   },
   "outputs": [
    {
     "name": "stdout",
     "output_type": "stream",
     "text": [
      "count    2.181064e+06\n",
      "mean     1.035360e+03\n",
      "std      1.077968e+04\n",
      "min      6.100000e+01\n",
      "25%      3.850000e+02\n",
      "50%      6.580000e+02\n",
      "75%      1.155000e+03\n",
      "max      2.621244e+06\n",
      "Name: tripduration, dtype: float64\n"
     ]
    }
   ],
   "source": [
    "print(bike['tripduration'].describe())"
   ]
  },
  {
   "cell_type": "code",
   "execution_count": 18,
   "metadata": {
    "scrolled": true
   },
   "outputs": [
    {
     "name": "stdout",
     "output_type": "stream",
     "text": [
      "count    14356.000000\n",
      "mean       151.926999\n",
      "std         80.316472\n",
      "min          1.000000\n",
      "25%         99.000000\n",
      "50%        137.000000\n",
      "75%        187.000000\n",
      "max        446.000000\n",
      "Name: bikeid, dtype: float64\n"
     ]
    }
   ],
   "source": [
    "bikes = bike[\"bikeid\"].dropna()\n",
    "print(bikes.value_counts().describe())"
   ]
  },
  {
   "cell_type": "code",
   "execution_count": 19,
   "metadata": {},
   "outputs": [
    {
     "data": {
      "text/plain": [
       "Text(0.5, 1.0, 'Bike Usage for Each Bike')"
      ]
     },
     "execution_count": 19,
     "metadata": {},
     "output_type": "execute_result"
    },
    {
     "data": {
      "image/png": "[encoded data removed]",
      "text/plain": [
       "<Figure size 1152x576 with 1 Axes>"
      ]
     },
     "metadata": {
      "needs_background": "light"
     },
     "output_type": "display_data"
    }
   ],
   "source": [
    "plt.figure(figsize=(16, 8))\n",
    "bikes.value_counts().plot(kind=\"hist\", bins=35, range=(0,300))\n",
    "plt.xlabel(\"Count of occurrences each bike was used\")\n",
    "plt. title ('Bike Usage for Each Bike')"
   ]
  },
  {
   "cell_type": "code",
   "execution_count": 20,
   "metadata": {},
   "outputs": [],
   "source": [
    "# There are 14356 bikes and each has been used on average 152 times. "
   ]
  },
  {
   "cell_type": "code",
   "execution_count": 21,
   "metadata": {
    "scrolled": false
   },
   "outputs": [
    {
     "name": "stdout",
     "output_type": "stream",
     "text": [
      "days = Subscriber, count = 1803055, percentage = 82%\n",
      "days = Customer, count = 378009, percentage = 17%\n"
     ]
    }
   ],
   "source": [
    "from collections import Counter\n",
    "for days, count in Counter(bike[\"usertype\"].fillna(\"nan\")).items():\n",
    "    print(\"days = {}, count = {}, percentage = {}%\".format(days, count, int(100*count/len(bike))))\n"
   ]
  },
  {
   "cell_type": "code",
   "execution_count": 22,
   "metadata": {},
   "outputs": [],
   "source": [
    "start_station = bike[\"start_station_id\"].dropna().value_counts()\n",
    "end_station = bike[\"end_station_id\"].dropna().value_counts()\n",
    "\n",
    "stations = pd.concat((start_station, end_station), axis=1, sort=False)\n",
    "stations = stations.reset_index(drop=True)"
   ]
  },
  {
   "cell_type": "code",
   "execution_count": 23,
   "metadata": {},
   "outputs": [
    {
     "name": "stdout",
     "output_type": "stream",
     "text": [
      "      start_station_id  end_station_id\n",
      "0              12451.0           12333\n",
      "1               9574.0            9782\n",
      "2               9440.0            9467\n",
      "3               9408.0           10012\n",
      "4               9329.0            9601\n",
      "5               9132.0            9273\n",
      "6               8711.0            8750\n",
      "7               8623.0            8326\n",
      "8               8543.0            8501\n",
      "9               8197.0            8216\n",
      "10              7948.0            8204\n",
      "11              7511.0            7544\n",
      "12              7421.0            6695\n",
      "13              7283.0            7312\n",
      "14              6883.0            6931\n",
      "15              6771.0            6907\n",
      "16              6726.0            6714\n",
      "17              6721.0            6503\n",
      "18              6720.0            6785\n",
      "19              6698.0            6630\n",
      "20              6662.0            6409\n",
      "21              6658.0            6533\n",
      "22              6625.0            6571\n",
      "23              6621.0            6591\n",
      "24              6593.0            6692\n",
      "25              6592.0            6230\n",
      "26              6571.0            6562\n",
      "27              6529.0            6501\n",
      "28              6465.0            6706\n",
      "29              6403.0            6358\n",
      "...                ...             ...\n",
      "1553              57.0              60\n",
      "1554              55.0              69\n",
      "1555              54.0              54\n",
      "1556              51.0              57\n",
      "1557              51.0              42\n",
      "1558              50.0              53\n",
      "1559              47.0              54\n",
      "1560              47.0              47\n",
      "1561              45.0              23\n",
      "1562              36.0              39\n",
      "1563              23.0              22\n",
      "1564              22.0              17\n",
      "1565              18.0              40\n",
      "1566              17.0              21\n",
      "1567              14.0              18\n",
      "1568               NaN              28\n",
      "1569               NaN               5\n",
      "1570               NaN               2\n",
      "1571               NaN               2\n",
      "1572               NaN               2\n",
      "1573               NaN               2\n",
      "1574               NaN               2\n",
      "1575               NaN               1\n",
      "1576               NaN               1\n",
      "1577               NaN               1\n",
      "1578               NaN               1\n",
      "1579               NaN               1\n",
      "1580               NaN               1\n",
      "1581               NaN               1\n",
      "1582               NaN               1\n",
      "\n",
      "[1583 rows x 2 columns]\n"
     ]
    }
   ],
   "source": [
    "print (stations)"
   ]
  },
  {
   "cell_type": "code",
   "execution_count": 24,
   "metadata": {
    "scrolled": true
   },
   "outputs": [
    {
     "name": "stdout",
     "output_type": "stream",
     "text": [
      "1583\n"
     ]
    }
   ],
   "source": [
    "print(len(stations))"
   ]
  },
  {
   "cell_type": "code",
   "execution_count": 25,
   "metadata": {
    "scrolled": true
   },
   "outputs": [
    {
     "name": "stdout",
     "output_type": "stream",
     "text": [
      "                  start_station_id  end_station_id\n",
      "start_station_id          1.000000        0.998435\n",
      "end_station_id            0.998435        1.000000\n"
     ]
    }
   ],
   "source": [
    "print(stations.corr())"
   ]
  },
  {
   "cell_type": "code",
   "execution_count": 26,
   "metadata": {
    "scrolled": true
   },
   "outputs": [
    {
     "data": {
      "text/plain": [
       "<matplotlib.legend.Legend at 0x11e870f60>"
      ]
     },
     "execution_count": 26,
     "metadata": {},
     "output_type": "execute_result"
    },
    {
     "data": {
      "image/png": "[encoded data removed]",
      "text/plain": [
       "<Figure size 1080x576 with 1 Axes>"
      ]
     },
     "metadata": {
      "needs_background": "light"
     },
     "output_type": "display_data"
    }
   ],
   "source": [
    "stations.plot(figsize=(15, 8))\n",
    "plt.xlabel(\"Stations\")\n",
    "plt.ylabel(\"Count of each station\")\n",
    "plt.legend()"
   ]
  },
  {
   "cell_type": "code",
   "execution_count": 27,
   "metadata": {},
   "outputs": [],
   "source": [
    "from math import sin, cos, sqrt, atan2, radians\n",
    "\n",
    "lat1 = bike[\"start_station_latitude\"].apply(radians)\n",
    "lon1 = bike[\"start_station_longitude\"].apply(radians)\n",
    "lat2 = bike[\"end_station_latitude\"].apply(radians)\n",
    "lon2 = bike[\"end_station_longitude\"].apply(radians)\n",
    "\n",
    "dlon = lon2 - lon1\n",
    "dlat = lat2 - lat1\n",
    "\n",
    "R = 6373.0\n",
    "\n",
    "a = np.sin(dlat/2)**2 + np.cos(lat1) * np.cos(lat2) * np.sin(dlon/2)**2\n",
    "c = 2 * np.arctan2(np.sqrt(a), np.sqrt(1 - a))\n",
    "\n",
    "bike['distance'] = R * c"
   ]
  },
  {
   "cell_type": "code",
   "execution_count": 28,
   "metadata": {
    "scrolled": true
   },
   "outputs": [
    {
     "data": {
      "text/plain": [
       "count    2.181064e+06\n",
       "mean     1.819484e+00\n",
       "std      1.450128e+00\n",
       "min      0.000000e+00\n",
       "25%      8.332764e-01\n",
       "50%      1.403231e+00\n",
       "75%      2.373937e+00\n",
       "max      1.671231e+01\n",
       "Name: distance, dtype: float64"
      ]
     },
     "execution_count": 28,
     "metadata": {},
     "output_type": "execute_result"
    }
   ],
   "source": [
    "bike[\"distance\"].describe()"
   ]
  },
  {
   "cell_type": "code",
   "execution_count": 29,
   "metadata": {
    "scrolled": true
   },
   "outputs": [
    {
     "data": {
      "text/plain": [
       "Text(0, 0.5, 'Frequency')"
      ]
     },
     "execution_count": 29,
     "metadata": {},
     "output_type": "execute_result"
    },
    {
     "data": {
      "image/png": "[encoded data removed]",
      "text/plain": [
       "<Figure size 1152x576 with 1 Axes>"
      ]
     },
     "metadata": {
      "needs_background": "light"
     },
     "output_type": "display_data"
    }
   ],
   "source": [
    "plt.figure(figsize=(16, 8))\n",
    "bike.distance.hist(range=(0,4), bins=50)\n",
    "plt.xlabel(\"km\")\n",
    "plt.ylabel('Frequency')"
   ]
  },
  {
   "cell_type": "code",
   "execution_count": 30,
   "metadata": {},
   "outputs": [],
   "source": [
    "# showing that average/ mean ride from the stations are slightly under 2km per ride. So most likely riding from one\n",
    "#station to another station. "
   ]
  },
  {
   "cell_type": "code",
   "execution_count": 31,
   "metadata": {},
   "outputs": [],
   "source": [
    "# find the distance from start station lat and long to the borough lat/long (where end station is) and then keep stations that are closest to that borough lat/long"
   ]
  },
  {
   "cell_type": "code",
   "execution_count": 32,
   "metadata": {
    "scrolled": false
   },
   "outputs": [
    {
     "name": "stdout",
     "output_type": "stream",
     "text": [
      "start_station_id  start_station_latitude  start_station_longitude\n",
      "72                40.767272               -73.993929                 3607\n",
      "79                40.719116               -74.006667                 2082\n",
      "82                40.711174               -74.000165                 1214\n",
      "83                40.683826               -73.976323                 1623\n",
      "116               40.741776               -74.001497                 5761\n",
      "119               40.696089               -73.978034                  454\n",
      "120               40.686768               -73.959282                  916\n",
      "127               40.731724               -74.006744                 4880\n",
      "128               40.727103               -74.002971                 5565\n",
      "143               40.692395               -73.993379                 1978\n",
      "144               40.698399               -73.980689                  873\n",
      "146               40.716250               -74.009106                 2558\n",
      "150               40.720874               -73.980858                 2970\n",
      "151               40.722104               -73.997249                 6726\n",
      "157               40.690893               -73.996123                 1641\n",
      "161               40.729170               -73.998102                 4165\n",
      "164               40.753231               -73.970325                 2885\n",
      "167               40.748901               -73.976049                 3444\n",
      "168               40.739713               -73.994564                 6087\n",
      "173               40.760683               -73.984527                 5473\n",
      "174               40.738177               -73.977387                 2835\n",
      "195               40.709056               -74.010434                 3227\n",
      "212               40.743349               -74.006818                 4526\n",
      "216               40.700379               -73.995481                  759\n",
      "217               40.702772               -73.993836                 3117\n",
      "223               40.737815               -73.999947                 4030\n",
      "224               40.711464               -74.005524                 2239\n",
      "228               40.754601               -73.971879                 2422\n",
      "229               40.727434               -73.993790                 5883\n",
      "236               40.728419               -73.987140                 4542\n",
      "                                                                     ... \n",
      "NULL              40.842000               -73.884000                    1\n",
      "                                          -73.881000                    1\n",
      "                  40.845000               -73.902000                    1\n",
      "                  40.848000               -73.893000                    1\n",
      "                                          -73.887000                    1\n",
      "                  40.851000               -73.905000                    1\n",
      "                                          -73.902000                    3\n",
      "                                          -73.893000                    1\n",
      "                  40.854000               -73.911000                    1\n",
      "                                          -73.905000                    2\n",
      "                                          -73.902000                    1\n",
      "                                          -73.893000                    2\n",
      "                                          -73.890000                    4\n",
      "                                          -73.887000                    1\n",
      "                  40.857000               -73.902000                    1\n",
      "                                          -73.890000                    5\n",
      "                                          -73.887000                    1\n",
      "                                          -73.884000                    1\n",
      "                                          -73.881000                    1\n",
      "                  40.860000               -73.902000                    1\n",
      "                                          -73.899000                    2\n",
      "                                          -73.896000                    2\n",
      "                                          -73.893000                    1\n",
      "                                          -73.890000                    2\n",
      "                  40.863000               -73.896000                    3\n",
      "                                          -73.893000                    4\n",
      "                                          -73.890000                    2\n",
      "                  40.866000               -73.896000                    4\n",
      "                                          -73.893000                    2\n",
      "                                          -73.884000                    1\n",
      "Name: tripduration, Length: 1597, dtype: int64\n"
     ]
    }
   ],
   "source": [
    "df_bike = bike.groupby(['start_station_id', 'start_station_latitude','start_station_longitude']).agg('count')['tripduration']\n",
    "print (df_bike)"
   ]
  },
  {
   "cell_type": "code",
   "execution_count": 33,
   "metadata": {},
   "outputs": [],
   "source": [
    "df_bike = df_bike.reset_index()"
   ]
  },
  {
   "cell_type": "code",
   "execution_count": 34,
   "metadata": {},
   "outputs": [
    {
     "data": {
      "text/html": [
       "<div>\n",
       "<style scoped>\n",
       "    .dataframe tbody tr th:only-of-type {\n",
       "        vertical-align: middle;\n",
       "    }\n",
       "\n",
       "    .dataframe tbody tr th {\n",
       "        vertical-align: top;\n",
       "    }\n",
       "\n",
       "    .dataframe thead th {\n",
       "        text-align: right;\n",
       "    }\n",
       "</style>\n",
       "<table border=\"1\" class=\"dataframe\">\n",
       "  <thead>\n",
       "    <tr style=\"text-align: right;\">\n",
       "      <th></th>\n",
       "      <th>start_station_id</th>\n",
       "      <th>start_station_latitude</th>\n",
       "      <th>start_station_longitude</th>\n",
       "      <th>tripduration</th>\n",
       "    </tr>\n",
       "  </thead>\n",
       "  <tbody>\n",
       "    <tr>\n",
       "      <th>0</th>\n",
       "      <td>72</td>\n",
       "      <td>40.767272</td>\n",
       "      <td>-73.993929</td>\n",
       "      <td>3607</td>\n",
       "    </tr>\n",
       "    <tr>\n",
       "      <th>1</th>\n",
       "      <td>79</td>\n",
       "      <td>40.719116</td>\n",
       "      <td>-74.006667</td>\n",
       "      <td>2082</td>\n",
       "    </tr>\n",
       "    <tr>\n",
       "      <th>2</th>\n",
       "      <td>82</td>\n",
       "      <td>40.711174</td>\n",
       "      <td>-74.000165</td>\n",
       "      <td>1214</td>\n",
       "    </tr>\n",
       "    <tr>\n",
       "      <th>3</th>\n",
       "      <td>83</td>\n",
       "      <td>40.683826</td>\n",
       "      <td>-73.976323</td>\n",
       "      <td>1623</td>\n",
       "    </tr>\n",
       "    <tr>\n",
       "      <th>4</th>\n",
       "      <td>116</td>\n",
       "      <td>40.741776</td>\n",
       "      <td>-74.001497</td>\n",
       "      <td>5761</td>\n",
       "    </tr>\n",
       "  </tbody>\n",
       "</table>\n",
       "</div>"
      ],
      "text/plain": [
       "  start_station_id  start_station_latitude  start_station_longitude  \\\n",
       "0               72               40.767272               -73.993929   \n",
       "1               79               40.719116               -74.006667   \n",
       "2               82               40.711174               -74.000165   \n",
       "3               83               40.683826               -73.976323   \n",
       "4              116               40.741776               -74.001497   \n",
       "\n",
       "   tripduration  \n",
       "0          3607  \n",
       "1          2082  \n",
       "2          1214  \n",
       "3          1623  \n",
       "4          5761  "
      ]
     },
     "execution_count": 34,
     "metadata": {},
     "output_type": "execute_result"
    }
   ],
   "source": [
    "df_bike.head()"
   ]
  },
  {
   "cell_type": "code",
   "execution_count": 35,
   "metadata": {},
   "outputs": [
    {
     "data": {
      "image/png": "[encoded data removed]",
      "text/plain": [
       "<Figure size 576x611.36 with 2 Axes>"
      ]
     },
     "metadata": {
      "needs_background": "light"
     },
     "output_type": "display_data"
    }
   ],
   "source": [
    "latmin = 40.48\n",
    "lonmin = -74.28\n",
    "latmax = 40.93\n",
    "lonmax = -73.65\n",
    "ratio = np.cos(40.7 * np.pi/180) * np.abs(lonmax-lonmin) /np.abs(latmax-latmin)\n",
    "from matplotlib.colors import LogNorm\n",
    "fig = plt.figure(1, figsize=(8,ratio*8) )\n",
    "hist = plt.hist2d(bike.start_station_longitude,bike.start_station_latitude,bins=199,\n",
    "                  range=[[lonmin,lonmax],[latmin,latmax]],norm=LogNorm())\n",
    "plt.xlabel('Longitude [degrees]')\n",
    "plt.ylabel('Latitude [degrees]')\n",
    "plt.title('Start Station')\n",
    "plt.colorbar(label='Number')\n",
    "plt.show()"
   ]
  },
  {
   "cell_type": "code",
   "execution_count": 36,
   "metadata": {
    "scrolled": true
   },
   "outputs": [
    {
     "data": {
      "image/png": "[encoded data removed]",
      "text/plain": [
       "<Figure size 576x611.36 with 2 Axes>"
      ]
     },
     "metadata": {
      "needs_background": "light"
     },
     "output_type": "display_data"
    }
   ],
   "source": [
    "latmin = 40.48\n",
    "lonmin = -74.28\n",
    "latmax = 40.93\n",
    "lonmax = -73.65\n",
    "ratio = np.cos(40.7 * np.pi/180) * np.abs(lonmax-lonmin) /np.abs(latmax-latmin)\n",
    "from matplotlib.colors import LogNorm\n",
    "fig = plt.figure(1, figsize=(8,ratio*8) )\n",
    "hist = plt.hist2d(bike.end_station_longitude,bike.end_station_latitude,bins=199,\n",
    "                  range=[[lonmin,lonmax],[latmin,latmax]],norm=LogNorm())\n",
    "plt.xlabel('Longitude [degrees]')\n",
    "plt.ylabel('Latitude [degrees]')\n",
    "plt.title('End Stations')\n",
    "plt.colorbar(label='Number')\n",
    "plt.show()"
   ]
  },
  {
   "cell_type": "code",
   "execution_count": 37,
   "metadata": {},
   "outputs": [],
   "source": [
    "lat1 = bike[\"start_station_latitude\"].apply(radians)\n",
    "lon1 = bike[\"start_station_longitude\"].apply(radians)\n",
    "lat2 = df[\"Latitude\"].apply(radians)\n",
    "lon2 = df[\"Longitude\"].apply(radians)\n",
    "\n",
    "dlon = lon2 - lon1\n",
    "dlat = lat2 - lat1\n",
    "\n",
    "R = 6373.0\n",
    "\n",
    "a = np.sin(dlat/2)**2 + np.cos(lat1) * np.cos(lat2) * np.sin(dlon/2)**2\n",
    "c = 2 * np.arctan2(np.sqrt(a), np.sqrt(1 - a))\n",
    "\n",
    "bike['borough_diff'] = R * c"
   ]
  },
  {
   "cell_type": "code",
   "execution_count": 38,
   "metadata": {
    "scrolled": false
   },
   "outputs": [
    {
     "data": {
      "text/plain": [
       "count    18052.000000\n",
       "mean        17.393047\n",
       "std          7.286242\n",
       "min          0.126213\n",
       "25%         12.391253\n",
       "50%         17.706913\n",
       "75%         22.313421\n",
       "max         43.270509\n",
       "Name: borough_diff, dtype: float64"
      ]
     },
     "execution_count": 38,
     "metadata": {},
     "output_type": "execute_result"
    }
   ],
   "source": [
    "bike[\"borough_diff\"].describe()"
   ]
  },
  {
   "cell_type": "code",
   "execution_count": 39,
   "metadata": {
    "scrolled": true
   },
   "outputs": [
    {
     "data": {
      "text/plain": [
       "Text(0, 0.5, 'Frequency')"
      ]
     },
     "execution_count": 39,
     "metadata": {},
     "output_type": "execute_result"
    },
    {
     "data": {
      "image/png": "[encoded data removed]",
      "text/plain": [
       "<Figure size 1152x576 with 1 Axes>"
      ]
     },
     "metadata": {
      "needs_background": "light"
     },
     "output_type": "display_data"
    }
   ],
   "source": [
    "plt.figure(figsize=(16, 8))\n",
    "bike.borough_diff.hist(range=(0,40), bins=50)\n",
    "plt.xlabel(\"km\")\n",
    "plt.ylabel('Frequency')"
   ]
  },
  {
   "cell_type": "code",
   "execution_count": 40,
   "metadata": {},
   "outputs": [],
   "source": [
    "#for time series, use the plotted line charts with all 5 boroughs overlapped to show the difference in hours within day\n"
   ]
  },
  {
   "cell_type": "code",
   "execution_count": 41,
   "metadata": {},
   "outputs": [
    {
     "name": "stdout",
     "output_type": "stream",
     "text": [
      "       CensusTract  County_x        Borough  TotalPop   Men  Women  Hispanic  \\\n",
      "0      36005000100     Bronx          Bronx      7703  7133    570      29.9   \n",
      "1      36005000100     Bronx          Bronx      7703  7133    570      29.9   \n",
      "2      36005000100     Bronx          Bronx      7703  7133    570      29.9   \n",
      "3      36005000100     Bronx          Bronx      7703  7133    570      29.9   \n",
      "4      36005000100     Bronx          Bronx      7703  7133    570      29.9   \n",
      "5      36005000100     Bronx          Bronx      7703  7133    570      29.9   \n",
      "6      36005000100     Bronx          Bronx      7703  7133    570      29.9   \n",
      "7      36005000100     Bronx          Bronx      7703  7133    570      29.9   \n",
      "8      36005000100     Bronx          Bronx      7703  7133    570      29.9   \n",
      "9      36005000100     Bronx          Bronx      7703  7133    570      29.9   \n",
      "10     36005000100     Bronx          Bronx      7703  7133    570      29.9   \n",
      "11     36005000100     Bronx          Bronx      7703  7133    570      29.9   \n",
      "12     36005000100     Bronx          Bronx      7703  7133    570      29.9   \n",
      "13     36005000100     Bronx          Bronx      7703  7133    570      29.9   \n",
      "14     36005000100     Bronx          Bronx      7703  7133    570      29.9   \n",
      "15     36005000100     Bronx          Bronx      7703  7133    570      29.9   \n",
      "16     36005000100     Bronx          Bronx      7703  7133    570      29.9   \n",
      "17     36005000100     Bronx          Bronx      7703  7133    570      29.9   \n",
      "18     36005000100     Bronx          Bronx      7703  7133    570      29.9   \n",
      "19     36005000100     Bronx          Bronx      7703  7133    570      29.9   \n",
      "20     36005000100     Bronx          Bronx      7703  7133    570      29.9   \n",
      "21     36005000100     Bronx          Bronx      7703  7133    570      29.9   \n",
      "22     36005000100     Bronx          Bronx      7703  7133    570      29.9   \n",
      "23     36005000100     Bronx          Bronx      7703  7133    570      29.9   \n",
      "24     36005000100     Bronx          Bronx      7703  7133    570      29.9   \n",
      "25     36005000100     Bronx          Bronx      7703  7133    570      29.9   \n",
      "26     36005000100     Bronx          Bronx      7703  7133    570      29.9   \n",
      "27     36005000100     Bronx          Bronx      7703  7133    570      29.9   \n",
      "28     36005000100     Bronx          Bronx      7703  7133    570      29.9   \n",
      "29     36005000100     Bronx          Bronx      7703  7133    570      29.9   \n",
      "...            ...       ...            ...       ...   ...    ...       ...   \n",
      "18022  36085990100  Richmond  Staten Island         0     0      0       NaN   \n",
      "18023  36085990100  Richmond  Staten Island         0     0      0       NaN   \n",
      "18024  36085990100  Richmond  Staten Island         0     0      0       NaN   \n",
      "18025  36085990100  Richmond  Staten Island         0     0      0       NaN   \n",
      "18026  36085990100  Richmond  Staten Island         0     0      0       NaN   \n",
      "18027  36085990100  Richmond  Staten Island         0     0      0       NaN   \n",
      "18028  36085990100  Richmond  Staten Island         0     0      0       NaN   \n",
      "18029  36085990100  Richmond  Staten Island         0     0      0       NaN   \n",
      "18030  36085990100  Richmond  Staten Island         0     0      0       NaN   \n",
      "18031  36085990100  Richmond  Staten Island         0     0      0       NaN   \n",
      "18032  36085990100  Richmond  Staten Island         0     0      0       NaN   \n",
      "18033  36085990100  Richmond  Staten Island         0     0      0       NaN   \n",
      "18034  36085990100  Richmond  Staten Island         0     0      0       NaN   \n",
      "18035  36085990100  Richmond  Staten Island         0     0      0       NaN   \n",
      "18036  36085990100  Richmond  Staten Island         0     0      0       NaN   \n",
      "18037  36085990100  Richmond  Staten Island         0     0      0       NaN   \n",
      "18038  36085990100  Richmond  Staten Island         0     0      0       NaN   \n",
      "18039  36085990100  Richmond  Staten Island         0     0      0       NaN   \n",
      "18040  36085990100  Richmond  Staten Island         0     0      0       NaN   \n",
      "18041  36085990100  Richmond  Staten Island         0     0      0       NaN   \n",
      "18042  36085990100  Richmond  Staten Island         0     0      0       NaN   \n",
      "18043  36085990100  Richmond  Staten Island         0     0      0       NaN   \n",
      "18044  36085990100  Richmond  Staten Island         0     0      0       NaN   \n",
      "18045  36085990100  Richmond  Staten Island         0     0      0       NaN   \n",
      "18046  36085990100  Richmond  Staten Island         0     0      0       NaN   \n",
      "18047  36085990100  Richmond  Staten Island         0     0      0       NaN   \n",
      "18048  36085990100  Richmond  Staten Island         0     0      0       NaN   \n",
      "18049  36085990100  Richmond  Staten Island         0     0      0       NaN   \n",
      "18050  36085990100  Richmond  Staten Island         0     0      0       NaN   \n",
      "18051  36085990100  Richmond  Staten Island         0     0      0       NaN   \n",
      "\n",
      "       White  Black  Native  ...  SelfEmployed  FamilyWork  Unemployment  \\\n",
      "0        6.1   60.9     0.2  ...           NaN         NaN           NaN   \n",
      "1        6.1   60.9     0.2  ...           NaN         NaN           NaN   \n",
      "2        6.1   60.9     0.2  ...           NaN         NaN           NaN   \n",
      "3        6.1   60.9     0.2  ...           NaN         NaN           NaN   \n",
      "4        6.1   60.9     0.2  ...           NaN         NaN           NaN   \n",
      "5        6.1   60.9     0.2  ...           NaN         NaN           NaN   \n",
      "6        6.1   60.9     0.2  ...           NaN         NaN           NaN   \n",
      "7        6.1   60.9     0.2  ...           NaN         NaN           NaN   \n",
      "8        6.1   60.9     0.2  ...           NaN         NaN           NaN   \n",
      "9        6.1   60.9     0.2  ...           NaN         NaN           NaN   \n",
      "10       6.1   60.9     0.2  ...           NaN         NaN           NaN   \n",
      "11       6.1   60.9     0.2  ...           NaN         NaN           NaN   \n",
      "12       6.1   60.9     0.2  ...           NaN         NaN           NaN   \n",
      "13       6.1   60.9     0.2  ...           NaN         NaN           NaN   \n",
      "14       6.1   60.9     0.2  ...           NaN         NaN           NaN   \n",
      "15       6.1   60.9     0.2  ...           NaN         NaN           NaN   \n",
      "16       6.1   60.9     0.2  ...           NaN         NaN           NaN   \n",
      "17       6.1   60.9     0.2  ...           NaN         NaN           NaN   \n",
      "18       6.1   60.9     0.2  ...           NaN         NaN           NaN   \n",
      "19       6.1   60.9     0.2  ...           NaN         NaN           NaN   \n",
      "20       6.1   60.9     0.2  ...           NaN         NaN           NaN   \n",
      "21       6.1   60.9     0.2  ...           NaN         NaN           NaN   \n",
      "22       6.1   60.9     0.2  ...           NaN         NaN           NaN   \n",
      "23       6.1   60.9     0.2  ...           NaN         NaN           NaN   \n",
      "24       6.1   60.9     0.2  ...           NaN         NaN           NaN   \n",
      "25       6.1   60.9     0.2  ...           NaN         NaN           NaN   \n",
      "26       6.1   60.9     0.2  ...           NaN         NaN           NaN   \n",
      "27       6.1   60.9     0.2  ...           NaN         NaN           NaN   \n",
      "28       6.1   60.9     0.2  ...           NaN         NaN           NaN   \n",
      "29       6.1   60.9     0.2  ...           NaN         NaN           NaN   \n",
      "...      ...    ...     ...  ...           ...         ...           ...   \n",
      "18022    NaN    NaN     NaN  ...           NaN         NaN           NaN   \n",
      "18023    NaN    NaN     NaN  ...           NaN         NaN           NaN   \n",
      "18024    NaN    NaN     NaN  ...           NaN         NaN           NaN   \n",
      "18025    NaN    NaN     NaN  ...           NaN         NaN           NaN   \n",
      "18026    NaN    NaN     NaN  ...           NaN         NaN           NaN   \n",
      "18027    NaN    NaN     NaN  ...           NaN         NaN           NaN   \n",
      "18028    NaN    NaN     NaN  ...           NaN         NaN           NaN   \n",
      "18029    NaN    NaN     NaN  ...           NaN         NaN           NaN   \n",
      "18030    NaN    NaN     NaN  ...           NaN         NaN           NaN   \n",
      "18031    NaN    NaN     NaN  ...           NaN         NaN           NaN   \n",
      "18032    NaN    NaN     NaN  ...           NaN         NaN           NaN   \n",
      "18033    NaN    NaN     NaN  ...           NaN         NaN           NaN   \n",
      "18034    NaN    NaN     NaN  ...           NaN         NaN           NaN   \n",
      "18035    NaN    NaN     NaN  ...           NaN         NaN           NaN   \n",
      "18036    NaN    NaN     NaN  ...           NaN         NaN           NaN   \n",
      "18037    NaN    NaN     NaN  ...           NaN         NaN           NaN   \n",
      "18038    NaN    NaN     NaN  ...           NaN         NaN           NaN   \n",
      "18039    NaN    NaN     NaN  ...           NaN         NaN           NaN   \n",
      "18040    NaN    NaN     NaN  ...           NaN         NaN           NaN   \n",
      "18041    NaN    NaN     NaN  ...           NaN         NaN           NaN   \n",
      "18042    NaN    NaN     NaN  ...           NaN         NaN           NaN   \n",
      "18043    NaN    NaN     NaN  ...           NaN         NaN           NaN   \n",
      "18044    NaN    NaN     NaN  ...           NaN         NaN           NaN   \n",
      "18045    NaN    NaN     NaN  ...           NaN         NaN           NaN   \n",
      "18046    NaN    NaN     NaN  ...           NaN         NaN           NaN   \n",
      "18047    NaN    NaN     NaN  ...           NaN         NaN           NaN   \n",
      "18048    NaN    NaN     NaN  ...           NaN         NaN           NaN   \n",
      "18049    NaN    NaN     NaN  ...           NaN         NaN           NaN   \n",
      "18050    NaN    NaN     NaN  ...           NaN         NaN           NaN   \n",
      "18051    NaN    NaN     NaN  ...           NaN         NaN           NaN   \n",
      "\n",
      "        Latitude  Longitude        BlockCode  County_y  State  BlockCode_11  \\\n",
      "0      40.787538 -73.887437  360050001001007     Bronx     NY   36005000100   \n",
      "1      40.787538 -73.884271  360050001001005     Bronx     NY   36005000100   \n",
      "2      40.787538 -73.881106  360050001001003     Bronx     NY   36005000100   \n",
      "3      40.787538 -73.877940  360050001001003     Bronx     NY   36005000100   \n",
      "4      40.787538 -73.874774  360050001001006     Bronx     NY   36005000100   \n",
      "5      40.787538 -73.871608  360050001001006     Bronx     NY   36005000100   \n",
      "6      40.789799 -73.887437  360050001001011     Bronx     NY   36005000100   \n",
      "7      40.789799 -73.884271  360050001001013     Bronx     NY   36005000100   \n",
      "8      40.789799 -73.881106  360050001001003     Bronx     NY   36005000100   \n",
      "9      40.789799 -73.877940  360050001001003     Bronx     NY   36005000100   \n",
      "10     40.789799 -73.874774  360050001001006     Bronx     NY   36005000100   \n",
      "11     40.789799 -73.871608  360050001000002     Bronx     NY   36005000100   \n",
      "12     40.792060 -73.896935  360050001000002     Bronx     NY   36005000100   \n",
      "13     40.792060 -73.893769  360050001000002     Bronx     NY   36005000100   \n",
      "14     40.792060 -73.890603  360050001001012     Bronx     NY   36005000100   \n",
      "15     40.792060 -73.887437  360050001001019     Bronx     NY   36005000100   \n",
      "16     40.792060 -73.884271  360050001001014     Bronx     NY   36005000100   \n",
      "17     40.792060 -73.881106  360050001001003     Bronx     NY   36005000100   \n",
      "18     40.792060 -73.877940  360050001001003     Bronx     NY   36005000100   \n",
      "19     40.792060 -73.874774  360050001001006     Bronx     NY   36005000100   \n",
      "20     40.792060 -73.871608  360050001000002     Bronx     NY   36005000100   \n",
      "21     40.794322 -73.896935  360050001000002     Bronx     NY   36005000100   \n",
      "22     40.794322 -73.893769  360050001000002     Bronx     NY   36005000100   \n",
      "23     40.794322 -73.890603  360050001001009     Bronx     NY   36005000100   \n",
      "24     40.794322 -73.887437  360050001001015     Bronx     NY   36005000100   \n",
      "25     40.794322 -73.884271  360050001001015     Bronx     NY   36005000100   \n",
      "26     40.794322 -73.881106  360050001001000     Bronx     NY   36005000100   \n",
      "27     40.794322 -73.877940  360050001000002     Bronx     NY   36005000100   \n",
      "28     40.794322 -73.874774  360050001000002     Bronx     NY   36005000100   \n",
      "29     40.794322 -73.871608  360050001000001     Bronx     NY   36005000100   \n",
      "...          ...        ...              ...       ...    ...           ...   \n",
      "18022  40.586281 -74.048894  360859901000002  Richmond     NY   36085990100   \n",
      "18023  40.586281 -74.045729  360859901000002  Richmond     NY   36085990100   \n",
      "18024  40.586281 -74.042563  360859901000002  Richmond     NY   36085990100   \n",
      "18025  40.586281 -74.039397  360859901000002  Richmond     NY   36085990100   \n",
      "18026  40.588543 -74.052060  360859901000002  Richmond     NY   36085990100   \n",
      "18027  40.588543 -74.048894  360859901000002  Richmond     NY   36085990100   \n",
      "18028  40.588543 -74.045729  360859901000002  Richmond     NY   36085990100   \n",
      "18029  40.588543 -74.042563  360859901000002  Richmond     NY   36085990100   \n",
      "18030  40.588543 -74.039397  360859901000002  Richmond     NY   36085990100   \n",
      "18031  40.590804 -74.052060  360859901000002  Richmond     NY   36085990100   \n",
      "18032  40.590804 -74.048894  360859901000002  Richmond     NY   36085990100   \n",
      "18033  40.590804 -74.045729  360859901000002  Richmond     NY   36085990100   \n",
      "18034  40.590804 -74.042563  360859901000002  Richmond     NY   36085990100   \n",
      "18035  40.590804 -74.039397  360859901000002  Richmond     NY   36085990100   \n",
      "18036  40.593065 -74.052060  360859901000002  Richmond     NY   36085990100   \n",
      "18037  40.593065 -74.048894  360859901000002  Richmond     NY   36085990100   \n",
      "18038  40.593065 -74.045729  360859901000002  Richmond     NY   36085990100   \n",
      "18039  40.593065 -74.042563  360859901000002  Richmond     NY   36085990100   \n",
      "18040  40.593065 -74.039397  360859901000002  Richmond     NY   36085990100   \n",
      "18041  40.595327 -74.048894  360859901000002  Richmond     NY   36085990100   \n",
      "18042  40.595327 -74.045729  360859901000002  Richmond     NY   36085990100   \n",
      "18043  40.595327 -74.042563  360859901000002  Richmond     NY   36085990100   \n",
      "18044  40.597588 -74.048894  360859901000002  Richmond     NY   36085990100   \n",
      "18045  40.597588 -74.045729  360859901000002  Richmond     NY   36085990100   \n",
      "18046  40.597588 -74.042563  360859901000002  Richmond     NY   36085990100   \n",
      "18047  40.599849 -74.045729  360859901000002  Richmond     NY   36085990100   \n",
      "18048  40.599849 -74.042563  360859901000002  Richmond     NY   36085990100   \n",
      "18049  40.602111 -74.045729  360859901000002  Richmond     NY   36085990100   \n",
      "18050  40.602111 -74.042563  360859901000002  Richmond     NY   36085990100   \n",
      "18051  40.604372 -74.042563  360859901000001  Richmond     NY   36085990100   \n",
      "\n",
      "       tmp  \n",
      "0      tmp  \n",
      "1      tmp  \n",
      "2      tmp  \n",
      "3      tmp  \n",
      "4      tmp  \n",
      "5      tmp  \n",
      "6      tmp  \n",
      "7      tmp  \n",
      "8      tmp  \n",
      "9      tmp  \n",
      "10     tmp  \n",
      "11     tmp  \n",
      "12     tmp  \n",
      "13     tmp  \n",
      "14     tmp  \n",
      "15     tmp  \n",
      "16     tmp  \n",
      "17     tmp  \n",
      "18     tmp  \n",
      "19     tmp  \n",
      "20     tmp  \n",
      "21     tmp  \n",
      "22     tmp  \n",
      "23     tmp  \n",
      "24     tmp  \n",
      "25     tmp  \n",
      "26     tmp  \n",
      "27     tmp  \n",
      "28     tmp  \n",
      "29     tmp  \n",
      "...    ...  \n",
      "18022  tmp  \n",
      "18023  tmp  \n",
      "18024  tmp  \n",
      "18025  tmp  \n",
      "18026  tmp  \n",
      "18027  tmp  \n",
      "18028  tmp  \n",
      "18029  tmp  \n",
      "18030  tmp  \n",
      "18031  tmp  \n",
      "18032  tmp  \n",
      "18033  tmp  \n",
      "18034  tmp  \n",
      "18035  tmp  \n",
      "18036  tmp  \n",
      "18037  tmp  \n",
      "18038  tmp  \n",
      "18039  tmp  \n",
      "18040  tmp  \n",
      "18041  tmp  \n",
      "18042  tmp  \n",
      "18043  tmp  \n",
      "18044  tmp  \n",
      "18045  tmp  \n",
      "18046  tmp  \n",
      "18047  tmp  \n",
      "18048  tmp  \n",
      "18049  tmp  \n",
      "18050  tmp  \n",
      "18051  tmp  \n",
      "\n",
      "[18052 rows x 43 columns]\n"
     ]
    }
   ],
   "source": [
    "df['tmp'] = 'tmp'\n",
    "print(df)"
   ]
  },
  {
   "cell_type": "code",
   "execution_count": 42,
   "metadata": {},
   "outputs": [
    {
     "name": "stdout",
     "output_type": "stream",
     "text": [
      "     start_station_id  start_station_latitude  start_station_longitude  \\\n",
      "0                  72               40.767272               -73.993929   \n",
      "1                  79               40.719116               -74.006667   \n",
      "2                  82               40.711174               -74.000165   \n",
      "3                  83               40.683826               -73.976323   \n",
      "4                 116               40.741776               -74.001497   \n",
      "5                 119               40.696089               -73.978034   \n",
      "6                 120               40.686768               -73.959282   \n",
      "7                 127               40.731724               -74.006744   \n",
      "8                 128               40.727103               -74.002971   \n",
      "9                 143               40.692395               -73.993379   \n",
      "10                144               40.698399               -73.980689   \n",
      "11                146               40.716250               -74.009106   \n",
      "12                150               40.720874               -73.980858   \n",
      "13                151               40.722104               -73.997249   \n",
      "14                157               40.690893               -73.996123   \n",
      "15                161               40.729170               -73.998102   \n",
      "16                164               40.753231               -73.970325   \n",
      "17                167               40.748901               -73.976049   \n",
      "18                168               40.739713               -73.994564   \n",
      "19                173               40.760683               -73.984527   \n",
      "20                174               40.738177               -73.977387   \n",
      "21                195               40.709056               -74.010434   \n",
      "22                212               40.743349               -74.006818   \n",
      "23                216               40.700379               -73.995481   \n",
      "24                217               40.702772               -73.993836   \n",
      "25                223               40.737815               -73.999947   \n",
      "26                224               40.711464               -74.005524   \n",
      "27                228               40.754601               -73.971879   \n",
      "28                229               40.727434               -73.993790   \n",
      "29                236               40.728419               -73.987140   \n",
      "...               ...                     ...                      ...   \n",
      "1567             NULL               40.842000               -73.884000   \n",
      "1568             NULL               40.842000               -73.881000   \n",
      "1569             NULL               40.845000               -73.902000   \n",
      "1570             NULL               40.848000               -73.893000   \n",
      "1571             NULL               40.848000               -73.887000   \n",
      "1572             NULL               40.851000               -73.905000   \n",
      "1573             NULL               40.851000               -73.902000   \n",
      "1574             NULL               40.851000               -73.893000   \n",
      "1575             NULL               40.854000               -73.911000   \n",
      "1576             NULL               40.854000               -73.905000   \n",
      "1577             NULL               40.854000               -73.902000   \n",
      "1578             NULL               40.854000               -73.893000   \n",
      "1579             NULL               40.854000               -73.890000   \n",
      "1580             NULL               40.854000               -73.887000   \n",
      "1581             NULL               40.857000               -73.902000   \n",
      "1582             NULL               40.857000               -73.890000   \n",
      "1583             NULL               40.857000               -73.887000   \n",
      "1584             NULL               40.857000               -73.884000   \n",
      "1585             NULL               40.857000               -73.881000   \n",
      "1586             NULL               40.860000               -73.902000   \n",
      "1587             NULL               40.860000               -73.899000   \n",
      "1588             NULL               40.860000               -73.896000   \n",
      "1589             NULL               40.860000               -73.893000   \n",
      "1590             NULL               40.860000               -73.890000   \n",
      "1591             NULL               40.863000               -73.896000   \n",
      "1592             NULL               40.863000               -73.893000   \n",
      "1593             NULL               40.863000               -73.890000   \n",
      "1594             NULL               40.866000               -73.896000   \n",
      "1595             NULL               40.866000               -73.893000   \n",
      "1596             NULL               40.866000               -73.884000   \n",
      "\n",
      "      tripduration  tmp  \n",
      "0             3607  tmp  \n",
      "1             2082  tmp  \n",
      "2             1214  tmp  \n",
      "3             1623  tmp  \n",
      "4             5761  tmp  \n",
      "5              454  tmp  \n",
      "6              916  tmp  \n",
      "7             4880  tmp  \n",
      "8             5565  tmp  \n",
      "9             1978  tmp  \n",
      "10             873  tmp  \n",
      "11            2558  tmp  \n",
      "12            2970  tmp  \n",
      "13            6726  tmp  \n",
      "14            1641  tmp  \n",
      "15            4165  tmp  \n",
      "16            2885  tmp  \n",
      "17            3444  tmp  \n",
      "18            6087  tmp  \n",
      "19            5473  tmp  \n",
      "20            2835  tmp  \n",
      "21            3227  tmp  \n",
      "22            4526  tmp  \n",
      "23             759  tmp  \n",
      "24            3117  tmp  \n",
      "25            4030  tmp  \n",
      "26            2239  tmp  \n",
      "27            2422  tmp  \n",
      "28            5883  tmp  \n",
      "29            4542  tmp  \n",
      "...            ...  ...  \n",
      "1567             1  tmp  \n",
      "1568             1  tmp  \n",
      "1569             1  tmp  \n",
      "1570             1  tmp  \n",
      "1571             1  tmp  \n",
      "1572             1  tmp  \n",
      "1573             3  tmp  \n",
      "1574             1  tmp  \n",
      "1575             1  tmp  \n",
      "1576             2  tmp  \n",
      "1577             1  tmp  \n",
      "1578             2  tmp  \n",
      "1579             4  tmp  \n",
      "1580             1  tmp  \n",
      "1581             1  tmp  \n",
      "1582             5  tmp  \n",
      "1583             1  tmp  \n",
      "1584             1  tmp  \n",
      "1585             1  tmp  \n",
      "1586             1  tmp  \n",
      "1587             2  tmp  \n",
      "1588             2  tmp  \n",
      "1589             1  tmp  \n",
      "1590             2  tmp  \n",
      "1591             3  tmp  \n",
      "1592             4  tmp  \n",
      "1593             2  tmp  \n",
      "1594             4  tmp  \n",
      "1595             2  tmp  \n",
      "1596             1  tmp  \n",
      "\n",
      "[1597 rows x 5 columns]\n"
     ]
    }
   ],
   "source": [
    "df_bike['tmp'] = 'tmp'\n",
    "print(df_bike)"
   ]
  },
  {
   "cell_type": "code",
   "execution_count": 43,
   "metadata": {},
   "outputs": [
    {
     "data": {
      "text/plain": [
       "Index(['start_station_id', 'start_station_latitude', 'start_station_longitude',\n",
       "       'tripduration', 'tmp'],\n",
       "      dtype='object')"
      ]
     },
     "execution_count": 43,
     "metadata": {},
     "output_type": "execute_result"
    }
   ],
   "source": [
    "df_bike.columns"
   ]
  },
  {
   "cell_type": "code",
   "execution_count": null,
   "metadata": {},
   "outputs": [],
   "source": [
    "NY_bike= pd.merge(left=df_bike,right= df, how='outer',left_on= 'tmp', right_on= 'tmp', left_index=False, right_index=False)\n",
    "NY_bike.head()"
   ]
  },
  {
   "cell_type": "code",
   "execution_count": null,
   "metadata": {
    "scrolled": true
   },
   "outputs": [],
   "source": [
    "len(NY_bike)"
   ]
  },
  {
   "cell_type": "code",
   "execution_count": null,
   "metadata": {
    "scrolled": true
   },
   "outputs": [],
   "source": [
    "NY_bike.dtypes"
   ]
  },
  {
   "cell_type": "code",
   "execution_count": null,
   "metadata": {},
   "outputs": [],
   "source": [
    "lat1 = pd.to_numeric(NY_bike[\"start_station_latitude\"],errors='coerce').apply(radians)\n",
    "lon1 = pd.to_numeric(NY_bike[\"start_station_longitude\"],errors='coerce').apply(radians)\n",
    "lat2 = pd.to_numeric(NY_bike[\"Latitude\"],errors='coerce').apply(radians)\n",
    "lon2 = pd.to_numeric(NY_bike[\"Longitude\"],errors='coerce').apply(radians)\n",
    "\n",
    "dlon = lon2 - lon1\n",
    "dlat = lat2 - lat1\n",
    "\n",
    "R = 6373.0\n",
    "\n",
    "a = np.sin(dlat/2)**2 + np.cos(lat1) * np.cos(lat2) * np.sin(dlon/2)**2\n",
    "c = 2 * np.arctan2(np.sqrt(a), np.sqrt(1 - a))\n",
    "\n",
    "NY_bike['borough_distance'] = R * c"
   ]
  },
  {
   "cell_type": "code",
   "execution_count": null,
   "metadata": {
    "scrolled": false
   },
   "outputs": [],
   "source": [
    "NY_bike[\"borough_distance\"].describe()"
   ]
  },
  {
   "cell_type": "code",
   "execution_count": null,
   "metadata": {},
   "outputs": [],
   "source": [
    "plt.figure(figsize=(16, 8))\n",
    "NY_bike.borough_distance.hist(range=(0,40), bins=50)\n",
    "plt.xlabel(\"km\")\n",
    "plt.ylabel('Frequency')"
   ]
  },
  {
   "cell_type": "code",
   "execution_count": null,
   "metadata": {
    "scrolled": true
   },
   "outputs": [],
   "source": [
    "\n",
    "NY_bike.head()"
   ]
  },
  {
   "cell_type": "code",
   "execution_count": null,
   "metadata": {},
   "outputs": [],
   "source": [
    "g = NY_bike.sort_values(['borough_distance']).groupby('start_station_id') "
   ]
  },
  {
   "cell_type": "code",
   "execution_count": null,
   "metadata": {},
   "outputs": [],
   "source": [
    "NY_bike['distance_rank'] = g['borough_distance'].rank(method='min', na_option='top')"
   ]
  },
  {
   "cell_type": "code",
   "execution_count": null,
   "metadata": {
    "scrolled": false
   },
   "outputs": [],
   "source": [
    "NY_bike.head()"
   ]
  },
  {
   "cell_type": "code",
   "execution_count": null,
   "metadata": {
    "scrolled": true
   },
   "outputs": [],
   "source": [
    "NY_bike_close=NY_bike[NY_bike.distance_rank <= 1]\n",
    "NY_bike_close.head()"
   ]
  },
  {
   "cell_type": "code",
   "execution_count": null,
   "metadata": {},
   "outputs": [],
   "source": [
    "NY_bike_close.to_csv('NY_bike_close.csv')"
   ]
  },
  {
   "cell_type": "code",
   "execution_count": null,
   "metadata": {},
   "outputs": [],
   "source": [
    "NY_bike_close."
   ]
  },
  {
   "cell_type": "code",
   "execution_count": null,
   "metadata": {},
   "outputs": [],
   "source": [
    "latmin = 40.48\n",
    "lonmin = -74.28\n",
    "latmax = 40.93\n",
    "lonmax = -73.65\n",
    "ratio = np.cos(40.7 * np.pi/180) * np.abs(lonmax-lonmin) /np.abs(latmax-latmin)\n",
    "from matplotlib.colors import LogNorm\n",
    "fig = plt.figure(1, figsize=(8,ratio*8) )\n",
    "hist = plt.hist2d(NY_bike_close.start_station_longitude,NY_bike_close.start_station_latitude,bins=199,\n",
    "                  range=[[lonmin,lonmax],[latmin,latmax]],norm=LogNorm())\n",
    "plt.xlabel('Longitude [degrees]')\n",
    "plt.ylabel('Latitude [degrees]')\n",
    "plt.title('Start Stations')\n",
    "plt.colorbar(label='Number')\n",
    "plt.show()"
   ]
  },
  {
   "cell_type": "code",
   "execution_count": null,
   "metadata": {},
   "outputs": [],
   "source": [
    "plt.figure(figsize=(16,8))\n",
    "NY_bike_close.Borough.hist(range=(0,5), bins=50)\n",
    "plt.xlabel(\"km\")\n",
    "plt.ylabel('Frequency')"
   ]
  },
  {
   "cell_type": "code",
   "execution_count": null,
   "metadata": {},
   "outputs": [],
   "source": [
    "# subset down to where they are the closest to 1"
   ]
  },
  {
   "cell_type": "code",
   "execution_count": 77,
   "metadata": {},
   "outputs": [],
   "source": [
    "#find each station id- look for the one with the least distance, create new column ranking the rows by distances. "
   ]
  },
  {
   "cell_type": "code",
   "execution_count": null,
   "metadata": {},
   "outputs": [],
   "source": [
    "linear regression, random forest, etc, feature engineering"
   ]
  }
 ],
 "metadata": {
  "kernelspec": {
   "display_name": "Python 3",
   "language": "python",
   "name": "python3"
  },
  "language_info": {
   "codemirror_mode": {
    "name": "ipython",
    "version": 3
   },
   "file_extension": ".py",
   "mimetype": "text/x-python",
   "name": "python",
   "nbconvert_exporter": "python",
   "pygments_lexer": "ipython3",
   "version": "3.7.3"
  }
 },
 "nbformat": 4,
 "nbformat_minor": 2
}
