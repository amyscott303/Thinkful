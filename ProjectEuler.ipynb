{
 "cells": [
  {
   "cell_type": "markdown",
   "metadata": {},
   "source": [
    "#1"
   ]
  },
  {
   "cell_type": "code",
   "execution_count": 2,
   "metadata": {},
   "outputs": [
    {
     "data": {
      "text/plain": [
       "999"
      ]
     },
     "execution_count": 2,
     "metadata": {},
     "output_type": "execute_result"
    }
   ],
   "source": [
    "nums= range (1,1000)\n",
    "nums[-1]\n"
   ]
  },
  {
   "cell_type": "code",
   "execution_count": 3,
   "metadata": {},
   "outputs": [
    {
     "name": "stdout",
     "output_type": "stream",
     "text": [
      "233168\n"
     ]
    }
   ],
   "source": [
    "SumOfMultiple=0\n",
    "for i in nums:\n",
    "    if i % 3 == 0 or i % 5 ==0:\n",
    "        SumOfMultiple= i + SumOfMultiple\n",
    "\n",
    "print (SumOfMultiple)"
   ]
  },
  {
   "cell_type": "markdown",
   "metadata": {},
   "source": [
    "#2 By considering the terms in the Fibonacci sequence whose values do not exceed four million, find the sum of the even-valued terms."
   ]
  },
  {
   "cell_type": "code",
   "execution_count": 2,
   "metadata": {},
   "outputs": [
    {
     "name": "stdout",
     "output_type": "stream",
     "text": [
      "4613732\n"
     ]
    }
   ],
   "source": [
    "n1 = 0\n",
    "n2 = 1\n",
    "result = 0\n",
    "summed = 0\n",
    "\n",
    "while (result < 4000000):\n",
    "    if((result %2)==0):\n",
    "        summed +=result\n",
    "    result = n1 + n2\n",
    "    n2= n1\n",
    "    n1= result\n",
    "   \n",
    "print(summed)     "
   ]
  },
  {
   "cell_type": "markdown",
   "metadata": {},
   "source": [
    "#3 What is the largest prime factor of the number 600851475143 ?"
   ]
  },
  {
   "cell_type": "code",
   "execution_count": 1,
   "metadata": {},
   "outputs": [
    {
     "name": "stderr",
     "output_type": "stream",
     "text": [
      "DEBUG:root:isPrime(24)=False\n"
     ]
    },
    {
     "name": "stdout",
     "output_type": "stream",
     "text": [
      "6857\n"
     ]
    }
   ],
   "source": [
    "import logging\n",
    "import math\n",
    "logging.basicConfig(level=logging.DEBUG)\n",
    "\n",
    "def getFactors(n):\n",
    "    factors = []\n",
    "    for potentialFactor in range (1, int(math.sqrt(n)) +1):\n",
    "        if n % potentialFactor == 0:\n",
    "            factors.append(potentialFactor)\n",
    "            factors.append(n//potentialFactor)\n",
    "    return factors\n",
    "\n",
    "\n",
    "def isPrime(n):\n",
    "    return len(getFactors(n))==2\n",
    "\n",
    "logging.debug('isPrime(24)=%s' % (isPrime(24)))\n",
    "\n",
    "allFactors= getFactors(600851475143)\n",
    "largestPrimeFactor = 0\n",
    "for factor in allFactors:\n",
    "    if isPrime(factor) and factor > largestPrimeFactor:\n",
    "        largestPrimeFactor = factor\n",
    "              \n",
    "print(largestPrimeFactor)"
   ]
  },
  {
   "cell_type": "markdown",
   "metadata": {},
   "source": [
    "#4 Find the largest palindrome made from the product of two 3-digit numbers."
   ]
  },
  {
   "cell_type": "code",
   "execution_count": 2,
   "metadata": {},
   "outputs": [
    {
     "name": "stdout",
     "output_type": "stream",
     "text": [
      "906609\n"
     ]
    }
   ],
   "source": [
    "def is_palindrome(i):\n",
    "    return str(i) ==str(i)[::-1]\n",
    "\n",
    "max_p= 0\n",
    "\n",
    "for i in range(100,999):\n",
    "    for j in range(i+1,1000):\n",
    "        p = i*j\n",
    "        if is_palindrome(p) and p > max_p:\n",
    "            max_p= p\n",
    "\n",
    "print (max_p)"
   ]
  },
  {
   "cell_type": "markdown",
   "metadata": {},
   "source": [
    "#5 What is the smallest positive number that is evenly divisible by all of the numbers from 1 to 20?"
   ]
  },
  {
   "cell_type": "code",
   "execution_count": 3,
   "metadata": {},
   "outputs": [
    {
     "name": "stdout",
     "output_type": "stream",
     "text": [
      "232792560\n"
     ]
    }
   ],
   "source": [
    "def isDivisible(n):\n",
    "    for i in range (2,21):\n",
    "        if n % i!=0:\n",
    "            return False\n",
    "    return True\n",
    "\n",
    "n =20\n",
    "while True: \n",
    "    if isDivisible(n):\n",
    "        break\n",
    "    n += 20\n",
    "    \n",
    "print (n)"
   ]
  },
  {
   "cell_type": "markdown",
   "metadata": {},
   "source": [
    "#6 Find the difference between the sum of the squares of the first one hundred natural numbers and the square of the sum."
   ]
  },
  {
   "cell_type": "code",
   "execution_count": 4,
   "metadata": {},
   "outputs": [
    {
     "name": "stdout",
     "output_type": "stream",
     "text": [
      "25164150\n"
     ]
    }
   ],
   "source": [
    "sumOfSquares = 0\n",
    "for i in range(1, 101):\n",
    "    sumOfSquares +=i*i\n",
    "    \n",
    "squareOfSums = 0\n",
    "for i in range (1,101):\n",
    "    squareOfSums += i\n",
    "squareOfSums = squareOfSums * squareOfSums\n",
    "\n",
    "print(squareOfSums - sumOfSquares)"
   ]
  },
  {
   "cell_type": "markdown",
   "metadata": {},
   "source": [
    "#7 What is the 10 001st prime number?"
   ]
  },
  {
   "cell_type": "code",
   "execution_count": 5,
   "metadata": {},
   "outputs": [],
   "source": [
    "import math\n",
    " \n",
    "# isPrime function - returns True or False\n",
    "def isPrime(num):\n",
    "    # Iterates from 2 to sqrt(num)+1 as discussed above\n",
    "    # Make sure to convert sqrt to int for range\n",
    "    for i in range(2,int(math.sqrt(num))+1):\n",
    "        if (num % i == 0):\n",
    "            return False\n",
    " \n",
    "    return True\n",
    " \n",
    "count = 1   # Number of primes\n",
    "num = 2     # Prime number (count)\n",
    " \n",
    "# While loop to continue until we reach 100001th prime\n",
    "while (count<10001):\n",
    "    num+=1\n",
    "    if isPrime(num):\n",
    "        #print('Found a prime: ' + str(num) + ', prime number: ' + str(count))\n",
    "        # If a prime is found, increase count and continue\n",
    "        count+=1"
   ]
  },
  {
   "cell_type": "code",
   "execution_count": 6,
   "metadata": {},
   "outputs": [],
   "source": [
    "primes = []\n",
    "for possiblePrime in range(2, 10001):\n",
    "    \n",
    "    # Assume number is prime until shown it is not. \n",
    "    isPrime = True\n",
    "    for num in range(2, int(possiblePrime ** 0.5) + 1):\n",
    "        if possiblePrime % num == 0:\n",
    "            isPrime = False\n",
    "            break\n",
    "      \n",
    "    if isPrime:\n",
    "        primes.append(possiblePrime)"
   ]
  },
  {
   "cell_type": "markdown",
   "metadata": {},
   "source": [
    "#8 Find the thirteen adjacent digits in the 1000-digit number that have the greatest product. What is the value of this product?"
   ]
  },
  {
   "cell_type": "code",
   "execution_count": 7,
   "metadata": {},
   "outputs": [
    {
     "name": "stdout",
     "output_type": "stream",
     "text": [
      "Max Product of 13 digits is: 23514624000\n"
     ]
    }
   ],
   "source": [
    "def findProduct(numString):\n",
    "    product = 1\n",
    "    for i in range(len(numString)):\n",
    "        product = product * int(numString[i])\n",
    "    return product\n",
    " \n",
    "# The number we need in int and string form\n",
    "bigNum = 7316717653133062491922511967442657474235534919493496983520312774506326239578318016984801869478851843858615607891129494954595017379583319528532088055111254069874715852386305071569329096329522744304355766896648950445244523161731856403098711121722383113622298934233803081353362766142828064444866452387493035890729629049156044077239071381051585930796086670172427121883998797908792274921901699720888093776657273330010533678812202354218097512545405947522435258490771167055601360483958644670632441572215539753697817977846174064955149290862569321978468622482839722413756570560574902614079729686524145351004748216637048440319989000889524345065854122758866688116427171479924442928230863465674813919123162824586178664583591245665294765456828489128831426076900422421902267105562632111110937054421750694165896040807198403850962455444362981230987879927244284909188845801561660979191338754992005240636899125607176060588611646710940507754100225698315520005593572972571636269561882670428252483600823257530420752963450\n",
    "bigString = str(bigNum)\n",
    " \n",
    "# Variables to track things\n",
    "maxProduct = 0\n",
    "product = 0\n",
    "numChars = 13\n",
    " \n",
    "# Iterate over the 1000 digits except for the end digits\n",
    "# For each iteration find the string of numChar length and\n",
    "#  pass it to the function to find product\n",
    "for i in range(len(bigString)-numChars):\n",
    "    product = findProduct(bigString[i:i+numChars])\n",
    "    # If a product is larger than max, store it\n",
    "    if (product > maxProduct):\n",
    "        maxProduct = product\n",
    " \n",
    "# Print answers\n",
    "print('Max Product of ' + str(numChars) + ' digits is: ' + str(maxProduct))\n"
   ]
  },
  {
   "cell_type": "markdown",
   "metadata": {},
   "source": [
    "#9 There exists exactly one Pythagorean triplet for which a + b + c = 1000.\n",
    "Find the product abc."
   ]
  },
  {
   "cell_type": "code",
   "execution_count": 8,
   "metadata": {},
   "outputs": [
    {
     "name": "stdout",
     "output_type": "stream",
     "text": [
      "31875000\n"
     ]
    }
   ],
   "source": [
    "if __name__ == '__main__':\n",
    "    \n",
    "    # Since we need three numbers\n",
    "    # that equal 1000, we iterate\n",
    "    # up to 400 to save time.\n",
    "    # This because we know that\n",
    "    # a and b will be worth less than 400\n",
    "    # because a < b < c\n",
    "    for a in range(1, 400):\n",
    "        for b in range(1, 400):\n",
    "        \n",
    "            # Find c bysubstracting a and b from 1000\n",
    "            # There is no need to loop for c.\n",
    "            c = (1000 - a) - b\n",
    "        \n",
    "            # each number must be smaller than the next\n",
    "            if a < b < c:\n",
    "            \n",
    "                # check if numbers are pythagorean triplet\n",
    "                if a**2 + b**2 == c**2:\n",
    "                \n",
    "                    # calculate the product\n",
    "                    print(a * b * c)"
   ]
  },
  {
   "cell_type": "markdown",
   "metadata": {},
   "source": [
    "#10 Find the sum of all the primes below two million."
   ]
  },
  {
   "cell_type": "code",
   "execution_count": 9,
   "metadata": {},
   "outputs": [
    {
     "name": "stdout",
     "output_type": "stream",
     "text": [
      "The sum of all primes below 2 million is: 142913828922\n"
     ]
    }
   ],
   "source": [
    "import math\n",
    " \n",
    "# isPrime function - returns True or False\n",
    "def isPrime(num):\n",
    "    # Iterates from 2 to sqrt(num)+1 as discussed in #7\n",
    "    # Make sure to convert sqrt to int for range\n",
    "    # Using xrange will save considerable time for large numbers\n",
    "    for i in range(2,int(math.sqrt(num))+1):\n",
    "        if (num % i == 0):\n",
    "            return False\n",
    " \n",
    "    return True\n",
    " \n",
    "sum = 0\n",
    " \n",
    "# Iterate from 2 to two million\n",
    "# You can increase speed slightly by starting at 3 and\n",
    "#  iterating by 2 to skip evens but only saves 0.5s\n",
    "for i in range(2,2000000):\n",
    "    # If number is prime, add to sum\n",
    "    if isPrime(i):\n",
    "        sum += i\n",
    " \n",
    "# Print out results\n",
    "print('The sum of all primes below 2 million is: ' + str(sum))"
   ]
  },
  {
   "cell_type": "code",
   "execution_count": null,
   "metadata": {},
   "outputs": [],
   "source": []
  }
 ],
 "metadata": {
  "kernelspec": {
   "display_name": "Python 3",
   "language": "python",
   "name": "python3"
  },
  "language_info": {
   "codemirror_mode": {
    "name": "ipython",
    "version": 3
   },
   "file_extension": ".py",
   "mimetype": "text/x-python",
   "name": "python",
   "nbconvert_exporter": "python",
   "pygments_lexer": "ipython3",
   "version": "3.7.3"
  }
 },
 "nbformat": 4,
 "nbformat_minor": 2
}
