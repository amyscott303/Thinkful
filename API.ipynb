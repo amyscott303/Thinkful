{
 "cells": [
  {
   "cell_type": "code",
   "execution_count": 1,
   "metadata": {},
   "outputs": [],
   "source": [
    "\n",
    "import requests\n"
   ]
  },
  {
   "cell_type": "code",
   "execution_count": 2,
   "metadata": {},
   "outputs": [
    {
     "name": "stdout",
     "output_type": "stream",
     "text": [
      "\n",
      "<!doctype html>\n",
      "<html>\n",
      "<head>\n",
      "  <meta http-equiv=\"Content-Type\" content=\"text/html; charset=UTF-8\" />\n",
      "  <link rel=\"stylesheet\" type=\"text/css\" href=\"/bootstrap.min.css\" />\n",
      "  <link rel=\"stylesheet\" type=\"text/css\" href=\"/style.css\" />\n",
      "\n",
      "  <title>open-notify.org APIs</title>\n",
      "</head>\n",
      "<body>\n",
      "\n",
      "  <div id=\"wrapper\">\n",
      "  <div id=\"content\">\n",
      "  <div id=\"header\">\n",
      "    <div class=\"container\">\n",
      "      <div class=\"navbar\">\n",
      "        <a class=\"brand\" href=\"http://www.open-notify.org\">Open Notify</a>\n",
      "        <h2>API Server</h2>\n",
      "      </div>\n",
      "    </div>\n",
      "  </div>\n",
      "\n",
      "  <div class=\"container\">\n",
      "    <div class=\"page-header\">\n",
      "      <h3>Current APIs:</h3>\n",
      "    </div>\n",
      "    <div class=\"row\">\n",
      "      <div class=\"span12\">\n",
      "\n",
      "        <h4>JSON</h4>\n",
      "        <p>\n",
      "          <table class=\"table table-bordered table-striped\">\n",
      "            <thead>\n",
      "              <tr>\n",
      "                <th>Name</th>\n",
      "                <th>Description</th>\n",
      "                <th>Documentation</th>\n",
      "              </tr>\n",
      "            </thead> \n",
      "\n",
      "            \n",
      "            <tbody>\n",
      "              <tr>\n",
      "                <td><a href=\"/iss-now.json\">ISS Location Now</a></td>\n",
      "                <td>Current ISS location over Earth (latitude/longitude)</td>\n",
      "                <td><a href=\"http://open-notify.org/Open-Notify-API/ISS-Location-Now\">ISS-Location-Now</a></td>\n",
      "              </tr>\n",
      "            </tbody>\n",
      "            \n",
      "            <tbody>\n",
      "              <tr>\n",
      "                <td><a href=\"/iss-pass.json?lat=45.0&amp;lon=-122.3\">ISS Pass Times</a></td>\n",
      "                <td>Predictions when the space station will fly over a particular location</td>\n",
      "                <td><a href=\"http://open-notify.org/Open-Notify-API/ISS-Pass-Times\">ISS-Pass-Times</a></td>\n",
      "              </tr>\n",
      "            </tbody>\n",
      "            \n",
      "            <tbody>\n",
      "              <tr>\n",
      "                <td><a href=\"/astros.json\">People in Space Right Now</a></td>\n",
      "                <td>The number of people in space at this moment. List of names when known.</td>\n",
      "                <td><a href=\"http://open-notify.org/Open-Notify-API/People-In-Space\">People-In-Space</a></td>\n",
      "              </tr>\n",
      "            </tbody>\n",
      "            \n",
      "\n",
      "          </table>\n",
      "        </p>\n",
      "      </div>\n",
      "    </div>\n",
      "\n",
      "    <div class=\"page-header\">\n",
      "      <h3>Source Code</h3>\n",
      "    </div>\n",
      "    <div class=\"row\">\n",
      "      <div class=\"span12\">\n",
      "        <p>\n",
      "          Source code for the ISS APIs: <a href=\"https://github.com/open-notify/Open-Notify-API\">github.com/open-notify/Open-Notify-API</a>\n",
      "        </p>\n",
      "      </div>\n",
      "    </div>\n",
      "\n",
      "  </div>\n",
      "  </div>\n",
      "  </div>\n",
      "  \n",
      "  <div id=\"footer\">\n",
      "    <div class=\"container\">\n",
      "      <hr />\n",
      "      Made by <a href=\"https://github.com/natronics\">@natronics</a>\n",
      "    </div>\n",
      "  </div>\n",
      "\n",
      "</body>\n",
      "</html>\n",
      "\n"
     ]
    }
   ],
   "source": [
    "#pulling data from Nasa on the Internation Space Station\n",
    "request = requests.get('http://api.open-notify.org')\n",
    "print(request.text)"
   ]
  },
  {
   "cell_type": "code",
   "execution_count": 3,
   "metadata": {
    "scrolled": true
   },
   "outputs": [
    {
     "name": "stdout",
     "output_type": "stream",
     "text": [
      "200\n"
     ]
    }
   ],
   "source": [
    "#making sure that the request is going to a real page and not a fake endpoint\n",
    "print(request.status_code)"
   ]
  },
  {
   "cell_type": "code",
   "execution_count": 4,
   "metadata": {},
   "outputs": [
    {
     "name": "stdout",
     "output_type": "stream",
     "text": [
      "{\"timestamp\": 1563846288, \"message\": \"success\", \"iss_position\": {\"longitude\": \"-44.0189\", \"latitude\": \"51.2355\"}}\n"
     ]
    }
   ],
   "source": [
    "# where the space station is located right now.\n",
    "location = requests.get('http://api.open-notify.org/iss-now.json')\n",
    "print(location.text)"
   ]
  },
  {
   "cell_type": "code",
   "execution_count": 7,
   "metadata": {},
   "outputs": [
    {
     "name": "stdout",
     "output_type": "stream",
     "text": [
      "{\"message\": \"success\", \"people\": [{\"name\": \"Alexey Ovchinin\", \"craft\": \"ISS\"}, {\"name\": \"Nick Hague\", \"craft\": \"ISS\"}, {\"name\": \"Christina Koch\", \"craft\": \"ISS\"}, {\"name\": \"Alexander Skvortsov\", \"craft\": \"ISS\"}, {\"name\": \"Luca Parmitano\", \"craft\": \"ISS\"}, {\"name\": \"Andrew Morgan\", \"craft\": \"ISS\"}], \"number\": 6}\n"
     ]
    }
   ],
   "source": [
    "# how many and the names ofpeople up in the space station now. \n",
    "people = requests.get('http://api.open-notify.org/astros.json')\n",
    "people_json  = people.json()\n",
    "\n",
    "print(people.text)"
   ]
  },
  {
   "cell_type": "code",
   "execution_count": 8,
   "metadata": {},
   "outputs": [
    {
     "name": "stdout",
     "output_type": "stream",
     "text": [
      "Alexey Ovchinin\n",
      "Nick Hague\n",
      "Christina Koch\n",
      "Alexander Skvortsov\n",
      "Luca Parmitano\n",
      "Andrew Morgan\n"
     ]
    }
   ],
   "source": [
    "#cleaning it up a bit so you can see easily the names of the astronauts in space right now. \n",
    "for p in people_json['people']:\n",
    "    print(p['name'])"
   ]
  },
  {
   "cell_type": "code",
   "execution_count": null,
   "metadata": {},
   "outputs": [],
   "source": []
  }
 ],
 "metadata": {
  "kernelspec": {
   "display_name": "Python 3",
   "language": "python",
   "name": "python3"
  },
  "language_info": {
   "codemirror_mode": {
    "name": "ipython",
    "version": 3
   },
   "file_extension": ".py",
   "mimetype": "text/x-python",
   "name": "python",
   "nbconvert_exporter": "python",
   "pygments_lexer": "ipython3",
   "version": "3.7.3"
  }
 },
 "nbformat": 4,
 "nbformat_minor": 2
}
